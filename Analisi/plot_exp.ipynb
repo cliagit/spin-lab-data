{
 "cells": [
  {
   "cell_type": "code",
   "execution_count": 1,
   "id": "882263d3-05db-4fd7-9510-7001772f3cac",
   "metadata": {},
   "outputs": [],
   "source": [
    "import os\n",
    "import pandas as pd\n",
    "import numpy as np\n",
    "\n",
    "import plotly.graph_objects as go\n",
    "import plotly.express as px\n",
    "from plotly.subplots import make_subplots\n",
    "import matplotlib.pyplot as plt\n",
    "from matplotlib import cm\n",
    "\n",
    "import ipywidgets as widgets\n",
    "from ipywidgets import interactive, interact, interact_manual\n",
    "from IPython.display import Image\n",
    "\n",
    "# Lettura csv degli esperimenti\n",
    "df = pd.read_csv('./experiments_collector.csv', parse_dates=[\"Start Date\", \"End Date\"])"
   ]
  },
  {
   "cell_type": "code",
   "execution_count": 2,
   "id": "approved-davis",
   "metadata": {},
   "outputs": [],
   "source": [
    "def plot_data(data, experiment):\n",
    "    DT=data['datetime']\n",
    "    V=data['voltage']\n",
    "    R=data['resistance']\n",
    "    T=data['temperature']\n",
    "    I=data['current_source']\n",
    "    J=data['current_density']\n",
    "    E=data['electric_field']\n",
    "    RHO=data['resistivity']\n",
    "    \n",
    "    ## Electrical field, Resistivity\n",
    "    fig = make_subplots(specs=[[{\"secondary_y\": True}]])\n",
    "\n",
    "    # Add traces\n",
    "    fig.add_trace(\n",
    "        go.Scatter(x=DT, y=E, name=\"Electrical Field\"), \n",
    "        secondary_y=False,\n",
    "    )\n",
    "\n",
    "    \n",
    "    fig.add_trace(\n",
    "        go.Scatter(x=DT, y=RHO, name=\"Resistivity\"),\n",
    "        secondary_y=True \n",
    "    )\n",
    "\n",
    "    fig.update_traces(mode=\"lines+markers\")\n",
    "    \n",
    "    # Add figure title\n",
    "    fig.update_layout(\n",
    "        title_text=\"Electrical field, Resistivity\"\n",
    "    )\n",
    "\n",
    "    # Set x-axis title\n",
    "    fig.update_xaxes(title_text=\"Time\")\n",
    "\n",
    "    # Set y-axes titles\n",
    "    fig.update_yaxes(title_text=\"E [V/cm]\", secondary_y=False)\n",
    "    fig.update_yaxes(title_text=\"RHO [Ohm cm]\", secondary_y=True)\n",
    "    fig.show()\n",
    "    \n",
    "    ## Current Density, Temperature\n",
    "    fig = make_subplots(specs=[[{\"secondary_y\": True}]])\n",
    "\n",
    "    # Add traces\n",
    "    fig.add_trace(\n",
    "        go.Scatter(x=DT, y=J, name=\"Current Density\"),\n",
    "        secondary_y=False,\n",
    "    )\n",
    "\n",
    "    \n",
    "    fig.add_trace(\n",
    "        go.Scatter(x=DT, y=T, name=\"Temperature\"),\n",
    "        secondary_y=True\n",
    "    )\n",
    "\n",
    "    fig.update_traces(mode=\"lines+markers\")\n",
    "\n",
    "    # Add figure title\n",
    "    fig.update_layout(\n",
    "        title_text=\"Current Density, Temperature\"\n",
    "    )\n",
    "\n",
    "    # Set x-axis title\n",
    "    fig.update_xaxes(title_text=\"Time\")\n",
    "\n",
    "    # Set y-axes titles\n",
    "    fig.update_yaxes(title_text=\"J [A/cm2]\", secondary_y=False)\n",
    "    fig.update_yaxes(title_text=\"T [°K]\", secondary_y=True)\n",
    "    fig.show()\n",
    "    \n",
    "    if np.min(I) != np.max(I) and 'square' not in experiment:\n",
    "            max_index = np.argmax(I)\n",
    "            fig = px.line(data, x=J[0:max_index], y=E[0:max_index], labels={\"x\":'J [A/cm2]', \"y\":'E [V/cm]'},\n",
    "            title='Current density vs Electrical density',\n",
    "            log_x=True,  log_y=True,\n",
    "            markers=True,\n",
    "\n",
    "            #width=952, height=800\n",
    "            )\n",
    "            fig.show()\n",
    "\n"
   ]
  },
  {
   "cell_type": "markdown",
   "id": "radical-membrane",
   "metadata": {},
   "source": [
    "# Experiment Plotter"
   ]
  },
  {
   "cell_type": "code",
   "execution_count": 3,
   "id": "numeric-bradford",
   "metadata": {
    "hide_input": true,
    "scrolled": true
   },
   "outputs": [
    {
     "name": "stderr",
     "output_type": "stream",
     "text": [
      "Widget Javascript not detected.  It may not be installed or enabled properly. Reconnecting the current kernel may help.\n"
     ]
    },
    {
     "data": {
      "application/vnd.jupyter.widget-view+json": {
       "model_id": "f913df827fd647788f6426e8a546ad7e"
      }
     },
     "metadata": {},
     "output_type": "display_data"
    }
   ],
   "source": [
    "@interact\n",
    "def show_experiment(experiment=df['Experiment']):\n",
    "    name = df.loc[df['Experiment'] == experiment]['Name'].values[0]\n",
    "    rxd_path = '../' + name + '/' + name + '_Info/' + name + '-diffrattogramma.png'\n",
    "    readme_path = '../' + name + '/README'\n",
    "    my_name = name\n",
    "    try:\n",
    "        # README\n",
    "        with open(readme_path, \"r\", encoding='utf-8') as file_desc:\n",
    "            text = file_desc.read()\n",
    "            print(text)\n",
    "    except FileNotFoundError:\n",
    "        print(name)\n",
    "    experiment_dir = experiment[:-15]   \n",
    "    if experiment[-2:] == '_a':\n",
    "        experiment_dir = experiment[:-17]\n",
    "    elif '-joined' in experiment:\n",
    "        experiment = experiment.replace('-joined', '')\n",
    "        experiment_dir = experiment[:-15]\n",
    "    print(experiment_dir)\n",
    "    file_path = '../' + name + '/' + experiment_dir  + '/' + experiment\n",
    "    # File di descrizione\n",
    "    with open(file_path, \"r\", encoding='utf-8') as file_desc:\n",
    "        text = file_desc.read()\n",
    "        print(text)\n",
    "    if os.path.exists(rxd_path):\n",
    "        display(Image(rxd_path))\n",
    "    \n",
    "#    df_data = pd.read_csv(file_path + '.csv')\n",
    "#    print(df_data)\n",
    "\n",
    "    data = np.load(file_path + '.npz', allow_pickle=True)\n",
    "  \n",
    "    plot_data(data, experiment)\n"
   ]
  },
  {
   "cell_type": "code",
   "execution_count": null,
   "id": "present-nature",
   "metadata": {},
   "outputs": [],
   "source": []
  }
 ],
 "metadata": {
  "hide_input": false,
  "kernelspec": {
   "display_name": "Python 3",
   "language": "python",
   "name": "python3"
  },
  "language_info": {
   "codemirror_mode": {
    "name": "ipython",
    "version": 3
   },
   "file_extension": ".py",
   "mimetype": "text/x-python",
   "name": "python",
   "nbconvert_exporter": "python",
   "pygments_lexer": "ipython3",
   "version": "3.9.2"
  },
  "toc": {
   "base_numbering": 1,
   "nav_menu": {},
   "number_sections": true,
   "sideBar": true,
   "skip_h1_title": false,
   "title_cell": "Table of Contents",
   "title_sidebar": "Contents",
   "toc_cell": false,
   "toc_position": {},
   "toc_section_display": true,
   "toc_window_display": false
  },
  "varInspector": {
   "cols": {
    "lenName": 16,
    "lenType": 16,
    "lenVar": 40
   },
   "kernels_config": {
    "python": {
     "delete_cmd_postfix": "",
     "delete_cmd_prefix": "del ",
     "library": "var_list.py",
     "varRefreshCmd": "print(var_dic_list())"
    },
    "r": {
     "delete_cmd_postfix": ") ",
     "delete_cmd_prefix": "rm(",
     "library": "var_list.r",
     "varRefreshCmd": "cat(var_dic_list()) "
    }
   },
   "types_to_exclude": [
    "module",
    "function",
    "builtin_function_or_method",
    "instance",
    "_Feature"
   ],
   "window_display": false
  }
 },
 "nbformat": 4,
 "nbformat_minor": 5
}
