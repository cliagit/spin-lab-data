{
 "cells": [
  {
   "cell_type": "markdown",
   "id": "protected-mandate",
   "metadata": {},
   "source": [
    "# Analisi delle Oscillazioni"
   ]
  },
  {
   "cell_type": "markdown",
   "id": "primary-estimate",
   "metadata": {},
   "source": [
    "Analisi delle oscillazioni del campo elettrico riscontrate negli esperimenti confrontando ampiezza e periodo in funzione di temperatura e della sorgente di corrente.  "
   ]
  },
  {
   "cell_type": "code",
   "execution_count": 14,
   "id": "threatened-blues",
   "metadata": {
    "tags": [
     "hide-input"
    ]
   },
   "outputs": [],
   "source": [
    "import plotly.express as px\n",
    "import pandas as pd\n",
    "\n",
    "# Lettura csv dei esperimenti\n",
    "df = pd.read_csv('./oscillations_analysis.csv')\n",
    "# Esperimenti solo con corrente positiva\n",
    "df = df.loc[df['Min Current [A/cm2]'] >= 0]\n",
    "\n",
    "# Corrente variabile\n",
    "#df_variable = df.loc[df['Fixed Source'] == False]\n",
    "\n",
    "# Range di corrente\n",
    "df['e_j_plus'] = df['Max Current [A/cm2]'] - df['Avg Current [A/cm2]']\n",
    "df['e_j_minus'] = df['Avg Current [A/cm2]'] - df['Min Current [A/cm2]']\n",
    "# Range di temperatura\n",
    "df['e_t_plus'] = df['Max Temperature [K]'] - df['Avg Temperature [K]']\n",
    "df['e_t_minus'] = df['Avg Temperature [K]'] - df['Min Temperature [K]']\n",
    "\n",
    "# Range dell'ampiezza delle oscillazioni\n",
    "df['e_a_plus'] = df['Max Osc Amplitude [V/cm]'] - df['Avg Osc Amplitude [V/cm]']\n",
    "df['e_a_minus'] = df['Avg Osc Amplitude [V/cm]'] - df['Min Osc Amplitude [V/cm]']\n",
    "# Range del periodo delle oscillazioni\n",
    "df['e_p_plus'] = df['Max Osc Period [ms]'] - df['Avg Osc Period [ms]']\n",
    "df['e_p_minus'] = df['Avg Osc Period [ms]'] - df['Min Osc Period [ms]']\n"
   ]
  },
  {
   "cell_type": "markdown",
   "id": "plain-economy",
   "metadata": {},
   "source": [
    "## Analisi degli Esperimenti a Corrente costante"
   ]
  },
  {
   "cell_type": "code",
   "execution_count": 15,
   "id": "spare-congress",
   "metadata": {},
   "outputs": [],
   "source": [
    "# Selezione dei dati con corrente fissata\n",
    "df_fixed = df.loc[df['Fixed Source'] == True]"
   ]
  },
  {
   "cell_type": "markdown",
   "id": "hindu-ethernet",
   "metadata": {
    "hide_input": true
   },
   "source": [
    "### Distribuzione degli esperimenti in funzione della temperatura e della corrente"
   ]
  },
  {
   "cell_type": "code",
   "execution_count": 17,
   "id": "indirect-visitor",
   "metadata": {
    "hide_input": true,
    "tags": [
     "hide-input"
    ]
   },
   "outputs": [
    {
     "data": {
      "application/vnd.plotly.v1+json": {
       "config": {
        "plotlyServerURL": "https://plot.ly"
       },
       "data": [
        {
         "error_x": {
          "array": [
           0.02031383795882391,
           3.9715480468009616,
           0.02787932829306783,
           0.04526925865926046,
           0.001281540377178203,
           0.04379319118487501,
           0.03426341657771559,
           0.029434121156441506
          ],
          "arrayminus": [
           0.03303264905181891,
           5.396838782448924,
           0.028452569680354145,
           0.038457963550584395,
           0.0019357169044837974,
           0.04613304511286742,
           0.03588520045158816,
           0.029441646864967197
          ]
         },
         "error_y": {
          "array": [
           6.352747104407253e-22,
           3.3881317890172014e-21,
           0,
           -2.117582368135751e-22,
           -4.235164736271502e-22,
           -1.3552527156068805e-20,
           0,
           0
          ],
          "arrayminus": [
           -6.352747104407253e-22,
           -3.3881317890172014e-21,
           0,
           2.117582368135751e-22,
           4.235164736271502e-22,
           1.3552527156068805e-20,
           0,
           0
          ]
         },
         "hovertemplate": "<b>%{hovertext}</b><br><br>Name=CA8_01_A<br>Avg Temperature [K]=%{x}<br>Avg Current [A/cm2]=%{y}<extra></extra>",
         "hovertext": [
          "CA8_01_A_square_waveform_value_3.5e-08A-20220422142852",
          "CA8_01_A_at_fixed_current_5e-7A-20220422113350",
          "CA8_01_A_at_fixed_current_1.42e-6A-20220421121309",
          "CA8_01_A_square_waveform_value_3e-08A-20220422141850",
          "CA8_01_A_at_fixed_current_3e-8A-20220422093131",
          "CA8_01_A_at_fixed_current_1.38e-6A-20220421120616",
          "CA8_01_A_at_fixed_current_1.40e-6A-20220421120923",
          "CA8_01_A_at_fixed_current_1.34e-6A-20220421120127"
         ],
         "legendgroup": "CA8_01_A",
         "marker": {
          "color": "#636efa",
          "symbol": "circle"
         },
         "mode": "markers",
         "name": "CA8_01_A",
         "orientation": "v",
         "showlegend": true,
         "type": "scatter",
         "x": [
          105.85239563370553,
          121.56470097801169,
          132.19992560956257,
          106.07287071781346,
          103.53033991530704,
          131.98404677135298,
          132.0995329773529,
          131.7580164938316
         ],
         "xaxis": "x",
         "y": [
          1.4736842105263152e-06,
          2.1052631578947366e-05,
          5.978947368421052e-05,
          1.2631578947368422e-06,
          1.2631578947368424e-06,
          5.8105263157894754e-05,
          5.894736842105263e-05,
          5.642105263157895e-05
         ],
         "yaxis": "y"
        },
        {
         "error_x": {
          "array": [
           0.0018286333004766675,
           0.007884817371717645,
           0.0023971020081603456,
           0.0018192946134547583
          ],
          "arrayminus": [
           0.0018098780339386167,
           0.007264307867544062,
           0.0016961642007373712,
           0.0013361550961832336
          ]
         },
         "error_y": {
          "array": [
           0,
           0,
           0,
           0
          ],
          "arrayminus": [
           0,
           0,
           0,
           0
          ]
         },
         "hovertemplate": "<b>%{hovertext}</b><br><br>Name=CA12X_C5<br>Avg Temperature [K]=%{x}<br>Avg Current [A/cm2]=%{y}<extra></extra>",
         "hovertext": [
          "CA12X_C5_at_fixed_current_3.5e-7A-20220413144545",
          "CA12X_C5_at_fixed_current_4e-7A-20220413143802",
          "CA12X_C5_at_fixed_current_3e-7A-20220413144233",
          "CA12X_C5_at_fixed_current_4.5e-7A-20220413144649"
         ],
         "legendgroup": "CA12X_C5",
         "marker": {
          "color": "#EF553B",
          "symbol": "circle"
         },
         "mode": "markers",
         "name": "CA12X_C5",
         "orientation": "v",
         "showlegend": true,
         "type": "scatter",
         "x": [
          113.08337975924059,
          113.17203493129978,
          113.11416565867678,
          113.07125061490896
         ],
         "xaxis": "x",
         "y": [
          1.3523956723338486e-05,
          1.5455950540958272e-05,
          1.15919629057187e-05,
          1.7387944358578053e-05
         ],
         "yaxis": "y"
        },
        {
         "error_x": {
          "array": [
           0.004438223864553947,
           1.6283990444688925,
           0.05804580077774801,
           0.008820889434900892
          ],
          "arrayminus": [
           0.00485369523229906,
           0.3895736802155909,
           0.061648960209751635,
           0.008525126098774649
          ]
         },
         "error_y": {
          "array": [
           0,
           0,
           8.470329472543003e-22,
           0
          ],
          "arrayminus": [
           0,
           0,
           -8.470329472543003e-22,
           0
          ]
         },
         "hovertemplate": "<b>%{hovertext}</b><br><br>Name=CA12X2_C1<br>Avg Temperature [K]=%{x}<br>Avg Current [A/cm2]=%{y}<extra></extra>",
         "hovertext": [
          "CA12X2_C1_current_square_waveform_value_1.6e-07A-20220428171247",
          "CA12X2_C1_at_fixed_current_1.6e-7A-20220428174333",
          "CA12X2_C1_current_square_waveform_value_3e-07A-20220428163159",
          "CA12X2_C1_at_fixed_current_6e-7A-20220428175416"
         ],
         "legendgroup": "CA12X2_C1",
         "marker": {
          "color": "#00cc96",
          "symbol": "circle"
         },
         "mode": "markers",
         "name": "CA12X2_C1",
         "orientation": "v",
         "showlegend": true,
         "type": "scatter",
         "x": [
          87.67652651507349,
          88.13331205816105,
          87.69734180557712,
          99.45432789000004
         ],
         "xaxis": "x",
         "y": [
          2.7081922816519973e-06,
          2.7081922816519973e-06,
          5.077860528097494e-06,
          1.0155721056194987e-05
         ],
         "yaxis": "y"
        }
       ],
       "layout": {
        "height": 800,
        "legend": {
         "title": {
          "text": "Name"
         },
         "tracegroupgap": 0
        },
        "template": {
         "data": {
          "bar": [
           {
            "error_x": {
             "color": "#2a3f5f"
            },
            "error_y": {
             "color": "#2a3f5f"
            },
            "marker": {
             "line": {
              "color": "#E5ECF6",
              "width": 0.5
             },
             "pattern": {
              "fillmode": "overlay",
              "size": 10,
              "solidity": 0.2
             }
            },
            "type": "bar"
           }
          ],
          "barpolar": [
           {
            "marker": {
             "line": {
              "color": "#E5ECF6",
              "width": 0.5
             },
             "pattern": {
              "fillmode": "overlay",
              "size": 10,
              "solidity": 0.2
             }
            },
            "type": "barpolar"
           }
          ],
          "carpet": [
           {
            "aaxis": {
             "endlinecolor": "#2a3f5f",
             "gridcolor": "white",
             "linecolor": "white",
             "minorgridcolor": "white",
             "startlinecolor": "#2a3f5f"
            },
            "baxis": {
             "endlinecolor": "#2a3f5f",
             "gridcolor": "white",
             "linecolor": "white",
             "minorgridcolor": "white",
             "startlinecolor": "#2a3f5f"
            },
            "type": "carpet"
           }
          ],
          "choropleth": [
           {
            "colorbar": {
             "outlinewidth": 0,
             "ticks": ""
            },
            "type": "choropleth"
           }
          ],
          "contour": [
           {
            "colorbar": {
             "outlinewidth": 0,
             "ticks": ""
            },
            "colorscale": [
             [
              0,
              "#0d0887"
             ],
             [
              0.1111111111111111,
              "#46039f"
             ],
             [
              0.2222222222222222,
              "#7201a8"
             ],
             [
              0.3333333333333333,
              "#9c179e"
             ],
             [
              0.4444444444444444,
              "#bd3786"
             ],
             [
              0.5555555555555556,
              "#d8576b"
             ],
             [
              0.6666666666666666,
              "#ed7953"
             ],
             [
              0.7777777777777778,
              "#fb9f3a"
             ],
             [
              0.8888888888888888,
              "#fdca26"
             ],
             [
              1,
              "#f0f921"
             ]
            ],
            "type": "contour"
           }
          ],
          "contourcarpet": [
           {
            "colorbar": {
             "outlinewidth": 0,
             "ticks": ""
            },
            "type": "contourcarpet"
           }
          ],
          "heatmap": [
           {
            "colorbar": {
             "outlinewidth": 0,
             "ticks": ""
            },
            "colorscale": [
             [
              0,
              "#0d0887"
             ],
             [
              0.1111111111111111,
              "#46039f"
             ],
             [
              0.2222222222222222,
              "#7201a8"
             ],
             [
              0.3333333333333333,
              "#9c179e"
             ],
             [
              0.4444444444444444,
              "#bd3786"
             ],
             [
              0.5555555555555556,
              "#d8576b"
             ],
             [
              0.6666666666666666,
              "#ed7953"
             ],
             [
              0.7777777777777778,
              "#fb9f3a"
             ],
             [
              0.8888888888888888,
              "#fdca26"
             ],
             [
              1,
              "#f0f921"
             ]
            ],
            "type": "heatmap"
           }
          ],
          "heatmapgl": [
           {
            "colorbar": {
             "outlinewidth": 0,
             "ticks": ""
            },
            "colorscale": [
             [
              0,
              "#0d0887"
             ],
             [
              0.1111111111111111,
              "#46039f"
             ],
             [
              0.2222222222222222,
              "#7201a8"
             ],
             [
              0.3333333333333333,
              "#9c179e"
             ],
             [
              0.4444444444444444,
              "#bd3786"
             ],
             [
              0.5555555555555556,
              "#d8576b"
             ],
             [
              0.6666666666666666,
              "#ed7953"
             ],
             [
              0.7777777777777778,
              "#fb9f3a"
             ],
             [
              0.8888888888888888,
              "#fdca26"
             ],
             [
              1,
              "#f0f921"
             ]
            ],
            "type": "heatmapgl"
           }
          ],
          "histogram": [
           {
            "marker": {
             "pattern": {
              "fillmode": "overlay",
              "size": 10,
              "solidity": 0.2
             }
            },
            "type": "histogram"
           }
          ],
          "histogram2d": [
           {
            "colorbar": {
             "outlinewidth": 0,
             "ticks": ""
            },
            "colorscale": [
             [
              0,
              "#0d0887"
             ],
             [
              0.1111111111111111,
              "#46039f"
             ],
             [
              0.2222222222222222,
              "#7201a8"
             ],
             [
              0.3333333333333333,
              "#9c179e"
             ],
             [
              0.4444444444444444,
              "#bd3786"
             ],
             [
              0.5555555555555556,
              "#d8576b"
             ],
             [
              0.6666666666666666,
              "#ed7953"
             ],
             [
              0.7777777777777778,
              "#fb9f3a"
             ],
             [
              0.8888888888888888,
              "#fdca26"
             ],
             [
              1,
              "#f0f921"
             ]
            ],
            "type": "histogram2d"
           }
          ],
          "histogram2dcontour": [
           {
            "colorbar": {
             "outlinewidth": 0,
             "ticks": ""
            },
            "colorscale": [
             [
              0,
              "#0d0887"
             ],
             [
              0.1111111111111111,
              "#46039f"
             ],
             [
              0.2222222222222222,
              "#7201a8"
             ],
             [
              0.3333333333333333,
              "#9c179e"
             ],
             [
              0.4444444444444444,
              "#bd3786"
             ],
             [
              0.5555555555555556,
              "#d8576b"
             ],
             [
              0.6666666666666666,
              "#ed7953"
             ],
             [
              0.7777777777777778,
              "#fb9f3a"
             ],
             [
              0.8888888888888888,
              "#fdca26"
             ],
             [
              1,
              "#f0f921"
             ]
            ],
            "type": "histogram2dcontour"
           }
          ],
          "mesh3d": [
           {
            "colorbar": {
             "outlinewidth": 0,
             "ticks": ""
            },
            "type": "mesh3d"
           }
          ],
          "parcoords": [
           {
            "line": {
             "colorbar": {
              "outlinewidth": 0,
              "ticks": ""
             }
            },
            "type": "parcoords"
           }
          ],
          "pie": [
           {
            "automargin": true,
            "type": "pie"
           }
          ],
          "scatter": [
           {
            "fillpattern": {
             "fillmode": "overlay",
             "size": 10,
             "solidity": 0.2
            },
            "type": "scatter"
           }
          ],
          "scatter3d": [
           {
            "line": {
             "colorbar": {
              "outlinewidth": 0,
              "ticks": ""
             }
            },
            "marker": {
             "colorbar": {
              "outlinewidth": 0,
              "ticks": ""
             }
            },
            "type": "scatter3d"
           }
          ],
          "scattercarpet": [
           {
            "marker": {
             "colorbar": {
              "outlinewidth": 0,
              "ticks": ""
             }
            },
            "type": "scattercarpet"
           }
          ],
          "scattergeo": [
           {
            "marker": {
             "colorbar": {
              "outlinewidth": 0,
              "ticks": ""
             }
            },
            "type": "scattergeo"
           }
          ],
          "scattergl": [
           {
            "marker": {
             "colorbar": {
              "outlinewidth": 0,
              "ticks": ""
             }
            },
            "type": "scattergl"
           }
          ],
          "scattermapbox": [
           {
            "marker": {
             "colorbar": {
              "outlinewidth": 0,
              "ticks": ""
             }
            },
            "type": "scattermapbox"
           }
          ],
          "scatterpolar": [
           {
            "marker": {
             "colorbar": {
              "outlinewidth": 0,
              "ticks": ""
             }
            },
            "type": "scatterpolar"
           }
          ],
          "scatterpolargl": [
           {
            "marker": {
             "colorbar": {
              "outlinewidth": 0,
              "ticks": ""
             }
            },
            "type": "scatterpolargl"
           }
          ],
          "scatterternary": [
           {
            "marker": {
             "colorbar": {
              "outlinewidth": 0,
              "ticks": ""
             }
            },
            "type": "scatterternary"
           }
          ],
          "surface": [
           {
            "colorbar": {
             "outlinewidth": 0,
             "ticks": ""
            },
            "colorscale": [
             [
              0,
              "#0d0887"
             ],
             [
              0.1111111111111111,
              "#46039f"
             ],
             [
              0.2222222222222222,
              "#7201a8"
             ],
             [
              0.3333333333333333,
              "#9c179e"
             ],
             [
              0.4444444444444444,
              "#bd3786"
             ],
             [
              0.5555555555555556,
              "#d8576b"
             ],
             [
              0.6666666666666666,
              "#ed7953"
             ],
             [
              0.7777777777777778,
              "#fb9f3a"
             ],
             [
              0.8888888888888888,
              "#fdca26"
             ],
             [
              1,
              "#f0f921"
             ]
            ],
            "type": "surface"
           }
          ],
          "table": [
           {
            "cells": {
             "fill": {
              "color": "#EBF0F8"
             },
             "line": {
              "color": "white"
             }
            },
            "header": {
             "fill": {
              "color": "#C8D4E3"
             },
             "line": {
              "color": "white"
             }
            },
            "type": "table"
           }
          ]
         },
         "layout": {
          "annotationdefaults": {
           "arrowcolor": "#2a3f5f",
           "arrowhead": 0,
           "arrowwidth": 1
          },
          "autotypenumbers": "strict",
          "coloraxis": {
           "colorbar": {
            "outlinewidth": 0,
            "ticks": ""
           }
          },
          "colorscale": {
           "diverging": [
            [
             0,
             "#8e0152"
            ],
            [
             0.1,
             "#c51b7d"
            ],
            [
             0.2,
             "#de77ae"
            ],
            [
             0.3,
             "#f1b6da"
            ],
            [
             0.4,
             "#fde0ef"
            ],
            [
             0.5,
             "#f7f7f7"
            ],
            [
             0.6,
             "#e6f5d0"
            ],
            [
             0.7,
             "#b8e186"
            ],
            [
             0.8,
             "#7fbc41"
            ],
            [
             0.9,
             "#4d9221"
            ],
            [
             1,
             "#276419"
            ]
           ],
           "sequential": [
            [
             0,
             "#0d0887"
            ],
            [
             0.1111111111111111,
             "#46039f"
            ],
            [
             0.2222222222222222,
             "#7201a8"
            ],
            [
             0.3333333333333333,
             "#9c179e"
            ],
            [
             0.4444444444444444,
             "#bd3786"
            ],
            [
             0.5555555555555556,
             "#d8576b"
            ],
            [
             0.6666666666666666,
             "#ed7953"
            ],
            [
             0.7777777777777778,
             "#fb9f3a"
            ],
            [
             0.8888888888888888,
             "#fdca26"
            ],
            [
             1,
             "#f0f921"
            ]
           ],
           "sequentialminus": [
            [
             0,
             "#0d0887"
            ],
            [
             0.1111111111111111,
             "#46039f"
            ],
            [
             0.2222222222222222,
             "#7201a8"
            ],
            [
             0.3333333333333333,
             "#9c179e"
            ],
            [
             0.4444444444444444,
             "#bd3786"
            ],
            [
             0.5555555555555556,
             "#d8576b"
            ],
            [
             0.6666666666666666,
             "#ed7953"
            ],
            [
             0.7777777777777778,
             "#fb9f3a"
            ],
            [
             0.8888888888888888,
             "#fdca26"
            ],
            [
             1,
             "#f0f921"
            ]
           ]
          },
          "colorway": [
           "#636efa",
           "#EF553B",
           "#00cc96",
           "#ab63fa",
           "#FFA15A",
           "#19d3f3",
           "#FF6692",
           "#B6E880",
           "#FF97FF",
           "#FECB52"
          ],
          "font": {
           "color": "#2a3f5f"
          },
          "geo": {
           "bgcolor": "white",
           "lakecolor": "white",
           "landcolor": "#E5ECF6",
           "showlakes": true,
           "showland": true,
           "subunitcolor": "white"
          },
          "hoverlabel": {
           "align": "left"
          },
          "hovermode": "closest",
          "mapbox": {
           "style": "light"
          },
          "paper_bgcolor": "white",
          "plot_bgcolor": "#E5ECF6",
          "polar": {
           "angularaxis": {
            "gridcolor": "white",
            "linecolor": "white",
            "ticks": ""
           },
           "bgcolor": "#E5ECF6",
           "radialaxis": {
            "gridcolor": "white",
            "linecolor": "white",
            "ticks": ""
           }
          },
          "scene": {
           "xaxis": {
            "backgroundcolor": "#E5ECF6",
            "gridcolor": "white",
            "gridwidth": 2,
            "linecolor": "white",
            "showbackground": true,
            "ticks": "",
            "zerolinecolor": "white"
           },
           "yaxis": {
            "backgroundcolor": "#E5ECF6",
            "gridcolor": "white",
            "gridwidth": 2,
            "linecolor": "white",
            "showbackground": true,
            "ticks": "",
            "zerolinecolor": "white"
           },
           "zaxis": {
            "backgroundcolor": "#E5ECF6",
            "gridcolor": "white",
            "gridwidth": 2,
            "linecolor": "white",
            "showbackground": true,
            "ticks": "",
            "zerolinecolor": "white"
           }
          },
          "shapedefaults": {
           "line": {
            "color": "#2a3f5f"
           }
          },
          "ternary": {
           "aaxis": {
            "gridcolor": "white",
            "linecolor": "white",
            "ticks": ""
           },
           "baxis": {
            "gridcolor": "white",
            "linecolor": "white",
            "ticks": ""
           },
           "bgcolor": "#E5ECF6",
           "caxis": {
            "gridcolor": "white",
            "linecolor": "white",
            "ticks": ""
           }
          },
          "title": {
           "x": 0.05
          },
          "xaxis": {
           "automargin": true,
           "gridcolor": "white",
           "linecolor": "white",
           "ticks": "",
           "title": {
            "standoff": 15
           },
           "zerolinecolor": "white",
           "zerolinewidth": 2
          },
          "yaxis": {
           "automargin": true,
           "gridcolor": "white",
           "linecolor": "white",
           "ticks": "",
           "title": {
            "standoff": 15
           },
           "zerolinecolor": "white",
           "zerolinewidth": 2
          }
         }
        },
        "title": {
         "text": "Corrente e Temperatura degli Esperimenti"
        },
        "width": 952,
        "xaxis": {
         "anchor": "y",
         "domain": [
          0,
          1
         ],
         "title": {
          "text": "Avg Temperature [K]"
         }
        },
        "yaxis": {
         "anchor": "x",
         "domain": [
          0,
          1
         ],
         "title": {
          "text": "Avg Current [A/cm2]"
         },
         "type": "log"
        }
       }
      },
      "text/html": [
       "<div>                            <div id=\"6b197007-70a7-4f13-997d-6dbc8ca79f9c\" class=\"plotly-graph-div\" style=\"height:800px; width:952px;\"></div>            <script type=\"text/javascript\">                require([\"plotly\"], function(Plotly) {                    window.PLOTLYENV=window.PLOTLYENV || {};                                    if (document.getElementById(\"6b197007-70a7-4f13-997d-6dbc8ca79f9c\")) {                    Plotly.newPlot(                        \"6b197007-70a7-4f13-997d-6dbc8ca79f9c\",                        [{\"error_x\":{\"array\":[0.02031383795882391,3.9715480468009616,0.02787932829306783,0.04526925865926046,0.001281540377178203,0.04379319118487501,0.03426341657771559,0.029434121156441506],\"arrayminus\":[0.03303264905181891,5.396838782448924,0.028452569680354145,0.038457963550584395,0.0019357169044837974,0.04613304511286742,0.03588520045158816,0.029441646864967197]},\"error_y\":{\"array\":[6.352747104407253e-22,3.3881317890172014e-21,0.0,-2.117582368135751e-22,-4.235164736271502e-22,-1.3552527156068805e-20,0.0,0.0],\"arrayminus\":[-6.352747104407253e-22,-3.3881317890172014e-21,0.0,2.117582368135751e-22,4.235164736271502e-22,1.3552527156068805e-20,0.0,0.0]},\"hovertemplate\":\"<b>%{hovertext}</b><br><br>Name=CA8_01_A<br>Avg Temperature [K]=%{x}<br>Avg Current [A/cm2]=%{y}<extra></extra>\",\"hovertext\":[\"CA8_01_A_square_waveform_value_3.5e-08A-20220422142852\",\"CA8_01_A_at_fixed_current_5e-7A-20220422113350\",\"CA8_01_A_at_fixed_current_1.42e-6A-20220421121309\",\"CA8_01_A_square_waveform_value_3e-08A-20220422141850\",\"CA8_01_A_at_fixed_current_3e-8A-20220422093131\",\"CA8_01_A_at_fixed_current_1.38e-6A-20220421120616\",\"CA8_01_A_at_fixed_current_1.40e-6A-20220421120923\",\"CA8_01_A_at_fixed_current_1.34e-6A-20220421120127\"],\"legendgroup\":\"CA8_01_A\",\"marker\":{\"color\":\"#636efa\",\"symbol\":\"circle\"},\"mode\":\"markers\",\"name\":\"CA8_01_A\",\"orientation\":\"v\",\"showlegend\":true,\"x\":[105.85239563370553,121.56470097801169,132.19992560956257,106.07287071781346,103.53033991530704,131.98404677135298,132.0995329773529,131.7580164938316],\"xaxis\":\"x\",\"y\":[1.4736842105263152e-06,2.1052631578947366e-05,5.978947368421052e-05,1.2631578947368422e-06,1.2631578947368424e-06,5.8105263157894754e-05,5.894736842105263e-05,5.642105263157895e-05],\"yaxis\":\"y\",\"type\":\"scatter\"},{\"error_x\":{\"array\":[0.0018286333004766675,0.007884817371717645,0.0023971020081603456,0.0018192946134547583],\"arrayminus\":[0.0018098780339386167,0.007264307867544062,0.0016961642007373712,0.0013361550961832336]},\"error_y\":{\"array\":[0.0,0.0,0.0,0.0],\"arrayminus\":[0.0,0.0,0.0,0.0]},\"hovertemplate\":\"<b>%{hovertext}</b><br><br>Name=CA12X_C5<br>Avg Temperature [K]=%{x}<br>Avg Current [A/cm2]=%{y}<extra></extra>\",\"hovertext\":[\"CA12X_C5_at_fixed_current_3.5e-7A-20220413144545\",\"CA12X_C5_at_fixed_current_4e-7A-20220413143802\",\"CA12X_C5_at_fixed_current_3e-7A-20220413144233\",\"CA12X_C5_at_fixed_current_4.5e-7A-20220413144649\"],\"legendgroup\":\"CA12X_C5\",\"marker\":{\"color\":\"#EF553B\",\"symbol\":\"circle\"},\"mode\":\"markers\",\"name\":\"CA12X_C5\",\"orientation\":\"v\",\"showlegend\":true,\"x\":[113.08337975924059,113.17203493129978,113.11416565867678,113.07125061490896],\"xaxis\":\"x\",\"y\":[1.3523956723338486e-05,1.5455950540958272e-05,1.15919629057187e-05,1.7387944358578053e-05],\"yaxis\":\"y\",\"type\":\"scatter\"},{\"error_x\":{\"array\":[0.004438223864553947,1.6283990444688925,0.05804580077774801,0.008820889434900892],\"arrayminus\":[0.00485369523229906,0.3895736802155909,0.061648960209751635,0.008525126098774649]},\"error_y\":{\"array\":[0.0,0.0,8.470329472543003e-22,0.0],\"arrayminus\":[0.0,0.0,-8.470329472543003e-22,0.0]},\"hovertemplate\":\"<b>%{hovertext}</b><br><br>Name=CA12X2_C1<br>Avg Temperature [K]=%{x}<br>Avg Current [A/cm2]=%{y}<extra></extra>\",\"hovertext\":[\"CA12X2_C1_current_square_waveform_value_1.6e-07A-20220428171247\",\"CA12X2_C1_at_fixed_current_1.6e-7A-20220428174333\",\"CA12X2_C1_current_square_waveform_value_3e-07A-20220428163159\",\"CA12X2_C1_at_fixed_current_6e-7A-20220428175416\"],\"legendgroup\":\"CA12X2_C1\",\"marker\":{\"color\":\"#00cc96\",\"symbol\":\"circle\"},\"mode\":\"markers\",\"name\":\"CA12X2_C1\",\"orientation\":\"v\",\"showlegend\":true,\"x\":[87.67652651507349,88.13331205816105,87.69734180557712,99.45432789000004],\"xaxis\":\"x\",\"y\":[2.7081922816519973e-06,2.7081922816519973e-06,5.077860528097494e-06,1.0155721056194987e-05],\"yaxis\":\"y\",\"type\":\"scatter\"}],                        {\"template\":{\"data\":{\"histogram2dcontour\":[{\"type\":\"histogram2dcontour\",\"colorbar\":{\"outlinewidth\":0,\"ticks\":\"\"},\"colorscale\":[[0.0,\"#0d0887\"],[0.1111111111111111,\"#46039f\"],[0.2222222222222222,\"#7201a8\"],[0.3333333333333333,\"#9c179e\"],[0.4444444444444444,\"#bd3786\"],[0.5555555555555556,\"#d8576b\"],[0.6666666666666666,\"#ed7953\"],[0.7777777777777778,\"#fb9f3a\"],[0.8888888888888888,\"#fdca26\"],[1.0,\"#f0f921\"]]}],\"choropleth\":[{\"type\":\"choropleth\",\"colorbar\":{\"outlinewidth\":0,\"ticks\":\"\"}}],\"histogram2d\":[{\"type\":\"histogram2d\",\"colorbar\":{\"outlinewidth\":0,\"ticks\":\"\"},\"colorscale\":[[0.0,\"#0d0887\"],[0.1111111111111111,\"#46039f\"],[0.2222222222222222,\"#7201a8\"],[0.3333333333333333,\"#9c179e\"],[0.4444444444444444,\"#bd3786\"],[0.5555555555555556,\"#d8576b\"],[0.6666666666666666,\"#ed7953\"],[0.7777777777777778,\"#fb9f3a\"],[0.8888888888888888,\"#fdca26\"],[1.0,\"#f0f921\"]]}],\"heatmap\":[{\"type\":\"heatmap\",\"colorbar\":{\"outlinewidth\":0,\"ticks\":\"\"},\"colorscale\":[[0.0,\"#0d0887\"],[0.1111111111111111,\"#46039f\"],[0.2222222222222222,\"#7201a8\"],[0.3333333333333333,\"#9c179e\"],[0.4444444444444444,\"#bd3786\"],[0.5555555555555556,\"#d8576b\"],[0.6666666666666666,\"#ed7953\"],[0.7777777777777778,\"#fb9f3a\"],[0.8888888888888888,\"#fdca26\"],[1.0,\"#f0f921\"]]}],\"heatmapgl\":[{\"type\":\"heatmapgl\",\"colorbar\":{\"outlinewidth\":0,\"ticks\":\"\"},\"colorscale\":[[0.0,\"#0d0887\"],[0.1111111111111111,\"#46039f\"],[0.2222222222222222,\"#7201a8\"],[0.3333333333333333,\"#9c179e\"],[0.4444444444444444,\"#bd3786\"],[0.5555555555555556,\"#d8576b\"],[0.6666666666666666,\"#ed7953\"],[0.7777777777777778,\"#fb9f3a\"],[0.8888888888888888,\"#fdca26\"],[1.0,\"#f0f921\"]]}],\"contourcarpet\":[{\"type\":\"contourcarpet\",\"colorbar\":{\"outlinewidth\":0,\"ticks\":\"\"}}],\"contour\":[{\"type\":\"contour\",\"colorbar\":{\"outlinewidth\":0,\"ticks\":\"\"},\"colorscale\":[[0.0,\"#0d0887\"],[0.1111111111111111,\"#46039f\"],[0.2222222222222222,\"#7201a8\"],[0.3333333333333333,\"#9c179e\"],[0.4444444444444444,\"#bd3786\"],[0.5555555555555556,\"#d8576b\"],[0.6666666666666666,\"#ed7953\"],[0.7777777777777778,\"#fb9f3a\"],[0.8888888888888888,\"#fdca26\"],[1.0,\"#f0f921\"]]}],\"surface\":[{\"type\":\"surface\",\"colorbar\":{\"outlinewidth\":0,\"ticks\":\"\"},\"colorscale\":[[0.0,\"#0d0887\"],[0.1111111111111111,\"#46039f\"],[0.2222222222222222,\"#7201a8\"],[0.3333333333333333,\"#9c179e\"],[0.4444444444444444,\"#bd3786\"],[0.5555555555555556,\"#d8576b\"],[0.6666666666666666,\"#ed7953\"],[0.7777777777777778,\"#fb9f3a\"],[0.8888888888888888,\"#fdca26\"],[1.0,\"#f0f921\"]]}],\"mesh3d\":[{\"type\":\"mesh3d\",\"colorbar\":{\"outlinewidth\":0,\"ticks\":\"\"}}],\"scatter\":[{\"fillpattern\":{\"fillmode\":\"overlay\",\"size\":10,\"solidity\":0.2},\"type\":\"scatter\"}],\"parcoords\":[{\"type\":\"parcoords\",\"line\":{\"colorbar\":{\"outlinewidth\":0,\"ticks\":\"\"}}}],\"scatterpolargl\":[{\"type\":\"scatterpolargl\",\"marker\":{\"colorbar\":{\"outlinewidth\":0,\"ticks\":\"\"}}}],\"bar\":[{\"error_x\":{\"color\":\"#2a3f5f\"},\"error_y\":{\"color\":\"#2a3f5f\"},\"marker\":{\"line\":{\"color\":\"#E5ECF6\",\"width\":0.5},\"pattern\":{\"fillmode\":\"overlay\",\"size\":10,\"solidity\":0.2}},\"type\":\"bar\"}],\"scattergeo\":[{\"type\":\"scattergeo\",\"marker\":{\"colorbar\":{\"outlinewidth\":0,\"ticks\":\"\"}}}],\"scatterpolar\":[{\"type\":\"scatterpolar\",\"marker\":{\"colorbar\":{\"outlinewidth\":0,\"ticks\":\"\"}}}],\"histogram\":[{\"marker\":{\"pattern\":{\"fillmode\":\"overlay\",\"size\":10,\"solidity\":0.2}},\"type\":\"histogram\"}],\"scattergl\":[{\"type\":\"scattergl\",\"marker\":{\"colorbar\":{\"outlinewidth\":0,\"ticks\":\"\"}}}],\"scatter3d\":[{\"type\":\"scatter3d\",\"line\":{\"colorbar\":{\"outlinewidth\":0,\"ticks\":\"\"}},\"marker\":{\"colorbar\":{\"outlinewidth\":0,\"ticks\":\"\"}}}],\"scattermapbox\":[{\"type\":\"scattermapbox\",\"marker\":{\"colorbar\":{\"outlinewidth\":0,\"ticks\":\"\"}}}],\"scatterternary\":[{\"type\":\"scatterternary\",\"marker\":{\"colorbar\":{\"outlinewidth\":0,\"ticks\":\"\"}}}],\"scattercarpet\":[{\"type\":\"scattercarpet\",\"marker\":{\"colorbar\":{\"outlinewidth\":0,\"ticks\":\"\"}}}],\"carpet\":[{\"aaxis\":{\"endlinecolor\":\"#2a3f5f\",\"gridcolor\":\"white\",\"linecolor\":\"white\",\"minorgridcolor\":\"white\",\"startlinecolor\":\"#2a3f5f\"},\"baxis\":{\"endlinecolor\":\"#2a3f5f\",\"gridcolor\":\"white\",\"linecolor\":\"white\",\"minorgridcolor\":\"white\",\"startlinecolor\":\"#2a3f5f\"},\"type\":\"carpet\"}],\"table\":[{\"cells\":{\"fill\":{\"color\":\"#EBF0F8\"},\"line\":{\"color\":\"white\"}},\"header\":{\"fill\":{\"color\":\"#C8D4E3\"},\"line\":{\"color\":\"white\"}},\"type\":\"table\"}],\"barpolar\":[{\"marker\":{\"line\":{\"color\":\"#E5ECF6\",\"width\":0.5},\"pattern\":{\"fillmode\":\"overlay\",\"size\":10,\"solidity\":0.2}},\"type\":\"barpolar\"}],\"pie\":[{\"automargin\":true,\"type\":\"pie\"}]},\"layout\":{\"autotypenumbers\":\"strict\",\"colorway\":[\"#636efa\",\"#EF553B\",\"#00cc96\",\"#ab63fa\",\"#FFA15A\",\"#19d3f3\",\"#FF6692\",\"#B6E880\",\"#FF97FF\",\"#FECB52\"],\"font\":{\"color\":\"#2a3f5f\"},\"hovermode\":\"closest\",\"hoverlabel\":{\"align\":\"left\"},\"paper_bgcolor\":\"white\",\"plot_bgcolor\":\"#E5ECF6\",\"polar\":{\"bgcolor\":\"#E5ECF6\",\"angularaxis\":{\"gridcolor\":\"white\",\"linecolor\":\"white\",\"ticks\":\"\"},\"radialaxis\":{\"gridcolor\":\"white\",\"linecolor\":\"white\",\"ticks\":\"\"}},\"ternary\":{\"bgcolor\":\"#E5ECF6\",\"aaxis\":{\"gridcolor\":\"white\",\"linecolor\":\"white\",\"ticks\":\"\"},\"baxis\":{\"gridcolor\":\"white\",\"linecolor\":\"white\",\"ticks\":\"\"},\"caxis\":{\"gridcolor\":\"white\",\"linecolor\":\"white\",\"ticks\":\"\"}},\"coloraxis\":{\"colorbar\":{\"outlinewidth\":0,\"ticks\":\"\"}},\"colorscale\":{\"sequential\":[[0.0,\"#0d0887\"],[0.1111111111111111,\"#46039f\"],[0.2222222222222222,\"#7201a8\"],[0.3333333333333333,\"#9c179e\"],[0.4444444444444444,\"#bd3786\"],[0.5555555555555556,\"#d8576b\"],[0.6666666666666666,\"#ed7953\"],[0.7777777777777778,\"#fb9f3a\"],[0.8888888888888888,\"#fdca26\"],[1.0,\"#f0f921\"]],\"sequentialminus\":[[0.0,\"#0d0887\"],[0.1111111111111111,\"#46039f\"],[0.2222222222222222,\"#7201a8\"],[0.3333333333333333,\"#9c179e\"],[0.4444444444444444,\"#bd3786\"],[0.5555555555555556,\"#d8576b\"],[0.6666666666666666,\"#ed7953\"],[0.7777777777777778,\"#fb9f3a\"],[0.8888888888888888,\"#fdca26\"],[1.0,\"#f0f921\"]],\"diverging\":[[0,\"#8e0152\"],[0.1,\"#c51b7d\"],[0.2,\"#de77ae\"],[0.3,\"#f1b6da\"],[0.4,\"#fde0ef\"],[0.5,\"#f7f7f7\"],[0.6,\"#e6f5d0\"],[0.7,\"#b8e186\"],[0.8,\"#7fbc41\"],[0.9,\"#4d9221\"],[1,\"#276419\"]]},\"xaxis\":{\"gridcolor\":\"white\",\"linecolor\":\"white\",\"ticks\":\"\",\"title\":{\"standoff\":15},\"zerolinecolor\":\"white\",\"automargin\":true,\"zerolinewidth\":2},\"yaxis\":{\"gridcolor\":\"white\",\"linecolor\":\"white\",\"ticks\":\"\",\"title\":{\"standoff\":15},\"zerolinecolor\":\"white\",\"automargin\":true,\"zerolinewidth\":2},\"scene\":{\"xaxis\":{\"backgroundcolor\":\"#E5ECF6\",\"gridcolor\":\"white\",\"linecolor\":\"white\",\"showbackground\":true,\"ticks\":\"\",\"zerolinecolor\":\"white\",\"gridwidth\":2},\"yaxis\":{\"backgroundcolor\":\"#E5ECF6\",\"gridcolor\":\"white\",\"linecolor\":\"white\",\"showbackground\":true,\"ticks\":\"\",\"zerolinecolor\":\"white\",\"gridwidth\":2},\"zaxis\":{\"backgroundcolor\":\"#E5ECF6\",\"gridcolor\":\"white\",\"linecolor\":\"white\",\"showbackground\":true,\"ticks\":\"\",\"zerolinecolor\":\"white\",\"gridwidth\":2}},\"shapedefaults\":{\"line\":{\"color\":\"#2a3f5f\"}},\"annotationdefaults\":{\"arrowcolor\":\"#2a3f5f\",\"arrowhead\":0,\"arrowwidth\":1},\"geo\":{\"bgcolor\":\"white\",\"landcolor\":\"#E5ECF6\",\"subunitcolor\":\"white\",\"showland\":true,\"showlakes\":true,\"lakecolor\":\"white\"},\"title\":{\"x\":0.05},\"mapbox\":{\"style\":\"light\"}}},\"xaxis\":{\"anchor\":\"y\",\"domain\":[0.0,1.0],\"title\":{\"text\":\"Avg Temperature [K]\"}},\"yaxis\":{\"anchor\":\"x\",\"domain\":[0.0,1.0],\"title\":{\"text\":\"Avg Current [A/cm2]\"},\"type\":\"log\"},\"legend\":{\"title\":{\"text\":\"Name\"},\"tracegroupgap\":0},\"title\":{\"text\":\"Corrente e Temperatura degli Esperimenti\"},\"height\":800,\"width\":952},                        {\"responsive\": true}                    ).then(function(){\n",
       "                            \n",
       "var gd = document.getElementById('6b197007-70a7-4f13-997d-6dbc8ca79f9c');\n",
       "var x = new MutationObserver(function (mutations, observer) {{\n",
       "        var display = window.getComputedStyle(gd).display;\n",
       "        if (!display || display === 'none') {{\n",
       "            console.log([gd, 'removed!']);\n",
       "            Plotly.purge(gd);\n",
       "            observer.disconnect();\n",
       "        }}\n",
       "}});\n",
       "\n",
       "// Listen for the removal of the full notebook cells\n",
       "var notebookContainer = gd.closest('#notebook-container');\n",
       "if (notebookContainer) {{\n",
       "    x.observe(notebookContainer, {childList: true});\n",
       "}}\n",
       "\n",
       "// Listen for the clearing of the current output cell\n",
       "var outputEl = gd.closest('.output');\n",
       "if (outputEl) {{\n",
       "    x.observe(outputEl, {childList: true});\n",
       "}}\n",
       "\n",
       "                        })                };                });            </script>        </div>"
      ]
     },
     "metadata": {},
     "output_type": "display_data"
    }
   ],
   "source": [
    "# Distribuzione in funzione della temperatura e della corrente\n",
    "fig = px.scatter(df_fixed, x='Avg Temperature [K]', y='Avg Current [A/cm2]', \n",
    "title='Corrente e Temperatura degli Esperimenti',\n",
    "color=\"Name\", hover_name=\"Experiment\", log_y=True, error_y='e_j_plus', \n",
    "error_y_minus='e_j_minus', error_x='e_t_plus', error_x_minus='e_t_minus',\n",
    "width=952, height=800)\n",
    "fig.show()"
   ]
  },
  {
   "cell_type": "markdown",
   "id": "every-dress",
   "metadata": {},
   "source": [
    "### Oscillazioni in funzione della temperatura"
   ]
  },
  {
   "cell_type": "code",
   "execution_count": 4,
   "id": "disabled-constitutional",
   "metadata": {},
   "outputs": [
    {
     "data": {
      "application/vnd.plotly.v1+json": {
       "config": {
        "plotlyServerURL": "https://plot.ly"
       },
       "data": [
        {
         "error_x": {
          "array": [
           0.02031383795882391,
           3.9715480468009616,
           0.02787932829306783,
           0.04526925865926046,
           0.001281540377178203,
           0.04379319118487501,
           0.03426341657771559,
           0.029434121156441506
          ],
          "arrayminus": [
           0.03303264905181891,
           5.396838782448924,
           0.028452569680354145,
           0.038457963550584395,
           0.0019357169044837974,
           0.04613304511286742,
           0.03588520045158816,
           0.029441646864967197
          ]
         },
         "error_y": {
          "array": [
           73.48450870195768,
           16.003461395293584,
           2.27908238497605,
           24.027383871226334,
           23.474879495073424,
           2.6213889122841465,
           1.9715231311948855,
           2.5580670397264953
          ],
          "arrayminus": [
           406.02361152039776,
           245.21946513000535,
           2.8779822053880935,
           35.34077071623807,
           205.87976454532554,
           3.051768050506439,
           3.341063012941106,
           2.086110943158701
          ]
         },
         "hovertemplate": "<b>%{hovertext}</b><br><br>Name=CA8_01_A<br>Avg Temperature [K]=%{x}<br>Avg Osc Amplitude [V/cm]=%{y}<extra></extra>",
         "hovertext": [
          "CA8_01_A_square_waveform_value_3.5e-08A-20220422142852",
          "CA8_01_A_at_fixed_current_5e-7A-20220422113350",
          "CA8_01_A_at_fixed_current_1.42e-6A-20220421121309",
          "CA8_01_A_square_waveform_value_3e-08A-20220422141850",
          "CA8_01_A_at_fixed_current_3e-8A-20220422093131",
          "CA8_01_A_at_fixed_current_1.38e-6A-20220421120616",
          "CA8_01_A_at_fixed_current_1.40e-6A-20220421120923",
          "CA8_01_A_at_fixed_current_1.34e-6A-20220421120127"
         ],
         "legendgroup": "CA8_01_A",
         "marker": {
          "color": "#636efa",
          "symbol": "circle"
         },
         "mode": "markers",
         "name": "CA8_01_A",
         "orientation": "v",
         "showlegend": true,
         "type": "scatter",
         "x": [
          105.85239563370553,
          121.56470097801169,
          132.19992560956257,
          106.07287071781346,
          103.53033991530704,
          131.98404677135298,
          132.0995329773529,
          131.7580164938316
         ],
         "xaxis": "x",
         "y": [
          645.0878582335015,
          411.23395338602234,
          296.78792525925564,
          523.8906476311521,
          696.432225506685,
          299.4359940334905,
          297.7400277408892,
          302.580268874589
         ],
         "yaxis": "y"
        },
        {
         "error_x": {
          "array": [
           0.0018286333004766675,
           0.007884817371717645,
           0.0023971020081603456,
           0.0018192946134547583
          ],
          "arrayminus": [
           0.0018098780339386167,
           0.007264307867544062,
           0.0016961642007373712,
           0.0013361550961832336
          ]
         },
         "error_y": {
          "array": [
           1.871899055918675,
           1.7584915305011464,
           2.3597962236747207,
           1.8716759622367931
          ],
          "arrayminus": [
           2.072276761074818,
           3.0634502995643516,
           2.6919057371096073,
           2.791812926652142
          ]
         },
         "hovertemplate": "<b>%{hovertext}</b><br><br>Name=CA12X_C5<br>Avg Temperature [K]=%{x}<br>Avg Osc Amplitude [V/cm]=%{y}<extra></extra>",
         "hovertext": [
          "CA12X_C5_at_fixed_current_3.5e-7A-20220413144545",
          "CA12X_C5_at_fixed_current_4e-7A-20220413143802",
          "CA12X_C5_at_fixed_current_3e-7A-20220413144233",
          "CA12X_C5_at_fixed_current_4.5e-7A-20220413144649"
         ],
         "legendgroup": "CA12X_C5",
         "marker": {
          "color": "#EF553B",
          "symbol": "circle"
         },
         "mode": "markers",
         "name": "CA12X_C5",
         "orientation": "v",
         "showlegend": true,
         "type": "scatter",
         "x": [
          113.08337975924059,
          113.17203493129978,
          113.11416565867678,
          113.07125061490896
         ],
         "xaxis": "x",
         "y": [
          464.88990486565,
          466.8018790577342,
          448.8934867828613,
          460.42985214233846
         ],
         "yaxis": "y"
        },
        {
         "error_x": {
          "array": [
           0.004438223864553947,
           1.6283990444688925,
           0.05804580077774801,
           0.008820889434900892
          ],
          "arrayminus": [
           0.00485369523229906,
           0.3895736802155909,
           0.061648960209751635,
           0.008525126098774649
          ]
         },
         "error_y": {
          "array": [
           2.353770441418405,
           3.5174010655439503,
           0.4254740034305087,
           0.37883440060983276
          ],
          "arrayminus": [
           32.95879336647182,
           5.894018488486921,
           0.7445350874785817,
           0.5580884124261729
          ]
         },
         "hovertemplate": "<b>%{hovertext}</b><br><br>Name=CA12X2_C1<br>Avg Temperature [K]=%{x}<br>Avg Osc Amplitude [V/cm]=%{y}<extra></extra>",
         "hovertext": [
          "CA12X2_C1_current_square_waveform_value_1.6e-07A-20220428171247",
          "CA12X2_C1_at_fixed_current_1.6e-7A-20220428174333",
          "CA12X2_C1_current_square_waveform_value_3e-07A-20220428163159",
          "CA12X2_C1_at_fixed_current_6e-7A-20220428175416"
         ],
         "legendgroup": "CA12X2_C1",
         "marker": {
          "color": "#00cc96",
          "symbol": "circle"
         },
         "mode": "markers",
         "name": "CA12X2_C1",
         "orientation": "v",
         "showlegend": true,
         "type": "scatter",
         "x": [
          87.67652651507349,
          88.13331205816105,
          87.69734180557712,
          99.45432789000004
         ],
         "xaxis": "x",
         "y": [
          87.82137981587147,
          83.93290185040803,
          123.33177608233278,
          111.77666491328381
         ],
         "yaxis": "y"
        }
       ],
       "layout": {
        "height": 800,
        "legend": {
         "title": {
          "text": "Name"
         },
         "tracegroupgap": 0
        },
        "template": {
         "data": {
          "bar": [
           {
            "error_x": {
             "color": "#2a3f5f"
            },
            "error_y": {
             "color": "#2a3f5f"
            },
            "marker": {
             "line": {
              "color": "#E5ECF6",
              "width": 0.5
             },
             "pattern": {
              "fillmode": "overlay",
              "size": 10,
              "solidity": 0.2
             }
            },
            "type": "bar"
           }
          ],
          "barpolar": [
           {
            "marker": {
             "line": {
              "color": "#E5ECF6",
              "width": 0.5
             },
             "pattern": {
              "fillmode": "overlay",
              "size": 10,
              "solidity": 0.2
             }
            },
            "type": "barpolar"
           }
          ],
          "carpet": [
           {
            "aaxis": {
             "endlinecolor": "#2a3f5f",
             "gridcolor": "white",
             "linecolor": "white",
             "minorgridcolor": "white",
             "startlinecolor": "#2a3f5f"
            },
            "baxis": {
             "endlinecolor": "#2a3f5f",
             "gridcolor": "white",
             "linecolor": "white",
             "minorgridcolor": "white",
             "startlinecolor": "#2a3f5f"
            },
            "type": "carpet"
           }
          ],
          "choropleth": [
           {
            "colorbar": {
             "outlinewidth": 0,
             "ticks": ""
            },
            "type": "choropleth"
           }
          ],
          "contour": [
           {
            "colorbar": {
             "outlinewidth": 0,
             "ticks": ""
            },
            "colorscale": [
             [
              0,
              "#0d0887"
             ],
             [
              0.1111111111111111,
              "#46039f"
             ],
             [
              0.2222222222222222,
              "#7201a8"
             ],
             [
              0.3333333333333333,
              "#9c179e"
             ],
             [
              0.4444444444444444,
              "#bd3786"
             ],
             [
              0.5555555555555556,
              "#d8576b"
             ],
             [
              0.6666666666666666,
              "#ed7953"
             ],
             [
              0.7777777777777778,
              "#fb9f3a"
             ],
             [
              0.8888888888888888,
              "#fdca26"
             ],
             [
              1,
              "#f0f921"
             ]
            ],
            "type": "contour"
           }
          ],
          "contourcarpet": [
           {
            "colorbar": {
             "outlinewidth": 0,
             "ticks": ""
            },
            "type": "contourcarpet"
           }
          ],
          "heatmap": [
           {
            "colorbar": {
             "outlinewidth": 0,
             "ticks": ""
            },
            "colorscale": [
             [
              0,
              "#0d0887"
             ],
             [
              0.1111111111111111,
              "#46039f"
             ],
             [
              0.2222222222222222,
              "#7201a8"
             ],
             [
              0.3333333333333333,
              "#9c179e"
             ],
             [
              0.4444444444444444,
              "#bd3786"
             ],
             [
              0.5555555555555556,
              "#d8576b"
             ],
             [
              0.6666666666666666,
              "#ed7953"
             ],
             [
              0.7777777777777778,
              "#fb9f3a"
             ],
             [
              0.8888888888888888,
              "#fdca26"
             ],
             [
              1,
              "#f0f921"
             ]
            ],
            "type": "heatmap"
           }
          ],
          "heatmapgl": [
           {
            "colorbar": {
             "outlinewidth": 0,
             "ticks": ""
            },
            "colorscale": [
             [
              0,
              "#0d0887"
             ],
             [
              0.1111111111111111,
              "#46039f"
             ],
             [
              0.2222222222222222,
              "#7201a8"
             ],
             [
              0.3333333333333333,
              "#9c179e"
             ],
             [
              0.4444444444444444,
              "#bd3786"
             ],
             [
              0.5555555555555556,
              "#d8576b"
             ],
             [
              0.6666666666666666,
              "#ed7953"
             ],
             [
              0.7777777777777778,
              "#fb9f3a"
             ],
             [
              0.8888888888888888,
              "#fdca26"
             ],
             [
              1,
              "#f0f921"
             ]
            ],
            "type": "heatmapgl"
           }
          ],
          "histogram": [
           {
            "marker": {
             "pattern": {
              "fillmode": "overlay",
              "size": 10,
              "solidity": 0.2
             }
            },
            "type": "histogram"
           }
          ],
          "histogram2d": [
           {
            "colorbar": {
             "outlinewidth": 0,
             "ticks": ""
            },
            "colorscale": [
             [
              0,
              "#0d0887"
             ],
             [
              0.1111111111111111,
              "#46039f"
             ],
             [
              0.2222222222222222,
              "#7201a8"
             ],
             [
              0.3333333333333333,
              "#9c179e"
             ],
             [
              0.4444444444444444,
              "#bd3786"
             ],
             [
              0.5555555555555556,
              "#d8576b"
             ],
             [
              0.6666666666666666,
              "#ed7953"
             ],
             [
              0.7777777777777778,
              "#fb9f3a"
             ],
             [
              0.8888888888888888,
              "#fdca26"
             ],
             [
              1,
              "#f0f921"
             ]
            ],
            "type": "histogram2d"
           }
          ],
          "histogram2dcontour": [
           {
            "colorbar": {
             "outlinewidth": 0,
             "ticks": ""
            },
            "colorscale": [
             [
              0,
              "#0d0887"
             ],
             [
              0.1111111111111111,
              "#46039f"
             ],
             [
              0.2222222222222222,
              "#7201a8"
             ],
             [
              0.3333333333333333,
              "#9c179e"
             ],
             [
              0.4444444444444444,
              "#bd3786"
             ],
             [
              0.5555555555555556,
              "#d8576b"
             ],
             [
              0.6666666666666666,
              "#ed7953"
             ],
             [
              0.7777777777777778,
              "#fb9f3a"
             ],
             [
              0.8888888888888888,
              "#fdca26"
             ],
             [
              1,
              "#f0f921"
             ]
            ],
            "type": "histogram2dcontour"
           }
          ],
          "mesh3d": [
           {
            "colorbar": {
             "outlinewidth": 0,
             "ticks": ""
            },
            "type": "mesh3d"
           }
          ],
          "parcoords": [
           {
            "line": {
             "colorbar": {
              "outlinewidth": 0,
              "ticks": ""
             }
            },
            "type": "parcoords"
           }
          ],
          "pie": [
           {
            "automargin": true,
            "type": "pie"
           }
          ],
          "scatter": [
           {
            "fillpattern": {
             "fillmode": "overlay",
             "size": 10,
             "solidity": 0.2
            },
            "type": "scatter"
           }
          ],
          "scatter3d": [
           {
            "line": {
             "colorbar": {
              "outlinewidth": 0,
              "ticks": ""
             }
            },
            "marker": {
             "colorbar": {
              "outlinewidth": 0,
              "ticks": ""
             }
            },
            "type": "scatter3d"
           }
          ],
          "scattercarpet": [
           {
            "marker": {
             "colorbar": {
              "outlinewidth": 0,
              "ticks": ""
             }
            },
            "type": "scattercarpet"
           }
          ],
          "scattergeo": [
           {
            "marker": {
             "colorbar": {
              "outlinewidth": 0,
              "ticks": ""
             }
            },
            "type": "scattergeo"
           }
          ],
          "scattergl": [
           {
            "marker": {
             "colorbar": {
              "outlinewidth": 0,
              "ticks": ""
             }
            },
            "type": "scattergl"
           }
          ],
          "scattermapbox": [
           {
            "marker": {
             "colorbar": {
              "outlinewidth": 0,
              "ticks": ""
             }
            },
            "type": "scattermapbox"
           }
          ],
          "scatterpolar": [
           {
            "marker": {
             "colorbar": {
              "outlinewidth": 0,
              "ticks": ""
             }
            },
            "type": "scatterpolar"
           }
          ],
          "scatterpolargl": [
           {
            "marker": {
             "colorbar": {
              "outlinewidth": 0,
              "ticks": ""
             }
            },
            "type": "scatterpolargl"
           }
          ],
          "scatterternary": [
           {
            "marker": {
             "colorbar": {
              "outlinewidth": 0,
              "ticks": ""
             }
            },
            "type": "scatterternary"
           }
          ],
          "surface": [
           {
            "colorbar": {
             "outlinewidth": 0,
             "ticks": ""
            },
            "colorscale": [
             [
              0,
              "#0d0887"
             ],
             [
              0.1111111111111111,
              "#46039f"
             ],
             [
              0.2222222222222222,
              "#7201a8"
             ],
             [
              0.3333333333333333,
              "#9c179e"
             ],
             [
              0.4444444444444444,
              "#bd3786"
             ],
             [
              0.5555555555555556,
              "#d8576b"
             ],
             [
              0.6666666666666666,
              "#ed7953"
             ],
             [
              0.7777777777777778,
              "#fb9f3a"
             ],
             [
              0.8888888888888888,
              "#fdca26"
             ],
             [
              1,
              "#f0f921"
             ]
            ],
            "type": "surface"
           }
          ],
          "table": [
           {
            "cells": {
             "fill": {
              "color": "#EBF0F8"
             },
             "line": {
              "color": "white"
             }
            },
            "header": {
             "fill": {
              "color": "#C8D4E3"
             },
             "line": {
              "color": "white"
             }
            },
            "type": "table"
           }
          ]
         },
         "layout": {
          "annotationdefaults": {
           "arrowcolor": "#2a3f5f",
           "arrowhead": 0,
           "arrowwidth": 1
          },
          "autotypenumbers": "strict",
          "coloraxis": {
           "colorbar": {
            "outlinewidth": 0,
            "ticks": ""
           }
          },
          "colorscale": {
           "diverging": [
            [
             0,
             "#8e0152"
            ],
            [
             0.1,
             "#c51b7d"
            ],
            [
             0.2,
             "#de77ae"
            ],
            [
             0.3,
             "#f1b6da"
            ],
            [
             0.4,
             "#fde0ef"
            ],
            [
             0.5,
             "#f7f7f7"
            ],
            [
             0.6,
             "#e6f5d0"
            ],
            [
             0.7,
             "#b8e186"
            ],
            [
             0.8,
             "#7fbc41"
            ],
            [
             0.9,
             "#4d9221"
            ],
            [
             1,
             "#276419"
            ]
           ],
           "sequential": [
            [
             0,
             "#0d0887"
            ],
            [
             0.1111111111111111,
             "#46039f"
            ],
            [
             0.2222222222222222,
             "#7201a8"
            ],
            [
             0.3333333333333333,
             "#9c179e"
            ],
            [
             0.4444444444444444,
             "#bd3786"
            ],
            [
             0.5555555555555556,
             "#d8576b"
            ],
            [
             0.6666666666666666,
             "#ed7953"
            ],
            [
             0.7777777777777778,
             "#fb9f3a"
            ],
            [
             0.8888888888888888,
             "#fdca26"
            ],
            [
             1,
             "#f0f921"
            ]
           ],
           "sequentialminus": [
            [
             0,
             "#0d0887"
            ],
            [
             0.1111111111111111,
             "#46039f"
            ],
            [
             0.2222222222222222,
             "#7201a8"
            ],
            [
             0.3333333333333333,
             "#9c179e"
            ],
            [
             0.4444444444444444,
             "#bd3786"
            ],
            [
             0.5555555555555556,
             "#d8576b"
            ],
            [
             0.6666666666666666,
             "#ed7953"
            ],
            [
             0.7777777777777778,
             "#fb9f3a"
            ],
            [
             0.8888888888888888,
             "#fdca26"
            ],
            [
             1,
             "#f0f921"
            ]
           ]
          },
          "colorway": [
           "#636efa",
           "#EF553B",
           "#00cc96",
           "#ab63fa",
           "#FFA15A",
           "#19d3f3",
           "#FF6692",
           "#B6E880",
           "#FF97FF",
           "#FECB52"
          ],
          "font": {
           "color": "#2a3f5f"
          },
          "geo": {
           "bgcolor": "white",
           "lakecolor": "white",
           "landcolor": "#E5ECF6",
           "showlakes": true,
           "showland": true,
           "subunitcolor": "white"
          },
          "hoverlabel": {
           "align": "left"
          },
          "hovermode": "closest",
          "mapbox": {
           "style": "light"
          },
          "paper_bgcolor": "white",
          "plot_bgcolor": "#E5ECF6",
          "polar": {
           "angularaxis": {
            "gridcolor": "white",
            "linecolor": "white",
            "ticks": ""
           },
           "bgcolor": "#E5ECF6",
           "radialaxis": {
            "gridcolor": "white",
            "linecolor": "white",
            "ticks": ""
           }
          },
          "scene": {
           "xaxis": {
            "backgroundcolor": "#E5ECF6",
            "gridcolor": "white",
            "gridwidth": 2,
            "linecolor": "white",
            "showbackground": true,
            "ticks": "",
            "zerolinecolor": "white"
           },
           "yaxis": {
            "backgroundcolor": "#E5ECF6",
            "gridcolor": "white",
            "gridwidth": 2,
            "linecolor": "white",
            "showbackground": true,
            "ticks": "",
            "zerolinecolor": "white"
           },
           "zaxis": {
            "backgroundcolor": "#E5ECF6",
            "gridcolor": "white",
            "gridwidth": 2,
            "linecolor": "white",
            "showbackground": true,
            "ticks": "",
            "zerolinecolor": "white"
           }
          },
          "shapedefaults": {
           "line": {
            "color": "#2a3f5f"
           }
          },
          "ternary": {
           "aaxis": {
            "gridcolor": "white",
            "linecolor": "white",
            "ticks": ""
           },
           "baxis": {
            "gridcolor": "white",
            "linecolor": "white",
            "ticks": ""
           },
           "bgcolor": "#E5ECF6",
           "caxis": {
            "gridcolor": "white",
            "linecolor": "white",
            "ticks": ""
           }
          },
          "title": {
           "x": 0.05
          },
          "xaxis": {
           "automargin": true,
           "gridcolor": "white",
           "linecolor": "white",
           "ticks": "",
           "title": {
            "standoff": 15
           },
           "zerolinecolor": "white",
           "zerolinewidth": 2
          },
          "yaxis": {
           "automargin": true,
           "gridcolor": "white",
           "linecolor": "white",
           "ticks": "",
           "title": {
            "standoff": 15
           },
           "zerolinecolor": "white",
           "zerolinewidth": 2
          }
         }
        },
        "title": {
         "text": "Ampiezza delle oscillazioni in funzione della temperatura"
        },
        "width": 952,
        "xaxis": {
         "anchor": "y",
         "domain": [
          0,
          1
         ],
         "title": {
          "text": "Avg Temperature [K]"
         }
        },
        "yaxis": {
         "anchor": "x",
         "domain": [
          0,
          1
         ],
         "title": {
          "text": "Avg Osc Amplitude [V/cm]"
         }
        }
       }
      },
      "text/html": [
       "<div>                            <div id=\"d3dff4c9-40de-4996-9d1d-9a9d022d5c11\" class=\"plotly-graph-div\" style=\"height:800px; width:952px;\"></div>            <script type=\"text/javascript\">                require([\"plotly\"], function(Plotly) {                    window.PLOTLYENV=window.PLOTLYENV || {};                                    if (document.getElementById(\"d3dff4c9-40de-4996-9d1d-9a9d022d5c11\")) {                    Plotly.newPlot(                        \"d3dff4c9-40de-4996-9d1d-9a9d022d5c11\",                        [{\"error_x\":{\"array\":[0.02031383795882391,3.9715480468009616,0.02787932829306783,0.04526925865926046,0.001281540377178203,0.04379319118487501,0.03426341657771559,0.029434121156441506],\"arrayminus\":[0.03303264905181891,5.396838782448924,0.028452569680354145,0.038457963550584395,0.0019357169044837974,0.04613304511286742,0.03588520045158816,0.029441646864967197]},\"error_y\":{\"array\":[73.48450870195768,16.003461395293584,2.27908238497605,24.027383871226334,23.474879495073424,2.6213889122841465,1.9715231311948855,2.5580670397264953],\"arrayminus\":[406.02361152039776,245.21946513000535,2.8779822053880935,35.34077071623807,205.87976454532554,3.051768050506439,3.341063012941106,2.086110943158701]},\"hovertemplate\":\"<b>%{hovertext}</b><br><br>Name=CA8_01_A<br>Avg Temperature [K]=%{x}<br>Avg Osc Amplitude [V/cm]=%{y}<extra></extra>\",\"hovertext\":[\"CA8_01_A_square_waveform_value_3.5e-08A-20220422142852\",\"CA8_01_A_at_fixed_current_5e-7A-20220422113350\",\"CA8_01_A_at_fixed_current_1.42e-6A-20220421121309\",\"CA8_01_A_square_waveform_value_3e-08A-20220422141850\",\"CA8_01_A_at_fixed_current_3e-8A-20220422093131\",\"CA8_01_A_at_fixed_current_1.38e-6A-20220421120616\",\"CA8_01_A_at_fixed_current_1.40e-6A-20220421120923\",\"CA8_01_A_at_fixed_current_1.34e-6A-20220421120127\"],\"legendgroup\":\"CA8_01_A\",\"marker\":{\"color\":\"#636efa\",\"symbol\":\"circle\"},\"mode\":\"markers\",\"name\":\"CA8_01_A\",\"orientation\":\"v\",\"showlegend\":true,\"x\":[105.85239563370553,121.56470097801169,132.19992560956257,106.07287071781346,103.53033991530704,131.98404677135298,132.0995329773529,131.7580164938316],\"xaxis\":\"x\",\"y\":[645.0878582335015,411.23395338602234,296.78792525925564,523.8906476311521,696.432225506685,299.4359940334905,297.7400277408892,302.580268874589],\"yaxis\":\"y\",\"type\":\"scatter\"},{\"error_x\":{\"array\":[0.0018286333004766675,0.007884817371717645,0.0023971020081603456,0.0018192946134547583],\"arrayminus\":[0.0018098780339386167,0.007264307867544062,0.0016961642007373712,0.0013361550961832336]},\"error_y\":{\"array\":[1.871899055918675,1.7584915305011464,2.3597962236747207,1.8716759622367931],\"arrayminus\":[2.072276761074818,3.0634502995643516,2.6919057371096073,2.791812926652142]},\"hovertemplate\":\"<b>%{hovertext}</b><br><br>Name=CA12X_C5<br>Avg Temperature [K]=%{x}<br>Avg Osc Amplitude [V/cm]=%{y}<extra></extra>\",\"hovertext\":[\"CA12X_C5_at_fixed_current_3.5e-7A-20220413144545\",\"CA12X_C5_at_fixed_current_4e-7A-20220413143802\",\"CA12X_C5_at_fixed_current_3e-7A-20220413144233\",\"CA12X_C5_at_fixed_current_4.5e-7A-20220413144649\"],\"legendgroup\":\"CA12X_C5\",\"marker\":{\"color\":\"#EF553B\",\"symbol\":\"circle\"},\"mode\":\"markers\",\"name\":\"CA12X_C5\",\"orientation\":\"v\",\"showlegend\":true,\"x\":[113.08337975924059,113.17203493129978,113.11416565867678,113.07125061490896],\"xaxis\":\"x\",\"y\":[464.88990486565,466.8018790577342,448.8934867828613,460.42985214233846],\"yaxis\":\"y\",\"type\":\"scatter\"},{\"error_x\":{\"array\":[0.004438223864553947,1.6283990444688925,0.05804580077774801,0.008820889434900892],\"arrayminus\":[0.00485369523229906,0.3895736802155909,0.061648960209751635,0.008525126098774649]},\"error_y\":{\"array\":[2.353770441418405,3.5174010655439503,0.4254740034305087,0.37883440060983276],\"arrayminus\":[32.95879336647182,5.894018488486921,0.7445350874785817,0.5580884124261729]},\"hovertemplate\":\"<b>%{hovertext}</b><br><br>Name=CA12X2_C1<br>Avg Temperature [K]=%{x}<br>Avg Osc Amplitude [V/cm]=%{y}<extra></extra>\",\"hovertext\":[\"CA12X2_C1_current_square_waveform_value_1.6e-07A-20220428171247\",\"CA12X2_C1_at_fixed_current_1.6e-7A-20220428174333\",\"CA12X2_C1_current_square_waveform_value_3e-07A-20220428163159\",\"CA12X2_C1_at_fixed_current_6e-7A-20220428175416\"],\"legendgroup\":\"CA12X2_C1\",\"marker\":{\"color\":\"#00cc96\",\"symbol\":\"circle\"},\"mode\":\"markers\",\"name\":\"CA12X2_C1\",\"orientation\":\"v\",\"showlegend\":true,\"x\":[87.67652651507349,88.13331205816105,87.69734180557712,99.45432789000004],\"xaxis\":\"x\",\"y\":[87.82137981587147,83.93290185040803,123.33177608233278,111.77666491328381],\"yaxis\":\"y\",\"type\":\"scatter\"}],                        {\"template\":{\"data\":{\"histogram2dcontour\":[{\"type\":\"histogram2dcontour\",\"colorbar\":{\"outlinewidth\":0,\"ticks\":\"\"},\"colorscale\":[[0.0,\"#0d0887\"],[0.1111111111111111,\"#46039f\"],[0.2222222222222222,\"#7201a8\"],[0.3333333333333333,\"#9c179e\"],[0.4444444444444444,\"#bd3786\"],[0.5555555555555556,\"#d8576b\"],[0.6666666666666666,\"#ed7953\"],[0.7777777777777778,\"#fb9f3a\"],[0.8888888888888888,\"#fdca26\"],[1.0,\"#f0f921\"]]}],\"choropleth\":[{\"type\":\"choropleth\",\"colorbar\":{\"outlinewidth\":0,\"ticks\":\"\"}}],\"histogram2d\":[{\"type\":\"histogram2d\",\"colorbar\":{\"outlinewidth\":0,\"ticks\":\"\"},\"colorscale\":[[0.0,\"#0d0887\"],[0.1111111111111111,\"#46039f\"],[0.2222222222222222,\"#7201a8\"],[0.3333333333333333,\"#9c179e\"],[0.4444444444444444,\"#bd3786\"],[0.5555555555555556,\"#d8576b\"],[0.6666666666666666,\"#ed7953\"],[0.7777777777777778,\"#fb9f3a\"],[0.8888888888888888,\"#fdca26\"],[1.0,\"#f0f921\"]]}],\"heatmap\":[{\"type\":\"heatmap\",\"colorbar\":{\"outlinewidth\":0,\"ticks\":\"\"},\"colorscale\":[[0.0,\"#0d0887\"],[0.1111111111111111,\"#46039f\"],[0.2222222222222222,\"#7201a8\"],[0.3333333333333333,\"#9c179e\"],[0.4444444444444444,\"#bd3786\"],[0.5555555555555556,\"#d8576b\"],[0.6666666666666666,\"#ed7953\"],[0.7777777777777778,\"#fb9f3a\"],[0.8888888888888888,\"#fdca26\"],[1.0,\"#f0f921\"]]}],\"heatmapgl\":[{\"type\":\"heatmapgl\",\"colorbar\":{\"outlinewidth\":0,\"ticks\":\"\"},\"colorscale\":[[0.0,\"#0d0887\"],[0.1111111111111111,\"#46039f\"],[0.2222222222222222,\"#7201a8\"],[0.3333333333333333,\"#9c179e\"],[0.4444444444444444,\"#bd3786\"],[0.5555555555555556,\"#d8576b\"],[0.6666666666666666,\"#ed7953\"],[0.7777777777777778,\"#fb9f3a\"],[0.8888888888888888,\"#fdca26\"],[1.0,\"#f0f921\"]]}],\"contourcarpet\":[{\"type\":\"contourcarpet\",\"colorbar\":{\"outlinewidth\":0,\"ticks\":\"\"}}],\"contour\":[{\"type\":\"contour\",\"colorbar\":{\"outlinewidth\":0,\"ticks\":\"\"},\"colorscale\":[[0.0,\"#0d0887\"],[0.1111111111111111,\"#46039f\"],[0.2222222222222222,\"#7201a8\"],[0.3333333333333333,\"#9c179e\"],[0.4444444444444444,\"#bd3786\"],[0.5555555555555556,\"#d8576b\"],[0.6666666666666666,\"#ed7953\"],[0.7777777777777778,\"#fb9f3a\"],[0.8888888888888888,\"#fdca26\"],[1.0,\"#f0f921\"]]}],\"surface\":[{\"type\":\"surface\",\"colorbar\":{\"outlinewidth\":0,\"ticks\":\"\"},\"colorscale\":[[0.0,\"#0d0887\"],[0.1111111111111111,\"#46039f\"],[0.2222222222222222,\"#7201a8\"],[0.3333333333333333,\"#9c179e\"],[0.4444444444444444,\"#bd3786\"],[0.5555555555555556,\"#d8576b\"],[0.6666666666666666,\"#ed7953\"],[0.7777777777777778,\"#fb9f3a\"],[0.8888888888888888,\"#fdca26\"],[1.0,\"#f0f921\"]]}],\"mesh3d\":[{\"type\":\"mesh3d\",\"colorbar\":{\"outlinewidth\":0,\"ticks\":\"\"}}],\"scatter\":[{\"fillpattern\":{\"fillmode\":\"overlay\",\"size\":10,\"solidity\":0.2},\"type\":\"scatter\"}],\"parcoords\":[{\"type\":\"parcoords\",\"line\":{\"colorbar\":{\"outlinewidth\":0,\"ticks\":\"\"}}}],\"scatterpolargl\":[{\"type\":\"scatterpolargl\",\"marker\":{\"colorbar\":{\"outlinewidth\":0,\"ticks\":\"\"}}}],\"bar\":[{\"error_x\":{\"color\":\"#2a3f5f\"},\"error_y\":{\"color\":\"#2a3f5f\"},\"marker\":{\"line\":{\"color\":\"#E5ECF6\",\"width\":0.5},\"pattern\":{\"fillmode\":\"overlay\",\"size\":10,\"solidity\":0.2}},\"type\":\"bar\"}],\"scattergeo\":[{\"type\":\"scattergeo\",\"marker\":{\"colorbar\":{\"outlinewidth\":0,\"ticks\":\"\"}}}],\"scatterpolar\":[{\"type\":\"scatterpolar\",\"marker\":{\"colorbar\":{\"outlinewidth\":0,\"ticks\":\"\"}}}],\"histogram\":[{\"marker\":{\"pattern\":{\"fillmode\":\"overlay\",\"size\":10,\"solidity\":0.2}},\"type\":\"histogram\"}],\"scattergl\":[{\"type\":\"scattergl\",\"marker\":{\"colorbar\":{\"outlinewidth\":0,\"ticks\":\"\"}}}],\"scatter3d\":[{\"type\":\"scatter3d\",\"line\":{\"colorbar\":{\"outlinewidth\":0,\"ticks\":\"\"}},\"marker\":{\"colorbar\":{\"outlinewidth\":0,\"ticks\":\"\"}}}],\"scattermapbox\":[{\"type\":\"scattermapbox\",\"marker\":{\"colorbar\":{\"outlinewidth\":0,\"ticks\":\"\"}}}],\"scatterternary\":[{\"type\":\"scatterternary\",\"marker\":{\"colorbar\":{\"outlinewidth\":0,\"ticks\":\"\"}}}],\"scattercarpet\":[{\"type\":\"scattercarpet\",\"marker\":{\"colorbar\":{\"outlinewidth\":0,\"ticks\":\"\"}}}],\"carpet\":[{\"aaxis\":{\"endlinecolor\":\"#2a3f5f\",\"gridcolor\":\"white\",\"linecolor\":\"white\",\"minorgridcolor\":\"white\",\"startlinecolor\":\"#2a3f5f\"},\"baxis\":{\"endlinecolor\":\"#2a3f5f\",\"gridcolor\":\"white\",\"linecolor\":\"white\",\"minorgridcolor\":\"white\",\"startlinecolor\":\"#2a3f5f\"},\"type\":\"carpet\"}],\"table\":[{\"cells\":{\"fill\":{\"color\":\"#EBF0F8\"},\"line\":{\"color\":\"white\"}},\"header\":{\"fill\":{\"color\":\"#C8D4E3\"},\"line\":{\"color\":\"white\"}},\"type\":\"table\"}],\"barpolar\":[{\"marker\":{\"line\":{\"color\":\"#E5ECF6\",\"width\":0.5},\"pattern\":{\"fillmode\":\"overlay\",\"size\":10,\"solidity\":0.2}},\"type\":\"barpolar\"}],\"pie\":[{\"automargin\":true,\"type\":\"pie\"}]},\"layout\":{\"autotypenumbers\":\"strict\",\"colorway\":[\"#636efa\",\"#EF553B\",\"#00cc96\",\"#ab63fa\",\"#FFA15A\",\"#19d3f3\",\"#FF6692\",\"#B6E880\",\"#FF97FF\",\"#FECB52\"],\"font\":{\"color\":\"#2a3f5f\"},\"hovermode\":\"closest\",\"hoverlabel\":{\"align\":\"left\"},\"paper_bgcolor\":\"white\",\"plot_bgcolor\":\"#E5ECF6\",\"polar\":{\"bgcolor\":\"#E5ECF6\",\"angularaxis\":{\"gridcolor\":\"white\",\"linecolor\":\"white\",\"ticks\":\"\"},\"radialaxis\":{\"gridcolor\":\"white\",\"linecolor\":\"white\",\"ticks\":\"\"}},\"ternary\":{\"bgcolor\":\"#E5ECF6\",\"aaxis\":{\"gridcolor\":\"white\",\"linecolor\":\"white\",\"ticks\":\"\"},\"baxis\":{\"gridcolor\":\"white\",\"linecolor\":\"white\",\"ticks\":\"\"},\"caxis\":{\"gridcolor\":\"white\",\"linecolor\":\"white\",\"ticks\":\"\"}},\"coloraxis\":{\"colorbar\":{\"outlinewidth\":0,\"ticks\":\"\"}},\"colorscale\":{\"sequential\":[[0.0,\"#0d0887\"],[0.1111111111111111,\"#46039f\"],[0.2222222222222222,\"#7201a8\"],[0.3333333333333333,\"#9c179e\"],[0.4444444444444444,\"#bd3786\"],[0.5555555555555556,\"#d8576b\"],[0.6666666666666666,\"#ed7953\"],[0.7777777777777778,\"#fb9f3a\"],[0.8888888888888888,\"#fdca26\"],[1.0,\"#f0f921\"]],\"sequentialminus\":[[0.0,\"#0d0887\"],[0.1111111111111111,\"#46039f\"],[0.2222222222222222,\"#7201a8\"],[0.3333333333333333,\"#9c179e\"],[0.4444444444444444,\"#bd3786\"],[0.5555555555555556,\"#d8576b\"],[0.6666666666666666,\"#ed7953\"],[0.7777777777777778,\"#fb9f3a\"],[0.8888888888888888,\"#fdca26\"],[1.0,\"#f0f921\"]],\"diverging\":[[0,\"#8e0152\"],[0.1,\"#c51b7d\"],[0.2,\"#de77ae\"],[0.3,\"#f1b6da\"],[0.4,\"#fde0ef\"],[0.5,\"#f7f7f7\"],[0.6,\"#e6f5d0\"],[0.7,\"#b8e186\"],[0.8,\"#7fbc41\"],[0.9,\"#4d9221\"],[1,\"#276419\"]]},\"xaxis\":{\"gridcolor\":\"white\",\"linecolor\":\"white\",\"ticks\":\"\",\"title\":{\"standoff\":15},\"zerolinecolor\":\"white\",\"automargin\":true,\"zerolinewidth\":2},\"yaxis\":{\"gridcolor\":\"white\",\"linecolor\":\"white\",\"ticks\":\"\",\"title\":{\"standoff\":15},\"zerolinecolor\":\"white\",\"automargin\":true,\"zerolinewidth\":2},\"scene\":{\"xaxis\":{\"backgroundcolor\":\"#E5ECF6\",\"gridcolor\":\"white\",\"linecolor\":\"white\",\"showbackground\":true,\"ticks\":\"\",\"zerolinecolor\":\"white\",\"gridwidth\":2},\"yaxis\":{\"backgroundcolor\":\"#E5ECF6\",\"gridcolor\":\"white\",\"linecolor\":\"white\",\"showbackground\":true,\"ticks\":\"\",\"zerolinecolor\":\"white\",\"gridwidth\":2},\"zaxis\":{\"backgroundcolor\":\"#E5ECF6\",\"gridcolor\":\"white\",\"linecolor\":\"white\",\"showbackground\":true,\"ticks\":\"\",\"zerolinecolor\":\"white\",\"gridwidth\":2}},\"shapedefaults\":{\"line\":{\"color\":\"#2a3f5f\"}},\"annotationdefaults\":{\"arrowcolor\":\"#2a3f5f\",\"arrowhead\":0,\"arrowwidth\":1},\"geo\":{\"bgcolor\":\"white\",\"landcolor\":\"#E5ECF6\",\"subunitcolor\":\"white\",\"showland\":true,\"showlakes\":true,\"lakecolor\":\"white\"},\"title\":{\"x\":0.05},\"mapbox\":{\"style\":\"light\"}}},\"xaxis\":{\"anchor\":\"y\",\"domain\":[0.0,1.0],\"title\":{\"text\":\"Avg Temperature [K]\"}},\"yaxis\":{\"anchor\":\"x\",\"domain\":[0.0,1.0],\"title\":{\"text\":\"Avg Osc Amplitude [V/cm]\"}},\"legend\":{\"title\":{\"text\":\"Name\"},\"tracegroupgap\":0},\"title\":{\"text\":\"Ampiezza delle oscillazioni in funzione della temperatura\"},\"height\":800,\"width\":952},                        {\"responsive\": true}                    ).then(function(){\n",
       "                            \n",
       "var gd = document.getElementById('d3dff4c9-40de-4996-9d1d-9a9d022d5c11');\n",
       "var x = new MutationObserver(function (mutations, observer) {{\n",
       "        var display = window.getComputedStyle(gd).display;\n",
       "        if (!display || display === 'none') {{\n",
       "            console.log([gd, 'removed!']);\n",
       "            Plotly.purge(gd);\n",
       "            observer.disconnect();\n",
       "        }}\n",
       "}});\n",
       "\n",
       "// Listen for the removal of the full notebook cells\n",
       "var notebookContainer = gd.closest('#notebook-container');\n",
       "if (notebookContainer) {{\n",
       "    x.observe(notebookContainer, {childList: true});\n",
       "}}\n",
       "\n",
       "// Listen for the clearing of the current output cell\n",
       "var outputEl = gd.closest('.output');\n",
       "if (outputEl) {{\n",
       "    x.observe(outputEl, {childList: true});\n",
       "}}\n",
       "\n",
       "                        })                };                });            </script>        </div>"
      ]
     },
     "metadata": {},
     "output_type": "display_data"
    },
    {
     "data": {
      "application/vnd.plotly.v1+json": {
       "config": {
        "plotlyServerURL": "https://plot.ly"
       },
       "data": [
        {
         "error_x": {
          "array": [
           0.02031383795882391,
           3.9715480468009616,
           0.02787932829306783,
           0.04526925865926046,
           0.001281540377178203,
           0.04379319118487501,
           0.03426341657771559,
           0.029434121156441506
          ],
          "arrayminus": [
           0.03303264905181891,
           5.396838782448924,
           0.028452569680354145,
           0.038457963550584395,
           0.0019357169044837974,
           0.04613304511286742,
           0.03588520045158816,
           0.029441646864967197
          ]
         },
         "error_y": {
          "array": [
           222.9259259259261,
           113.68965517241395,
           143.91666666666697,
           1108.5714285714312,
           58.454545454545496,
           191.69999999999982,
           138.6875,
           82.42307692307713
          ],
          "arrayminus": [
           108.0740740740739,
           66.31034482758605,
           77.08333333333303,
           919.4285714285688,
           55.545454545454504,
           85.30000000000018,
           75.3125,
           45.57692307692287
          ]
         },
         "hovertemplate": "<b>%{hovertext}</b><br><br>Name=CA8_01_A<br>Avg Temperature [K]=%{x}<br>Avg Osc Period [ms]=%{y}<extra></extra>",
         "hovertext": [
          "CA8_01_A_square_waveform_value_3.5e-08A-20220422142852",
          "CA8_01_A_at_fixed_current_5e-7A-20220422113350",
          "CA8_01_A_at_fixed_current_1.42e-6A-20220421121309",
          "CA8_01_A_square_waveform_value_3e-08A-20220422141850",
          "CA8_01_A_at_fixed_current_3e-8A-20220422093131",
          "CA8_01_A_at_fixed_current_1.38e-6A-20220421120616",
          "CA8_01_A_at_fixed_current_1.40e-6A-20220421120923",
          "CA8_01_A_at_fixed_current_1.34e-6A-20220421120127"
         ],
         "legendgroup": "CA8_01_A",
         "marker": {
          "color": "#636efa",
          "symbol": "circle"
         },
         "mode": "markers",
         "name": "CA8_01_A",
         "orientation": "v",
         "showlegend": true,
         "type": "scatter",
         "x": [
          105.85239563370553,
          121.56470097801169,
          132.19992560956257,
          106.07287071781346,
          103.53033991530704,
          131.98404677135298,
          132.0995329773529,
          131.7580164938316
         ],
         "xaxis": "x",
         "y": [
          4108.074074074074,
          2214.310344827586,
          2642.083333333333,
          15869.428571428569,
          4043.5454545454545,
          2645.3,
          2643.3125,
          2617.576923076923
         ],
         "yaxis": "y"
        },
        {
         "error_x": {
          "array": [
           0.0018286333004766675,
           0.007884817371717645,
           0.0023971020081603456,
           0.0018192946134547583
          ],
          "arrayminus": [
           0.0018098780339386167,
           0.007264307867544062,
           0.0016961642007373712,
           0.0013361550961832336
          ]
         },
         "error_y": {
          "array": [
           14.571428571427987,
           62.54545454545496,
           25.42857142857156,
           96.25
          ],
          "arrayminus": [
           16.428571428572013,
           42.45454545454504,
           14.571428571428442,
           83.75
          ]
         },
         "hovertemplate": "<b>%{hovertext}</b><br><br>Name=CA12X_C5<br>Avg Temperature [K]=%{x}<br>Avg Osc Period [ms]=%{y}<extra></extra>",
         "hovertext": [
          "CA12X_C5_at_fixed_current_3.5e-7A-20220413144545",
          "CA12X_C5_at_fixed_current_4e-7A-20220413143802",
          "CA12X_C5_at_fixed_current_3e-7A-20220413144233",
          "CA12X_C5_at_fixed_current_4.5e-7A-20220413144649"
         ],
         "legendgroup": "CA12X_C5",
         "marker": {
          "color": "#EF553B",
          "symbol": "circle"
         },
         "mode": "markers",
         "name": "CA12X_C5",
         "orientation": "v",
         "showlegend": true,
         "type": "scatter",
         "x": [
          113.08337975924059,
          113.17203493129978,
          113.11416565867678,
          113.07125061490896
         ],
         "xaxis": "x",
         "y": [
          2597.428571428572,
          2605.454545454545,
          2588.5714285714284,
          2488.75
         ],
         "yaxis": "y"
        },
        {
         "error_x": {
          "array": [
           0.004438223864553947,
           1.6283990444688925,
           0.05804580077774801,
           0.008820889434900892
          ],
          "arrayminus": [
           0.00485369523229906,
           0.3895736802155909,
           0.061648960209751635,
           0.008525126098774649
          ]
         },
         "error_y": {
          "array": [
           177.4375,
           110.4482758620693,
           73.36363636363649,
           19.25
          ],
          "arrayminus": [
           139.5625,
           40.551724137930705,
           34.63636363636351,
           19.75
          ]
         },
         "hovertemplate": "<b>%{hovertext}</b><br><br>Name=CA12X2_C1<br>Avg Temperature [K]=%{x}<br>Avg Osc Period [ms]=%{y}<extra></extra>",
         "hovertext": [
          "CA12X2_C1_current_square_waveform_value_1.6e-07A-20220428171247",
          "CA12X2_C1_at_fixed_current_1.6e-7A-20220428174333",
          "CA12X2_C1_current_square_waveform_value_3e-07A-20220428163159",
          "CA12X2_C1_at_fixed_current_6e-7A-20220428175416"
         ],
         "legendgroup": "CA12X2_C1",
         "marker": {
          "color": "#00cc96",
          "symbol": "circle"
         },
         "mode": "markers",
         "name": "CA12X2_C1",
         "orientation": "v",
         "showlegend": true,
         "type": "scatter",
         "x": [
          87.67652651507349,
          88.13331205816105,
          87.69734180557712,
          99.45432789000004
         ],
         "xaxis": "x",
         "y": [
          2112.5625,
          2202.5517241379307,
          2188.6363636363635,
          2182.75
         ],
         "yaxis": "y"
        }
       ],
       "layout": {
        "height": 800,
        "legend": {
         "title": {
          "text": "Name"
         },
         "tracegroupgap": 0
        },
        "template": {
         "data": {
          "bar": [
           {
            "error_x": {
             "color": "#2a3f5f"
            },
            "error_y": {
             "color": "#2a3f5f"
            },
            "marker": {
             "line": {
              "color": "#E5ECF6",
              "width": 0.5
             },
             "pattern": {
              "fillmode": "overlay",
              "size": 10,
              "solidity": 0.2
             }
            },
            "type": "bar"
           }
          ],
          "barpolar": [
           {
            "marker": {
             "line": {
              "color": "#E5ECF6",
              "width": 0.5
             },
             "pattern": {
              "fillmode": "overlay",
              "size": 10,
              "solidity": 0.2
             }
            },
            "type": "barpolar"
           }
          ],
          "carpet": [
           {
            "aaxis": {
             "endlinecolor": "#2a3f5f",
             "gridcolor": "white",
             "linecolor": "white",
             "minorgridcolor": "white",
             "startlinecolor": "#2a3f5f"
            },
            "baxis": {
             "endlinecolor": "#2a3f5f",
             "gridcolor": "white",
             "linecolor": "white",
             "minorgridcolor": "white",
             "startlinecolor": "#2a3f5f"
            },
            "type": "carpet"
           }
          ],
          "choropleth": [
           {
            "colorbar": {
             "outlinewidth": 0,
             "ticks": ""
            },
            "type": "choropleth"
           }
          ],
          "contour": [
           {
            "colorbar": {
             "outlinewidth": 0,
             "ticks": ""
            },
            "colorscale": [
             [
              0,
              "#0d0887"
             ],
             [
              0.1111111111111111,
              "#46039f"
             ],
             [
              0.2222222222222222,
              "#7201a8"
             ],
             [
              0.3333333333333333,
              "#9c179e"
             ],
             [
              0.4444444444444444,
              "#bd3786"
             ],
             [
              0.5555555555555556,
              "#d8576b"
             ],
             [
              0.6666666666666666,
              "#ed7953"
             ],
             [
              0.7777777777777778,
              "#fb9f3a"
             ],
             [
              0.8888888888888888,
              "#fdca26"
             ],
             [
              1,
              "#f0f921"
             ]
            ],
            "type": "contour"
           }
          ],
          "contourcarpet": [
           {
            "colorbar": {
             "outlinewidth": 0,
             "ticks": ""
            },
            "type": "contourcarpet"
           }
          ],
          "heatmap": [
           {
            "colorbar": {
             "outlinewidth": 0,
             "ticks": ""
            },
            "colorscale": [
             [
              0,
              "#0d0887"
             ],
             [
              0.1111111111111111,
              "#46039f"
             ],
             [
              0.2222222222222222,
              "#7201a8"
             ],
             [
              0.3333333333333333,
              "#9c179e"
             ],
             [
              0.4444444444444444,
              "#bd3786"
             ],
             [
              0.5555555555555556,
              "#d8576b"
             ],
             [
              0.6666666666666666,
              "#ed7953"
             ],
             [
              0.7777777777777778,
              "#fb9f3a"
             ],
             [
              0.8888888888888888,
              "#fdca26"
             ],
             [
              1,
              "#f0f921"
             ]
            ],
            "type": "heatmap"
           }
          ],
          "heatmapgl": [
           {
            "colorbar": {
             "outlinewidth": 0,
             "ticks": ""
            },
            "colorscale": [
             [
              0,
              "#0d0887"
             ],
             [
              0.1111111111111111,
              "#46039f"
             ],
             [
              0.2222222222222222,
              "#7201a8"
             ],
             [
              0.3333333333333333,
              "#9c179e"
             ],
             [
              0.4444444444444444,
              "#bd3786"
             ],
             [
              0.5555555555555556,
              "#d8576b"
             ],
             [
              0.6666666666666666,
              "#ed7953"
             ],
             [
              0.7777777777777778,
              "#fb9f3a"
             ],
             [
              0.8888888888888888,
              "#fdca26"
             ],
             [
              1,
              "#f0f921"
             ]
            ],
            "type": "heatmapgl"
           }
          ],
          "histogram": [
           {
            "marker": {
             "pattern": {
              "fillmode": "overlay",
              "size": 10,
              "solidity": 0.2
             }
            },
            "type": "histogram"
           }
          ],
          "histogram2d": [
           {
            "colorbar": {
             "outlinewidth": 0,
             "ticks": ""
            },
            "colorscale": [
             [
              0,
              "#0d0887"
             ],
             [
              0.1111111111111111,
              "#46039f"
             ],
             [
              0.2222222222222222,
              "#7201a8"
             ],
             [
              0.3333333333333333,
              "#9c179e"
             ],
             [
              0.4444444444444444,
              "#bd3786"
             ],
             [
              0.5555555555555556,
              "#d8576b"
             ],
             [
              0.6666666666666666,
              "#ed7953"
             ],
             [
              0.7777777777777778,
              "#fb9f3a"
             ],
             [
              0.8888888888888888,
              "#fdca26"
             ],
             [
              1,
              "#f0f921"
             ]
            ],
            "type": "histogram2d"
           }
          ],
          "histogram2dcontour": [
           {
            "colorbar": {
             "outlinewidth": 0,
             "ticks": ""
            },
            "colorscale": [
             [
              0,
              "#0d0887"
             ],
             [
              0.1111111111111111,
              "#46039f"
             ],
             [
              0.2222222222222222,
              "#7201a8"
             ],
             [
              0.3333333333333333,
              "#9c179e"
             ],
             [
              0.4444444444444444,
              "#bd3786"
             ],
             [
              0.5555555555555556,
              "#d8576b"
             ],
             [
              0.6666666666666666,
              "#ed7953"
             ],
             [
              0.7777777777777778,
              "#fb9f3a"
             ],
             [
              0.8888888888888888,
              "#fdca26"
             ],
             [
              1,
              "#f0f921"
             ]
            ],
            "type": "histogram2dcontour"
           }
          ],
          "mesh3d": [
           {
            "colorbar": {
             "outlinewidth": 0,
             "ticks": ""
            },
            "type": "mesh3d"
           }
          ],
          "parcoords": [
           {
            "line": {
             "colorbar": {
              "outlinewidth": 0,
              "ticks": ""
             }
            },
            "type": "parcoords"
           }
          ],
          "pie": [
           {
            "automargin": true,
            "type": "pie"
           }
          ],
          "scatter": [
           {
            "fillpattern": {
             "fillmode": "overlay",
             "size": 10,
             "solidity": 0.2
            },
            "type": "scatter"
           }
          ],
          "scatter3d": [
           {
            "line": {
             "colorbar": {
              "outlinewidth": 0,
              "ticks": ""
             }
            },
            "marker": {
             "colorbar": {
              "outlinewidth": 0,
              "ticks": ""
             }
            },
            "type": "scatter3d"
           }
          ],
          "scattercarpet": [
           {
            "marker": {
             "colorbar": {
              "outlinewidth": 0,
              "ticks": ""
             }
            },
            "type": "scattercarpet"
           }
          ],
          "scattergeo": [
           {
            "marker": {
             "colorbar": {
              "outlinewidth": 0,
              "ticks": ""
             }
            },
            "type": "scattergeo"
           }
          ],
          "scattergl": [
           {
            "marker": {
             "colorbar": {
              "outlinewidth": 0,
              "ticks": ""
             }
            },
            "type": "scattergl"
           }
          ],
          "scattermapbox": [
           {
            "marker": {
             "colorbar": {
              "outlinewidth": 0,
              "ticks": ""
             }
            },
            "type": "scattermapbox"
           }
          ],
          "scatterpolar": [
           {
            "marker": {
             "colorbar": {
              "outlinewidth": 0,
              "ticks": ""
             }
            },
            "type": "scatterpolar"
           }
          ],
          "scatterpolargl": [
           {
            "marker": {
             "colorbar": {
              "outlinewidth": 0,
              "ticks": ""
             }
            },
            "type": "scatterpolargl"
           }
          ],
          "scatterternary": [
           {
            "marker": {
             "colorbar": {
              "outlinewidth": 0,
              "ticks": ""
             }
            },
            "type": "scatterternary"
           }
          ],
          "surface": [
           {
            "colorbar": {
             "outlinewidth": 0,
             "ticks": ""
            },
            "colorscale": [
             [
              0,
              "#0d0887"
             ],
             [
              0.1111111111111111,
              "#46039f"
             ],
             [
              0.2222222222222222,
              "#7201a8"
             ],
             [
              0.3333333333333333,
              "#9c179e"
             ],
             [
              0.4444444444444444,
              "#bd3786"
             ],
             [
              0.5555555555555556,
              "#d8576b"
             ],
             [
              0.6666666666666666,
              "#ed7953"
             ],
             [
              0.7777777777777778,
              "#fb9f3a"
             ],
             [
              0.8888888888888888,
              "#fdca26"
             ],
             [
              1,
              "#f0f921"
             ]
            ],
            "type": "surface"
           }
          ],
          "table": [
           {
            "cells": {
             "fill": {
              "color": "#EBF0F8"
             },
             "line": {
              "color": "white"
             }
            },
            "header": {
             "fill": {
              "color": "#C8D4E3"
             },
             "line": {
              "color": "white"
             }
            },
            "type": "table"
           }
          ]
         },
         "layout": {
          "annotationdefaults": {
           "arrowcolor": "#2a3f5f",
           "arrowhead": 0,
           "arrowwidth": 1
          },
          "autotypenumbers": "strict",
          "coloraxis": {
           "colorbar": {
            "outlinewidth": 0,
            "ticks": ""
           }
          },
          "colorscale": {
           "diverging": [
            [
             0,
             "#8e0152"
            ],
            [
             0.1,
             "#c51b7d"
            ],
            [
             0.2,
             "#de77ae"
            ],
            [
             0.3,
             "#f1b6da"
            ],
            [
             0.4,
             "#fde0ef"
            ],
            [
             0.5,
             "#f7f7f7"
            ],
            [
             0.6,
             "#e6f5d0"
            ],
            [
             0.7,
             "#b8e186"
            ],
            [
             0.8,
             "#7fbc41"
            ],
            [
             0.9,
             "#4d9221"
            ],
            [
             1,
             "#276419"
            ]
           ],
           "sequential": [
            [
             0,
             "#0d0887"
            ],
            [
             0.1111111111111111,
             "#46039f"
            ],
            [
             0.2222222222222222,
             "#7201a8"
            ],
            [
             0.3333333333333333,
             "#9c179e"
            ],
            [
             0.4444444444444444,
             "#bd3786"
            ],
            [
             0.5555555555555556,
             "#d8576b"
            ],
            [
             0.6666666666666666,
             "#ed7953"
            ],
            [
             0.7777777777777778,
             "#fb9f3a"
            ],
            [
             0.8888888888888888,
             "#fdca26"
            ],
            [
             1,
             "#f0f921"
            ]
           ],
           "sequentialminus": [
            [
             0,
             "#0d0887"
            ],
            [
             0.1111111111111111,
             "#46039f"
            ],
            [
             0.2222222222222222,
             "#7201a8"
            ],
            [
             0.3333333333333333,
             "#9c179e"
            ],
            [
             0.4444444444444444,
             "#bd3786"
            ],
            [
             0.5555555555555556,
             "#d8576b"
            ],
            [
             0.6666666666666666,
             "#ed7953"
            ],
            [
             0.7777777777777778,
             "#fb9f3a"
            ],
            [
             0.8888888888888888,
             "#fdca26"
            ],
            [
             1,
             "#f0f921"
            ]
           ]
          },
          "colorway": [
           "#636efa",
           "#EF553B",
           "#00cc96",
           "#ab63fa",
           "#FFA15A",
           "#19d3f3",
           "#FF6692",
           "#B6E880",
           "#FF97FF",
           "#FECB52"
          ],
          "font": {
           "color": "#2a3f5f"
          },
          "geo": {
           "bgcolor": "white",
           "lakecolor": "white",
           "landcolor": "#E5ECF6",
           "showlakes": true,
           "showland": true,
           "subunitcolor": "white"
          },
          "hoverlabel": {
           "align": "left"
          },
          "hovermode": "closest",
          "mapbox": {
           "style": "light"
          },
          "paper_bgcolor": "white",
          "plot_bgcolor": "#E5ECF6",
          "polar": {
           "angularaxis": {
            "gridcolor": "white",
            "linecolor": "white",
            "ticks": ""
           },
           "bgcolor": "#E5ECF6",
           "radialaxis": {
            "gridcolor": "white",
            "linecolor": "white",
            "ticks": ""
           }
          },
          "scene": {
           "xaxis": {
            "backgroundcolor": "#E5ECF6",
            "gridcolor": "white",
            "gridwidth": 2,
            "linecolor": "white",
            "showbackground": true,
            "ticks": "",
            "zerolinecolor": "white"
           },
           "yaxis": {
            "backgroundcolor": "#E5ECF6",
            "gridcolor": "white",
            "gridwidth": 2,
            "linecolor": "white",
            "showbackground": true,
            "ticks": "",
            "zerolinecolor": "white"
           },
           "zaxis": {
            "backgroundcolor": "#E5ECF6",
            "gridcolor": "white",
            "gridwidth": 2,
            "linecolor": "white",
            "showbackground": true,
            "ticks": "",
            "zerolinecolor": "white"
           }
          },
          "shapedefaults": {
           "line": {
            "color": "#2a3f5f"
           }
          },
          "ternary": {
           "aaxis": {
            "gridcolor": "white",
            "linecolor": "white",
            "ticks": ""
           },
           "baxis": {
            "gridcolor": "white",
            "linecolor": "white",
            "ticks": ""
           },
           "bgcolor": "#E5ECF6",
           "caxis": {
            "gridcolor": "white",
            "linecolor": "white",
            "ticks": ""
           }
          },
          "title": {
           "x": 0.05
          },
          "xaxis": {
           "automargin": true,
           "gridcolor": "white",
           "linecolor": "white",
           "ticks": "",
           "title": {
            "standoff": 15
           },
           "zerolinecolor": "white",
           "zerolinewidth": 2
          },
          "yaxis": {
           "automargin": true,
           "gridcolor": "white",
           "linecolor": "white",
           "ticks": "",
           "title": {
            "standoff": 15
           },
           "zerolinecolor": "white",
           "zerolinewidth": 2
          }
         }
        },
        "title": {
         "text": "Periodo delle oscillazioni in funzione della temperatura"
        },
        "width": 952,
        "xaxis": {
         "anchor": "y",
         "domain": [
          0,
          1
         ],
         "title": {
          "text": "Avg Temperature [K]"
         }
        },
        "yaxis": {
         "anchor": "x",
         "domain": [
          0,
          1
         ],
         "title": {
          "text": "Avg Osc Period [ms]"
         }
        }
       }
      },
      "text/html": [
       "<div>                            <div id=\"f5593ab2-e3fc-4ee7-bd4f-0bbc18cccdb4\" class=\"plotly-graph-div\" style=\"height:800px; width:952px;\"></div>            <script type=\"text/javascript\">                require([\"plotly\"], function(Plotly) {                    window.PLOTLYENV=window.PLOTLYENV || {};                                    if (document.getElementById(\"f5593ab2-e3fc-4ee7-bd4f-0bbc18cccdb4\")) {                    Plotly.newPlot(                        \"f5593ab2-e3fc-4ee7-bd4f-0bbc18cccdb4\",                        [{\"error_x\":{\"array\":[0.02031383795882391,3.9715480468009616,0.02787932829306783,0.04526925865926046,0.001281540377178203,0.04379319118487501,0.03426341657771559,0.029434121156441506],\"arrayminus\":[0.03303264905181891,5.396838782448924,0.028452569680354145,0.038457963550584395,0.0019357169044837974,0.04613304511286742,0.03588520045158816,0.029441646864967197]},\"error_y\":{\"array\":[222.9259259259261,113.68965517241395,143.91666666666697,1108.5714285714312,58.454545454545496,191.69999999999982,138.6875,82.42307692307713],\"arrayminus\":[108.0740740740739,66.31034482758605,77.08333333333303,919.4285714285688,55.545454545454504,85.30000000000018,75.3125,45.57692307692287]},\"hovertemplate\":\"<b>%{hovertext}</b><br><br>Name=CA8_01_A<br>Avg Temperature [K]=%{x}<br>Avg Osc Period [ms]=%{y}<extra></extra>\",\"hovertext\":[\"CA8_01_A_square_waveform_value_3.5e-08A-20220422142852\",\"CA8_01_A_at_fixed_current_5e-7A-20220422113350\",\"CA8_01_A_at_fixed_current_1.42e-6A-20220421121309\",\"CA8_01_A_square_waveform_value_3e-08A-20220422141850\",\"CA8_01_A_at_fixed_current_3e-8A-20220422093131\",\"CA8_01_A_at_fixed_current_1.38e-6A-20220421120616\",\"CA8_01_A_at_fixed_current_1.40e-6A-20220421120923\",\"CA8_01_A_at_fixed_current_1.34e-6A-20220421120127\"],\"legendgroup\":\"CA8_01_A\",\"marker\":{\"color\":\"#636efa\",\"symbol\":\"circle\"},\"mode\":\"markers\",\"name\":\"CA8_01_A\",\"orientation\":\"v\",\"showlegend\":true,\"x\":[105.85239563370553,121.56470097801169,132.19992560956257,106.07287071781346,103.53033991530704,131.98404677135298,132.0995329773529,131.7580164938316],\"xaxis\":\"x\",\"y\":[4108.074074074074,2214.310344827586,2642.083333333333,15869.428571428569,4043.5454545454545,2645.3,2643.3125,2617.576923076923],\"yaxis\":\"y\",\"type\":\"scatter\"},{\"error_x\":{\"array\":[0.0018286333004766675,0.007884817371717645,0.0023971020081603456,0.0018192946134547583],\"arrayminus\":[0.0018098780339386167,0.007264307867544062,0.0016961642007373712,0.0013361550961832336]},\"error_y\":{\"array\":[14.571428571427987,62.54545454545496,25.42857142857156,96.25],\"arrayminus\":[16.428571428572013,42.45454545454504,14.571428571428442,83.75]},\"hovertemplate\":\"<b>%{hovertext}</b><br><br>Name=CA12X_C5<br>Avg Temperature [K]=%{x}<br>Avg Osc Period [ms]=%{y}<extra></extra>\",\"hovertext\":[\"CA12X_C5_at_fixed_current_3.5e-7A-20220413144545\",\"CA12X_C5_at_fixed_current_4e-7A-20220413143802\",\"CA12X_C5_at_fixed_current_3e-7A-20220413144233\",\"CA12X_C5_at_fixed_current_4.5e-7A-20220413144649\"],\"legendgroup\":\"CA12X_C5\",\"marker\":{\"color\":\"#EF553B\",\"symbol\":\"circle\"},\"mode\":\"markers\",\"name\":\"CA12X_C5\",\"orientation\":\"v\",\"showlegend\":true,\"x\":[113.08337975924059,113.17203493129978,113.11416565867678,113.07125061490896],\"xaxis\":\"x\",\"y\":[2597.428571428572,2605.454545454545,2588.5714285714284,2488.75],\"yaxis\":\"y\",\"type\":\"scatter\"},{\"error_x\":{\"array\":[0.004438223864553947,1.6283990444688925,0.05804580077774801,0.008820889434900892],\"arrayminus\":[0.00485369523229906,0.3895736802155909,0.061648960209751635,0.008525126098774649]},\"error_y\":{\"array\":[177.4375,110.4482758620693,73.36363636363649,19.25],\"arrayminus\":[139.5625,40.551724137930705,34.63636363636351,19.75]},\"hovertemplate\":\"<b>%{hovertext}</b><br><br>Name=CA12X2_C1<br>Avg Temperature [K]=%{x}<br>Avg Osc Period [ms]=%{y}<extra></extra>\",\"hovertext\":[\"CA12X2_C1_current_square_waveform_value_1.6e-07A-20220428171247\",\"CA12X2_C1_at_fixed_current_1.6e-7A-20220428174333\",\"CA12X2_C1_current_square_waveform_value_3e-07A-20220428163159\",\"CA12X2_C1_at_fixed_current_6e-7A-20220428175416\"],\"legendgroup\":\"CA12X2_C1\",\"marker\":{\"color\":\"#00cc96\",\"symbol\":\"circle\"},\"mode\":\"markers\",\"name\":\"CA12X2_C1\",\"orientation\":\"v\",\"showlegend\":true,\"x\":[87.67652651507349,88.13331205816105,87.69734180557712,99.45432789000004],\"xaxis\":\"x\",\"y\":[2112.5625,2202.5517241379307,2188.6363636363635,2182.75],\"yaxis\":\"y\",\"type\":\"scatter\"}],                        {\"template\":{\"data\":{\"histogram2dcontour\":[{\"type\":\"histogram2dcontour\",\"colorbar\":{\"outlinewidth\":0,\"ticks\":\"\"},\"colorscale\":[[0.0,\"#0d0887\"],[0.1111111111111111,\"#46039f\"],[0.2222222222222222,\"#7201a8\"],[0.3333333333333333,\"#9c179e\"],[0.4444444444444444,\"#bd3786\"],[0.5555555555555556,\"#d8576b\"],[0.6666666666666666,\"#ed7953\"],[0.7777777777777778,\"#fb9f3a\"],[0.8888888888888888,\"#fdca26\"],[1.0,\"#f0f921\"]]}],\"choropleth\":[{\"type\":\"choropleth\",\"colorbar\":{\"outlinewidth\":0,\"ticks\":\"\"}}],\"histogram2d\":[{\"type\":\"histogram2d\",\"colorbar\":{\"outlinewidth\":0,\"ticks\":\"\"},\"colorscale\":[[0.0,\"#0d0887\"],[0.1111111111111111,\"#46039f\"],[0.2222222222222222,\"#7201a8\"],[0.3333333333333333,\"#9c179e\"],[0.4444444444444444,\"#bd3786\"],[0.5555555555555556,\"#d8576b\"],[0.6666666666666666,\"#ed7953\"],[0.7777777777777778,\"#fb9f3a\"],[0.8888888888888888,\"#fdca26\"],[1.0,\"#f0f921\"]]}],\"heatmap\":[{\"type\":\"heatmap\",\"colorbar\":{\"outlinewidth\":0,\"ticks\":\"\"},\"colorscale\":[[0.0,\"#0d0887\"],[0.1111111111111111,\"#46039f\"],[0.2222222222222222,\"#7201a8\"],[0.3333333333333333,\"#9c179e\"],[0.4444444444444444,\"#bd3786\"],[0.5555555555555556,\"#d8576b\"],[0.6666666666666666,\"#ed7953\"],[0.7777777777777778,\"#fb9f3a\"],[0.8888888888888888,\"#fdca26\"],[1.0,\"#f0f921\"]]}],\"heatmapgl\":[{\"type\":\"heatmapgl\",\"colorbar\":{\"outlinewidth\":0,\"ticks\":\"\"},\"colorscale\":[[0.0,\"#0d0887\"],[0.1111111111111111,\"#46039f\"],[0.2222222222222222,\"#7201a8\"],[0.3333333333333333,\"#9c179e\"],[0.4444444444444444,\"#bd3786\"],[0.5555555555555556,\"#d8576b\"],[0.6666666666666666,\"#ed7953\"],[0.7777777777777778,\"#fb9f3a\"],[0.8888888888888888,\"#fdca26\"],[1.0,\"#f0f921\"]]}],\"contourcarpet\":[{\"type\":\"contourcarpet\",\"colorbar\":{\"outlinewidth\":0,\"ticks\":\"\"}}],\"contour\":[{\"type\":\"contour\",\"colorbar\":{\"outlinewidth\":0,\"ticks\":\"\"},\"colorscale\":[[0.0,\"#0d0887\"],[0.1111111111111111,\"#46039f\"],[0.2222222222222222,\"#7201a8\"],[0.3333333333333333,\"#9c179e\"],[0.4444444444444444,\"#bd3786\"],[0.5555555555555556,\"#d8576b\"],[0.6666666666666666,\"#ed7953\"],[0.7777777777777778,\"#fb9f3a\"],[0.8888888888888888,\"#fdca26\"],[1.0,\"#f0f921\"]]}],\"surface\":[{\"type\":\"surface\",\"colorbar\":{\"outlinewidth\":0,\"ticks\":\"\"},\"colorscale\":[[0.0,\"#0d0887\"],[0.1111111111111111,\"#46039f\"],[0.2222222222222222,\"#7201a8\"],[0.3333333333333333,\"#9c179e\"],[0.4444444444444444,\"#bd3786\"],[0.5555555555555556,\"#d8576b\"],[0.6666666666666666,\"#ed7953\"],[0.7777777777777778,\"#fb9f3a\"],[0.8888888888888888,\"#fdca26\"],[1.0,\"#f0f921\"]]}],\"mesh3d\":[{\"type\":\"mesh3d\",\"colorbar\":{\"outlinewidth\":0,\"ticks\":\"\"}}],\"scatter\":[{\"fillpattern\":{\"fillmode\":\"overlay\",\"size\":10,\"solidity\":0.2},\"type\":\"scatter\"}],\"parcoords\":[{\"type\":\"parcoords\",\"line\":{\"colorbar\":{\"outlinewidth\":0,\"ticks\":\"\"}}}],\"scatterpolargl\":[{\"type\":\"scatterpolargl\",\"marker\":{\"colorbar\":{\"outlinewidth\":0,\"ticks\":\"\"}}}],\"bar\":[{\"error_x\":{\"color\":\"#2a3f5f\"},\"error_y\":{\"color\":\"#2a3f5f\"},\"marker\":{\"line\":{\"color\":\"#E5ECF6\",\"width\":0.5},\"pattern\":{\"fillmode\":\"overlay\",\"size\":10,\"solidity\":0.2}},\"type\":\"bar\"}],\"scattergeo\":[{\"type\":\"scattergeo\",\"marker\":{\"colorbar\":{\"outlinewidth\":0,\"ticks\":\"\"}}}],\"scatterpolar\":[{\"type\":\"scatterpolar\",\"marker\":{\"colorbar\":{\"outlinewidth\":0,\"ticks\":\"\"}}}],\"histogram\":[{\"marker\":{\"pattern\":{\"fillmode\":\"overlay\",\"size\":10,\"solidity\":0.2}},\"type\":\"histogram\"}],\"scattergl\":[{\"type\":\"scattergl\",\"marker\":{\"colorbar\":{\"outlinewidth\":0,\"ticks\":\"\"}}}],\"scatter3d\":[{\"type\":\"scatter3d\",\"line\":{\"colorbar\":{\"outlinewidth\":0,\"ticks\":\"\"}},\"marker\":{\"colorbar\":{\"outlinewidth\":0,\"ticks\":\"\"}}}],\"scattermapbox\":[{\"type\":\"scattermapbox\",\"marker\":{\"colorbar\":{\"outlinewidth\":0,\"ticks\":\"\"}}}],\"scatterternary\":[{\"type\":\"scatterternary\",\"marker\":{\"colorbar\":{\"outlinewidth\":0,\"ticks\":\"\"}}}],\"scattercarpet\":[{\"type\":\"scattercarpet\",\"marker\":{\"colorbar\":{\"outlinewidth\":0,\"ticks\":\"\"}}}],\"carpet\":[{\"aaxis\":{\"endlinecolor\":\"#2a3f5f\",\"gridcolor\":\"white\",\"linecolor\":\"white\",\"minorgridcolor\":\"white\",\"startlinecolor\":\"#2a3f5f\"},\"baxis\":{\"endlinecolor\":\"#2a3f5f\",\"gridcolor\":\"white\",\"linecolor\":\"white\",\"minorgridcolor\":\"white\",\"startlinecolor\":\"#2a3f5f\"},\"type\":\"carpet\"}],\"table\":[{\"cells\":{\"fill\":{\"color\":\"#EBF0F8\"},\"line\":{\"color\":\"white\"}},\"header\":{\"fill\":{\"color\":\"#C8D4E3\"},\"line\":{\"color\":\"white\"}},\"type\":\"table\"}],\"barpolar\":[{\"marker\":{\"line\":{\"color\":\"#E5ECF6\",\"width\":0.5},\"pattern\":{\"fillmode\":\"overlay\",\"size\":10,\"solidity\":0.2}},\"type\":\"barpolar\"}],\"pie\":[{\"automargin\":true,\"type\":\"pie\"}]},\"layout\":{\"autotypenumbers\":\"strict\",\"colorway\":[\"#636efa\",\"#EF553B\",\"#00cc96\",\"#ab63fa\",\"#FFA15A\",\"#19d3f3\",\"#FF6692\",\"#B6E880\",\"#FF97FF\",\"#FECB52\"],\"font\":{\"color\":\"#2a3f5f\"},\"hovermode\":\"closest\",\"hoverlabel\":{\"align\":\"left\"},\"paper_bgcolor\":\"white\",\"plot_bgcolor\":\"#E5ECF6\",\"polar\":{\"bgcolor\":\"#E5ECF6\",\"angularaxis\":{\"gridcolor\":\"white\",\"linecolor\":\"white\",\"ticks\":\"\"},\"radialaxis\":{\"gridcolor\":\"white\",\"linecolor\":\"white\",\"ticks\":\"\"}},\"ternary\":{\"bgcolor\":\"#E5ECF6\",\"aaxis\":{\"gridcolor\":\"white\",\"linecolor\":\"white\",\"ticks\":\"\"},\"baxis\":{\"gridcolor\":\"white\",\"linecolor\":\"white\",\"ticks\":\"\"},\"caxis\":{\"gridcolor\":\"white\",\"linecolor\":\"white\",\"ticks\":\"\"}},\"coloraxis\":{\"colorbar\":{\"outlinewidth\":0,\"ticks\":\"\"}},\"colorscale\":{\"sequential\":[[0.0,\"#0d0887\"],[0.1111111111111111,\"#46039f\"],[0.2222222222222222,\"#7201a8\"],[0.3333333333333333,\"#9c179e\"],[0.4444444444444444,\"#bd3786\"],[0.5555555555555556,\"#d8576b\"],[0.6666666666666666,\"#ed7953\"],[0.7777777777777778,\"#fb9f3a\"],[0.8888888888888888,\"#fdca26\"],[1.0,\"#f0f921\"]],\"sequentialminus\":[[0.0,\"#0d0887\"],[0.1111111111111111,\"#46039f\"],[0.2222222222222222,\"#7201a8\"],[0.3333333333333333,\"#9c179e\"],[0.4444444444444444,\"#bd3786\"],[0.5555555555555556,\"#d8576b\"],[0.6666666666666666,\"#ed7953\"],[0.7777777777777778,\"#fb9f3a\"],[0.8888888888888888,\"#fdca26\"],[1.0,\"#f0f921\"]],\"diverging\":[[0,\"#8e0152\"],[0.1,\"#c51b7d\"],[0.2,\"#de77ae\"],[0.3,\"#f1b6da\"],[0.4,\"#fde0ef\"],[0.5,\"#f7f7f7\"],[0.6,\"#e6f5d0\"],[0.7,\"#b8e186\"],[0.8,\"#7fbc41\"],[0.9,\"#4d9221\"],[1,\"#276419\"]]},\"xaxis\":{\"gridcolor\":\"white\",\"linecolor\":\"white\",\"ticks\":\"\",\"title\":{\"standoff\":15},\"zerolinecolor\":\"white\",\"automargin\":true,\"zerolinewidth\":2},\"yaxis\":{\"gridcolor\":\"white\",\"linecolor\":\"white\",\"ticks\":\"\",\"title\":{\"standoff\":15},\"zerolinecolor\":\"white\",\"automargin\":true,\"zerolinewidth\":2},\"scene\":{\"xaxis\":{\"backgroundcolor\":\"#E5ECF6\",\"gridcolor\":\"white\",\"linecolor\":\"white\",\"showbackground\":true,\"ticks\":\"\",\"zerolinecolor\":\"white\",\"gridwidth\":2},\"yaxis\":{\"backgroundcolor\":\"#E5ECF6\",\"gridcolor\":\"white\",\"linecolor\":\"white\",\"showbackground\":true,\"ticks\":\"\",\"zerolinecolor\":\"white\",\"gridwidth\":2},\"zaxis\":{\"backgroundcolor\":\"#E5ECF6\",\"gridcolor\":\"white\",\"linecolor\":\"white\",\"showbackground\":true,\"ticks\":\"\",\"zerolinecolor\":\"white\",\"gridwidth\":2}},\"shapedefaults\":{\"line\":{\"color\":\"#2a3f5f\"}},\"annotationdefaults\":{\"arrowcolor\":\"#2a3f5f\",\"arrowhead\":0,\"arrowwidth\":1},\"geo\":{\"bgcolor\":\"white\",\"landcolor\":\"#E5ECF6\",\"subunitcolor\":\"white\",\"showland\":true,\"showlakes\":true,\"lakecolor\":\"white\"},\"title\":{\"x\":0.05},\"mapbox\":{\"style\":\"light\"}}},\"xaxis\":{\"anchor\":\"y\",\"domain\":[0.0,1.0],\"title\":{\"text\":\"Avg Temperature [K]\"}},\"yaxis\":{\"anchor\":\"x\",\"domain\":[0.0,1.0],\"title\":{\"text\":\"Avg Osc Period [ms]\"}},\"legend\":{\"title\":{\"text\":\"Name\"},\"tracegroupgap\":0},\"title\":{\"text\":\"Periodo delle oscillazioni in funzione della temperatura\"},\"height\":800,\"width\":952},                        {\"responsive\": true}                    ).then(function(){\n",
       "                            \n",
       "var gd = document.getElementById('f5593ab2-e3fc-4ee7-bd4f-0bbc18cccdb4');\n",
       "var x = new MutationObserver(function (mutations, observer) {{\n",
       "        var display = window.getComputedStyle(gd).display;\n",
       "        if (!display || display === 'none') {{\n",
       "            console.log([gd, 'removed!']);\n",
       "            Plotly.purge(gd);\n",
       "            observer.disconnect();\n",
       "        }}\n",
       "}});\n",
       "\n",
       "// Listen for the removal of the full notebook cells\n",
       "var notebookContainer = gd.closest('#notebook-container');\n",
       "if (notebookContainer) {{\n",
       "    x.observe(notebookContainer, {childList: true});\n",
       "}}\n",
       "\n",
       "// Listen for the clearing of the current output cell\n",
       "var outputEl = gd.closest('.output');\n",
       "if (outputEl) {{\n",
       "    x.observe(outputEl, {childList: true});\n",
       "}}\n",
       "\n",
       "                        })                };                });            </script>        </div>"
      ]
     },
     "metadata": {},
     "output_type": "display_data"
    }
   ],
   "source": [
    "# Range dell'ampiezza delle oscillazioni in funzione della temperatura\n",
    "fig = px.scatter(df_fixed, x='Avg Temperature [K]', y='Avg Osc Amplitude [V/cm]', \n",
    "title='Ampiezza delle oscillazioni in funzione della temperatura',\n",
    "color=\"Name\", hover_name=\"Experiment\", log_y=False, error_y='e_a_plus', error_y_minus='e_a_minus', \n",
    "error_x='e_t_plus', error_x_minus='e_t_minus',\n",
    "width=952, height=800)\n",
    "fig.show()\n",
    "\n",
    "# Range del periodo delle oscillazioni in funzione della temperatura\n",
    "fig = px.scatter(df_fixed, x='Avg Temperature [K]', y='Avg Osc Period [ms]', \n",
    "title='Periodo delle oscillazioni in funzione della temperatura',\n",
    "color=\"Name\", hover_name=\"Experiment\", log_y=False, error_y='e_p_plus', error_y_minus='e_p_minus',\n",
    "error_x='e_t_plus', error_x_minus='e_t_minus',\n",
    "width=952, height=800)\n",
    "fig.show()"
   ]
  },
  {
   "cell_type": "markdown",
   "id": "reported-minnesota",
   "metadata": {},
   "source": [
    "   ### Periodo vs Ampiezza"
   ]
  },
  {
   "cell_type": "code",
   "execution_count": 5,
   "id": "behind-remedy",
   "metadata": {},
   "outputs": [
    {
     "data": {
      "application/vnd.plotly.v1+json": {
       "config": {
        "plotlyServerURL": "https://plot.ly"
       },
       "data": [
        {
         "error_x": {
          "array": [
           222.9259259259261,
           113.68965517241395,
           143.91666666666697,
           1108.5714285714312,
           58.454545454545496,
           191.69999999999982,
           138.6875,
           82.42307692307713
          ],
          "arrayminus": [
           108.0740740740739,
           66.31034482758605,
           77.08333333333303,
           919.4285714285688,
           55.545454545454504,
           85.30000000000018,
           75.3125,
           45.57692307692287
          ]
         },
         "error_y": {
          "array": [
           73.48450870195768,
           16.003461395293584,
           2.27908238497605,
           24.027383871226334,
           23.474879495073424,
           2.6213889122841465,
           1.9715231311948855,
           2.5580670397264953
          ],
          "arrayminus": [
           406.02361152039776,
           245.21946513000535,
           2.8779822053880935,
           35.34077071623807,
           205.87976454532554,
           3.051768050506439,
           3.341063012941106,
           2.086110943158701
          ]
         },
         "hovertemplate": "<b>%{hovertext}</b><br><br>Name=CA8_01_A<br>Avg Osc Period [ms]=%{x}<br>Avg Osc Amplitude [V/cm]=%{y}<extra></extra>",
         "hovertext": [
          "CA8_01_A_square_waveform_value_3.5e-08A-20220422142852",
          "CA8_01_A_at_fixed_current_5e-7A-20220422113350",
          "CA8_01_A_at_fixed_current_1.42e-6A-20220421121309",
          "CA8_01_A_square_waveform_value_3e-08A-20220422141850",
          "CA8_01_A_at_fixed_current_3e-8A-20220422093131",
          "CA8_01_A_at_fixed_current_1.38e-6A-20220421120616",
          "CA8_01_A_at_fixed_current_1.40e-6A-20220421120923",
          "CA8_01_A_at_fixed_current_1.34e-6A-20220421120127"
         ],
         "legendgroup": "CA8_01_A",
         "marker": {
          "color": "#636efa",
          "symbol": "circle"
         },
         "mode": "markers",
         "name": "CA8_01_A",
         "orientation": "v",
         "showlegend": true,
         "type": "scatter",
         "x": [
          4108.074074074074,
          2214.310344827586,
          2642.083333333333,
          15869.428571428569,
          4043.5454545454545,
          2645.3,
          2643.3125,
          2617.576923076923
         ],
         "xaxis": "x",
         "y": [
          645.0878582335015,
          411.23395338602234,
          296.78792525925564,
          523.8906476311521,
          696.432225506685,
          299.4359940334905,
          297.7400277408892,
          302.580268874589
         ],
         "yaxis": "y"
        },
        {
         "error_x": {
          "array": [
           14.571428571427987,
           62.54545454545496,
           25.42857142857156,
           96.25
          ],
          "arrayminus": [
           16.428571428572013,
           42.45454545454504,
           14.571428571428442,
           83.75
          ]
         },
         "error_y": {
          "array": [
           1.871899055918675,
           1.7584915305011464,
           2.3597962236747207,
           1.8716759622367931
          ],
          "arrayminus": [
           2.072276761074818,
           3.0634502995643516,
           2.6919057371096073,
           2.791812926652142
          ]
         },
         "hovertemplate": "<b>%{hovertext}</b><br><br>Name=CA12X_C5<br>Avg Osc Period [ms]=%{x}<br>Avg Osc Amplitude [V/cm]=%{y}<extra></extra>",
         "hovertext": [
          "CA12X_C5_at_fixed_current_3.5e-7A-20220413144545",
          "CA12X_C5_at_fixed_current_4e-7A-20220413143802",
          "CA12X_C5_at_fixed_current_3e-7A-20220413144233",
          "CA12X_C5_at_fixed_current_4.5e-7A-20220413144649"
         ],
         "legendgroup": "CA12X_C5",
         "marker": {
          "color": "#EF553B",
          "symbol": "circle"
         },
         "mode": "markers",
         "name": "CA12X_C5",
         "orientation": "v",
         "showlegend": true,
         "type": "scatter",
         "x": [
          2597.428571428572,
          2605.454545454545,
          2588.5714285714284,
          2488.75
         ],
         "xaxis": "x",
         "y": [
          464.88990486565,
          466.8018790577342,
          448.8934867828613,
          460.42985214233846
         ],
         "yaxis": "y"
        },
        {
         "error_x": {
          "array": [
           177.4375,
           110.4482758620693,
           73.36363636363649,
           19.25
          ],
          "arrayminus": [
           139.5625,
           40.551724137930705,
           34.63636363636351,
           19.75
          ]
         },
         "error_y": {
          "array": [
           2.353770441418405,
           3.5174010655439503,
           0.4254740034305087,
           0.37883440060983276
          ],
          "arrayminus": [
           32.95879336647182,
           5.894018488486921,
           0.7445350874785817,
           0.5580884124261729
          ]
         },
         "hovertemplate": "<b>%{hovertext}</b><br><br>Name=CA12X2_C1<br>Avg Osc Period [ms]=%{x}<br>Avg Osc Amplitude [V/cm]=%{y}<extra></extra>",
         "hovertext": [
          "CA12X2_C1_current_square_waveform_value_1.6e-07A-20220428171247",
          "CA12X2_C1_at_fixed_current_1.6e-7A-20220428174333",
          "CA12X2_C1_current_square_waveform_value_3e-07A-20220428163159",
          "CA12X2_C1_at_fixed_current_6e-7A-20220428175416"
         ],
         "legendgroup": "CA12X2_C1",
         "marker": {
          "color": "#00cc96",
          "symbol": "circle"
         },
         "mode": "markers",
         "name": "CA12X2_C1",
         "orientation": "v",
         "showlegend": true,
         "type": "scatter",
         "x": [
          2112.5625,
          2202.5517241379307,
          2188.6363636363635,
          2182.75
         ],
         "xaxis": "x",
         "y": [
          87.82137981587147,
          83.93290185040803,
          123.33177608233278,
          111.77666491328381
         ],
         "yaxis": "y"
        }
       ],
       "layout": {
        "height": 800,
        "legend": {
         "title": {
          "text": "Name"
         },
         "tracegroupgap": 0
        },
        "template": {
         "data": {
          "bar": [
           {
            "error_x": {
             "color": "#2a3f5f"
            },
            "error_y": {
             "color": "#2a3f5f"
            },
            "marker": {
             "line": {
              "color": "#E5ECF6",
              "width": 0.5
             },
             "pattern": {
              "fillmode": "overlay",
              "size": 10,
              "solidity": 0.2
             }
            },
            "type": "bar"
           }
          ],
          "barpolar": [
           {
            "marker": {
             "line": {
              "color": "#E5ECF6",
              "width": 0.5
             },
             "pattern": {
              "fillmode": "overlay",
              "size": 10,
              "solidity": 0.2
             }
            },
            "type": "barpolar"
           }
          ],
          "carpet": [
           {
            "aaxis": {
             "endlinecolor": "#2a3f5f",
             "gridcolor": "white",
             "linecolor": "white",
             "minorgridcolor": "white",
             "startlinecolor": "#2a3f5f"
            },
            "baxis": {
             "endlinecolor": "#2a3f5f",
             "gridcolor": "white",
             "linecolor": "white",
             "minorgridcolor": "white",
             "startlinecolor": "#2a3f5f"
            },
            "type": "carpet"
           }
          ],
          "choropleth": [
           {
            "colorbar": {
             "outlinewidth": 0,
             "ticks": ""
            },
            "type": "choropleth"
           }
          ],
          "contour": [
           {
            "colorbar": {
             "outlinewidth": 0,
             "ticks": ""
            },
            "colorscale": [
             [
              0,
              "#0d0887"
             ],
             [
              0.1111111111111111,
              "#46039f"
             ],
             [
              0.2222222222222222,
              "#7201a8"
             ],
             [
              0.3333333333333333,
              "#9c179e"
             ],
             [
              0.4444444444444444,
              "#bd3786"
             ],
             [
              0.5555555555555556,
              "#d8576b"
             ],
             [
              0.6666666666666666,
              "#ed7953"
             ],
             [
              0.7777777777777778,
              "#fb9f3a"
             ],
             [
              0.8888888888888888,
              "#fdca26"
             ],
             [
              1,
              "#f0f921"
             ]
            ],
            "type": "contour"
           }
          ],
          "contourcarpet": [
           {
            "colorbar": {
             "outlinewidth": 0,
             "ticks": ""
            },
            "type": "contourcarpet"
           }
          ],
          "heatmap": [
           {
            "colorbar": {
             "outlinewidth": 0,
             "ticks": ""
            },
            "colorscale": [
             [
              0,
              "#0d0887"
             ],
             [
              0.1111111111111111,
              "#46039f"
             ],
             [
              0.2222222222222222,
              "#7201a8"
             ],
             [
              0.3333333333333333,
              "#9c179e"
             ],
             [
              0.4444444444444444,
              "#bd3786"
             ],
             [
              0.5555555555555556,
              "#d8576b"
             ],
             [
              0.6666666666666666,
              "#ed7953"
             ],
             [
              0.7777777777777778,
              "#fb9f3a"
             ],
             [
              0.8888888888888888,
              "#fdca26"
             ],
             [
              1,
              "#f0f921"
             ]
            ],
            "type": "heatmap"
           }
          ],
          "heatmapgl": [
           {
            "colorbar": {
             "outlinewidth": 0,
             "ticks": ""
            },
            "colorscale": [
             [
              0,
              "#0d0887"
             ],
             [
              0.1111111111111111,
              "#46039f"
             ],
             [
              0.2222222222222222,
              "#7201a8"
             ],
             [
              0.3333333333333333,
              "#9c179e"
             ],
             [
              0.4444444444444444,
              "#bd3786"
             ],
             [
              0.5555555555555556,
              "#d8576b"
             ],
             [
              0.6666666666666666,
              "#ed7953"
             ],
             [
              0.7777777777777778,
              "#fb9f3a"
             ],
             [
              0.8888888888888888,
              "#fdca26"
             ],
             [
              1,
              "#f0f921"
             ]
            ],
            "type": "heatmapgl"
           }
          ],
          "histogram": [
           {
            "marker": {
             "pattern": {
              "fillmode": "overlay",
              "size": 10,
              "solidity": 0.2
             }
            },
            "type": "histogram"
           }
          ],
          "histogram2d": [
           {
            "colorbar": {
             "outlinewidth": 0,
             "ticks": ""
            },
            "colorscale": [
             [
              0,
              "#0d0887"
             ],
             [
              0.1111111111111111,
              "#46039f"
             ],
             [
              0.2222222222222222,
              "#7201a8"
             ],
             [
              0.3333333333333333,
              "#9c179e"
             ],
             [
              0.4444444444444444,
              "#bd3786"
             ],
             [
              0.5555555555555556,
              "#d8576b"
             ],
             [
              0.6666666666666666,
              "#ed7953"
             ],
             [
              0.7777777777777778,
              "#fb9f3a"
             ],
             [
              0.8888888888888888,
              "#fdca26"
             ],
             [
              1,
              "#f0f921"
             ]
            ],
            "type": "histogram2d"
           }
          ],
          "histogram2dcontour": [
           {
            "colorbar": {
             "outlinewidth": 0,
             "ticks": ""
            },
            "colorscale": [
             [
              0,
              "#0d0887"
             ],
             [
              0.1111111111111111,
              "#46039f"
             ],
             [
              0.2222222222222222,
              "#7201a8"
             ],
             [
              0.3333333333333333,
              "#9c179e"
             ],
             [
              0.4444444444444444,
              "#bd3786"
             ],
             [
              0.5555555555555556,
              "#d8576b"
             ],
             [
              0.6666666666666666,
              "#ed7953"
             ],
             [
              0.7777777777777778,
              "#fb9f3a"
             ],
             [
              0.8888888888888888,
              "#fdca26"
             ],
             [
              1,
              "#f0f921"
             ]
            ],
            "type": "histogram2dcontour"
           }
          ],
          "mesh3d": [
           {
            "colorbar": {
             "outlinewidth": 0,
             "ticks": ""
            },
            "type": "mesh3d"
           }
          ],
          "parcoords": [
           {
            "line": {
             "colorbar": {
              "outlinewidth": 0,
              "ticks": ""
             }
            },
            "type": "parcoords"
           }
          ],
          "pie": [
           {
            "automargin": true,
            "type": "pie"
           }
          ],
          "scatter": [
           {
            "fillpattern": {
             "fillmode": "overlay",
             "size": 10,
             "solidity": 0.2
            },
            "type": "scatter"
           }
          ],
          "scatter3d": [
           {
            "line": {
             "colorbar": {
              "outlinewidth": 0,
              "ticks": ""
             }
            },
            "marker": {
             "colorbar": {
              "outlinewidth": 0,
              "ticks": ""
             }
            },
            "type": "scatter3d"
           }
          ],
          "scattercarpet": [
           {
            "marker": {
             "colorbar": {
              "outlinewidth": 0,
              "ticks": ""
             }
            },
            "type": "scattercarpet"
           }
          ],
          "scattergeo": [
           {
            "marker": {
             "colorbar": {
              "outlinewidth": 0,
              "ticks": ""
             }
            },
            "type": "scattergeo"
           }
          ],
          "scattergl": [
           {
            "marker": {
             "colorbar": {
              "outlinewidth": 0,
              "ticks": ""
             }
            },
            "type": "scattergl"
           }
          ],
          "scattermapbox": [
           {
            "marker": {
             "colorbar": {
              "outlinewidth": 0,
              "ticks": ""
             }
            },
            "type": "scattermapbox"
           }
          ],
          "scatterpolar": [
           {
            "marker": {
             "colorbar": {
              "outlinewidth": 0,
              "ticks": ""
             }
            },
            "type": "scatterpolar"
           }
          ],
          "scatterpolargl": [
           {
            "marker": {
             "colorbar": {
              "outlinewidth": 0,
              "ticks": ""
             }
            },
            "type": "scatterpolargl"
           }
          ],
          "scatterternary": [
           {
            "marker": {
             "colorbar": {
              "outlinewidth": 0,
              "ticks": ""
             }
            },
            "type": "scatterternary"
           }
          ],
          "surface": [
           {
            "colorbar": {
             "outlinewidth": 0,
             "ticks": ""
            },
            "colorscale": [
             [
              0,
              "#0d0887"
             ],
             [
              0.1111111111111111,
              "#46039f"
             ],
             [
              0.2222222222222222,
              "#7201a8"
             ],
             [
              0.3333333333333333,
              "#9c179e"
             ],
             [
              0.4444444444444444,
              "#bd3786"
             ],
             [
              0.5555555555555556,
              "#d8576b"
             ],
             [
              0.6666666666666666,
              "#ed7953"
             ],
             [
              0.7777777777777778,
              "#fb9f3a"
             ],
             [
              0.8888888888888888,
              "#fdca26"
             ],
             [
              1,
              "#f0f921"
             ]
            ],
            "type": "surface"
           }
          ],
          "table": [
           {
            "cells": {
             "fill": {
              "color": "#EBF0F8"
             },
             "line": {
              "color": "white"
             }
            },
            "header": {
             "fill": {
              "color": "#C8D4E3"
             },
             "line": {
              "color": "white"
             }
            },
            "type": "table"
           }
          ]
         },
         "layout": {
          "annotationdefaults": {
           "arrowcolor": "#2a3f5f",
           "arrowhead": 0,
           "arrowwidth": 1
          },
          "autotypenumbers": "strict",
          "coloraxis": {
           "colorbar": {
            "outlinewidth": 0,
            "ticks": ""
           }
          },
          "colorscale": {
           "diverging": [
            [
             0,
             "#8e0152"
            ],
            [
             0.1,
             "#c51b7d"
            ],
            [
             0.2,
             "#de77ae"
            ],
            [
             0.3,
             "#f1b6da"
            ],
            [
             0.4,
             "#fde0ef"
            ],
            [
             0.5,
             "#f7f7f7"
            ],
            [
             0.6,
             "#e6f5d0"
            ],
            [
             0.7,
             "#b8e186"
            ],
            [
             0.8,
             "#7fbc41"
            ],
            [
             0.9,
             "#4d9221"
            ],
            [
             1,
             "#276419"
            ]
           ],
           "sequential": [
            [
             0,
             "#0d0887"
            ],
            [
             0.1111111111111111,
             "#46039f"
            ],
            [
             0.2222222222222222,
             "#7201a8"
            ],
            [
             0.3333333333333333,
             "#9c179e"
            ],
            [
             0.4444444444444444,
             "#bd3786"
            ],
            [
             0.5555555555555556,
             "#d8576b"
            ],
            [
             0.6666666666666666,
             "#ed7953"
            ],
            [
             0.7777777777777778,
             "#fb9f3a"
            ],
            [
             0.8888888888888888,
             "#fdca26"
            ],
            [
             1,
             "#f0f921"
            ]
           ],
           "sequentialminus": [
            [
             0,
             "#0d0887"
            ],
            [
             0.1111111111111111,
             "#46039f"
            ],
            [
             0.2222222222222222,
             "#7201a8"
            ],
            [
             0.3333333333333333,
             "#9c179e"
            ],
            [
             0.4444444444444444,
             "#bd3786"
            ],
            [
             0.5555555555555556,
             "#d8576b"
            ],
            [
             0.6666666666666666,
             "#ed7953"
            ],
            [
             0.7777777777777778,
             "#fb9f3a"
            ],
            [
             0.8888888888888888,
             "#fdca26"
            ],
            [
             1,
             "#f0f921"
            ]
           ]
          },
          "colorway": [
           "#636efa",
           "#EF553B",
           "#00cc96",
           "#ab63fa",
           "#FFA15A",
           "#19d3f3",
           "#FF6692",
           "#B6E880",
           "#FF97FF",
           "#FECB52"
          ],
          "font": {
           "color": "#2a3f5f"
          },
          "geo": {
           "bgcolor": "white",
           "lakecolor": "white",
           "landcolor": "#E5ECF6",
           "showlakes": true,
           "showland": true,
           "subunitcolor": "white"
          },
          "hoverlabel": {
           "align": "left"
          },
          "hovermode": "closest",
          "mapbox": {
           "style": "light"
          },
          "paper_bgcolor": "white",
          "plot_bgcolor": "#E5ECF6",
          "polar": {
           "angularaxis": {
            "gridcolor": "white",
            "linecolor": "white",
            "ticks": ""
           },
           "bgcolor": "#E5ECF6",
           "radialaxis": {
            "gridcolor": "white",
            "linecolor": "white",
            "ticks": ""
           }
          },
          "scene": {
           "xaxis": {
            "backgroundcolor": "#E5ECF6",
            "gridcolor": "white",
            "gridwidth": 2,
            "linecolor": "white",
            "showbackground": true,
            "ticks": "",
            "zerolinecolor": "white"
           },
           "yaxis": {
            "backgroundcolor": "#E5ECF6",
            "gridcolor": "white",
            "gridwidth": 2,
            "linecolor": "white",
            "showbackground": true,
            "ticks": "",
            "zerolinecolor": "white"
           },
           "zaxis": {
            "backgroundcolor": "#E5ECF6",
            "gridcolor": "white",
            "gridwidth": 2,
            "linecolor": "white",
            "showbackground": true,
            "ticks": "",
            "zerolinecolor": "white"
           }
          },
          "shapedefaults": {
           "line": {
            "color": "#2a3f5f"
           }
          },
          "ternary": {
           "aaxis": {
            "gridcolor": "white",
            "linecolor": "white",
            "ticks": ""
           },
           "baxis": {
            "gridcolor": "white",
            "linecolor": "white",
            "ticks": ""
           },
           "bgcolor": "#E5ECF6",
           "caxis": {
            "gridcolor": "white",
            "linecolor": "white",
            "ticks": ""
           }
          },
          "title": {
           "x": 0.05
          },
          "xaxis": {
           "automargin": true,
           "gridcolor": "white",
           "linecolor": "white",
           "ticks": "",
           "title": {
            "standoff": 15
           },
           "zerolinecolor": "white",
           "zerolinewidth": 2
          },
          "yaxis": {
           "automargin": true,
           "gridcolor": "white",
           "linecolor": "white",
           "ticks": "",
           "title": {
            "standoff": 15
           },
           "zerolinecolor": "white",
           "zerolinewidth": 2
          }
         }
        },
        "title": {
         "text": "Confronto dell'ampiezza e del periodo"
        },
        "width": 952,
        "xaxis": {
         "anchor": "y",
         "domain": [
          0,
          1
         ],
         "title": {
          "text": "Avg Osc Period [ms]"
         }
        },
        "yaxis": {
         "anchor": "x",
         "domain": [
          0,
          1
         ],
         "title": {
          "text": "Avg Osc Amplitude [V/cm]"
         }
        }
       }
      },
      "text/html": [
       "<div>                            <div id=\"709661f5-1b2b-46f0-ba7d-22e189bddbf3\" class=\"plotly-graph-div\" style=\"height:800px; width:952px;\"></div>            <script type=\"text/javascript\">                require([\"plotly\"], function(Plotly) {                    window.PLOTLYENV=window.PLOTLYENV || {};                                    if (document.getElementById(\"709661f5-1b2b-46f0-ba7d-22e189bddbf3\")) {                    Plotly.newPlot(                        \"709661f5-1b2b-46f0-ba7d-22e189bddbf3\",                        [{\"error_x\":{\"array\":[222.9259259259261,113.68965517241395,143.91666666666697,1108.5714285714312,58.454545454545496,191.69999999999982,138.6875,82.42307692307713],\"arrayminus\":[108.0740740740739,66.31034482758605,77.08333333333303,919.4285714285688,55.545454545454504,85.30000000000018,75.3125,45.57692307692287]},\"error_y\":{\"array\":[73.48450870195768,16.003461395293584,2.27908238497605,24.027383871226334,23.474879495073424,2.6213889122841465,1.9715231311948855,2.5580670397264953],\"arrayminus\":[406.02361152039776,245.21946513000535,2.8779822053880935,35.34077071623807,205.87976454532554,3.051768050506439,3.341063012941106,2.086110943158701]},\"hovertemplate\":\"<b>%{hovertext}</b><br><br>Name=CA8_01_A<br>Avg Osc Period [ms]=%{x}<br>Avg Osc Amplitude [V/cm]=%{y}<extra></extra>\",\"hovertext\":[\"CA8_01_A_square_waveform_value_3.5e-08A-20220422142852\",\"CA8_01_A_at_fixed_current_5e-7A-20220422113350\",\"CA8_01_A_at_fixed_current_1.42e-6A-20220421121309\",\"CA8_01_A_square_waveform_value_3e-08A-20220422141850\",\"CA8_01_A_at_fixed_current_3e-8A-20220422093131\",\"CA8_01_A_at_fixed_current_1.38e-6A-20220421120616\",\"CA8_01_A_at_fixed_current_1.40e-6A-20220421120923\",\"CA8_01_A_at_fixed_current_1.34e-6A-20220421120127\"],\"legendgroup\":\"CA8_01_A\",\"marker\":{\"color\":\"#636efa\",\"symbol\":\"circle\"},\"mode\":\"markers\",\"name\":\"CA8_01_A\",\"orientation\":\"v\",\"showlegend\":true,\"x\":[4108.074074074074,2214.310344827586,2642.083333333333,15869.428571428569,4043.5454545454545,2645.3,2643.3125,2617.576923076923],\"xaxis\":\"x\",\"y\":[645.0878582335015,411.23395338602234,296.78792525925564,523.8906476311521,696.432225506685,299.4359940334905,297.7400277408892,302.580268874589],\"yaxis\":\"y\",\"type\":\"scatter\"},{\"error_x\":{\"array\":[14.571428571427987,62.54545454545496,25.42857142857156,96.25],\"arrayminus\":[16.428571428572013,42.45454545454504,14.571428571428442,83.75]},\"error_y\":{\"array\":[1.871899055918675,1.7584915305011464,2.3597962236747207,1.8716759622367931],\"arrayminus\":[2.072276761074818,3.0634502995643516,2.6919057371096073,2.791812926652142]},\"hovertemplate\":\"<b>%{hovertext}</b><br><br>Name=CA12X_C5<br>Avg Osc Period [ms]=%{x}<br>Avg Osc Amplitude [V/cm]=%{y}<extra></extra>\",\"hovertext\":[\"CA12X_C5_at_fixed_current_3.5e-7A-20220413144545\",\"CA12X_C5_at_fixed_current_4e-7A-20220413143802\",\"CA12X_C5_at_fixed_current_3e-7A-20220413144233\",\"CA12X_C5_at_fixed_current_4.5e-7A-20220413144649\"],\"legendgroup\":\"CA12X_C5\",\"marker\":{\"color\":\"#EF553B\",\"symbol\":\"circle\"},\"mode\":\"markers\",\"name\":\"CA12X_C5\",\"orientation\":\"v\",\"showlegend\":true,\"x\":[2597.428571428572,2605.454545454545,2588.5714285714284,2488.75],\"xaxis\":\"x\",\"y\":[464.88990486565,466.8018790577342,448.8934867828613,460.42985214233846],\"yaxis\":\"y\",\"type\":\"scatter\"},{\"error_x\":{\"array\":[177.4375,110.4482758620693,73.36363636363649,19.25],\"arrayminus\":[139.5625,40.551724137930705,34.63636363636351,19.75]},\"error_y\":{\"array\":[2.353770441418405,3.5174010655439503,0.4254740034305087,0.37883440060983276],\"arrayminus\":[32.95879336647182,5.894018488486921,0.7445350874785817,0.5580884124261729]},\"hovertemplate\":\"<b>%{hovertext}</b><br><br>Name=CA12X2_C1<br>Avg Osc Period [ms]=%{x}<br>Avg Osc Amplitude [V/cm]=%{y}<extra></extra>\",\"hovertext\":[\"CA12X2_C1_current_square_waveform_value_1.6e-07A-20220428171247\",\"CA12X2_C1_at_fixed_current_1.6e-7A-20220428174333\",\"CA12X2_C1_current_square_waveform_value_3e-07A-20220428163159\",\"CA12X2_C1_at_fixed_current_6e-7A-20220428175416\"],\"legendgroup\":\"CA12X2_C1\",\"marker\":{\"color\":\"#00cc96\",\"symbol\":\"circle\"},\"mode\":\"markers\",\"name\":\"CA12X2_C1\",\"orientation\":\"v\",\"showlegend\":true,\"x\":[2112.5625,2202.5517241379307,2188.6363636363635,2182.75],\"xaxis\":\"x\",\"y\":[87.82137981587147,83.93290185040803,123.33177608233278,111.77666491328381],\"yaxis\":\"y\",\"type\":\"scatter\"}],                        {\"template\":{\"data\":{\"histogram2dcontour\":[{\"type\":\"histogram2dcontour\",\"colorbar\":{\"outlinewidth\":0,\"ticks\":\"\"},\"colorscale\":[[0.0,\"#0d0887\"],[0.1111111111111111,\"#46039f\"],[0.2222222222222222,\"#7201a8\"],[0.3333333333333333,\"#9c179e\"],[0.4444444444444444,\"#bd3786\"],[0.5555555555555556,\"#d8576b\"],[0.6666666666666666,\"#ed7953\"],[0.7777777777777778,\"#fb9f3a\"],[0.8888888888888888,\"#fdca26\"],[1.0,\"#f0f921\"]]}],\"choropleth\":[{\"type\":\"choropleth\",\"colorbar\":{\"outlinewidth\":0,\"ticks\":\"\"}}],\"histogram2d\":[{\"type\":\"histogram2d\",\"colorbar\":{\"outlinewidth\":0,\"ticks\":\"\"},\"colorscale\":[[0.0,\"#0d0887\"],[0.1111111111111111,\"#46039f\"],[0.2222222222222222,\"#7201a8\"],[0.3333333333333333,\"#9c179e\"],[0.4444444444444444,\"#bd3786\"],[0.5555555555555556,\"#d8576b\"],[0.6666666666666666,\"#ed7953\"],[0.7777777777777778,\"#fb9f3a\"],[0.8888888888888888,\"#fdca26\"],[1.0,\"#f0f921\"]]}],\"heatmap\":[{\"type\":\"heatmap\",\"colorbar\":{\"outlinewidth\":0,\"ticks\":\"\"},\"colorscale\":[[0.0,\"#0d0887\"],[0.1111111111111111,\"#46039f\"],[0.2222222222222222,\"#7201a8\"],[0.3333333333333333,\"#9c179e\"],[0.4444444444444444,\"#bd3786\"],[0.5555555555555556,\"#d8576b\"],[0.6666666666666666,\"#ed7953\"],[0.7777777777777778,\"#fb9f3a\"],[0.8888888888888888,\"#fdca26\"],[1.0,\"#f0f921\"]]}],\"heatmapgl\":[{\"type\":\"heatmapgl\",\"colorbar\":{\"outlinewidth\":0,\"ticks\":\"\"},\"colorscale\":[[0.0,\"#0d0887\"],[0.1111111111111111,\"#46039f\"],[0.2222222222222222,\"#7201a8\"],[0.3333333333333333,\"#9c179e\"],[0.4444444444444444,\"#bd3786\"],[0.5555555555555556,\"#d8576b\"],[0.6666666666666666,\"#ed7953\"],[0.7777777777777778,\"#fb9f3a\"],[0.8888888888888888,\"#fdca26\"],[1.0,\"#f0f921\"]]}],\"contourcarpet\":[{\"type\":\"contourcarpet\",\"colorbar\":{\"outlinewidth\":0,\"ticks\":\"\"}}],\"contour\":[{\"type\":\"contour\",\"colorbar\":{\"outlinewidth\":0,\"ticks\":\"\"},\"colorscale\":[[0.0,\"#0d0887\"],[0.1111111111111111,\"#46039f\"],[0.2222222222222222,\"#7201a8\"],[0.3333333333333333,\"#9c179e\"],[0.4444444444444444,\"#bd3786\"],[0.5555555555555556,\"#d8576b\"],[0.6666666666666666,\"#ed7953\"],[0.7777777777777778,\"#fb9f3a\"],[0.8888888888888888,\"#fdca26\"],[1.0,\"#f0f921\"]]}],\"surface\":[{\"type\":\"surface\",\"colorbar\":{\"outlinewidth\":0,\"ticks\":\"\"},\"colorscale\":[[0.0,\"#0d0887\"],[0.1111111111111111,\"#46039f\"],[0.2222222222222222,\"#7201a8\"],[0.3333333333333333,\"#9c179e\"],[0.4444444444444444,\"#bd3786\"],[0.5555555555555556,\"#d8576b\"],[0.6666666666666666,\"#ed7953\"],[0.7777777777777778,\"#fb9f3a\"],[0.8888888888888888,\"#fdca26\"],[1.0,\"#f0f921\"]]}],\"mesh3d\":[{\"type\":\"mesh3d\",\"colorbar\":{\"outlinewidth\":0,\"ticks\":\"\"}}],\"scatter\":[{\"fillpattern\":{\"fillmode\":\"overlay\",\"size\":10,\"solidity\":0.2},\"type\":\"scatter\"}],\"parcoords\":[{\"type\":\"parcoords\",\"line\":{\"colorbar\":{\"outlinewidth\":0,\"ticks\":\"\"}}}],\"scatterpolargl\":[{\"type\":\"scatterpolargl\",\"marker\":{\"colorbar\":{\"outlinewidth\":0,\"ticks\":\"\"}}}],\"bar\":[{\"error_x\":{\"color\":\"#2a3f5f\"},\"error_y\":{\"color\":\"#2a3f5f\"},\"marker\":{\"line\":{\"color\":\"#E5ECF6\",\"width\":0.5},\"pattern\":{\"fillmode\":\"overlay\",\"size\":10,\"solidity\":0.2}},\"type\":\"bar\"}],\"scattergeo\":[{\"type\":\"scattergeo\",\"marker\":{\"colorbar\":{\"outlinewidth\":0,\"ticks\":\"\"}}}],\"scatterpolar\":[{\"type\":\"scatterpolar\",\"marker\":{\"colorbar\":{\"outlinewidth\":0,\"ticks\":\"\"}}}],\"histogram\":[{\"marker\":{\"pattern\":{\"fillmode\":\"overlay\",\"size\":10,\"solidity\":0.2}},\"type\":\"histogram\"}],\"scattergl\":[{\"type\":\"scattergl\",\"marker\":{\"colorbar\":{\"outlinewidth\":0,\"ticks\":\"\"}}}],\"scatter3d\":[{\"type\":\"scatter3d\",\"line\":{\"colorbar\":{\"outlinewidth\":0,\"ticks\":\"\"}},\"marker\":{\"colorbar\":{\"outlinewidth\":0,\"ticks\":\"\"}}}],\"scattermapbox\":[{\"type\":\"scattermapbox\",\"marker\":{\"colorbar\":{\"outlinewidth\":0,\"ticks\":\"\"}}}],\"scatterternary\":[{\"type\":\"scatterternary\",\"marker\":{\"colorbar\":{\"outlinewidth\":0,\"ticks\":\"\"}}}],\"scattercarpet\":[{\"type\":\"scattercarpet\",\"marker\":{\"colorbar\":{\"outlinewidth\":0,\"ticks\":\"\"}}}],\"carpet\":[{\"aaxis\":{\"endlinecolor\":\"#2a3f5f\",\"gridcolor\":\"white\",\"linecolor\":\"white\",\"minorgridcolor\":\"white\",\"startlinecolor\":\"#2a3f5f\"},\"baxis\":{\"endlinecolor\":\"#2a3f5f\",\"gridcolor\":\"white\",\"linecolor\":\"white\",\"minorgridcolor\":\"white\",\"startlinecolor\":\"#2a3f5f\"},\"type\":\"carpet\"}],\"table\":[{\"cells\":{\"fill\":{\"color\":\"#EBF0F8\"},\"line\":{\"color\":\"white\"}},\"header\":{\"fill\":{\"color\":\"#C8D4E3\"},\"line\":{\"color\":\"white\"}},\"type\":\"table\"}],\"barpolar\":[{\"marker\":{\"line\":{\"color\":\"#E5ECF6\",\"width\":0.5},\"pattern\":{\"fillmode\":\"overlay\",\"size\":10,\"solidity\":0.2}},\"type\":\"barpolar\"}],\"pie\":[{\"automargin\":true,\"type\":\"pie\"}]},\"layout\":{\"autotypenumbers\":\"strict\",\"colorway\":[\"#636efa\",\"#EF553B\",\"#00cc96\",\"#ab63fa\",\"#FFA15A\",\"#19d3f3\",\"#FF6692\",\"#B6E880\",\"#FF97FF\",\"#FECB52\"],\"font\":{\"color\":\"#2a3f5f\"},\"hovermode\":\"closest\",\"hoverlabel\":{\"align\":\"left\"},\"paper_bgcolor\":\"white\",\"plot_bgcolor\":\"#E5ECF6\",\"polar\":{\"bgcolor\":\"#E5ECF6\",\"angularaxis\":{\"gridcolor\":\"white\",\"linecolor\":\"white\",\"ticks\":\"\"},\"radialaxis\":{\"gridcolor\":\"white\",\"linecolor\":\"white\",\"ticks\":\"\"}},\"ternary\":{\"bgcolor\":\"#E5ECF6\",\"aaxis\":{\"gridcolor\":\"white\",\"linecolor\":\"white\",\"ticks\":\"\"},\"baxis\":{\"gridcolor\":\"white\",\"linecolor\":\"white\",\"ticks\":\"\"},\"caxis\":{\"gridcolor\":\"white\",\"linecolor\":\"white\",\"ticks\":\"\"}},\"coloraxis\":{\"colorbar\":{\"outlinewidth\":0,\"ticks\":\"\"}},\"colorscale\":{\"sequential\":[[0.0,\"#0d0887\"],[0.1111111111111111,\"#46039f\"],[0.2222222222222222,\"#7201a8\"],[0.3333333333333333,\"#9c179e\"],[0.4444444444444444,\"#bd3786\"],[0.5555555555555556,\"#d8576b\"],[0.6666666666666666,\"#ed7953\"],[0.7777777777777778,\"#fb9f3a\"],[0.8888888888888888,\"#fdca26\"],[1.0,\"#f0f921\"]],\"sequentialminus\":[[0.0,\"#0d0887\"],[0.1111111111111111,\"#46039f\"],[0.2222222222222222,\"#7201a8\"],[0.3333333333333333,\"#9c179e\"],[0.4444444444444444,\"#bd3786\"],[0.5555555555555556,\"#d8576b\"],[0.6666666666666666,\"#ed7953\"],[0.7777777777777778,\"#fb9f3a\"],[0.8888888888888888,\"#fdca26\"],[1.0,\"#f0f921\"]],\"diverging\":[[0,\"#8e0152\"],[0.1,\"#c51b7d\"],[0.2,\"#de77ae\"],[0.3,\"#f1b6da\"],[0.4,\"#fde0ef\"],[0.5,\"#f7f7f7\"],[0.6,\"#e6f5d0\"],[0.7,\"#b8e186\"],[0.8,\"#7fbc41\"],[0.9,\"#4d9221\"],[1,\"#276419\"]]},\"xaxis\":{\"gridcolor\":\"white\",\"linecolor\":\"white\",\"ticks\":\"\",\"title\":{\"standoff\":15},\"zerolinecolor\":\"white\",\"automargin\":true,\"zerolinewidth\":2},\"yaxis\":{\"gridcolor\":\"white\",\"linecolor\":\"white\",\"ticks\":\"\",\"title\":{\"standoff\":15},\"zerolinecolor\":\"white\",\"automargin\":true,\"zerolinewidth\":2},\"scene\":{\"xaxis\":{\"backgroundcolor\":\"#E5ECF6\",\"gridcolor\":\"white\",\"linecolor\":\"white\",\"showbackground\":true,\"ticks\":\"\",\"zerolinecolor\":\"white\",\"gridwidth\":2},\"yaxis\":{\"backgroundcolor\":\"#E5ECF6\",\"gridcolor\":\"white\",\"linecolor\":\"white\",\"showbackground\":true,\"ticks\":\"\",\"zerolinecolor\":\"white\",\"gridwidth\":2},\"zaxis\":{\"backgroundcolor\":\"#E5ECF6\",\"gridcolor\":\"white\",\"linecolor\":\"white\",\"showbackground\":true,\"ticks\":\"\",\"zerolinecolor\":\"white\",\"gridwidth\":2}},\"shapedefaults\":{\"line\":{\"color\":\"#2a3f5f\"}},\"annotationdefaults\":{\"arrowcolor\":\"#2a3f5f\",\"arrowhead\":0,\"arrowwidth\":1},\"geo\":{\"bgcolor\":\"white\",\"landcolor\":\"#E5ECF6\",\"subunitcolor\":\"white\",\"showland\":true,\"showlakes\":true,\"lakecolor\":\"white\"},\"title\":{\"x\":0.05},\"mapbox\":{\"style\":\"light\"}}},\"xaxis\":{\"anchor\":\"y\",\"domain\":[0.0,1.0],\"title\":{\"text\":\"Avg Osc Period [ms]\"}},\"yaxis\":{\"anchor\":\"x\",\"domain\":[0.0,1.0],\"title\":{\"text\":\"Avg Osc Amplitude [V/cm]\"}},\"legend\":{\"title\":{\"text\":\"Name\"},\"tracegroupgap\":0},\"title\":{\"text\":\"Confronto dell'ampiezza e del periodo\"},\"height\":800,\"width\":952},                        {\"responsive\": true}                    ).then(function(){\n",
       "                            \n",
       "var gd = document.getElementById('709661f5-1b2b-46f0-ba7d-22e189bddbf3');\n",
       "var x = new MutationObserver(function (mutations, observer) {{\n",
       "        var display = window.getComputedStyle(gd).display;\n",
       "        if (!display || display === 'none') {{\n",
       "            console.log([gd, 'removed!']);\n",
       "            Plotly.purge(gd);\n",
       "            observer.disconnect();\n",
       "        }}\n",
       "}});\n",
       "\n",
       "// Listen for the removal of the full notebook cells\n",
       "var notebookContainer = gd.closest('#notebook-container');\n",
       "if (notebookContainer) {{\n",
       "    x.observe(notebookContainer, {childList: true});\n",
       "}}\n",
       "\n",
       "// Listen for the clearing of the current output cell\n",
       "var outputEl = gd.closest('.output');\n",
       "if (outputEl) {{\n",
       "    x.observe(outputEl, {childList: true});\n",
       "}}\n",
       "\n",
       "                        })                };                });            </script>        </div>"
      ]
     },
     "metadata": {},
     "output_type": "display_data"
    }
   ],
   "source": [
    "# Range dell'ampiezza e del periodo delle oscillazioni a corrente costante\n",
    "fig = px.scatter(df_fixed, x='Avg Osc Period [ms]', y='Avg Osc Amplitude [V/cm]', \n",
    "title='Confronto dell\\'ampiezza e del periodo',\n",
    "color=\"Name\", hover_name=\"Experiment\", log_y=False, error_y='e_a_plus', error_y_minus='e_a_minus', \n",
    "error_x='e_p_plus', error_x_minus='e_p_minus',\n",
    "width=952, height=800)\n",
    "fig.show()"
   ]
  },
  {
   "cell_type": "markdown",
   "id": "military-wheel",
   "metadata": {},
   "source": [
    "   ### Distribuzione delle oscillazioni in funzione di corrente e temperatura"
   ]
  },
  {
   "cell_type": "code",
   "execution_count": 6,
   "id": "innovative-denver",
   "metadata": {},
   "outputs": [
    {
     "data": {
      "application/vnd.plotly.v1+json": {
       "config": {
        "plotlyServerURL": "https://plot.ly"
       },
       "data": [
        {
         "hovertemplate": "<b>%{hovertext}</b><br><br>Name=CA8_01_A<br>Avg Temperature [K]=%{x}<br>Avg Current [A/cm2]=%{y}<br>Avg Osc Amplitude [V/cm]=%{marker.size}<extra></extra>",
         "hovertext": [
          "CA8_01_A_square_waveform_value_3.5e-08A-20220422142852",
          "CA8_01_A_at_fixed_current_5e-7A-20220422113350",
          "CA8_01_A_at_fixed_current_1.42e-6A-20220421121309",
          "CA8_01_A_square_waveform_value_3e-08A-20220422141850",
          "CA8_01_A_at_fixed_current_3e-8A-20220422093131",
          "CA8_01_A_at_fixed_current_1.38e-6A-20220421120616",
          "CA8_01_A_at_fixed_current_1.40e-6A-20220421120923",
          "CA8_01_A_at_fixed_current_1.34e-6A-20220421120127"
         ],
         "legendgroup": "CA8_01_A",
         "marker": {
          "color": "#636efa",
          "size": [
           645.0878582335015,
           411.23395338602234,
           296.78792525925564,
           523.8906476311521,
           696.432225506685,
           299.4359940334905,
           297.7400277408892,
           302.580268874589
          ],
          "sizemode": "area",
          "sizeref": 0.19345339597407915,
          "symbol": "circle"
         },
         "mode": "markers",
         "name": "CA8_01_A",
         "orientation": "v",
         "showlegend": true,
         "type": "scatter",
         "x": [
          105.85239563370553,
          121.56470097801169,
          132.19992560956257,
          106.07287071781346,
          103.53033991530704,
          131.98404677135298,
          132.0995329773529,
          131.7580164938316
         ],
         "xaxis": "x",
         "y": [
          1.4736842105263152e-06,
          2.1052631578947366e-05,
          5.978947368421052e-05,
          1.2631578947368422e-06,
          1.2631578947368424e-06,
          5.8105263157894754e-05,
          5.894736842105263e-05,
          5.642105263157895e-05
         ],
         "yaxis": "y"
        },
        {
         "hovertemplate": "<b>%{hovertext}</b><br><br>Name=CA12X_C5<br>Avg Temperature [K]=%{x}<br>Avg Current [A/cm2]=%{y}<br>Avg Osc Amplitude [V/cm]=%{marker.size}<extra></extra>",
         "hovertext": [
          "CA12X_C5_at_fixed_current_3.5e-7A-20220413144545",
          "CA12X_C5_at_fixed_current_4e-7A-20220413143802",
          "CA12X_C5_at_fixed_current_3e-7A-20220413144233",
          "CA12X_C5_at_fixed_current_4.5e-7A-20220413144649"
         ],
         "legendgroup": "CA12X_C5",
         "marker": {
          "color": "#EF553B",
          "size": [
           464.88990486565,
           466.8018790577342,
           448.8934867828613,
           460.42985214233846
          ],
          "sizemode": "area",
          "sizeref": 0.19345339597407915,
          "symbol": "circle"
         },
         "mode": "markers",
         "name": "CA12X_C5",
         "orientation": "v",
         "showlegend": true,
         "type": "scatter",
         "x": [
          113.08337975924059,
          113.17203493129978,
          113.11416565867678,
          113.07125061490896
         ],
         "xaxis": "x",
         "y": [
          1.3523956723338486e-05,
          1.5455950540958272e-05,
          1.15919629057187e-05,
          1.7387944358578053e-05
         ],
         "yaxis": "y"
        },
        {
         "hovertemplate": "<b>%{hovertext}</b><br><br>Name=CA12X2_C1<br>Avg Temperature [K]=%{x}<br>Avg Current [A/cm2]=%{y}<br>Avg Osc Amplitude [V/cm]=%{marker.size}<extra></extra>",
         "hovertext": [
          "CA12X2_C1_current_square_waveform_value_1.6e-07A-20220428171247",
          "CA12X2_C1_at_fixed_current_1.6e-7A-20220428174333",
          "CA12X2_C1_current_square_waveform_value_3e-07A-20220428163159",
          "CA12X2_C1_at_fixed_current_6e-7A-20220428175416"
         ],
         "legendgroup": "CA12X2_C1",
         "marker": {
          "color": "#00cc96",
          "size": [
           87.82137981587147,
           83.93290185040803,
           123.33177608233278,
           111.77666491328381
          ],
          "sizemode": "area",
          "sizeref": 0.19345339597407915,
          "symbol": "circle"
         },
         "mode": "markers",
         "name": "CA12X2_C1",
         "orientation": "v",
         "showlegend": true,
         "type": "scatter",
         "x": [
          87.67652651507349,
          88.13331205816105,
          87.69734180557712,
          99.45432789000004
         ],
         "xaxis": "x",
         "y": [
          2.7081922816519973e-06,
          2.7081922816519973e-06,
          5.077860528097494e-06,
          1.0155721056194987e-05
         ],
         "yaxis": "y"
        }
       ],
       "layout": {
        "height": 800,
        "legend": {
         "itemsizing": "constant",
         "title": {
          "text": "Name"
         },
         "tracegroupgap": 0
        },
        "template": {
         "data": {
          "bar": [
           {
            "error_x": {
             "color": "#2a3f5f"
            },
            "error_y": {
             "color": "#2a3f5f"
            },
            "marker": {
             "line": {
              "color": "#E5ECF6",
              "width": 0.5
             },
             "pattern": {
              "fillmode": "overlay",
              "size": 10,
              "solidity": 0.2
             }
            },
            "type": "bar"
           }
          ],
          "barpolar": [
           {
            "marker": {
             "line": {
              "color": "#E5ECF6",
              "width": 0.5
             },
             "pattern": {
              "fillmode": "overlay",
              "size": 10,
              "solidity": 0.2
             }
            },
            "type": "barpolar"
           }
          ],
          "carpet": [
           {
            "aaxis": {
             "endlinecolor": "#2a3f5f",
             "gridcolor": "white",
             "linecolor": "white",
             "minorgridcolor": "white",
             "startlinecolor": "#2a3f5f"
            },
            "baxis": {
             "endlinecolor": "#2a3f5f",
             "gridcolor": "white",
             "linecolor": "white",
             "minorgridcolor": "white",
             "startlinecolor": "#2a3f5f"
            },
            "type": "carpet"
           }
          ],
          "choropleth": [
           {
            "colorbar": {
             "outlinewidth": 0,
             "ticks": ""
            },
            "type": "choropleth"
           }
          ],
          "contour": [
           {
            "colorbar": {
             "outlinewidth": 0,
             "ticks": ""
            },
            "colorscale": [
             [
              0,
              "#0d0887"
             ],
             [
              0.1111111111111111,
              "#46039f"
             ],
             [
              0.2222222222222222,
              "#7201a8"
             ],
             [
              0.3333333333333333,
              "#9c179e"
             ],
             [
              0.4444444444444444,
              "#bd3786"
             ],
             [
              0.5555555555555556,
              "#d8576b"
             ],
             [
              0.6666666666666666,
              "#ed7953"
             ],
             [
              0.7777777777777778,
              "#fb9f3a"
             ],
             [
              0.8888888888888888,
              "#fdca26"
             ],
             [
              1,
              "#f0f921"
             ]
            ],
            "type": "contour"
           }
          ],
          "contourcarpet": [
           {
            "colorbar": {
             "outlinewidth": 0,
             "ticks": ""
            },
            "type": "contourcarpet"
           }
          ],
          "heatmap": [
           {
            "colorbar": {
             "outlinewidth": 0,
             "ticks": ""
            },
            "colorscale": [
             [
              0,
              "#0d0887"
             ],
             [
              0.1111111111111111,
              "#46039f"
             ],
             [
              0.2222222222222222,
              "#7201a8"
             ],
             [
              0.3333333333333333,
              "#9c179e"
             ],
             [
              0.4444444444444444,
              "#bd3786"
             ],
             [
              0.5555555555555556,
              "#d8576b"
             ],
             [
              0.6666666666666666,
              "#ed7953"
             ],
             [
              0.7777777777777778,
              "#fb9f3a"
             ],
             [
              0.8888888888888888,
              "#fdca26"
             ],
             [
              1,
              "#f0f921"
             ]
            ],
            "type": "heatmap"
           }
          ],
          "heatmapgl": [
           {
            "colorbar": {
             "outlinewidth": 0,
             "ticks": ""
            },
            "colorscale": [
             [
              0,
              "#0d0887"
             ],
             [
              0.1111111111111111,
              "#46039f"
             ],
             [
              0.2222222222222222,
              "#7201a8"
             ],
             [
              0.3333333333333333,
              "#9c179e"
             ],
             [
              0.4444444444444444,
              "#bd3786"
             ],
             [
              0.5555555555555556,
              "#d8576b"
             ],
             [
              0.6666666666666666,
              "#ed7953"
             ],
             [
              0.7777777777777778,
              "#fb9f3a"
             ],
             [
              0.8888888888888888,
              "#fdca26"
             ],
             [
              1,
              "#f0f921"
             ]
            ],
            "type": "heatmapgl"
           }
          ],
          "histogram": [
           {
            "marker": {
             "pattern": {
              "fillmode": "overlay",
              "size": 10,
              "solidity": 0.2
             }
            },
            "type": "histogram"
           }
          ],
          "histogram2d": [
           {
            "colorbar": {
             "outlinewidth": 0,
             "ticks": ""
            },
            "colorscale": [
             [
              0,
              "#0d0887"
             ],
             [
              0.1111111111111111,
              "#46039f"
             ],
             [
              0.2222222222222222,
              "#7201a8"
             ],
             [
              0.3333333333333333,
              "#9c179e"
             ],
             [
              0.4444444444444444,
              "#bd3786"
             ],
             [
              0.5555555555555556,
              "#d8576b"
             ],
             [
              0.6666666666666666,
              "#ed7953"
             ],
             [
              0.7777777777777778,
              "#fb9f3a"
             ],
             [
              0.8888888888888888,
              "#fdca26"
             ],
             [
              1,
              "#f0f921"
             ]
            ],
            "type": "histogram2d"
           }
          ],
          "histogram2dcontour": [
           {
            "colorbar": {
             "outlinewidth": 0,
             "ticks": ""
            },
            "colorscale": [
             [
              0,
              "#0d0887"
             ],
             [
              0.1111111111111111,
              "#46039f"
             ],
             [
              0.2222222222222222,
              "#7201a8"
             ],
             [
              0.3333333333333333,
              "#9c179e"
             ],
             [
              0.4444444444444444,
              "#bd3786"
             ],
             [
              0.5555555555555556,
              "#d8576b"
             ],
             [
              0.6666666666666666,
              "#ed7953"
             ],
             [
              0.7777777777777778,
              "#fb9f3a"
             ],
             [
              0.8888888888888888,
              "#fdca26"
             ],
             [
              1,
              "#f0f921"
             ]
            ],
            "type": "histogram2dcontour"
           }
          ],
          "mesh3d": [
           {
            "colorbar": {
             "outlinewidth": 0,
             "ticks": ""
            },
            "type": "mesh3d"
           }
          ],
          "parcoords": [
           {
            "line": {
             "colorbar": {
              "outlinewidth": 0,
              "ticks": ""
             }
            },
            "type": "parcoords"
           }
          ],
          "pie": [
           {
            "automargin": true,
            "type": "pie"
           }
          ],
          "scatter": [
           {
            "fillpattern": {
             "fillmode": "overlay",
             "size": 10,
             "solidity": 0.2
            },
            "type": "scatter"
           }
          ],
          "scatter3d": [
           {
            "line": {
             "colorbar": {
              "outlinewidth": 0,
              "ticks": ""
             }
            },
            "marker": {
             "colorbar": {
              "outlinewidth": 0,
              "ticks": ""
             }
            },
            "type": "scatter3d"
           }
          ],
          "scattercarpet": [
           {
            "marker": {
             "colorbar": {
              "outlinewidth": 0,
              "ticks": ""
             }
            },
            "type": "scattercarpet"
           }
          ],
          "scattergeo": [
           {
            "marker": {
             "colorbar": {
              "outlinewidth": 0,
              "ticks": ""
             }
            },
            "type": "scattergeo"
           }
          ],
          "scattergl": [
           {
            "marker": {
             "colorbar": {
              "outlinewidth": 0,
              "ticks": ""
             }
            },
            "type": "scattergl"
           }
          ],
          "scattermapbox": [
           {
            "marker": {
             "colorbar": {
              "outlinewidth": 0,
              "ticks": ""
             }
            },
            "type": "scattermapbox"
           }
          ],
          "scatterpolar": [
           {
            "marker": {
             "colorbar": {
              "outlinewidth": 0,
              "ticks": ""
             }
            },
            "type": "scatterpolar"
           }
          ],
          "scatterpolargl": [
           {
            "marker": {
             "colorbar": {
              "outlinewidth": 0,
              "ticks": ""
             }
            },
            "type": "scatterpolargl"
           }
          ],
          "scatterternary": [
           {
            "marker": {
             "colorbar": {
              "outlinewidth": 0,
              "ticks": ""
             }
            },
            "type": "scatterternary"
           }
          ],
          "surface": [
           {
            "colorbar": {
             "outlinewidth": 0,
             "ticks": ""
            },
            "colorscale": [
             [
              0,
              "#0d0887"
             ],
             [
              0.1111111111111111,
              "#46039f"
             ],
             [
              0.2222222222222222,
              "#7201a8"
             ],
             [
              0.3333333333333333,
              "#9c179e"
             ],
             [
              0.4444444444444444,
              "#bd3786"
             ],
             [
              0.5555555555555556,
              "#d8576b"
             ],
             [
              0.6666666666666666,
              "#ed7953"
             ],
             [
              0.7777777777777778,
              "#fb9f3a"
             ],
             [
              0.8888888888888888,
              "#fdca26"
             ],
             [
              1,
              "#f0f921"
             ]
            ],
            "type": "surface"
           }
          ],
          "table": [
           {
            "cells": {
             "fill": {
              "color": "#EBF0F8"
             },
             "line": {
              "color": "white"
             }
            },
            "header": {
             "fill": {
              "color": "#C8D4E3"
             },
             "line": {
              "color": "white"
             }
            },
            "type": "table"
           }
          ]
         },
         "layout": {
          "annotationdefaults": {
           "arrowcolor": "#2a3f5f",
           "arrowhead": 0,
           "arrowwidth": 1
          },
          "autotypenumbers": "strict",
          "coloraxis": {
           "colorbar": {
            "outlinewidth": 0,
            "ticks": ""
           }
          },
          "colorscale": {
           "diverging": [
            [
             0,
             "#8e0152"
            ],
            [
             0.1,
             "#c51b7d"
            ],
            [
             0.2,
             "#de77ae"
            ],
            [
             0.3,
             "#f1b6da"
            ],
            [
             0.4,
             "#fde0ef"
            ],
            [
             0.5,
             "#f7f7f7"
            ],
            [
             0.6,
             "#e6f5d0"
            ],
            [
             0.7,
             "#b8e186"
            ],
            [
             0.8,
             "#7fbc41"
            ],
            [
             0.9,
             "#4d9221"
            ],
            [
             1,
             "#276419"
            ]
           ],
           "sequential": [
            [
             0,
             "#0d0887"
            ],
            [
             0.1111111111111111,
             "#46039f"
            ],
            [
             0.2222222222222222,
             "#7201a8"
            ],
            [
             0.3333333333333333,
             "#9c179e"
            ],
            [
             0.4444444444444444,
             "#bd3786"
            ],
            [
             0.5555555555555556,
             "#d8576b"
            ],
            [
             0.6666666666666666,
             "#ed7953"
            ],
            [
             0.7777777777777778,
             "#fb9f3a"
            ],
            [
             0.8888888888888888,
             "#fdca26"
            ],
            [
             1,
             "#f0f921"
            ]
           ],
           "sequentialminus": [
            [
             0,
             "#0d0887"
            ],
            [
             0.1111111111111111,
             "#46039f"
            ],
            [
             0.2222222222222222,
             "#7201a8"
            ],
            [
             0.3333333333333333,
             "#9c179e"
            ],
            [
             0.4444444444444444,
             "#bd3786"
            ],
            [
             0.5555555555555556,
             "#d8576b"
            ],
            [
             0.6666666666666666,
             "#ed7953"
            ],
            [
             0.7777777777777778,
             "#fb9f3a"
            ],
            [
             0.8888888888888888,
             "#fdca26"
            ],
            [
             1,
             "#f0f921"
            ]
           ]
          },
          "colorway": [
           "#636efa",
           "#EF553B",
           "#00cc96",
           "#ab63fa",
           "#FFA15A",
           "#19d3f3",
           "#FF6692",
           "#B6E880",
           "#FF97FF",
           "#FECB52"
          ],
          "font": {
           "color": "#2a3f5f"
          },
          "geo": {
           "bgcolor": "white",
           "lakecolor": "white",
           "landcolor": "#E5ECF6",
           "showlakes": true,
           "showland": true,
           "subunitcolor": "white"
          },
          "hoverlabel": {
           "align": "left"
          },
          "hovermode": "closest",
          "mapbox": {
           "style": "light"
          },
          "paper_bgcolor": "white",
          "plot_bgcolor": "#E5ECF6",
          "polar": {
           "angularaxis": {
            "gridcolor": "white",
            "linecolor": "white",
            "ticks": ""
           },
           "bgcolor": "#E5ECF6",
           "radialaxis": {
            "gridcolor": "white",
            "linecolor": "white",
            "ticks": ""
           }
          },
          "scene": {
           "xaxis": {
            "backgroundcolor": "#E5ECF6",
            "gridcolor": "white",
            "gridwidth": 2,
            "linecolor": "white",
            "showbackground": true,
            "ticks": "",
            "zerolinecolor": "white"
           },
           "yaxis": {
            "backgroundcolor": "#E5ECF6",
            "gridcolor": "white",
            "gridwidth": 2,
            "linecolor": "white",
            "showbackground": true,
            "ticks": "",
            "zerolinecolor": "white"
           },
           "zaxis": {
            "backgroundcolor": "#E5ECF6",
            "gridcolor": "white",
            "gridwidth": 2,
            "linecolor": "white",
            "showbackground": true,
            "ticks": "",
            "zerolinecolor": "white"
           }
          },
          "shapedefaults": {
           "line": {
            "color": "#2a3f5f"
           }
          },
          "ternary": {
           "aaxis": {
            "gridcolor": "white",
            "linecolor": "white",
            "ticks": ""
           },
           "baxis": {
            "gridcolor": "white",
            "linecolor": "white",
            "ticks": ""
           },
           "bgcolor": "#E5ECF6",
           "caxis": {
            "gridcolor": "white",
            "linecolor": "white",
            "ticks": ""
           }
          },
          "title": {
           "x": 0.05
          },
          "xaxis": {
           "automargin": true,
           "gridcolor": "white",
           "linecolor": "white",
           "ticks": "",
           "title": {
            "standoff": 15
           },
           "zerolinecolor": "white",
           "zerolinewidth": 2
          },
          "yaxis": {
           "automargin": true,
           "gridcolor": "white",
           "linecolor": "white",
           "ticks": "",
           "title": {
            "standoff": 15
           },
           "zerolinecolor": "white",
           "zerolinewidth": 2
          }
         }
        },
        "title": {
         "text": "Distribuzione dell'Ampiezza in funzione di corrente e temperatura"
        },
        "width": 952,
        "xaxis": {
         "anchor": "y",
         "domain": [
          0,
          1
         ],
         "title": {
          "text": "Avg Temperature [K]"
         }
        },
        "yaxis": {
         "anchor": "x",
         "domain": [
          0,
          1
         ],
         "title": {
          "text": "Avg Current [A/cm2]"
         },
         "type": "log"
        }
       }
      },
      "text/html": [
       "<div>                            <div id=\"af77ebcf-f810-4864-945f-aa48d67463ae\" class=\"plotly-graph-div\" style=\"height:800px; width:952px;\"></div>            <script type=\"text/javascript\">                require([\"plotly\"], function(Plotly) {                    window.PLOTLYENV=window.PLOTLYENV || {};                                    if (document.getElementById(\"af77ebcf-f810-4864-945f-aa48d67463ae\")) {                    Plotly.newPlot(                        \"af77ebcf-f810-4864-945f-aa48d67463ae\",                        [{\"hovertemplate\":\"<b>%{hovertext}</b><br><br>Name=CA8_01_A<br>Avg Temperature [K]=%{x}<br>Avg Current [A/cm2]=%{y}<br>Avg Osc Amplitude [V/cm]=%{marker.size}<extra></extra>\",\"hovertext\":[\"CA8_01_A_square_waveform_value_3.5e-08A-20220422142852\",\"CA8_01_A_at_fixed_current_5e-7A-20220422113350\",\"CA8_01_A_at_fixed_current_1.42e-6A-20220421121309\",\"CA8_01_A_square_waveform_value_3e-08A-20220422141850\",\"CA8_01_A_at_fixed_current_3e-8A-20220422093131\",\"CA8_01_A_at_fixed_current_1.38e-6A-20220421120616\",\"CA8_01_A_at_fixed_current_1.40e-6A-20220421120923\",\"CA8_01_A_at_fixed_current_1.34e-6A-20220421120127\"],\"legendgroup\":\"CA8_01_A\",\"marker\":{\"color\":\"#636efa\",\"size\":[645.0878582335015,411.23395338602234,296.78792525925564,523.8906476311521,696.432225506685,299.4359940334905,297.7400277408892,302.580268874589],\"sizemode\":\"area\",\"sizeref\":0.19345339597407915,\"symbol\":\"circle\"},\"mode\":\"markers\",\"name\":\"CA8_01_A\",\"orientation\":\"v\",\"showlegend\":true,\"x\":[105.85239563370553,121.56470097801169,132.19992560956257,106.07287071781346,103.53033991530704,131.98404677135298,132.0995329773529,131.7580164938316],\"xaxis\":\"x\",\"y\":[1.4736842105263152e-06,2.1052631578947366e-05,5.978947368421052e-05,1.2631578947368422e-06,1.2631578947368424e-06,5.8105263157894754e-05,5.894736842105263e-05,5.642105263157895e-05],\"yaxis\":\"y\",\"type\":\"scatter\"},{\"hovertemplate\":\"<b>%{hovertext}</b><br><br>Name=CA12X_C5<br>Avg Temperature [K]=%{x}<br>Avg Current [A/cm2]=%{y}<br>Avg Osc Amplitude [V/cm]=%{marker.size}<extra></extra>\",\"hovertext\":[\"CA12X_C5_at_fixed_current_3.5e-7A-20220413144545\",\"CA12X_C5_at_fixed_current_4e-7A-20220413143802\",\"CA12X_C5_at_fixed_current_3e-7A-20220413144233\",\"CA12X_C5_at_fixed_current_4.5e-7A-20220413144649\"],\"legendgroup\":\"CA12X_C5\",\"marker\":{\"color\":\"#EF553B\",\"size\":[464.88990486565,466.8018790577342,448.8934867828613,460.42985214233846],\"sizemode\":\"area\",\"sizeref\":0.19345339597407915,\"symbol\":\"circle\"},\"mode\":\"markers\",\"name\":\"CA12X_C5\",\"orientation\":\"v\",\"showlegend\":true,\"x\":[113.08337975924059,113.17203493129978,113.11416565867678,113.07125061490896],\"xaxis\":\"x\",\"y\":[1.3523956723338486e-05,1.5455950540958272e-05,1.15919629057187e-05,1.7387944358578053e-05],\"yaxis\":\"y\",\"type\":\"scatter\"},{\"hovertemplate\":\"<b>%{hovertext}</b><br><br>Name=CA12X2_C1<br>Avg Temperature [K]=%{x}<br>Avg Current [A/cm2]=%{y}<br>Avg Osc Amplitude [V/cm]=%{marker.size}<extra></extra>\",\"hovertext\":[\"CA12X2_C1_current_square_waveform_value_1.6e-07A-20220428171247\",\"CA12X2_C1_at_fixed_current_1.6e-7A-20220428174333\",\"CA12X2_C1_current_square_waveform_value_3e-07A-20220428163159\",\"CA12X2_C1_at_fixed_current_6e-7A-20220428175416\"],\"legendgroup\":\"CA12X2_C1\",\"marker\":{\"color\":\"#00cc96\",\"size\":[87.82137981587147,83.93290185040803,123.33177608233278,111.77666491328381],\"sizemode\":\"area\",\"sizeref\":0.19345339597407915,\"symbol\":\"circle\"},\"mode\":\"markers\",\"name\":\"CA12X2_C1\",\"orientation\":\"v\",\"showlegend\":true,\"x\":[87.67652651507349,88.13331205816105,87.69734180557712,99.45432789000004],\"xaxis\":\"x\",\"y\":[2.7081922816519973e-06,2.7081922816519973e-06,5.077860528097494e-06,1.0155721056194987e-05],\"yaxis\":\"y\",\"type\":\"scatter\"}],                        {\"template\":{\"data\":{\"histogram2dcontour\":[{\"type\":\"histogram2dcontour\",\"colorbar\":{\"outlinewidth\":0,\"ticks\":\"\"},\"colorscale\":[[0.0,\"#0d0887\"],[0.1111111111111111,\"#46039f\"],[0.2222222222222222,\"#7201a8\"],[0.3333333333333333,\"#9c179e\"],[0.4444444444444444,\"#bd3786\"],[0.5555555555555556,\"#d8576b\"],[0.6666666666666666,\"#ed7953\"],[0.7777777777777778,\"#fb9f3a\"],[0.8888888888888888,\"#fdca26\"],[1.0,\"#f0f921\"]]}],\"choropleth\":[{\"type\":\"choropleth\",\"colorbar\":{\"outlinewidth\":0,\"ticks\":\"\"}}],\"histogram2d\":[{\"type\":\"histogram2d\",\"colorbar\":{\"outlinewidth\":0,\"ticks\":\"\"},\"colorscale\":[[0.0,\"#0d0887\"],[0.1111111111111111,\"#46039f\"],[0.2222222222222222,\"#7201a8\"],[0.3333333333333333,\"#9c179e\"],[0.4444444444444444,\"#bd3786\"],[0.5555555555555556,\"#d8576b\"],[0.6666666666666666,\"#ed7953\"],[0.7777777777777778,\"#fb9f3a\"],[0.8888888888888888,\"#fdca26\"],[1.0,\"#f0f921\"]]}],\"heatmap\":[{\"type\":\"heatmap\",\"colorbar\":{\"outlinewidth\":0,\"ticks\":\"\"},\"colorscale\":[[0.0,\"#0d0887\"],[0.1111111111111111,\"#46039f\"],[0.2222222222222222,\"#7201a8\"],[0.3333333333333333,\"#9c179e\"],[0.4444444444444444,\"#bd3786\"],[0.5555555555555556,\"#d8576b\"],[0.6666666666666666,\"#ed7953\"],[0.7777777777777778,\"#fb9f3a\"],[0.8888888888888888,\"#fdca26\"],[1.0,\"#f0f921\"]]}],\"heatmapgl\":[{\"type\":\"heatmapgl\",\"colorbar\":{\"outlinewidth\":0,\"ticks\":\"\"},\"colorscale\":[[0.0,\"#0d0887\"],[0.1111111111111111,\"#46039f\"],[0.2222222222222222,\"#7201a8\"],[0.3333333333333333,\"#9c179e\"],[0.4444444444444444,\"#bd3786\"],[0.5555555555555556,\"#d8576b\"],[0.6666666666666666,\"#ed7953\"],[0.7777777777777778,\"#fb9f3a\"],[0.8888888888888888,\"#fdca26\"],[1.0,\"#f0f921\"]]}],\"contourcarpet\":[{\"type\":\"contourcarpet\",\"colorbar\":{\"outlinewidth\":0,\"ticks\":\"\"}}],\"contour\":[{\"type\":\"contour\",\"colorbar\":{\"outlinewidth\":0,\"ticks\":\"\"},\"colorscale\":[[0.0,\"#0d0887\"],[0.1111111111111111,\"#46039f\"],[0.2222222222222222,\"#7201a8\"],[0.3333333333333333,\"#9c179e\"],[0.4444444444444444,\"#bd3786\"],[0.5555555555555556,\"#d8576b\"],[0.6666666666666666,\"#ed7953\"],[0.7777777777777778,\"#fb9f3a\"],[0.8888888888888888,\"#fdca26\"],[1.0,\"#f0f921\"]]}],\"surface\":[{\"type\":\"surface\",\"colorbar\":{\"outlinewidth\":0,\"ticks\":\"\"},\"colorscale\":[[0.0,\"#0d0887\"],[0.1111111111111111,\"#46039f\"],[0.2222222222222222,\"#7201a8\"],[0.3333333333333333,\"#9c179e\"],[0.4444444444444444,\"#bd3786\"],[0.5555555555555556,\"#d8576b\"],[0.6666666666666666,\"#ed7953\"],[0.7777777777777778,\"#fb9f3a\"],[0.8888888888888888,\"#fdca26\"],[1.0,\"#f0f921\"]]}],\"mesh3d\":[{\"type\":\"mesh3d\",\"colorbar\":{\"outlinewidth\":0,\"ticks\":\"\"}}],\"scatter\":[{\"fillpattern\":{\"fillmode\":\"overlay\",\"size\":10,\"solidity\":0.2},\"type\":\"scatter\"}],\"parcoords\":[{\"type\":\"parcoords\",\"line\":{\"colorbar\":{\"outlinewidth\":0,\"ticks\":\"\"}}}],\"scatterpolargl\":[{\"type\":\"scatterpolargl\",\"marker\":{\"colorbar\":{\"outlinewidth\":0,\"ticks\":\"\"}}}],\"bar\":[{\"error_x\":{\"color\":\"#2a3f5f\"},\"error_y\":{\"color\":\"#2a3f5f\"},\"marker\":{\"line\":{\"color\":\"#E5ECF6\",\"width\":0.5},\"pattern\":{\"fillmode\":\"overlay\",\"size\":10,\"solidity\":0.2}},\"type\":\"bar\"}],\"scattergeo\":[{\"type\":\"scattergeo\",\"marker\":{\"colorbar\":{\"outlinewidth\":0,\"ticks\":\"\"}}}],\"scatterpolar\":[{\"type\":\"scatterpolar\",\"marker\":{\"colorbar\":{\"outlinewidth\":0,\"ticks\":\"\"}}}],\"histogram\":[{\"marker\":{\"pattern\":{\"fillmode\":\"overlay\",\"size\":10,\"solidity\":0.2}},\"type\":\"histogram\"}],\"scattergl\":[{\"type\":\"scattergl\",\"marker\":{\"colorbar\":{\"outlinewidth\":0,\"ticks\":\"\"}}}],\"scatter3d\":[{\"type\":\"scatter3d\",\"line\":{\"colorbar\":{\"outlinewidth\":0,\"ticks\":\"\"}},\"marker\":{\"colorbar\":{\"outlinewidth\":0,\"ticks\":\"\"}}}],\"scattermapbox\":[{\"type\":\"scattermapbox\",\"marker\":{\"colorbar\":{\"outlinewidth\":0,\"ticks\":\"\"}}}],\"scatterternary\":[{\"type\":\"scatterternary\",\"marker\":{\"colorbar\":{\"outlinewidth\":0,\"ticks\":\"\"}}}],\"scattercarpet\":[{\"type\":\"scattercarpet\",\"marker\":{\"colorbar\":{\"outlinewidth\":0,\"ticks\":\"\"}}}],\"carpet\":[{\"aaxis\":{\"endlinecolor\":\"#2a3f5f\",\"gridcolor\":\"white\",\"linecolor\":\"white\",\"minorgridcolor\":\"white\",\"startlinecolor\":\"#2a3f5f\"},\"baxis\":{\"endlinecolor\":\"#2a3f5f\",\"gridcolor\":\"white\",\"linecolor\":\"white\",\"minorgridcolor\":\"white\",\"startlinecolor\":\"#2a3f5f\"},\"type\":\"carpet\"}],\"table\":[{\"cells\":{\"fill\":{\"color\":\"#EBF0F8\"},\"line\":{\"color\":\"white\"}},\"header\":{\"fill\":{\"color\":\"#C8D4E3\"},\"line\":{\"color\":\"white\"}},\"type\":\"table\"}],\"barpolar\":[{\"marker\":{\"line\":{\"color\":\"#E5ECF6\",\"width\":0.5},\"pattern\":{\"fillmode\":\"overlay\",\"size\":10,\"solidity\":0.2}},\"type\":\"barpolar\"}],\"pie\":[{\"automargin\":true,\"type\":\"pie\"}]},\"layout\":{\"autotypenumbers\":\"strict\",\"colorway\":[\"#636efa\",\"#EF553B\",\"#00cc96\",\"#ab63fa\",\"#FFA15A\",\"#19d3f3\",\"#FF6692\",\"#B6E880\",\"#FF97FF\",\"#FECB52\"],\"font\":{\"color\":\"#2a3f5f\"},\"hovermode\":\"closest\",\"hoverlabel\":{\"align\":\"left\"},\"paper_bgcolor\":\"white\",\"plot_bgcolor\":\"#E5ECF6\",\"polar\":{\"bgcolor\":\"#E5ECF6\",\"angularaxis\":{\"gridcolor\":\"white\",\"linecolor\":\"white\",\"ticks\":\"\"},\"radialaxis\":{\"gridcolor\":\"white\",\"linecolor\":\"white\",\"ticks\":\"\"}},\"ternary\":{\"bgcolor\":\"#E5ECF6\",\"aaxis\":{\"gridcolor\":\"white\",\"linecolor\":\"white\",\"ticks\":\"\"},\"baxis\":{\"gridcolor\":\"white\",\"linecolor\":\"white\",\"ticks\":\"\"},\"caxis\":{\"gridcolor\":\"white\",\"linecolor\":\"white\",\"ticks\":\"\"}},\"coloraxis\":{\"colorbar\":{\"outlinewidth\":0,\"ticks\":\"\"}},\"colorscale\":{\"sequential\":[[0.0,\"#0d0887\"],[0.1111111111111111,\"#46039f\"],[0.2222222222222222,\"#7201a8\"],[0.3333333333333333,\"#9c179e\"],[0.4444444444444444,\"#bd3786\"],[0.5555555555555556,\"#d8576b\"],[0.6666666666666666,\"#ed7953\"],[0.7777777777777778,\"#fb9f3a\"],[0.8888888888888888,\"#fdca26\"],[1.0,\"#f0f921\"]],\"sequentialminus\":[[0.0,\"#0d0887\"],[0.1111111111111111,\"#46039f\"],[0.2222222222222222,\"#7201a8\"],[0.3333333333333333,\"#9c179e\"],[0.4444444444444444,\"#bd3786\"],[0.5555555555555556,\"#d8576b\"],[0.6666666666666666,\"#ed7953\"],[0.7777777777777778,\"#fb9f3a\"],[0.8888888888888888,\"#fdca26\"],[1.0,\"#f0f921\"]],\"diverging\":[[0,\"#8e0152\"],[0.1,\"#c51b7d\"],[0.2,\"#de77ae\"],[0.3,\"#f1b6da\"],[0.4,\"#fde0ef\"],[0.5,\"#f7f7f7\"],[0.6,\"#e6f5d0\"],[0.7,\"#b8e186\"],[0.8,\"#7fbc41\"],[0.9,\"#4d9221\"],[1,\"#276419\"]]},\"xaxis\":{\"gridcolor\":\"white\",\"linecolor\":\"white\",\"ticks\":\"\",\"title\":{\"standoff\":15},\"zerolinecolor\":\"white\",\"automargin\":true,\"zerolinewidth\":2},\"yaxis\":{\"gridcolor\":\"white\",\"linecolor\":\"white\",\"ticks\":\"\",\"title\":{\"standoff\":15},\"zerolinecolor\":\"white\",\"automargin\":true,\"zerolinewidth\":2},\"scene\":{\"xaxis\":{\"backgroundcolor\":\"#E5ECF6\",\"gridcolor\":\"white\",\"linecolor\":\"white\",\"showbackground\":true,\"ticks\":\"\",\"zerolinecolor\":\"white\",\"gridwidth\":2},\"yaxis\":{\"backgroundcolor\":\"#E5ECF6\",\"gridcolor\":\"white\",\"linecolor\":\"white\",\"showbackground\":true,\"ticks\":\"\",\"zerolinecolor\":\"white\",\"gridwidth\":2},\"zaxis\":{\"backgroundcolor\":\"#E5ECF6\",\"gridcolor\":\"white\",\"linecolor\":\"white\",\"showbackground\":true,\"ticks\":\"\",\"zerolinecolor\":\"white\",\"gridwidth\":2}},\"shapedefaults\":{\"line\":{\"color\":\"#2a3f5f\"}},\"annotationdefaults\":{\"arrowcolor\":\"#2a3f5f\",\"arrowhead\":0,\"arrowwidth\":1},\"geo\":{\"bgcolor\":\"white\",\"landcolor\":\"#E5ECF6\",\"subunitcolor\":\"white\",\"showland\":true,\"showlakes\":true,\"lakecolor\":\"white\"},\"title\":{\"x\":0.05},\"mapbox\":{\"style\":\"light\"}}},\"xaxis\":{\"anchor\":\"y\",\"domain\":[0.0,1.0],\"title\":{\"text\":\"Avg Temperature [K]\"}},\"yaxis\":{\"anchor\":\"x\",\"domain\":[0.0,1.0],\"title\":{\"text\":\"Avg Current [A/cm2]\"},\"type\":\"log\"},\"legend\":{\"title\":{\"text\":\"Name\"},\"tracegroupgap\":0,\"itemsizing\":\"constant\"},\"title\":{\"text\":\"Distribuzione dell'Ampiezza in funzione di corrente e temperatura\"},\"height\":800,\"width\":952},                        {\"responsive\": true}                    ).then(function(){\n",
       "                            \n",
       "var gd = document.getElementById('af77ebcf-f810-4864-945f-aa48d67463ae');\n",
       "var x = new MutationObserver(function (mutations, observer) {{\n",
       "        var display = window.getComputedStyle(gd).display;\n",
       "        if (!display || display === 'none') {{\n",
       "            console.log([gd, 'removed!']);\n",
       "            Plotly.purge(gd);\n",
       "            observer.disconnect();\n",
       "        }}\n",
       "}});\n",
       "\n",
       "// Listen for the removal of the full notebook cells\n",
       "var notebookContainer = gd.closest('#notebook-container');\n",
       "if (notebookContainer) {{\n",
       "    x.observe(notebookContainer, {childList: true});\n",
       "}}\n",
       "\n",
       "// Listen for the clearing of the current output cell\n",
       "var outputEl = gd.closest('.output');\n",
       "if (outputEl) {{\n",
       "    x.observe(outputEl, {childList: true});\n",
       "}}\n",
       "\n",
       "                        })                };                });            </script>        </div>"
      ]
     },
     "metadata": {},
     "output_type": "display_data"
    },
    {
     "data": {
      "application/vnd.plotly.v1+json": {
       "config": {
        "plotlyServerURL": "https://plot.ly"
       },
       "data": [
        {
         "hovertemplate": "<b>%{hovertext}</b><br><br>Name=CA8_01_A<br>Avg Temperature [K]=%{x}<br>Avg Current [A/cm2]=%{y}<br>Avg Osc Period [ms]=%{marker.size}<extra></extra>",
         "hovertext": [
          "CA8_01_A_square_waveform_value_3.5e-08A-20220422142852",
          "CA8_01_A_at_fixed_current_5e-7A-20220422113350",
          "CA8_01_A_at_fixed_current_1.42e-6A-20220421121309",
          "CA8_01_A_square_waveform_value_3e-08A-20220422141850",
          "CA8_01_A_at_fixed_current_3e-8A-20220422093131",
          "CA8_01_A_at_fixed_current_1.38e-6A-20220421120616",
          "CA8_01_A_at_fixed_current_1.40e-6A-20220421120923",
          "CA8_01_A_at_fixed_current_1.34e-6A-20220421120127"
         ],
         "legendgroup": "CA8_01_A",
         "marker": {
          "color": "#636efa",
          "size": [
           4108.074074074074,
           2214.310344827586,
           2642.083333333333,
           15869.428571428569,
           4043.5454545454545,
           2645.3,
           2643.3125,
           2617.576923076923
          ],
          "sizemode": "area",
          "sizeref": 4.4081746031746025,
          "symbol": "circle"
         },
         "mode": "markers",
         "name": "CA8_01_A",
         "orientation": "v",
         "showlegend": true,
         "type": "scatter",
         "x": [
          105.85239563370553,
          121.56470097801169,
          132.19992560956257,
          106.07287071781346,
          103.53033991530704,
          131.98404677135298,
          132.0995329773529,
          131.7580164938316
         ],
         "xaxis": "x",
         "y": [
          1.4736842105263152e-06,
          2.1052631578947366e-05,
          5.978947368421052e-05,
          1.2631578947368422e-06,
          1.2631578947368424e-06,
          5.8105263157894754e-05,
          5.894736842105263e-05,
          5.642105263157895e-05
         ],
         "yaxis": "y"
        },
        {
         "hovertemplate": "<b>%{hovertext}</b><br><br>Name=CA12X_C5<br>Avg Temperature [K]=%{x}<br>Avg Current [A/cm2]=%{y}<br>Avg Osc Period [ms]=%{marker.size}<extra></extra>",
         "hovertext": [
          "CA12X_C5_at_fixed_current_3.5e-7A-20220413144545",
          "CA12X_C5_at_fixed_current_4e-7A-20220413143802",
          "CA12X_C5_at_fixed_current_3e-7A-20220413144233",
          "CA12X_C5_at_fixed_current_4.5e-7A-20220413144649"
         ],
         "legendgroup": "CA12X_C5",
         "marker": {
          "color": "#EF553B",
          "size": [
           2597.428571428572,
           2605.454545454545,
           2588.5714285714284,
           2488.75
          ],
          "sizemode": "area",
          "sizeref": 4.4081746031746025,
          "symbol": "circle"
         },
         "mode": "markers",
         "name": "CA12X_C5",
         "orientation": "v",
         "showlegend": true,
         "type": "scatter",
         "x": [
          113.08337975924059,
          113.17203493129978,
          113.11416565867678,
          113.07125061490896
         ],
         "xaxis": "x",
         "y": [
          1.3523956723338486e-05,
          1.5455950540958272e-05,
          1.15919629057187e-05,
          1.7387944358578053e-05
         ],
         "yaxis": "y"
        },
        {
         "hovertemplate": "<b>%{hovertext}</b><br><br>Name=CA12X2_C1<br>Avg Temperature [K]=%{x}<br>Avg Current [A/cm2]=%{y}<br>Avg Osc Period [ms]=%{marker.size}<extra></extra>",
         "hovertext": [
          "CA12X2_C1_current_square_waveform_value_1.6e-07A-20220428171247",
          "CA12X2_C1_at_fixed_current_1.6e-7A-20220428174333",
          "CA12X2_C1_current_square_waveform_value_3e-07A-20220428163159",
          "CA12X2_C1_at_fixed_current_6e-7A-20220428175416"
         ],
         "legendgroup": "CA12X2_C1",
         "marker": {
          "color": "#00cc96",
          "size": [
           2112.5625,
           2202.5517241379307,
           2188.6363636363635,
           2182.75
          ],
          "sizemode": "area",
          "sizeref": 4.4081746031746025,
          "symbol": "circle"
         },
         "mode": "markers",
         "name": "CA12X2_C1",
         "orientation": "v",
         "showlegend": true,
         "type": "scatter",
         "x": [
          87.67652651507349,
          88.13331205816105,
          87.69734180557712,
          99.45432789000004
         ],
         "xaxis": "x",
         "y": [
          2.7081922816519973e-06,
          2.7081922816519973e-06,
          5.077860528097494e-06,
          1.0155721056194987e-05
         ],
         "yaxis": "y"
        }
       ],
       "layout": {
        "height": 800,
        "legend": {
         "itemsizing": "constant",
         "title": {
          "text": "Name"
         },
         "tracegroupgap": 0
        },
        "template": {
         "data": {
          "bar": [
           {
            "error_x": {
             "color": "#2a3f5f"
            },
            "error_y": {
             "color": "#2a3f5f"
            },
            "marker": {
             "line": {
              "color": "#E5ECF6",
              "width": 0.5
             },
             "pattern": {
              "fillmode": "overlay",
              "size": 10,
              "solidity": 0.2
             }
            },
            "type": "bar"
           }
          ],
          "barpolar": [
           {
            "marker": {
             "line": {
              "color": "#E5ECF6",
              "width": 0.5
             },
             "pattern": {
              "fillmode": "overlay",
              "size": 10,
              "solidity": 0.2
             }
            },
            "type": "barpolar"
           }
          ],
          "carpet": [
           {
            "aaxis": {
             "endlinecolor": "#2a3f5f",
             "gridcolor": "white",
             "linecolor": "white",
             "minorgridcolor": "white",
             "startlinecolor": "#2a3f5f"
            },
            "baxis": {
             "endlinecolor": "#2a3f5f",
             "gridcolor": "white",
             "linecolor": "white",
             "minorgridcolor": "white",
             "startlinecolor": "#2a3f5f"
            },
            "type": "carpet"
           }
          ],
          "choropleth": [
           {
            "colorbar": {
             "outlinewidth": 0,
             "ticks": ""
            },
            "type": "choropleth"
           }
          ],
          "contour": [
           {
            "colorbar": {
             "outlinewidth": 0,
             "ticks": ""
            },
            "colorscale": [
             [
              0,
              "#0d0887"
             ],
             [
              0.1111111111111111,
              "#46039f"
             ],
             [
              0.2222222222222222,
              "#7201a8"
             ],
             [
              0.3333333333333333,
              "#9c179e"
             ],
             [
              0.4444444444444444,
              "#bd3786"
             ],
             [
              0.5555555555555556,
              "#d8576b"
             ],
             [
              0.6666666666666666,
              "#ed7953"
             ],
             [
              0.7777777777777778,
              "#fb9f3a"
             ],
             [
              0.8888888888888888,
              "#fdca26"
             ],
             [
              1,
              "#f0f921"
             ]
            ],
            "type": "contour"
           }
          ],
          "contourcarpet": [
           {
            "colorbar": {
             "outlinewidth": 0,
             "ticks": ""
            },
            "type": "contourcarpet"
           }
          ],
          "heatmap": [
           {
            "colorbar": {
             "outlinewidth": 0,
             "ticks": ""
            },
            "colorscale": [
             [
              0,
              "#0d0887"
             ],
             [
              0.1111111111111111,
              "#46039f"
             ],
             [
              0.2222222222222222,
              "#7201a8"
             ],
             [
              0.3333333333333333,
              "#9c179e"
             ],
             [
              0.4444444444444444,
              "#bd3786"
             ],
             [
              0.5555555555555556,
              "#d8576b"
             ],
             [
              0.6666666666666666,
              "#ed7953"
             ],
             [
              0.7777777777777778,
              "#fb9f3a"
             ],
             [
              0.8888888888888888,
              "#fdca26"
             ],
             [
              1,
              "#f0f921"
             ]
            ],
            "type": "heatmap"
           }
          ],
          "heatmapgl": [
           {
            "colorbar": {
             "outlinewidth": 0,
             "ticks": ""
            },
            "colorscale": [
             [
              0,
              "#0d0887"
             ],
             [
              0.1111111111111111,
              "#46039f"
             ],
             [
              0.2222222222222222,
              "#7201a8"
             ],
             [
              0.3333333333333333,
              "#9c179e"
             ],
             [
              0.4444444444444444,
              "#bd3786"
             ],
             [
              0.5555555555555556,
              "#d8576b"
             ],
             [
              0.6666666666666666,
              "#ed7953"
             ],
             [
              0.7777777777777778,
              "#fb9f3a"
             ],
             [
              0.8888888888888888,
              "#fdca26"
             ],
             [
              1,
              "#f0f921"
             ]
            ],
            "type": "heatmapgl"
           }
          ],
          "histogram": [
           {
            "marker": {
             "pattern": {
              "fillmode": "overlay",
              "size": 10,
              "solidity": 0.2
             }
            },
            "type": "histogram"
           }
          ],
          "histogram2d": [
           {
            "colorbar": {
             "outlinewidth": 0,
             "ticks": ""
            },
            "colorscale": [
             [
              0,
              "#0d0887"
             ],
             [
              0.1111111111111111,
              "#46039f"
             ],
             [
              0.2222222222222222,
              "#7201a8"
             ],
             [
              0.3333333333333333,
              "#9c179e"
             ],
             [
              0.4444444444444444,
              "#bd3786"
             ],
             [
              0.5555555555555556,
              "#d8576b"
             ],
             [
              0.6666666666666666,
              "#ed7953"
             ],
             [
              0.7777777777777778,
              "#fb9f3a"
             ],
             [
              0.8888888888888888,
              "#fdca26"
             ],
             [
              1,
              "#f0f921"
             ]
            ],
            "type": "histogram2d"
           }
          ],
          "histogram2dcontour": [
           {
            "colorbar": {
             "outlinewidth": 0,
             "ticks": ""
            },
            "colorscale": [
             [
              0,
              "#0d0887"
             ],
             [
              0.1111111111111111,
              "#46039f"
             ],
             [
              0.2222222222222222,
              "#7201a8"
             ],
             [
              0.3333333333333333,
              "#9c179e"
             ],
             [
              0.4444444444444444,
              "#bd3786"
             ],
             [
              0.5555555555555556,
              "#d8576b"
             ],
             [
              0.6666666666666666,
              "#ed7953"
             ],
             [
              0.7777777777777778,
              "#fb9f3a"
             ],
             [
              0.8888888888888888,
              "#fdca26"
             ],
             [
              1,
              "#f0f921"
             ]
            ],
            "type": "histogram2dcontour"
           }
          ],
          "mesh3d": [
           {
            "colorbar": {
             "outlinewidth": 0,
             "ticks": ""
            },
            "type": "mesh3d"
           }
          ],
          "parcoords": [
           {
            "line": {
             "colorbar": {
              "outlinewidth": 0,
              "ticks": ""
             }
            },
            "type": "parcoords"
           }
          ],
          "pie": [
           {
            "automargin": true,
            "type": "pie"
           }
          ],
          "scatter": [
           {
            "fillpattern": {
             "fillmode": "overlay",
             "size": 10,
             "solidity": 0.2
            },
            "type": "scatter"
           }
          ],
          "scatter3d": [
           {
            "line": {
             "colorbar": {
              "outlinewidth": 0,
              "ticks": ""
             }
            },
            "marker": {
             "colorbar": {
              "outlinewidth": 0,
              "ticks": ""
             }
            },
            "type": "scatter3d"
           }
          ],
          "scattercarpet": [
           {
            "marker": {
             "colorbar": {
              "outlinewidth": 0,
              "ticks": ""
             }
            },
            "type": "scattercarpet"
           }
          ],
          "scattergeo": [
           {
            "marker": {
             "colorbar": {
              "outlinewidth": 0,
              "ticks": ""
             }
            },
            "type": "scattergeo"
           }
          ],
          "scattergl": [
           {
            "marker": {
             "colorbar": {
              "outlinewidth": 0,
              "ticks": ""
             }
            },
            "type": "scattergl"
           }
          ],
          "scattermapbox": [
           {
            "marker": {
             "colorbar": {
              "outlinewidth": 0,
              "ticks": ""
             }
            },
            "type": "scattermapbox"
           }
          ],
          "scatterpolar": [
           {
            "marker": {
             "colorbar": {
              "outlinewidth": 0,
              "ticks": ""
             }
            },
            "type": "scatterpolar"
           }
          ],
          "scatterpolargl": [
           {
            "marker": {
             "colorbar": {
              "outlinewidth": 0,
              "ticks": ""
             }
            },
            "type": "scatterpolargl"
           }
          ],
          "scatterternary": [
           {
            "marker": {
             "colorbar": {
              "outlinewidth": 0,
              "ticks": ""
             }
            },
            "type": "scatterternary"
           }
          ],
          "surface": [
           {
            "colorbar": {
             "outlinewidth": 0,
             "ticks": ""
            },
            "colorscale": [
             [
              0,
              "#0d0887"
             ],
             [
              0.1111111111111111,
              "#46039f"
             ],
             [
              0.2222222222222222,
              "#7201a8"
             ],
             [
              0.3333333333333333,
              "#9c179e"
             ],
             [
              0.4444444444444444,
              "#bd3786"
             ],
             [
              0.5555555555555556,
              "#d8576b"
             ],
             [
              0.6666666666666666,
              "#ed7953"
             ],
             [
              0.7777777777777778,
              "#fb9f3a"
             ],
             [
              0.8888888888888888,
              "#fdca26"
             ],
             [
              1,
              "#f0f921"
             ]
            ],
            "type": "surface"
           }
          ],
          "table": [
           {
            "cells": {
             "fill": {
              "color": "#EBF0F8"
             },
             "line": {
              "color": "white"
             }
            },
            "header": {
             "fill": {
              "color": "#C8D4E3"
             },
             "line": {
              "color": "white"
             }
            },
            "type": "table"
           }
          ]
         },
         "layout": {
          "annotationdefaults": {
           "arrowcolor": "#2a3f5f",
           "arrowhead": 0,
           "arrowwidth": 1
          },
          "autotypenumbers": "strict",
          "coloraxis": {
           "colorbar": {
            "outlinewidth": 0,
            "ticks": ""
           }
          },
          "colorscale": {
           "diverging": [
            [
             0,
             "#8e0152"
            ],
            [
             0.1,
             "#c51b7d"
            ],
            [
             0.2,
             "#de77ae"
            ],
            [
             0.3,
             "#f1b6da"
            ],
            [
             0.4,
             "#fde0ef"
            ],
            [
             0.5,
             "#f7f7f7"
            ],
            [
             0.6,
             "#e6f5d0"
            ],
            [
             0.7,
             "#b8e186"
            ],
            [
             0.8,
             "#7fbc41"
            ],
            [
             0.9,
             "#4d9221"
            ],
            [
             1,
             "#276419"
            ]
           ],
           "sequential": [
            [
             0,
             "#0d0887"
            ],
            [
             0.1111111111111111,
             "#46039f"
            ],
            [
             0.2222222222222222,
             "#7201a8"
            ],
            [
             0.3333333333333333,
             "#9c179e"
            ],
            [
             0.4444444444444444,
             "#bd3786"
            ],
            [
             0.5555555555555556,
             "#d8576b"
            ],
            [
             0.6666666666666666,
             "#ed7953"
            ],
            [
             0.7777777777777778,
             "#fb9f3a"
            ],
            [
             0.8888888888888888,
             "#fdca26"
            ],
            [
             1,
             "#f0f921"
            ]
           ],
           "sequentialminus": [
            [
             0,
             "#0d0887"
            ],
            [
             0.1111111111111111,
             "#46039f"
            ],
            [
             0.2222222222222222,
             "#7201a8"
            ],
            [
             0.3333333333333333,
             "#9c179e"
            ],
            [
             0.4444444444444444,
             "#bd3786"
            ],
            [
             0.5555555555555556,
             "#d8576b"
            ],
            [
             0.6666666666666666,
             "#ed7953"
            ],
            [
             0.7777777777777778,
             "#fb9f3a"
            ],
            [
             0.8888888888888888,
             "#fdca26"
            ],
            [
             1,
             "#f0f921"
            ]
           ]
          },
          "colorway": [
           "#636efa",
           "#EF553B",
           "#00cc96",
           "#ab63fa",
           "#FFA15A",
           "#19d3f3",
           "#FF6692",
           "#B6E880",
           "#FF97FF",
           "#FECB52"
          ],
          "font": {
           "color": "#2a3f5f"
          },
          "geo": {
           "bgcolor": "white",
           "lakecolor": "white",
           "landcolor": "#E5ECF6",
           "showlakes": true,
           "showland": true,
           "subunitcolor": "white"
          },
          "hoverlabel": {
           "align": "left"
          },
          "hovermode": "closest",
          "mapbox": {
           "style": "light"
          },
          "paper_bgcolor": "white",
          "plot_bgcolor": "#E5ECF6",
          "polar": {
           "angularaxis": {
            "gridcolor": "white",
            "linecolor": "white",
            "ticks": ""
           },
           "bgcolor": "#E5ECF6",
           "radialaxis": {
            "gridcolor": "white",
            "linecolor": "white",
            "ticks": ""
           }
          },
          "scene": {
           "xaxis": {
            "backgroundcolor": "#E5ECF6",
            "gridcolor": "white",
            "gridwidth": 2,
            "linecolor": "white",
            "showbackground": true,
            "ticks": "",
            "zerolinecolor": "white"
           },
           "yaxis": {
            "backgroundcolor": "#E5ECF6",
            "gridcolor": "white",
            "gridwidth": 2,
            "linecolor": "white",
            "showbackground": true,
            "ticks": "",
            "zerolinecolor": "white"
           },
           "zaxis": {
            "backgroundcolor": "#E5ECF6",
            "gridcolor": "white",
            "gridwidth": 2,
            "linecolor": "white",
            "showbackground": true,
            "ticks": "",
            "zerolinecolor": "white"
           }
          },
          "shapedefaults": {
           "line": {
            "color": "#2a3f5f"
           }
          },
          "ternary": {
           "aaxis": {
            "gridcolor": "white",
            "linecolor": "white",
            "ticks": ""
           },
           "baxis": {
            "gridcolor": "white",
            "linecolor": "white",
            "ticks": ""
           },
           "bgcolor": "#E5ECF6",
           "caxis": {
            "gridcolor": "white",
            "linecolor": "white",
            "ticks": ""
           }
          },
          "title": {
           "x": 0.05
          },
          "xaxis": {
           "automargin": true,
           "gridcolor": "white",
           "linecolor": "white",
           "ticks": "",
           "title": {
            "standoff": 15
           },
           "zerolinecolor": "white",
           "zerolinewidth": 2
          },
          "yaxis": {
           "automargin": true,
           "gridcolor": "white",
           "linecolor": "white",
           "ticks": "",
           "title": {
            "standoff": 15
           },
           "zerolinecolor": "white",
           "zerolinewidth": 2
          }
         }
        },
        "title": {
         "text": "Distribuzione del Periodo in funzione della corrente e temperatura"
        },
        "width": 952,
        "xaxis": {
         "anchor": "y",
         "domain": [
          0,
          1
         ],
         "title": {
          "text": "Avg Temperature [K]"
         }
        },
        "yaxis": {
         "anchor": "x",
         "domain": [
          0,
          1
         ],
         "title": {
          "text": "Avg Current [A/cm2]"
         },
         "type": "log"
        }
       }
      },
      "text/html": [
       "<div>                            <div id=\"7bdc1010-00a8-4c88-965b-6a6050848e8f\" class=\"plotly-graph-div\" style=\"height:800px; width:952px;\"></div>            <script type=\"text/javascript\">                require([\"plotly\"], function(Plotly) {                    window.PLOTLYENV=window.PLOTLYENV || {};                                    if (document.getElementById(\"7bdc1010-00a8-4c88-965b-6a6050848e8f\")) {                    Plotly.newPlot(                        \"7bdc1010-00a8-4c88-965b-6a6050848e8f\",                        [{\"hovertemplate\":\"<b>%{hovertext}</b><br><br>Name=CA8_01_A<br>Avg Temperature [K]=%{x}<br>Avg Current [A/cm2]=%{y}<br>Avg Osc Period [ms]=%{marker.size}<extra></extra>\",\"hovertext\":[\"CA8_01_A_square_waveform_value_3.5e-08A-20220422142852\",\"CA8_01_A_at_fixed_current_5e-7A-20220422113350\",\"CA8_01_A_at_fixed_current_1.42e-6A-20220421121309\",\"CA8_01_A_square_waveform_value_3e-08A-20220422141850\",\"CA8_01_A_at_fixed_current_3e-8A-20220422093131\",\"CA8_01_A_at_fixed_current_1.38e-6A-20220421120616\",\"CA8_01_A_at_fixed_current_1.40e-6A-20220421120923\",\"CA8_01_A_at_fixed_current_1.34e-6A-20220421120127\"],\"legendgroup\":\"CA8_01_A\",\"marker\":{\"color\":\"#636efa\",\"size\":[4108.074074074074,2214.310344827586,2642.083333333333,15869.428571428569,4043.5454545454545,2645.3,2643.3125,2617.576923076923],\"sizemode\":\"area\",\"sizeref\":4.4081746031746025,\"symbol\":\"circle\"},\"mode\":\"markers\",\"name\":\"CA8_01_A\",\"orientation\":\"v\",\"showlegend\":true,\"x\":[105.85239563370553,121.56470097801169,132.19992560956257,106.07287071781346,103.53033991530704,131.98404677135298,132.0995329773529,131.7580164938316],\"xaxis\":\"x\",\"y\":[1.4736842105263152e-06,2.1052631578947366e-05,5.978947368421052e-05,1.2631578947368422e-06,1.2631578947368424e-06,5.8105263157894754e-05,5.894736842105263e-05,5.642105263157895e-05],\"yaxis\":\"y\",\"type\":\"scatter\"},{\"hovertemplate\":\"<b>%{hovertext}</b><br><br>Name=CA12X_C5<br>Avg Temperature [K]=%{x}<br>Avg Current [A/cm2]=%{y}<br>Avg Osc Period [ms]=%{marker.size}<extra></extra>\",\"hovertext\":[\"CA12X_C5_at_fixed_current_3.5e-7A-20220413144545\",\"CA12X_C5_at_fixed_current_4e-7A-20220413143802\",\"CA12X_C5_at_fixed_current_3e-7A-20220413144233\",\"CA12X_C5_at_fixed_current_4.5e-7A-20220413144649\"],\"legendgroup\":\"CA12X_C5\",\"marker\":{\"color\":\"#EF553B\",\"size\":[2597.428571428572,2605.454545454545,2588.5714285714284,2488.75],\"sizemode\":\"area\",\"sizeref\":4.4081746031746025,\"symbol\":\"circle\"},\"mode\":\"markers\",\"name\":\"CA12X_C5\",\"orientation\":\"v\",\"showlegend\":true,\"x\":[113.08337975924059,113.17203493129978,113.11416565867678,113.07125061490896],\"xaxis\":\"x\",\"y\":[1.3523956723338486e-05,1.5455950540958272e-05,1.15919629057187e-05,1.7387944358578053e-05],\"yaxis\":\"y\",\"type\":\"scatter\"},{\"hovertemplate\":\"<b>%{hovertext}</b><br><br>Name=CA12X2_C1<br>Avg Temperature [K]=%{x}<br>Avg Current [A/cm2]=%{y}<br>Avg Osc Period [ms]=%{marker.size}<extra></extra>\",\"hovertext\":[\"CA12X2_C1_current_square_waveform_value_1.6e-07A-20220428171247\",\"CA12X2_C1_at_fixed_current_1.6e-7A-20220428174333\",\"CA12X2_C1_current_square_waveform_value_3e-07A-20220428163159\",\"CA12X2_C1_at_fixed_current_6e-7A-20220428175416\"],\"legendgroup\":\"CA12X2_C1\",\"marker\":{\"color\":\"#00cc96\",\"size\":[2112.5625,2202.5517241379307,2188.6363636363635,2182.75],\"sizemode\":\"area\",\"sizeref\":4.4081746031746025,\"symbol\":\"circle\"},\"mode\":\"markers\",\"name\":\"CA12X2_C1\",\"orientation\":\"v\",\"showlegend\":true,\"x\":[87.67652651507349,88.13331205816105,87.69734180557712,99.45432789000004],\"xaxis\":\"x\",\"y\":[2.7081922816519973e-06,2.7081922816519973e-06,5.077860528097494e-06,1.0155721056194987e-05],\"yaxis\":\"y\",\"type\":\"scatter\"}],                        {\"template\":{\"data\":{\"histogram2dcontour\":[{\"type\":\"histogram2dcontour\",\"colorbar\":{\"outlinewidth\":0,\"ticks\":\"\"},\"colorscale\":[[0.0,\"#0d0887\"],[0.1111111111111111,\"#46039f\"],[0.2222222222222222,\"#7201a8\"],[0.3333333333333333,\"#9c179e\"],[0.4444444444444444,\"#bd3786\"],[0.5555555555555556,\"#d8576b\"],[0.6666666666666666,\"#ed7953\"],[0.7777777777777778,\"#fb9f3a\"],[0.8888888888888888,\"#fdca26\"],[1.0,\"#f0f921\"]]}],\"choropleth\":[{\"type\":\"choropleth\",\"colorbar\":{\"outlinewidth\":0,\"ticks\":\"\"}}],\"histogram2d\":[{\"type\":\"histogram2d\",\"colorbar\":{\"outlinewidth\":0,\"ticks\":\"\"},\"colorscale\":[[0.0,\"#0d0887\"],[0.1111111111111111,\"#46039f\"],[0.2222222222222222,\"#7201a8\"],[0.3333333333333333,\"#9c179e\"],[0.4444444444444444,\"#bd3786\"],[0.5555555555555556,\"#d8576b\"],[0.6666666666666666,\"#ed7953\"],[0.7777777777777778,\"#fb9f3a\"],[0.8888888888888888,\"#fdca26\"],[1.0,\"#f0f921\"]]}],\"heatmap\":[{\"type\":\"heatmap\",\"colorbar\":{\"outlinewidth\":0,\"ticks\":\"\"},\"colorscale\":[[0.0,\"#0d0887\"],[0.1111111111111111,\"#46039f\"],[0.2222222222222222,\"#7201a8\"],[0.3333333333333333,\"#9c179e\"],[0.4444444444444444,\"#bd3786\"],[0.5555555555555556,\"#d8576b\"],[0.6666666666666666,\"#ed7953\"],[0.7777777777777778,\"#fb9f3a\"],[0.8888888888888888,\"#fdca26\"],[1.0,\"#f0f921\"]]}],\"heatmapgl\":[{\"type\":\"heatmapgl\",\"colorbar\":{\"outlinewidth\":0,\"ticks\":\"\"},\"colorscale\":[[0.0,\"#0d0887\"],[0.1111111111111111,\"#46039f\"],[0.2222222222222222,\"#7201a8\"],[0.3333333333333333,\"#9c179e\"],[0.4444444444444444,\"#bd3786\"],[0.5555555555555556,\"#d8576b\"],[0.6666666666666666,\"#ed7953\"],[0.7777777777777778,\"#fb9f3a\"],[0.8888888888888888,\"#fdca26\"],[1.0,\"#f0f921\"]]}],\"contourcarpet\":[{\"type\":\"contourcarpet\",\"colorbar\":{\"outlinewidth\":0,\"ticks\":\"\"}}],\"contour\":[{\"type\":\"contour\",\"colorbar\":{\"outlinewidth\":0,\"ticks\":\"\"},\"colorscale\":[[0.0,\"#0d0887\"],[0.1111111111111111,\"#46039f\"],[0.2222222222222222,\"#7201a8\"],[0.3333333333333333,\"#9c179e\"],[0.4444444444444444,\"#bd3786\"],[0.5555555555555556,\"#d8576b\"],[0.6666666666666666,\"#ed7953\"],[0.7777777777777778,\"#fb9f3a\"],[0.8888888888888888,\"#fdca26\"],[1.0,\"#f0f921\"]]}],\"surface\":[{\"type\":\"surface\",\"colorbar\":{\"outlinewidth\":0,\"ticks\":\"\"},\"colorscale\":[[0.0,\"#0d0887\"],[0.1111111111111111,\"#46039f\"],[0.2222222222222222,\"#7201a8\"],[0.3333333333333333,\"#9c179e\"],[0.4444444444444444,\"#bd3786\"],[0.5555555555555556,\"#d8576b\"],[0.6666666666666666,\"#ed7953\"],[0.7777777777777778,\"#fb9f3a\"],[0.8888888888888888,\"#fdca26\"],[1.0,\"#f0f921\"]]}],\"mesh3d\":[{\"type\":\"mesh3d\",\"colorbar\":{\"outlinewidth\":0,\"ticks\":\"\"}}],\"scatter\":[{\"fillpattern\":{\"fillmode\":\"overlay\",\"size\":10,\"solidity\":0.2},\"type\":\"scatter\"}],\"parcoords\":[{\"type\":\"parcoords\",\"line\":{\"colorbar\":{\"outlinewidth\":0,\"ticks\":\"\"}}}],\"scatterpolargl\":[{\"type\":\"scatterpolargl\",\"marker\":{\"colorbar\":{\"outlinewidth\":0,\"ticks\":\"\"}}}],\"bar\":[{\"error_x\":{\"color\":\"#2a3f5f\"},\"error_y\":{\"color\":\"#2a3f5f\"},\"marker\":{\"line\":{\"color\":\"#E5ECF6\",\"width\":0.5},\"pattern\":{\"fillmode\":\"overlay\",\"size\":10,\"solidity\":0.2}},\"type\":\"bar\"}],\"scattergeo\":[{\"type\":\"scattergeo\",\"marker\":{\"colorbar\":{\"outlinewidth\":0,\"ticks\":\"\"}}}],\"scatterpolar\":[{\"type\":\"scatterpolar\",\"marker\":{\"colorbar\":{\"outlinewidth\":0,\"ticks\":\"\"}}}],\"histogram\":[{\"marker\":{\"pattern\":{\"fillmode\":\"overlay\",\"size\":10,\"solidity\":0.2}},\"type\":\"histogram\"}],\"scattergl\":[{\"type\":\"scattergl\",\"marker\":{\"colorbar\":{\"outlinewidth\":0,\"ticks\":\"\"}}}],\"scatter3d\":[{\"type\":\"scatter3d\",\"line\":{\"colorbar\":{\"outlinewidth\":0,\"ticks\":\"\"}},\"marker\":{\"colorbar\":{\"outlinewidth\":0,\"ticks\":\"\"}}}],\"scattermapbox\":[{\"type\":\"scattermapbox\",\"marker\":{\"colorbar\":{\"outlinewidth\":0,\"ticks\":\"\"}}}],\"scatterternary\":[{\"type\":\"scatterternary\",\"marker\":{\"colorbar\":{\"outlinewidth\":0,\"ticks\":\"\"}}}],\"scattercarpet\":[{\"type\":\"scattercarpet\",\"marker\":{\"colorbar\":{\"outlinewidth\":0,\"ticks\":\"\"}}}],\"carpet\":[{\"aaxis\":{\"endlinecolor\":\"#2a3f5f\",\"gridcolor\":\"white\",\"linecolor\":\"white\",\"minorgridcolor\":\"white\",\"startlinecolor\":\"#2a3f5f\"},\"baxis\":{\"endlinecolor\":\"#2a3f5f\",\"gridcolor\":\"white\",\"linecolor\":\"white\",\"minorgridcolor\":\"white\",\"startlinecolor\":\"#2a3f5f\"},\"type\":\"carpet\"}],\"table\":[{\"cells\":{\"fill\":{\"color\":\"#EBF0F8\"},\"line\":{\"color\":\"white\"}},\"header\":{\"fill\":{\"color\":\"#C8D4E3\"},\"line\":{\"color\":\"white\"}},\"type\":\"table\"}],\"barpolar\":[{\"marker\":{\"line\":{\"color\":\"#E5ECF6\",\"width\":0.5},\"pattern\":{\"fillmode\":\"overlay\",\"size\":10,\"solidity\":0.2}},\"type\":\"barpolar\"}],\"pie\":[{\"automargin\":true,\"type\":\"pie\"}]},\"layout\":{\"autotypenumbers\":\"strict\",\"colorway\":[\"#636efa\",\"#EF553B\",\"#00cc96\",\"#ab63fa\",\"#FFA15A\",\"#19d3f3\",\"#FF6692\",\"#B6E880\",\"#FF97FF\",\"#FECB52\"],\"font\":{\"color\":\"#2a3f5f\"},\"hovermode\":\"closest\",\"hoverlabel\":{\"align\":\"left\"},\"paper_bgcolor\":\"white\",\"plot_bgcolor\":\"#E5ECF6\",\"polar\":{\"bgcolor\":\"#E5ECF6\",\"angularaxis\":{\"gridcolor\":\"white\",\"linecolor\":\"white\",\"ticks\":\"\"},\"radialaxis\":{\"gridcolor\":\"white\",\"linecolor\":\"white\",\"ticks\":\"\"}},\"ternary\":{\"bgcolor\":\"#E5ECF6\",\"aaxis\":{\"gridcolor\":\"white\",\"linecolor\":\"white\",\"ticks\":\"\"},\"baxis\":{\"gridcolor\":\"white\",\"linecolor\":\"white\",\"ticks\":\"\"},\"caxis\":{\"gridcolor\":\"white\",\"linecolor\":\"white\",\"ticks\":\"\"}},\"coloraxis\":{\"colorbar\":{\"outlinewidth\":0,\"ticks\":\"\"}},\"colorscale\":{\"sequential\":[[0.0,\"#0d0887\"],[0.1111111111111111,\"#46039f\"],[0.2222222222222222,\"#7201a8\"],[0.3333333333333333,\"#9c179e\"],[0.4444444444444444,\"#bd3786\"],[0.5555555555555556,\"#d8576b\"],[0.6666666666666666,\"#ed7953\"],[0.7777777777777778,\"#fb9f3a\"],[0.8888888888888888,\"#fdca26\"],[1.0,\"#f0f921\"]],\"sequentialminus\":[[0.0,\"#0d0887\"],[0.1111111111111111,\"#46039f\"],[0.2222222222222222,\"#7201a8\"],[0.3333333333333333,\"#9c179e\"],[0.4444444444444444,\"#bd3786\"],[0.5555555555555556,\"#d8576b\"],[0.6666666666666666,\"#ed7953\"],[0.7777777777777778,\"#fb9f3a\"],[0.8888888888888888,\"#fdca26\"],[1.0,\"#f0f921\"]],\"diverging\":[[0,\"#8e0152\"],[0.1,\"#c51b7d\"],[0.2,\"#de77ae\"],[0.3,\"#f1b6da\"],[0.4,\"#fde0ef\"],[0.5,\"#f7f7f7\"],[0.6,\"#e6f5d0\"],[0.7,\"#b8e186\"],[0.8,\"#7fbc41\"],[0.9,\"#4d9221\"],[1,\"#276419\"]]},\"xaxis\":{\"gridcolor\":\"white\",\"linecolor\":\"white\",\"ticks\":\"\",\"title\":{\"standoff\":15},\"zerolinecolor\":\"white\",\"automargin\":true,\"zerolinewidth\":2},\"yaxis\":{\"gridcolor\":\"white\",\"linecolor\":\"white\",\"ticks\":\"\",\"title\":{\"standoff\":15},\"zerolinecolor\":\"white\",\"automargin\":true,\"zerolinewidth\":2},\"scene\":{\"xaxis\":{\"backgroundcolor\":\"#E5ECF6\",\"gridcolor\":\"white\",\"linecolor\":\"white\",\"showbackground\":true,\"ticks\":\"\",\"zerolinecolor\":\"white\",\"gridwidth\":2},\"yaxis\":{\"backgroundcolor\":\"#E5ECF6\",\"gridcolor\":\"white\",\"linecolor\":\"white\",\"showbackground\":true,\"ticks\":\"\",\"zerolinecolor\":\"white\",\"gridwidth\":2},\"zaxis\":{\"backgroundcolor\":\"#E5ECF6\",\"gridcolor\":\"white\",\"linecolor\":\"white\",\"showbackground\":true,\"ticks\":\"\",\"zerolinecolor\":\"white\",\"gridwidth\":2}},\"shapedefaults\":{\"line\":{\"color\":\"#2a3f5f\"}},\"annotationdefaults\":{\"arrowcolor\":\"#2a3f5f\",\"arrowhead\":0,\"arrowwidth\":1},\"geo\":{\"bgcolor\":\"white\",\"landcolor\":\"#E5ECF6\",\"subunitcolor\":\"white\",\"showland\":true,\"showlakes\":true,\"lakecolor\":\"white\"},\"title\":{\"x\":0.05},\"mapbox\":{\"style\":\"light\"}}},\"xaxis\":{\"anchor\":\"y\",\"domain\":[0.0,1.0],\"title\":{\"text\":\"Avg Temperature [K]\"}},\"yaxis\":{\"anchor\":\"x\",\"domain\":[0.0,1.0],\"title\":{\"text\":\"Avg Current [A/cm2]\"},\"type\":\"log\"},\"legend\":{\"title\":{\"text\":\"Name\"},\"tracegroupgap\":0,\"itemsizing\":\"constant\"},\"title\":{\"text\":\"Distribuzione del Periodo in funzione della corrente e temperatura\"},\"height\":800,\"width\":952},                        {\"responsive\": true}                    ).then(function(){\n",
       "                            \n",
       "var gd = document.getElementById('7bdc1010-00a8-4c88-965b-6a6050848e8f');\n",
       "var x = new MutationObserver(function (mutations, observer) {{\n",
       "        var display = window.getComputedStyle(gd).display;\n",
       "        if (!display || display === 'none') {{\n",
       "            console.log([gd, 'removed!']);\n",
       "            Plotly.purge(gd);\n",
       "            observer.disconnect();\n",
       "        }}\n",
       "}});\n",
       "\n",
       "// Listen for the removal of the full notebook cells\n",
       "var notebookContainer = gd.closest('#notebook-container');\n",
       "if (notebookContainer) {{\n",
       "    x.observe(notebookContainer, {childList: true});\n",
       "}}\n",
       "\n",
       "// Listen for the clearing of the current output cell\n",
       "var outputEl = gd.closest('.output');\n",
       "if (outputEl) {{\n",
       "    x.observe(outputEl, {childList: true});\n",
       "}}\n",
       "\n",
       "                        })                };                });            </script>        </div>"
      ]
     },
     "metadata": {},
     "output_type": "display_data"
    }
   ],
   "source": [
    "# Ampiezza media delle oscillazioni del campo elettrico in funzione della corrente e temperatura media\n",
    "fig = px.scatter(df_fixed, x='Avg Temperature [K]', y='Avg Current [A/cm2]', size='Avg Osc Amplitude [V/cm]', \n",
    "color=\"Name\", hover_name=\"Experiment\", log_y=True, size_max=60, \n",
    "width=952, height=800,\n",
    "labels={'x':'Average Temperature [°K]', 'y':'Current Density J [A/cm2]', 'color':'Sample', 'size':'Average Amplitude E [V/cm]'}, \n",
    "title='Distribuzione dell\\'Ampiezza in funzione di corrente e temperatura')\n",
    "fig.show()\n",
    "\n",
    "#Periodo medio delle oscillazioni in funzione della corrente e temperatura media\n",
    "fig = px.scatter(df_fixed, x='Avg Temperature [K]', y='Avg Current [A/cm2]', size='Avg Osc Period [ms]', \n",
    "color=\"Name\", hover_name=\"Experiment\", log_y=True, size_max=60,\n",
    "width=952, height=800,  \n",
    "labels={'x':'Average Temperature [°K]', 'y':'Current Density J [A/cm2]', 'color':'Sample', 'size':'Average Width [ms]'}, \n",
    "title='Distribuzione del Periodo in funzione della corrente e temperatura')\n",
    "fig.show()"
   ]
  },
  {
   "cell_type": "markdown",
   "id": "solid-going",
   "metadata": {},
   "source": [
    "## Analisi degli Esperimenti a Corrente variabile"
   ]
  },
  {
   "cell_type": "code",
   "execution_count": 7,
   "id": "little-scheduling",
   "metadata": {},
   "outputs": [],
   "source": [
    "# Selezione dei dati con corrente variabile\n",
    "df_variable = df.loc[df['Fixed Source'] == False]"
   ]
  },
  {
   "cell_type": "markdown",
   "id": "adolescent-sample",
   "metadata": {},
   "source": [
    "### Distribuzione degli esperimenti in funzione della temperatura e della corrente"
   ]
  },
  {
   "cell_type": "code",
   "execution_count": 8,
   "id": "steady-polish",
   "metadata": {},
   "outputs": [
    {
     "data": {
      "application/vnd.plotly.v1+json": {
       "config": {
        "plotlyServerURL": "https://plot.ly"
       },
       "data": [
        {
         "error_x": {
          "array": [
           0.001328095815935626,
           0.0021446771325344116,
           0.13244453508278298,
           0.4565345903830007,
           0.0015316562490426122,
           0.002280902856128364,
           0.000921353624747212,
           0.0012680012254548956,
           0.0006364864941161841,
           0.0007965908919516096,
           0.004887731336253864,
           0.3531725768699232,
           0.003344913905721114
          ],
          "arrayminus": [
           0.001654814206048627,
           0.002855209406902759,
           0.1459234632139328,
           0.5805238171961378,
           0.0019055460380741351,
           0.003797855736110023,
           0.0020896867388557894,
           0.0026521091739510894,
           0.0008405514537770387,
           0.0011351166745896535,
           0.002384843336599829,
           0.40987087992868965,
           0.007734352745245587
          ]
         },
         "error_y": {
          "array": [
           9.981235277677974e-07,
           9.077670820961847e-07,
           5.673544263101155e-06,
           6.913318750223259e-06,
           6.808253115721393e-08,
           2.9332223840233e-06,
           8.405250760149871e-07,
           9.981235277677974e-07,
           6.808253115721393e-08,
           7.186489399928135e-08,
           8.983111749910171e-07,
           2.6266408625468358e-06,
           8.510316394651753e-07
          ],
          "arrayminus": [
           9.981235277677957e-07,
           9.077670820961857e-07,
           5.673544263101161e-06,
           6.913318750223266e-06,
           6.808253115721395e-08,
           2.9332223840232994e-06,
           8.405250760149854e-07,
           9.981235277677957e-07,
           6.808253115721395e-08,
           7.186489399928136e-08,
           8.983111749910165e-07,
           2.626640862546829e-06,
           8.510316394651728e-07
          ]
         },
         "hovertemplate": "<b>%{hovertext}</b><br><br>Name=CA12X2<br>Avg Temperature [K]=%{x}<br>Avg Current [A/cm2]=%{y}<extra></extra>",
         "hovertext": [
          "CA12X2_current_from_100e-9_to_200e-9A_flipped-20220315160531",
          "CA12X2_current_from_10e-9_to_100e-9A_flipped-20220315155945",
          "CA12X2_current_from_0.1e-6_to_1.0e-6A-20220317151236",
          "CA12X2_current_from_0.1e-6_to_1.5e-6A-20220317150657",
          "CA12X2_current_from_1e-9_to_10e-9A_flipped-20220315155235",
          "CA12X2_current_from_1e-9_to_1000e-9A_flipped-20220315170952",
          "CA12X2_current_from_200e-9_to_300e-9A_flipped-20220315161234",
          "CA12X2_current_from_100e-9_to_200e-9A-20220315152213",
          "CA12X2_current_from_1e-9_to_10e-9A-20220315153228",
          "CA12X2_current_from_1e-9_to_10e-9A-20220315151857",
          "CA12X2_current_from_10e-9_to_100e-9A-20220315151525",
          "CA12X2_current_from_1e-6_to_2e-6A-20220317143643",
          "CA12X2_current_from_200e-9_to_300e-9A-20220315152513"
         ],
         "legendgroup": "CA12X2",
         "marker": {
          "color": "#636efa",
          "symbol": "circle"
         },
         "mode": "markers",
         "name": "CA12X2",
         "orientation": "v",
         "showlegend": true,
         "type": "scatter",
         "x": [
          113.48018048230064,
          113.47038747931718,
          108.95441729447298,
          129.2381324109405,
          113.46264874300995,
          113.48172732110667,
          113.47842832178341,
          113.4470325494966,
          113.43692551500877,
          113.44355525277572,
          113.4454298182477,
          133.8554300093167,
          113.44805214637552
         ],
         "xaxis": "x",
         "y": [
          3.0994362178052623e-06,
          1.134708852620232e-06,
          8.888552678858484e-06,
          1.458311006886002e-05,
          1.2670915520925926e-07,
          2.9748283752860413e-06,
          5.022137329189544e-06,
          3.0994362178052623e-06,
          1.2670915520925926e-07,
          1.2481797378822552e-07,
          1.1252529455150629e-06,
          2.3639767762921495e-05,
          5.032643892639731e-06
         ],
         "yaxis": "y"
        },
        {
         "error_x": {
          "array": [
           0.2579376108546825,
           0.04283274040663798,
           0.06812879656112614,
           0.07338099864976755,
           0.17782681581952886,
           0.06882861773544846,
           0.2327080828870578,
           0.42880519845114407
          ],
          "arrayminus": [
           0.265603396388002,
           0.04064684852862399,
           0.06642117558264715,
           0.07538620963273956,
           0.1785839105177871,
           0.07906378939375713,
           0.3003395582004913,
           0.4345991831635416
          ]
         },
         "error_y": {
          "array": [
           1.1420292670292665e-05,
           1.0769149831649828e-05,
           9.680134680134682e-06,
           1.0031042975320084e-05,
           9.833916083916087e-06,
           1.2019230769230773e-05,
           2.185314685314685e-05,
           7.368692264525595e-06
          ],
          "arrayminus": [
           1.1420292670292675e-05,
           1.0769149831649832e-05,
           9.680134680134679e-06,
           1.0025289581012472e-05,
           9.83391608391608e-06,
           1.2019230769230766e-05,
           2.1853146853146857e-05,
           7.394322498489165e-06
          ]
         },
         "hovertemplate": "<b>%{hovertext}</b><br><br>Name=CA12_01_A<br>Avg Temperature [K]=%{x}<br>Avg Current [A/cm2]=%{y}<extra></extra>",
         "hovertext": [
          "CA12_01_A_current_from_1e-8_to_35e-8A-20220429161303",
          "CA12_01_A_current_from_1e-9_to_30e-8A-20220429165618",
          "CA12_01_A_current_from_1e-9_to_30e-8A-20220429163858",
          "CA12_01_A_current_from_0.5e-8_to_30e-8A-20220429161610",
          "CA12_01_A_current_from_1e-7_to_10e-7A-20220429152836",
          "CA12_01_A_current_from_1e-7_to_10e-7A-20220429152137",
          "CA12_01_A_current_from_1e-7_to_10e-7A-20220429151346",
          "CA12_01_A_current_from_1e-8_to_20e-8A-20220429153124"
         ],
         "legendgroup": "CA12_01_A",
         "marker": {
          "color": "#EF553B",
          "symbol": "circle"
         },
         "mode": "markers",
         "name": "CA12_01_A",
         "orientation": "v",
         "showlegend": true,
         "type": "scatter",
         "x": [
          107.22490263780487,
          95.17634373708593,
          99.29526170202244,
          99.55930264854368,
          112.67445502351177,
          116.28251296723863,
          123.43440189585394,
          108.2730863479829
         ],
         "xaxis": "x",
         "y": [
          1.2221574721574726e-05,
          1.1091281403781404e-05,
          1.0244269619269618e-05,
          1.0664696470419362e-05,
          1.7846736596736593e-05,
          2.003205128205128e-05,
          2.986596736596737e-05,
          8.34938595355262e-06
         ],
         "yaxis": "y"
        },
        {
         "error_x": {
          "array": [
           0.051346350087200676,
           0.051243834437372016,
           0.034980863948476326,
           0.04291561958272894,
           0.03223017117072402
          ],
          "arrayminus": [
           0.065222765770514,
           0.050910512763465476,
           0.023333539063713715,
           0.05361390393794352,
           0.04255127337368947
          ]
         },
         "error_y": {
          "array": [
           1.2244897959183681e-05,
           5.5853920515574595e-06,
           1.709728867623604e-05,
           1.417830290010741e-05,
           7.145135566188199e-06
          ],
          "arrayminus": [
           1.224489795918367e-05,
           5.585392051557473e-06,
           1.7097288676236052e-05,
           1.4178302900107413e-05,
           7.145135566188196e-06
          ]
         },
         "hovertemplate": "<b>%{hovertext}</b><br><br>Name=CA8_01_A<br>Avg Temperature [K]=%{x}<br>Avg Current [A/cm2]=%{y}<extra></extra>",
         "hovertext": [
          "CA8_01_A_current_from_0.5e-6_to_2e-6A_flipped-20220421110256",
          "CA8_01_A_current_from_1e-6_to_2e-6A-20220421110002",
          "CA8_01_A_current_from_1e-7_to_1.3e-6A-20220421182659",
          "CA8_01_A_current_from_-0.5e-6_to_1e-6A_flipped-20220421110914",
          "CA8_01_A_current_from_0.5e-7_to_4e-7A-20220421185114"
         ],
         "legendgroup": "CA8_01_A",
         "marker": {
          "color": "#00cc96",
          "symbol": "circle"
         },
         "mode": "markers",
         "name": "CA8_01_A",
         "orientation": "v",
         "showlegend": true,
         "type": "scatter",
         "x": [
          127.56662315159107,
          129.54850133976655,
          128.17523398077884,
          125.5403580602984,
          113.98739377147638
         ],
         "xaxis": "x",
         "y": [
          3.329752953813104e-05,
          4.85499462943072e-05,
          3.151515151515152e-05,
          2.406015037593985e-05,
          9.250398724082933e-06
         ],
         "yaxis": "y"
        },
        {
         "error_x": {
          "array": [
           0.06988055787562075,
           0.0022509650266471226,
           0.002231669642284828,
           0.06772549937601013,
           0.04148534109843638
          ],
          "arrayminus": [
           0.08532668828733847,
           0.002952258899782123,
           0.002004737189622574,
           0.09115083139110425,
           0.05090880116728158
          ]
         },
         "error_y": {
          "array": [
           1.118420541657281e-05,
           4.53427120461786e-06,
           2.01085070813488e-06,
           1.029082421221966e-05,
           1.1240691302515108e-05
          ],
          "arrayminus": [
           1.1184205416572817e-05,
           4.534271204617858e-06,
           2.0108507081348748e-06,
           1.0290824212219665e-05,
           1.1240691302515103e-05
          ]
         },
         "hovertemplate": "<b>%{hovertext}</b><br><br>Name=CA12X_C5<br>Avg Temperature [K]=%{x}<br>Avg Current [A/cm2]=%{y}<extra></extra>",
         "hovertext": [
          "CA12X_C5_current_from_1e-7_to_10e-7A_flipped-20220412171054",
          "CA12X_C5_current_from_1e-7_to_3.5e-7A-20220413145630",
          "CA12X_C5_current_from_3.5e-7_to_5e-7A-20220413145837",
          "CA12X_C5_current_from_1e-7_to_10e-7A-20220413133337",
          "CA12X_C5_current_from_1e-7_to_10e-7A-20220412170113"
         ],
         "legendgroup": "CA12X_C5",
         "marker": {
          "color": "#ab63fa",
          "symbol": "circle"
         },
         "mode": "markers",
         "name": "CA12X_C5",
         "orientation": "v",
         "showlegend": true,
         "type": "scatter",
         "x": [
          119.40001251119938,
          112.99590633267607,
          112.98509315337563,
          118.93872759441619,
          119.70959750713385
         ],
         "xaxis": "x",
         "y": [
          1.5397699471080285e-05,
          8.398258839857425e-06,
          1.5653092767246e-05,
          1.4864523862095071e-05,
          1.5807222144161864e-05
         ],
         "yaxis": "y"
        },
        {
         "error_x": {
          "array": [
           0.029195176395035105,
           0.34701450640979203,
           0.24850551937997523,
           0.07550861226327754
          ],
          "arrayminus": [
           0.027925805130934123,
           0.4124280550860391,
           0.24352677684137802,
           0.09624896283615669
          ]
         },
         "error_y": {
          "array": [
           7.081370124217589e-07,
           3.2484629641027707e-06,
           2.1798896206479126e-06,
           4.231550440081243e-06
          ],
          "arrayminus": [
           7.081370124217606e-07,
           3.248462964102776e-06,
           2.179889620647916e-06,
           4.231550440081246e-06
          ]
         },
         "hovertemplate": "<b>%{hovertext}</b><br><br>Name=CA12X2_C1<br>Avg Temperature [K]=%{x}<br>Avg Current [A/cm2]=%{y}<extra></extra>",
         "hovertext": [
          "CA12X2_C1_current_from_0.3e-6_to_0.4e-6A-20220428162717",
          "CA12X2_C1_current_from_0.5e-6_to_1e-6A-20220428153610",
          "CA12X2_C1_current_from_0.5e-6_to_1e-6A-20220428154754",
          "CA12X2_C1_current_from_1e-7_to_1e-6A-20220428162518"
         ],
         "legendgroup": "CA12X2_C1",
         "marker": {
          "color": "#FFA15A",
          "symbol": "circle"
         },
         "mode": "markers",
         "name": "CA12X2_C1",
         "orientation": "v",
         "showlegend": true,
         "type": "scatter",
         "x": [
          87.94975212793224,
          103.43576754110424,
          102.09991796451557,
          97.99243870006084
         ],
         "xaxis": "x",
         "y": [
          5.8205408094178775e-06,
          1.1711563844265267e-05,
          1.1412363308097906e-05,
          5.924170616113744e-06
         ],
         "yaxis": "y"
        }
       ],
       "layout": {
        "height": 800,
        "legend": {
         "title": {
          "text": "Name"
         },
         "tracegroupgap": 0
        },
        "template": {
         "data": {
          "bar": [
           {
            "error_x": {
             "color": "#2a3f5f"
            },
            "error_y": {
             "color": "#2a3f5f"
            },
            "marker": {
             "line": {
              "color": "#E5ECF6",
              "width": 0.5
             },
             "pattern": {
              "fillmode": "overlay",
              "size": 10,
              "solidity": 0.2
             }
            },
            "type": "bar"
           }
          ],
          "barpolar": [
           {
            "marker": {
             "line": {
              "color": "#E5ECF6",
              "width": 0.5
             },
             "pattern": {
              "fillmode": "overlay",
              "size": 10,
              "solidity": 0.2
             }
            },
            "type": "barpolar"
           }
          ],
          "carpet": [
           {
            "aaxis": {
             "endlinecolor": "#2a3f5f",
             "gridcolor": "white",
             "linecolor": "white",
             "minorgridcolor": "white",
             "startlinecolor": "#2a3f5f"
            },
            "baxis": {
             "endlinecolor": "#2a3f5f",
             "gridcolor": "white",
             "linecolor": "white",
             "minorgridcolor": "white",
             "startlinecolor": "#2a3f5f"
            },
            "type": "carpet"
           }
          ],
          "choropleth": [
           {
            "colorbar": {
             "outlinewidth": 0,
             "ticks": ""
            },
            "type": "choropleth"
           }
          ],
          "contour": [
           {
            "colorbar": {
             "outlinewidth": 0,
             "ticks": ""
            },
            "colorscale": [
             [
              0,
              "#0d0887"
             ],
             [
              0.1111111111111111,
              "#46039f"
             ],
             [
              0.2222222222222222,
              "#7201a8"
             ],
             [
              0.3333333333333333,
              "#9c179e"
             ],
             [
              0.4444444444444444,
              "#bd3786"
             ],
             [
              0.5555555555555556,
              "#d8576b"
             ],
             [
              0.6666666666666666,
              "#ed7953"
             ],
             [
              0.7777777777777778,
              "#fb9f3a"
             ],
             [
              0.8888888888888888,
              "#fdca26"
             ],
             [
              1,
              "#f0f921"
             ]
            ],
            "type": "contour"
           }
          ],
          "contourcarpet": [
           {
            "colorbar": {
             "outlinewidth": 0,
             "ticks": ""
            },
            "type": "contourcarpet"
           }
          ],
          "heatmap": [
           {
            "colorbar": {
             "outlinewidth": 0,
             "ticks": ""
            },
            "colorscale": [
             [
              0,
              "#0d0887"
             ],
             [
              0.1111111111111111,
              "#46039f"
             ],
             [
              0.2222222222222222,
              "#7201a8"
             ],
             [
              0.3333333333333333,
              "#9c179e"
             ],
             [
              0.4444444444444444,
              "#bd3786"
             ],
             [
              0.5555555555555556,
              "#d8576b"
             ],
             [
              0.6666666666666666,
              "#ed7953"
             ],
             [
              0.7777777777777778,
              "#fb9f3a"
             ],
             [
              0.8888888888888888,
              "#fdca26"
             ],
             [
              1,
              "#f0f921"
             ]
            ],
            "type": "heatmap"
           }
          ],
          "heatmapgl": [
           {
            "colorbar": {
             "outlinewidth": 0,
             "ticks": ""
            },
            "colorscale": [
             [
              0,
              "#0d0887"
             ],
             [
              0.1111111111111111,
              "#46039f"
             ],
             [
              0.2222222222222222,
              "#7201a8"
             ],
             [
              0.3333333333333333,
              "#9c179e"
             ],
             [
              0.4444444444444444,
              "#bd3786"
             ],
             [
              0.5555555555555556,
              "#d8576b"
             ],
             [
              0.6666666666666666,
              "#ed7953"
             ],
             [
              0.7777777777777778,
              "#fb9f3a"
             ],
             [
              0.8888888888888888,
              "#fdca26"
             ],
             [
              1,
              "#f0f921"
             ]
            ],
            "type": "heatmapgl"
           }
          ],
          "histogram": [
           {
            "marker": {
             "pattern": {
              "fillmode": "overlay",
              "size": 10,
              "solidity": 0.2
             }
            },
            "type": "histogram"
           }
          ],
          "histogram2d": [
           {
            "colorbar": {
             "outlinewidth": 0,
             "ticks": ""
            },
            "colorscale": [
             [
              0,
              "#0d0887"
             ],
             [
              0.1111111111111111,
              "#46039f"
             ],
             [
              0.2222222222222222,
              "#7201a8"
             ],
             [
              0.3333333333333333,
              "#9c179e"
             ],
             [
              0.4444444444444444,
              "#bd3786"
             ],
             [
              0.5555555555555556,
              "#d8576b"
             ],
             [
              0.6666666666666666,
              "#ed7953"
             ],
             [
              0.7777777777777778,
              "#fb9f3a"
             ],
             [
              0.8888888888888888,
              "#fdca26"
             ],
             [
              1,
              "#f0f921"
             ]
            ],
            "type": "histogram2d"
           }
          ],
          "histogram2dcontour": [
           {
            "colorbar": {
             "outlinewidth": 0,
             "ticks": ""
            },
            "colorscale": [
             [
              0,
              "#0d0887"
             ],
             [
              0.1111111111111111,
              "#46039f"
             ],
             [
              0.2222222222222222,
              "#7201a8"
             ],
             [
              0.3333333333333333,
              "#9c179e"
             ],
             [
              0.4444444444444444,
              "#bd3786"
             ],
             [
              0.5555555555555556,
              "#d8576b"
             ],
             [
              0.6666666666666666,
              "#ed7953"
             ],
             [
              0.7777777777777778,
              "#fb9f3a"
             ],
             [
              0.8888888888888888,
              "#fdca26"
             ],
             [
              1,
              "#f0f921"
             ]
            ],
            "type": "histogram2dcontour"
           }
          ],
          "mesh3d": [
           {
            "colorbar": {
             "outlinewidth": 0,
             "ticks": ""
            },
            "type": "mesh3d"
           }
          ],
          "parcoords": [
           {
            "line": {
             "colorbar": {
              "outlinewidth": 0,
              "ticks": ""
             }
            },
            "type": "parcoords"
           }
          ],
          "pie": [
           {
            "automargin": true,
            "type": "pie"
           }
          ],
          "scatter": [
           {
            "fillpattern": {
             "fillmode": "overlay",
             "size": 10,
             "solidity": 0.2
            },
            "type": "scatter"
           }
          ],
          "scatter3d": [
           {
            "line": {
             "colorbar": {
              "outlinewidth": 0,
              "ticks": ""
             }
            },
            "marker": {
             "colorbar": {
              "outlinewidth": 0,
              "ticks": ""
             }
            },
            "type": "scatter3d"
           }
          ],
          "scattercarpet": [
           {
            "marker": {
             "colorbar": {
              "outlinewidth": 0,
              "ticks": ""
             }
            },
            "type": "scattercarpet"
           }
          ],
          "scattergeo": [
           {
            "marker": {
             "colorbar": {
              "outlinewidth": 0,
              "ticks": ""
             }
            },
            "type": "scattergeo"
           }
          ],
          "scattergl": [
           {
            "marker": {
             "colorbar": {
              "outlinewidth": 0,
              "ticks": ""
             }
            },
            "type": "scattergl"
           }
          ],
          "scattermapbox": [
           {
            "marker": {
             "colorbar": {
              "outlinewidth": 0,
              "ticks": ""
             }
            },
            "type": "scattermapbox"
           }
          ],
          "scatterpolar": [
           {
            "marker": {
             "colorbar": {
              "outlinewidth": 0,
              "ticks": ""
             }
            },
            "type": "scatterpolar"
           }
          ],
          "scatterpolargl": [
           {
            "marker": {
             "colorbar": {
              "outlinewidth": 0,
              "ticks": ""
             }
            },
            "type": "scatterpolargl"
           }
          ],
          "scatterternary": [
           {
            "marker": {
             "colorbar": {
              "outlinewidth": 0,
              "ticks": ""
             }
            },
            "type": "scatterternary"
           }
          ],
          "surface": [
           {
            "colorbar": {
             "outlinewidth": 0,
             "ticks": ""
            },
            "colorscale": [
             [
              0,
              "#0d0887"
             ],
             [
              0.1111111111111111,
              "#46039f"
             ],
             [
              0.2222222222222222,
              "#7201a8"
             ],
             [
              0.3333333333333333,
              "#9c179e"
             ],
             [
              0.4444444444444444,
              "#bd3786"
             ],
             [
              0.5555555555555556,
              "#d8576b"
             ],
             [
              0.6666666666666666,
              "#ed7953"
             ],
             [
              0.7777777777777778,
              "#fb9f3a"
             ],
             [
              0.8888888888888888,
              "#fdca26"
             ],
             [
              1,
              "#f0f921"
             ]
            ],
            "type": "surface"
           }
          ],
          "table": [
           {
            "cells": {
             "fill": {
              "color": "#EBF0F8"
             },
             "line": {
              "color": "white"
             }
            },
            "header": {
             "fill": {
              "color": "#C8D4E3"
             },
             "line": {
              "color": "white"
             }
            },
            "type": "table"
           }
          ]
         },
         "layout": {
          "annotationdefaults": {
           "arrowcolor": "#2a3f5f",
           "arrowhead": 0,
           "arrowwidth": 1
          },
          "autotypenumbers": "strict",
          "coloraxis": {
           "colorbar": {
            "outlinewidth": 0,
            "ticks": ""
           }
          },
          "colorscale": {
           "diverging": [
            [
             0,
             "#8e0152"
            ],
            [
             0.1,
             "#c51b7d"
            ],
            [
             0.2,
             "#de77ae"
            ],
            [
             0.3,
             "#f1b6da"
            ],
            [
             0.4,
             "#fde0ef"
            ],
            [
             0.5,
             "#f7f7f7"
            ],
            [
             0.6,
             "#e6f5d0"
            ],
            [
             0.7,
             "#b8e186"
            ],
            [
             0.8,
             "#7fbc41"
            ],
            [
             0.9,
             "#4d9221"
            ],
            [
             1,
             "#276419"
            ]
           ],
           "sequential": [
            [
             0,
             "#0d0887"
            ],
            [
             0.1111111111111111,
             "#46039f"
            ],
            [
             0.2222222222222222,
             "#7201a8"
            ],
            [
             0.3333333333333333,
             "#9c179e"
            ],
            [
             0.4444444444444444,
             "#bd3786"
            ],
            [
             0.5555555555555556,
             "#d8576b"
            ],
            [
             0.6666666666666666,
             "#ed7953"
            ],
            [
             0.7777777777777778,
             "#fb9f3a"
            ],
            [
             0.8888888888888888,
             "#fdca26"
            ],
            [
             1,
             "#f0f921"
            ]
           ],
           "sequentialminus": [
            [
             0,
             "#0d0887"
            ],
            [
             0.1111111111111111,
             "#46039f"
            ],
            [
             0.2222222222222222,
             "#7201a8"
            ],
            [
             0.3333333333333333,
             "#9c179e"
            ],
            [
             0.4444444444444444,
             "#bd3786"
            ],
            [
             0.5555555555555556,
             "#d8576b"
            ],
            [
             0.6666666666666666,
             "#ed7953"
            ],
            [
             0.7777777777777778,
             "#fb9f3a"
            ],
            [
             0.8888888888888888,
             "#fdca26"
            ],
            [
             1,
             "#f0f921"
            ]
           ]
          },
          "colorway": [
           "#636efa",
           "#EF553B",
           "#00cc96",
           "#ab63fa",
           "#FFA15A",
           "#19d3f3",
           "#FF6692",
           "#B6E880",
           "#FF97FF",
           "#FECB52"
          ],
          "font": {
           "color": "#2a3f5f"
          },
          "geo": {
           "bgcolor": "white",
           "lakecolor": "white",
           "landcolor": "#E5ECF6",
           "showlakes": true,
           "showland": true,
           "subunitcolor": "white"
          },
          "hoverlabel": {
           "align": "left"
          },
          "hovermode": "closest",
          "mapbox": {
           "style": "light"
          },
          "paper_bgcolor": "white",
          "plot_bgcolor": "#E5ECF6",
          "polar": {
           "angularaxis": {
            "gridcolor": "white",
            "linecolor": "white",
            "ticks": ""
           },
           "bgcolor": "#E5ECF6",
           "radialaxis": {
            "gridcolor": "white",
            "linecolor": "white",
            "ticks": ""
           }
          },
          "scene": {
           "xaxis": {
            "backgroundcolor": "#E5ECF6",
            "gridcolor": "white",
            "gridwidth": 2,
            "linecolor": "white",
            "showbackground": true,
            "ticks": "",
            "zerolinecolor": "white"
           },
           "yaxis": {
            "backgroundcolor": "#E5ECF6",
            "gridcolor": "white",
            "gridwidth": 2,
            "linecolor": "white",
            "showbackground": true,
            "ticks": "",
            "zerolinecolor": "white"
           },
           "zaxis": {
            "backgroundcolor": "#E5ECF6",
            "gridcolor": "white",
            "gridwidth": 2,
            "linecolor": "white",
            "showbackground": true,
            "ticks": "",
            "zerolinecolor": "white"
           }
          },
          "shapedefaults": {
           "line": {
            "color": "#2a3f5f"
           }
          },
          "ternary": {
           "aaxis": {
            "gridcolor": "white",
            "linecolor": "white",
            "ticks": ""
           },
           "baxis": {
            "gridcolor": "white",
            "linecolor": "white",
            "ticks": ""
           },
           "bgcolor": "#E5ECF6",
           "caxis": {
            "gridcolor": "white",
            "linecolor": "white",
            "ticks": ""
           }
          },
          "title": {
           "x": 0.05
          },
          "xaxis": {
           "automargin": true,
           "gridcolor": "white",
           "linecolor": "white",
           "ticks": "",
           "title": {
            "standoff": 15
           },
           "zerolinecolor": "white",
           "zerolinewidth": 2
          },
          "yaxis": {
           "automargin": true,
           "gridcolor": "white",
           "linecolor": "white",
           "ticks": "",
           "title": {
            "standoff": 15
           },
           "zerolinecolor": "white",
           "zerolinewidth": 2
          }
         }
        },
        "title": {
         "text": "Corrente e Temperatura degli Esperimenti"
        },
        "width": 952,
        "xaxis": {
         "anchor": "y",
         "domain": [
          0,
          1
         ],
         "title": {
          "text": "Avg Temperature [K]"
         }
        },
        "yaxis": {
         "anchor": "x",
         "domain": [
          0,
          1
         ],
         "title": {
          "text": "Avg Current [A/cm2]"
         },
         "type": "log"
        }
       }
      },
      "text/html": [
       "<div>                            <div id=\"f9df1ce1-0936-4624-9af8-bcd85e62e719\" class=\"plotly-graph-div\" style=\"height:800px; width:952px;\"></div>            <script type=\"text/javascript\">                require([\"plotly\"], function(Plotly) {                    window.PLOTLYENV=window.PLOTLYENV || {};                                    if (document.getElementById(\"f9df1ce1-0936-4624-9af8-bcd85e62e719\")) {                    Plotly.newPlot(                        \"f9df1ce1-0936-4624-9af8-bcd85e62e719\",                        [{\"error_x\":{\"array\":[0.001328095815935626,0.0021446771325344116,0.13244453508278298,0.4565345903830007,0.0015316562490426122,0.002280902856128364,0.000921353624747212,0.0012680012254548956,0.0006364864941161841,0.0007965908919516096,0.004887731336253864,0.3531725768699232,0.003344913905721114],\"arrayminus\":[0.001654814206048627,0.002855209406902759,0.1459234632139328,0.5805238171961378,0.0019055460380741351,0.003797855736110023,0.0020896867388557894,0.0026521091739510894,0.0008405514537770387,0.0011351166745896535,0.002384843336599829,0.40987087992868965,0.007734352745245587]},\"error_y\":{\"array\":[9.981235277677974e-07,9.077670820961847e-07,5.673544263101155e-06,6.913318750223259e-06,6.808253115721393e-08,2.9332223840233e-06,8.405250760149871e-07,9.981235277677974e-07,6.808253115721393e-08,7.186489399928135e-08,8.983111749910171e-07,2.6266408625468358e-06,8.510316394651753e-07],\"arrayminus\":[9.981235277677957e-07,9.077670820961857e-07,5.673544263101161e-06,6.913318750223266e-06,6.808253115721395e-08,2.9332223840232994e-06,8.405250760149854e-07,9.981235277677957e-07,6.808253115721395e-08,7.186489399928136e-08,8.983111749910165e-07,2.626640862546829e-06,8.510316394651728e-07]},\"hovertemplate\":\"<b>%{hovertext}</b><br><br>Name=CA12X2<br>Avg Temperature [K]=%{x}<br>Avg Current [A/cm2]=%{y}<extra></extra>\",\"hovertext\":[\"CA12X2_current_from_100e-9_to_200e-9A_flipped-20220315160531\",\"CA12X2_current_from_10e-9_to_100e-9A_flipped-20220315155945\",\"CA12X2_current_from_0.1e-6_to_1.0e-6A-20220317151236\",\"CA12X2_current_from_0.1e-6_to_1.5e-6A-20220317150657\",\"CA12X2_current_from_1e-9_to_10e-9A_flipped-20220315155235\",\"CA12X2_current_from_1e-9_to_1000e-9A_flipped-20220315170952\",\"CA12X2_current_from_200e-9_to_300e-9A_flipped-20220315161234\",\"CA12X2_current_from_100e-9_to_200e-9A-20220315152213\",\"CA12X2_current_from_1e-9_to_10e-9A-20220315153228\",\"CA12X2_current_from_1e-9_to_10e-9A-20220315151857\",\"CA12X2_current_from_10e-9_to_100e-9A-20220315151525\",\"CA12X2_current_from_1e-6_to_2e-6A-20220317143643\",\"CA12X2_current_from_200e-9_to_300e-9A-20220315152513\"],\"legendgroup\":\"CA12X2\",\"marker\":{\"color\":\"#636efa\",\"symbol\":\"circle\"},\"mode\":\"markers\",\"name\":\"CA12X2\",\"orientation\":\"v\",\"showlegend\":true,\"x\":[113.48018048230064,113.47038747931718,108.95441729447298,129.2381324109405,113.46264874300995,113.48172732110667,113.47842832178341,113.4470325494966,113.43692551500877,113.44355525277572,113.4454298182477,133.8554300093167,113.44805214637552],\"xaxis\":\"x\",\"y\":[3.0994362178052623e-06,1.134708852620232e-06,8.888552678858484e-06,1.458311006886002e-05,1.2670915520925926e-07,2.9748283752860413e-06,5.022137329189544e-06,3.0994362178052623e-06,1.2670915520925926e-07,1.2481797378822552e-07,1.1252529455150629e-06,2.3639767762921495e-05,5.032643892639731e-06],\"yaxis\":\"y\",\"type\":\"scatter\"},{\"error_x\":{\"array\":[0.2579376108546825,0.04283274040663798,0.06812879656112614,0.07338099864976755,0.17782681581952886,0.06882861773544846,0.2327080828870578,0.42880519845114407],\"arrayminus\":[0.265603396388002,0.04064684852862399,0.06642117558264715,0.07538620963273956,0.1785839105177871,0.07906378939375713,0.3003395582004913,0.4345991831635416]},\"error_y\":{\"array\":[1.1420292670292665e-05,1.0769149831649828e-05,9.680134680134682e-06,1.0031042975320084e-05,9.833916083916087e-06,1.2019230769230773e-05,2.185314685314685e-05,7.368692264525595e-06],\"arrayminus\":[1.1420292670292675e-05,1.0769149831649832e-05,9.680134680134679e-06,1.0025289581012472e-05,9.83391608391608e-06,1.2019230769230766e-05,2.1853146853146857e-05,7.394322498489165e-06]},\"hovertemplate\":\"<b>%{hovertext}</b><br><br>Name=CA12_01_A<br>Avg Temperature [K]=%{x}<br>Avg Current [A/cm2]=%{y}<extra></extra>\",\"hovertext\":[\"CA12_01_A_current_from_1e-8_to_35e-8A-20220429161303\",\"CA12_01_A_current_from_1e-9_to_30e-8A-20220429165618\",\"CA12_01_A_current_from_1e-9_to_30e-8A-20220429163858\",\"CA12_01_A_current_from_0.5e-8_to_30e-8A-20220429161610\",\"CA12_01_A_current_from_1e-7_to_10e-7A-20220429152836\",\"CA12_01_A_current_from_1e-7_to_10e-7A-20220429152137\",\"CA12_01_A_current_from_1e-7_to_10e-7A-20220429151346\",\"CA12_01_A_current_from_1e-8_to_20e-8A-20220429153124\"],\"legendgroup\":\"CA12_01_A\",\"marker\":{\"color\":\"#EF553B\",\"symbol\":\"circle\"},\"mode\":\"markers\",\"name\":\"CA12_01_A\",\"orientation\":\"v\",\"showlegend\":true,\"x\":[107.22490263780487,95.17634373708593,99.29526170202244,99.55930264854368,112.67445502351177,116.28251296723863,123.43440189585394,108.2730863479829],\"xaxis\":\"x\",\"y\":[1.2221574721574726e-05,1.1091281403781404e-05,1.0244269619269618e-05,1.0664696470419362e-05,1.7846736596736593e-05,2.003205128205128e-05,2.986596736596737e-05,8.34938595355262e-06],\"yaxis\":\"y\",\"type\":\"scatter\"},{\"error_x\":{\"array\":[0.051346350087200676,0.051243834437372016,0.034980863948476326,0.04291561958272894,0.03223017117072402],\"arrayminus\":[0.065222765770514,0.050910512763465476,0.023333539063713715,0.05361390393794352,0.04255127337368947]},\"error_y\":{\"array\":[1.2244897959183681e-05,5.5853920515574595e-06,1.709728867623604e-05,1.417830290010741e-05,7.145135566188199e-06],\"arrayminus\":[1.224489795918367e-05,5.585392051557473e-06,1.7097288676236052e-05,1.4178302900107413e-05,7.145135566188196e-06]},\"hovertemplate\":\"<b>%{hovertext}</b><br><br>Name=CA8_01_A<br>Avg Temperature [K]=%{x}<br>Avg Current [A/cm2]=%{y}<extra></extra>\",\"hovertext\":[\"CA8_01_A_current_from_0.5e-6_to_2e-6A_flipped-20220421110256\",\"CA8_01_A_current_from_1e-6_to_2e-6A-20220421110002\",\"CA8_01_A_current_from_1e-7_to_1.3e-6A-20220421182659\",\"CA8_01_A_current_from_-0.5e-6_to_1e-6A_flipped-20220421110914\",\"CA8_01_A_current_from_0.5e-7_to_4e-7A-20220421185114\"],\"legendgroup\":\"CA8_01_A\",\"marker\":{\"color\":\"#00cc96\",\"symbol\":\"circle\"},\"mode\":\"markers\",\"name\":\"CA8_01_A\",\"orientation\":\"v\",\"showlegend\":true,\"x\":[127.56662315159107,129.54850133976655,128.17523398077884,125.5403580602984,113.98739377147638],\"xaxis\":\"x\",\"y\":[3.329752953813104e-05,4.85499462943072e-05,3.151515151515152e-05,2.406015037593985e-05,9.250398724082933e-06],\"yaxis\":\"y\",\"type\":\"scatter\"},{\"error_x\":{\"array\":[0.06988055787562075,0.0022509650266471226,0.002231669642284828,0.06772549937601013,0.04148534109843638],\"arrayminus\":[0.08532668828733847,0.002952258899782123,0.002004737189622574,0.09115083139110425,0.05090880116728158]},\"error_y\":{\"array\":[1.118420541657281e-05,4.53427120461786e-06,2.01085070813488e-06,1.029082421221966e-05,1.1240691302515108e-05],\"arrayminus\":[1.1184205416572817e-05,4.534271204617858e-06,2.0108507081348748e-06,1.0290824212219665e-05,1.1240691302515103e-05]},\"hovertemplate\":\"<b>%{hovertext}</b><br><br>Name=CA12X_C5<br>Avg Temperature [K]=%{x}<br>Avg Current [A/cm2]=%{y}<extra></extra>\",\"hovertext\":[\"CA12X_C5_current_from_1e-7_to_10e-7A_flipped-20220412171054\",\"CA12X_C5_current_from_1e-7_to_3.5e-7A-20220413145630\",\"CA12X_C5_current_from_3.5e-7_to_5e-7A-20220413145837\",\"CA12X_C5_current_from_1e-7_to_10e-7A-20220413133337\",\"CA12X_C5_current_from_1e-7_to_10e-7A-20220412170113\"],\"legendgroup\":\"CA12X_C5\",\"marker\":{\"color\":\"#ab63fa\",\"symbol\":\"circle\"},\"mode\":\"markers\",\"name\":\"CA12X_C5\",\"orientation\":\"v\",\"showlegend\":true,\"x\":[119.40001251119938,112.99590633267607,112.98509315337563,118.93872759441619,119.70959750713385],\"xaxis\":\"x\",\"y\":[1.5397699471080285e-05,8.398258839857425e-06,1.5653092767246e-05,1.4864523862095071e-05,1.5807222144161864e-05],\"yaxis\":\"y\",\"type\":\"scatter\"},{\"error_x\":{\"array\":[0.029195176395035105,0.34701450640979203,0.24850551937997523,0.07550861226327754],\"arrayminus\":[0.027925805130934123,0.4124280550860391,0.24352677684137802,0.09624896283615669]},\"error_y\":{\"array\":[7.081370124217589e-07,3.2484629641027707e-06,2.1798896206479126e-06,4.231550440081243e-06],\"arrayminus\":[7.081370124217606e-07,3.248462964102776e-06,2.179889620647916e-06,4.231550440081246e-06]},\"hovertemplate\":\"<b>%{hovertext}</b><br><br>Name=CA12X2_C1<br>Avg Temperature [K]=%{x}<br>Avg Current [A/cm2]=%{y}<extra></extra>\",\"hovertext\":[\"CA12X2_C1_current_from_0.3e-6_to_0.4e-6A-20220428162717\",\"CA12X2_C1_current_from_0.5e-6_to_1e-6A-20220428153610\",\"CA12X2_C1_current_from_0.5e-6_to_1e-6A-20220428154754\",\"CA12X2_C1_current_from_1e-7_to_1e-6A-20220428162518\"],\"legendgroup\":\"CA12X2_C1\",\"marker\":{\"color\":\"#FFA15A\",\"symbol\":\"circle\"},\"mode\":\"markers\",\"name\":\"CA12X2_C1\",\"orientation\":\"v\",\"showlegend\":true,\"x\":[87.94975212793224,103.43576754110424,102.09991796451557,97.99243870006084],\"xaxis\":\"x\",\"y\":[5.8205408094178775e-06,1.1711563844265267e-05,1.1412363308097906e-05,5.924170616113744e-06],\"yaxis\":\"y\",\"type\":\"scatter\"}],                        {\"template\":{\"data\":{\"histogram2dcontour\":[{\"type\":\"histogram2dcontour\",\"colorbar\":{\"outlinewidth\":0,\"ticks\":\"\"},\"colorscale\":[[0.0,\"#0d0887\"],[0.1111111111111111,\"#46039f\"],[0.2222222222222222,\"#7201a8\"],[0.3333333333333333,\"#9c179e\"],[0.4444444444444444,\"#bd3786\"],[0.5555555555555556,\"#d8576b\"],[0.6666666666666666,\"#ed7953\"],[0.7777777777777778,\"#fb9f3a\"],[0.8888888888888888,\"#fdca26\"],[1.0,\"#f0f921\"]]}],\"choropleth\":[{\"type\":\"choropleth\",\"colorbar\":{\"outlinewidth\":0,\"ticks\":\"\"}}],\"histogram2d\":[{\"type\":\"histogram2d\",\"colorbar\":{\"outlinewidth\":0,\"ticks\":\"\"},\"colorscale\":[[0.0,\"#0d0887\"],[0.1111111111111111,\"#46039f\"],[0.2222222222222222,\"#7201a8\"],[0.3333333333333333,\"#9c179e\"],[0.4444444444444444,\"#bd3786\"],[0.5555555555555556,\"#d8576b\"],[0.6666666666666666,\"#ed7953\"],[0.7777777777777778,\"#fb9f3a\"],[0.8888888888888888,\"#fdca26\"],[1.0,\"#f0f921\"]]}],\"heatmap\":[{\"type\":\"heatmap\",\"colorbar\":{\"outlinewidth\":0,\"ticks\":\"\"},\"colorscale\":[[0.0,\"#0d0887\"],[0.1111111111111111,\"#46039f\"],[0.2222222222222222,\"#7201a8\"],[0.3333333333333333,\"#9c179e\"],[0.4444444444444444,\"#bd3786\"],[0.5555555555555556,\"#d8576b\"],[0.6666666666666666,\"#ed7953\"],[0.7777777777777778,\"#fb9f3a\"],[0.8888888888888888,\"#fdca26\"],[1.0,\"#f0f921\"]]}],\"heatmapgl\":[{\"type\":\"heatmapgl\",\"colorbar\":{\"outlinewidth\":0,\"ticks\":\"\"},\"colorscale\":[[0.0,\"#0d0887\"],[0.1111111111111111,\"#46039f\"],[0.2222222222222222,\"#7201a8\"],[0.3333333333333333,\"#9c179e\"],[0.4444444444444444,\"#bd3786\"],[0.5555555555555556,\"#d8576b\"],[0.6666666666666666,\"#ed7953\"],[0.7777777777777778,\"#fb9f3a\"],[0.8888888888888888,\"#fdca26\"],[1.0,\"#f0f921\"]]}],\"contourcarpet\":[{\"type\":\"contourcarpet\",\"colorbar\":{\"outlinewidth\":0,\"ticks\":\"\"}}],\"contour\":[{\"type\":\"contour\",\"colorbar\":{\"outlinewidth\":0,\"ticks\":\"\"},\"colorscale\":[[0.0,\"#0d0887\"],[0.1111111111111111,\"#46039f\"],[0.2222222222222222,\"#7201a8\"],[0.3333333333333333,\"#9c179e\"],[0.4444444444444444,\"#bd3786\"],[0.5555555555555556,\"#d8576b\"],[0.6666666666666666,\"#ed7953\"],[0.7777777777777778,\"#fb9f3a\"],[0.8888888888888888,\"#fdca26\"],[1.0,\"#f0f921\"]]}],\"surface\":[{\"type\":\"surface\",\"colorbar\":{\"outlinewidth\":0,\"ticks\":\"\"},\"colorscale\":[[0.0,\"#0d0887\"],[0.1111111111111111,\"#46039f\"],[0.2222222222222222,\"#7201a8\"],[0.3333333333333333,\"#9c179e\"],[0.4444444444444444,\"#bd3786\"],[0.5555555555555556,\"#d8576b\"],[0.6666666666666666,\"#ed7953\"],[0.7777777777777778,\"#fb9f3a\"],[0.8888888888888888,\"#fdca26\"],[1.0,\"#f0f921\"]]}],\"mesh3d\":[{\"type\":\"mesh3d\",\"colorbar\":{\"outlinewidth\":0,\"ticks\":\"\"}}],\"scatter\":[{\"fillpattern\":{\"fillmode\":\"overlay\",\"size\":10,\"solidity\":0.2},\"type\":\"scatter\"}],\"parcoords\":[{\"type\":\"parcoords\",\"line\":{\"colorbar\":{\"outlinewidth\":0,\"ticks\":\"\"}}}],\"scatterpolargl\":[{\"type\":\"scatterpolargl\",\"marker\":{\"colorbar\":{\"outlinewidth\":0,\"ticks\":\"\"}}}],\"bar\":[{\"error_x\":{\"color\":\"#2a3f5f\"},\"error_y\":{\"color\":\"#2a3f5f\"},\"marker\":{\"line\":{\"color\":\"#E5ECF6\",\"width\":0.5},\"pattern\":{\"fillmode\":\"overlay\",\"size\":10,\"solidity\":0.2}},\"type\":\"bar\"}],\"scattergeo\":[{\"type\":\"scattergeo\",\"marker\":{\"colorbar\":{\"outlinewidth\":0,\"ticks\":\"\"}}}],\"scatterpolar\":[{\"type\":\"scatterpolar\",\"marker\":{\"colorbar\":{\"outlinewidth\":0,\"ticks\":\"\"}}}],\"histogram\":[{\"marker\":{\"pattern\":{\"fillmode\":\"overlay\",\"size\":10,\"solidity\":0.2}},\"type\":\"histogram\"}],\"scattergl\":[{\"type\":\"scattergl\",\"marker\":{\"colorbar\":{\"outlinewidth\":0,\"ticks\":\"\"}}}],\"scatter3d\":[{\"type\":\"scatter3d\",\"line\":{\"colorbar\":{\"outlinewidth\":0,\"ticks\":\"\"}},\"marker\":{\"colorbar\":{\"outlinewidth\":0,\"ticks\":\"\"}}}],\"scattermapbox\":[{\"type\":\"scattermapbox\",\"marker\":{\"colorbar\":{\"outlinewidth\":0,\"ticks\":\"\"}}}],\"scatterternary\":[{\"type\":\"scatterternary\",\"marker\":{\"colorbar\":{\"outlinewidth\":0,\"ticks\":\"\"}}}],\"scattercarpet\":[{\"type\":\"scattercarpet\",\"marker\":{\"colorbar\":{\"outlinewidth\":0,\"ticks\":\"\"}}}],\"carpet\":[{\"aaxis\":{\"endlinecolor\":\"#2a3f5f\",\"gridcolor\":\"white\",\"linecolor\":\"white\",\"minorgridcolor\":\"white\",\"startlinecolor\":\"#2a3f5f\"},\"baxis\":{\"endlinecolor\":\"#2a3f5f\",\"gridcolor\":\"white\",\"linecolor\":\"white\",\"minorgridcolor\":\"white\",\"startlinecolor\":\"#2a3f5f\"},\"type\":\"carpet\"}],\"table\":[{\"cells\":{\"fill\":{\"color\":\"#EBF0F8\"},\"line\":{\"color\":\"white\"}},\"header\":{\"fill\":{\"color\":\"#C8D4E3\"},\"line\":{\"color\":\"white\"}},\"type\":\"table\"}],\"barpolar\":[{\"marker\":{\"line\":{\"color\":\"#E5ECF6\",\"width\":0.5},\"pattern\":{\"fillmode\":\"overlay\",\"size\":10,\"solidity\":0.2}},\"type\":\"barpolar\"}],\"pie\":[{\"automargin\":true,\"type\":\"pie\"}]},\"layout\":{\"autotypenumbers\":\"strict\",\"colorway\":[\"#636efa\",\"#EF553B\",\"#00cc96\",\"#ab63fa\",\"#FFA15A\",\"#19d3f3\",\"#FF6692\",\"#B6E880\",\"#FF97FF\",\"#FECB52\"],\"font\":{\"color\":\"#2a3f5f\"},\"hovermode\":\"closest\",\"hoverlabel\":{\"align\":\"left\"},\"paper_bgcolor\":\"white\",\"plot_bgcolor\":\"#E5ECF6\",\"polar\":{\"bgcolor\":\"#E5ECF6\",\"angularaxis\":{\"gridcolor\":\"white\",\"linecolor\":\"white\",\"ticks\":\"\"},\"radialaxis\":{\"gridcolor\":\"white\",\"linecolor\":\"white\",\"ticks\":\"\"}},\"ternary\":{\"bgcolor\":\"#E5ECF6\",\"aaxis\":{\"gridcolor\":\"white\",\"linecolor\":\"white\",\"ticks\":\"\"},\"baxis\":{\"gridcolor\":\"white\",\"linecolor\":\"white\",\"ticks\":\"\"},\"caxis\":{\"gridcolor\":\"white\",\"linecolor\":\"white\",\"ticks\":\"\"}},\"coloraxis\":{\"colorbar\":{\"outlinewidth\":0,\"ticks\":\"\"}},\"colorscale\":{\"sequential\":[[0.0,\"#0d0887\"],[0.1111111111111111,\"#46039f\"],[0.2222222222222222,\"#7201a8\"],[0.3333333333333333,\"#9c179e\"],[0.4444444444444444,\"#bd3786\"],[0.5555555555555556,\"#d8576b\"],[0.6666666666666666,\"#ed7953\"],[0.7777777777777778,\"#fb9f3a\"],[0.8888888888888888,\"#fdca26\"],[1.0,\"#f0f921\"]],\"sequentialminus\":[[0.0,\"#0d0887\"],[0.1111111111111111,\"#46039f\"],[0.2222222222222222,\"#7201a8\"],[0.3333333333333333,\"#9c179e\"],[0.4444444444444444,\"#bd3786\"],[0.5555555555555556,\"#d8576b\"],[0.6666666666666666,\"#ed7953\"],[0.7777777777777778,\"#fb9f3a\"],[0.8888888888888888,\"#fdca26\"],[1.0,\"#f0f921\"]],\"diverging\":[[0,\"#8e0152\"],[0.1,\"#c51b7d\"],[0.2,\"#de77ae\"],[0.3,\"#f1b6da\"],[0.4,\"#fde0ef\"],[0.5,\"#f7f7f7\"],[0.6,\"#e6f5d0\"],[0.7,\"#b8e186\"],[0.8,\"#7fbc41\"],[0.9,\"#4d9221\"],[1,\"#276419\"]]},\"xaxis\":{\"gridcolor\":\"white\",\"linecolor\":\"white\",\"ticks\":\"\",\"title\":{\"standoff\":15},\"zerolinecolor\":\"white\",\"automargin\":true,\"zerolinewidth\":2},\"yaxis\":{\"gridcolor\":\"white\",\"linecolor\":\"white\",\"ticks\":\"\",\"title\":{\"standoff\":15},\"zerolinecolor\":\"white\",\"automargin\":true,\"zerolinewidth\":2},\"scene\":{\"xaxis\":{\"backgroundcolor\":\"#E5ECF6\",\"gridcolor\":\"white\",\"linecolor\":\"white\",\"showbackground\":true,\"ticks\":\"\",\"zerolinecolor\":\"white\",\"gridwidth\":2},\"yaxis\":{\"backgroundcolor\":\"#E5ECF6\",\"gridcolor\":\"white\",\"linecolor\":\"white\",\"showbackground\":true,\"ticks\":\"\",\"zerolinecolor\":\"white\",\"gridwidth\":2},\"zaxis\":{\"backgroundcolor\":\"#E5ECF6\",\"gridcolor\":\"white\",\"linecolor\":\"white\",\"showbackground\":true,\"ticks\":\"\",\"zerolinecolor\":\"white\",\"gridwidth\":2}},\"shapedefaults\":{\"line\":{\"color\":\"#2a3f5f\"}},\"annotationdefaults\":{\"arrowcolor\":\"#2a3f5f\",\"arrowhead\":0,\"arrowwidth\":1},\"geo\":{\"bgcolor\":\"white\",\"landcolor\":\"#E5ECF6\",\"subunitcolor\":\"white\",\"showland\":true,\"showlakes\":true,\"lakecolor\":\"white\"},\"title\":{\"x\":0.05},\"mapbox\":{\"style\":\"light\"}}},\"xaxis\":{\"anchor\":\"y\",\"domain\":[0.0,1.0],\"title\":{\"text\":\"Avg Temperature [K]\"}},\"yaxis\":{\"anchor\":\"x\",\"domain\":[0.0,1.0],\"title\":{\"text\":\"Avg Current [A/cm2]\"},\"type\":\"log\"},\"legend\":{\"title\":{\"text\":\"Name\"},\"tracegroupgap\":0},\"title\":{\"text\":\"Corrente e Temperatura degli Esperimenti\"},\"height\":800,\"width\":952},                        {\"responsive\": true}                    ).then(function(){\n",
       "                            \n",
       "var gd = document.getElementById('f9df1ce1-0936-4624-9af8-bcd85e62e719');\n",
       "var x = new MutationObserver(function (mutations, observer) {{\n",
       "        var display = window.getComputedStyle(gd).display;\n",
       "        if (!display || display === 'none') {{\n",
       "            console.log([gd, 'removed!']);\n",
       "            Plotly.purge(gd);\n",
       "            observer.disconnect();\n",
       "        }}\n",
       "}});\n",
       "\n",
       "// Listen for the removal of the full notebook cells\n",
       "var notebookContainer = gd.closest('#notebook-container');\n",
       "if (notebookContainer) {{\n",
       "    x.observe(notebookContainer, {childList: true});\n",
       "}}\n",
       "\n",
       "// Listen for the clearing of the current output cell\n",
       "var outputEl = gd.closest('.output');\n",
       "if (outputEl) {{\n",
       "    x.observe(outputEl, {childList: true});\n",
       "}}\n",
       "\n",
       "                        })                };                });            </script>        </div>"
      ]
     },
     "metadata": {},
     "output_type": "display_data"
    }
   ],
   "source": [
    "# Distribuzione in funzione della temperatura e della corrente\n",
    "fig = px.scatter(df_variable, x='Avg Temperature [K]', y='Avg Current [A/cm2]', \n",
    "title='Corrente e Temperatura degli Esperimenti',\n",
    "color=\"Name\", hover_name=\"Experiment\", log_y=True, error_y='e_j_plus', error_y_minus='e_j_minus', \n",
    "error_x='e_t_plus', error_x_minus='e_t_minus',\n",
    "width=952, height=800)\n",
    "fig.show()"
   ]
  },
  {
   "cell_type": "markdown",
   "id": "turned-birthday",
   "metadata": {},
   "source": [
    "### Oscillazioni in funzione della temperatura"
   ]
  },
  {
   "cell_type": "code",
   "execution_count": 9,
   "id": "prime-possible",
   "metadata": {},
   "outputs": [
    {
     "data": {
      "application/vnd.plotly.v1+json": {
       "config": {
        "plotlyServerURL": "https://plot.ly"
       },
       "data": [
        {
         "error_x": {
          "array": [
           0.001328095815935626,
           0.0021446771325344116,
           0.13244453508278298,
           0.4565345903830007,
           0.0015316562490426122,
           0.002280902856128364,
           0.000921353624747212,
           0.0012680012254548956,
           0.0006364864941161841,
           0.0007965908919516096,
           0.004887731336253864,
           0.3531725768699232,
           0.003344913905721114
          ],
          "arrayminus": [
           0.001654814206048627,
           0.002855209406902759,
           0.1459234632139328,
           0.5805238171961378,
           0.0019055460380741351,
           0.003797855736110023,
           0.0020896867388557894,
           0.0026521091739510894,
           0.0008405514537770387,
           0.0011351166745896535,
           0.002384843336599829,
           0.40987087992868965,
           0.007734352745245587
          ]
         },
         "error_y": {
          "array": [
           40.54231862899826,
           314.5153787744873,
           55.601966567852486,
           47.903053416105536,
           16.68055418911331,
           240.0988086554649,
           5.603784068757818,
           40.10429232428453,
           12.344224182098742,
           36.39237630471382,
           334.36742189986984,
           24.404100505050508,
           4.8642134809634285
          ],
          "arrayminus": [
           69.60129711174241,
           107.6011285066575,
           36.650055317669455,
           25.854830843153763,
           27.990078950617487,
           186.28216920648796,
           9.734175106326404,
           67.73750102588383,
           39.95806665123462,
           48.483345189394015,
           103.6934493543389,
           16.702155808080846,
           9.086770104895095
          ]
         },
         "hovertemplate": "<b>%{hovertext}</b><br><br>Name=CA12X2<br>Avg Temperature [K]=%{x}<br>Avg Osc Amplitude [V/cm]=%{y}<extra></extra>",
         "hovertext": [
          "CA12X2_current_from_100e-9_to_200e-9A_flipped-20220315160531",
          "CA12X2_current_from_10e-9_to_100e-9A_flipped-20220315155945",
          "CA12X2_current_from_0.1e-6_to_1.0e-6A-20220317151236",
          "CA12X2_current_from_0.1e-6_to_1.5e-6A-20220317150657",
          "CA12X2_current_from_1e-9_to_10e-9A_flipped-20220315155235",
          "CA12X2_current_from_1e-9_to_1000e-9A_flipped-20220315170952",
          "CA12X2_current_from_200e-9_to_300e-9A_flipped-20220315161234",
          "CA12X2_current_from_100e-9_to_200e-9A-20220315152213",
          "CA12X2_current_from_1e-9_to_10e-9A-20220315153228",
          "CA12X2_current_from_1e-9_to_10e-9A-20220315151857",
          "CA12X2_current_from_10e-9_to_100e-9A-20220315151525",
          "CA12X2_current_from_1e-6_to_2e-6A-20220317143643",
          "CA12X2_current_from_200e-9_to_300e-9A-20220315152513"
         ],
         "legendgroup": "CA12X2",
         "marker": {
          "color": "#636efa",
          "symbol": "circle"
         },
         "mode": "markers",
         "name": "CA12X2",
         "orientation": "v",
         "showlegend": true,
         "type": "scatter",
         "x": [
          113.48018048230064,
          113.47038747931718,
          108.95441729447298,
          129.2381324109405,
          113.46264874300995,
          113.48172732110667,
          113.47842832178341,
          113.4470325494966,
          113.43692551500877,
          113.44355525277572,
          113.4454298182477,
          133.8554300093167,
          113.44805214637552
         ],
         "xaxis": "x",
         "y": [
          257.99371714541246,
          165.5609240032905,
          180.80883351632264,
          167.4216549172278,
          485.1738810592032,
          246.02805514924893,
          308.4391889952153,
          257.577093197601,
          489.7577687514029,
          464.2819840951179,
          156.3530860546756,
          148.8656570707071,
          308.9615706099456
         ],
         "yaxis": "y"
        },
        {
         "error_x": {
          "array": [
           0.2579376108546825,
           0.04283274040663798,
           0.06812879656112614,
           0.07338099864976755,
           0.17782681581952886,
           0.06882861773544846,
           0.2327080828870578,
           0.42880519845114407
          ],
          "arrayminus": [
           0.265603396388002,
           0.04064684852862399,
           0.06642117558264715,
           0.07538620963273956,
           0.1785839105177871,
           0.07906378939375713,
           0.3003395582004913,
           0.4345991831635416
          ]
         },
         "error_y": {
          "array": [
           400.1285652528335,
           416.00775327956967,
           412.3793153480476,
           435.33028314303897,
           72.68219769585244,
           105.05162811059904,
           167.32150690524213,
           462.2190633646954
          ],
          "arrayminus": [
           288.7429869245859,
           340.9389605107529,
           326.76788223259763,
           324.8795804053482,
           186.31666923963138,
           137.99502027649754,
           49.13131083669356,
           222.5215844578853
          ]
         },
         "hovertemplate": "<b>%{hovertext}</b><br><br>Name=CA12_01_A<br>Avg Temperature [K]=%{x}<br>Avg Osc Amplitude [V/cm]=%{y}<extra></extra>",
         "hovertext": [
          "CA12_01_A_current_from_1e-8_to_35e-8A-20220429161303",
          "CA12_01_A_current_from_1e-9_to_30e-8A-20220429165618",
          "CA12_01_A_current_from_1e-9_to_30e-8A-20220429163858",
          "CA12_01_A_current_from_0.5e-8_to_30e-8A-20220429161610",
          "CA12_01_A_current_from_1e-7_to_10e-7A-20220429152836",
          "CA12_01_A_current_from_1e-7_to_10e-7A-20220429152137",
          "CA12_01_A_current_from_1e-7_to_10e-7A-20220429151346",
          "CA12_01_A_current_from_1e-8_to_20e-8A-20220429153124"
         ],
         "legendgroup": "CA12_01_A",
         "marker": {
          "color": "#EF553B",
          "symbol": "circle"
         },
         "mode": "markers",
         "name": "CA12_01_A",
         "orientation": "v",
         "showlegend": true,
         "type": "scatter",
         "x": [
          107.22490263780487,
          95.17634373708593,
          99.29526170202244,
          99.55930264854368,
          112.67445502351177,
          116.28251296723863,
          123.43440189585394,
          108.2730863479829
         ],
         "xaxis": "x",
         "y": [
          498.71566942458594,
          478.61332438172064,
          469.8801052971138,
          473.4292771795417,
          526.3841079493088,
          544.3915493087558,
          542.0331737399193,
          449.9691909094982
         ],
         "yaxis": "y"
        },
        {
         "error_x": {
          "array": [
           0.051346350087200676,
           0.051243834437372016,
           0.034980863948476326,
           0.04291561958272894,
           0.03223017117072402
          ],
          "arrayminus": [
           0.065222765770514,
           0.050910512763465476,
           0.023333539063713715,
           0.05361390393794352,
           0.04255127337368947
          ]
         },
         "error_y": {
          "array": [
           25.290396381277844,
           17.560570554239803,
           74.5694668340119,
           93.19667279521389,
           199.6472544159475
          ],
          "arrayminus": [
           24.504475998922317,
           24.770004521493036,
           35.72035381343409,
           45.587789486456586,
           168.78810709636417
          ]
         },
         "hovertemplate": "<b>%{hovertext}</b><br><br>Name=CA8_01_A<br>Avg Temperature [K]=%{x}<br>Avg Osc Amplitude [V/cm]=%{y}<extra></extra>",
         "hovertext": [
          "CA8_01_A_current_from_0.5e-6_to_2e-6A_flipped-20220421110256",
          "CA8_01_A_current_from_1e-6_to_2e-6A-20220421110002",
          "CA8_01_A_current_from_1e-7_to_1.3e-6A-20220421182659",
          "CA8_01_A_current_from_-0.5e-6_to_1e-6A_flipped-20220421110914",
          "CA8_01_A_current_from_0.5e-7_to_4e-7A-20220421185114"
         ],
         "legendgroup": "CA8_01_A",
         "marker": {
          "color": "#00cc96",
          "symbol": "circle"
         },
         "mode": "markers",
         "name": "CA8_01_A",
         "orientation": "v",
         "showlegend": true,
         "type": "scatter",
         "x": [
          127.56662315159107,
          129.54850133976655,
          128.17523398077884,
          125.5403580602984,
          113.98739377147638
         ],
         "xaxis": "x",
         "y": [
          335.8989899208019,
          320.5228509026681,
          347.52271371545976,
          383.19981233894583,
          401.4438513755298
         ],
         "yaxis": "y"
        },
        {
         "error_x": {
          "array": [
           0.06988055787562075,
           0.0022509650266471226,
           0.002231669642284828,
           0.06772549937601013,
           0.04148534109843638
          ],
          "arrayminus": [
           0.08532668828733847,
           0.002952258899782123,
           0.002004737189622574,
           0.09115083139110425,
           0.05090880116728158
          ]
         },
         "error_y": {
          "array": [
           146.76055758169946,
           128.14347357609716,
           3.7304880430604044,
           158.26366274509786,
           143.16628308823528
          ],
          "arrayminus": [
           310.93354176470586,
           85.21572315592903,
           7.349989081122715,
           305.80513986928116,
           316.4482410947713
          ]
         },
         "hovertemplate": "<b>%{hovertext}</b><br><br>Name=CA12X_C5<br>Avg Temperature [K]=%{x}<br>Avg Osc Amplitude [V/cm]=%{y}<extra></extra>",
         "hovertext": [
          "CA12X_C5_current_from_1e-7_to_10e-7A_flipped-20220412171054",
          "CA12X_C5_current_from_1e-7_to_3.5e-7A-20220413145630",
          "CA12X_C5_current_from_3.5e-7_to_5e-7A-20220413145837",
          "CA12X_C5_current_from_1e-7_to_10e-7A-20220413133337",
          "CA12X_C5_current_from_1e-7_to_10e-7A-20220412170113"
         ],
         "legendgroup": "CA12X_C5",
         "marker": {
          "color": "#ab63fa",
          "symbol": "circle"
         },
         "mode": "markers",
         "name": "CA12X_C5",
         "orientation": "v",
         "showlegend": true,
         "type": "scatter",
         "x": [
          119.40001251119938,
          112.99590633267607,
          112.98509315337563,
          118.93872759441619,
          119.70959750713385
         ],
         "xaxis": "x",
         "y": [
          421.51413718954245,
          427.9648813258637,
          463.7403505190312,
          402.9853836601308,
          410.4836907679739
         ],
         "yaxis": "y"
        },
        {
         "error_x": {
          "array": [
           0.029195176395035105,
           0.34701450640979203,
           0.24850551937997523,
           0.07550861226327754
          ],
          "arrayminus": [
           0.027925805130934123,
           0.4124280550860391,
           0.24352677684137802,
           0.09624896283615669
          ]
         },
         "error_y": {
          "array": [
           0.6526869476435451,
           5.638094656287095,
           3.573341806306914,
           40.47581234991422
          ],
          "arrayminus": [
           0.7435566201094304,
           38.335096767383575,
           7.407595071909199,
           10.42417873070329
          ]
         },
         "hovertemplate": "<b>%{hovertext}</b><br><br>Name=CA12X2_C1<br>Avg Temperature [K]=%{x}<br>Avg Osc Amplitude [V/cm]=%{y}<extra></extra>",
         "hovertext": [
          "CA12X2_C1_current_from_0.3e-6_to_0.4e-6A-20220428162717",
          "CA12X2_C1_current_from_0.5e-6_to_1e-6A-20220428153610",
          "CA12X2_C1_current_from_0.5e-6_to_1e-6A-20220428154754",
          "CA12X2_C1_current_from_1e-7_to_1e-6A-20220428162518"
         ],
         "legendgroup": "CA12X2_C1",
         "marker": {
          "color": "#FFA15A",
          "symbol": "circle"
         },
         "mode": "markers",
         "name": "CA12X2_C1",
         "orientation": "v",
         "showlegend": true,
         "type": "scatter",
         "x": [
          87.94975212793224,
          103.43576754110424,
          102.09991796451557,
          97.99243870006084
         ],
         "xaxis": "x",
         "y": [
          123.35304821530669,
          100.9774681224436,
          105.96878906847869,
          115.93307084048028
         ],
         "yaxis": "y"
        }
       ],
       "layout": {
        "height": 800,
        "legend": {
         "title": {
          "text": "Name"
         },
         "tracegroupgap": 0
        },
        "template": {
         "data": {
          "bar": [
           {
            "error_x": {
             "color": "#2a3f5f"
            },
            "error_y": {
             "color": "#2a3f5f"
            },
            "marker": {
             "line": {
              "color": "#E5ECF6",
              "width": 0.5
             },
             "pattern": {
              "fillmode": "overlay",
              "size": 10,
              "solidity": 0.2
             }
            },
            "type": "bar"
           }
          ],
          "barpolar": [
           {
            "marker": {
             "line": {
              "color": "#E5ECF6",
              "width": 0.5
             },
             "pattern": {
              "fillmode": "overlay",
              "size": 10,
              "solidity": 0.2
             }
            },
            "type": "barpolar"
           }
          ],
          "carpet": [
           {
            "aaxis": {
             "endlinecolor": "#2a3f5f",
             "gridcolor": "white",
             "linecolor": "white",
             "minorgridcolor": "white",
             "startlinecolor": "#2a3f5f"
            },
            "baxis": {
             "endlinecolor": "#2a3f5f",
             "gridcolor": "white",
             "linecolor": "white",
             "minorgridcolor": "white",
             "startlinecolor": "#2a3f5f"
            },
            "type": "carpet"
           }
          ],
          "choropleth": [
           {
            "colorbar": {
             "outlinewidth": 0,
             "ticks": ""
            },
            "type": "choropleth"
           }
          ],
          "contour": [
           {
            "colorbar": {
             "outlinewidth": 0,
             "ticks": ""
            },
            "colorscale": [
             [
              0,
              "#0d0887"
             ],
             [
              0.1111111111111111,
              "#46039f"
             ],
             [
              0.2222222222222222,
              "#7201a8"
             ],
             [
              0.3333333333333333,
              "#9c179e"
             ],
             [
              0.4444444444444444,
              "#bd3786"
             ],
             [
              0.5555555555555556,
              "#d8576b"
             ],
             [
              0.6666666666666666,
              "#ed7953"
             ],
             [
              0.7777777777777778,
              "#fb9f3a"
             ],
             [
              0.8888888888888888,
              "#fdca26"
             ],
             [
              1,
              "#f0f921"
             ]
            ],
            "type": "contour"
           }
          ],
          "contourcarpet": [
           {
            "colorbar": {
             "outlinewidth": 0,
             "ticks": ""
            },
            "type": "contourcarpet"
           }
          ],
          "heatmap": [
           {
            "colorbar": {
             "outlinewidth": 0,
             "ticks": ""
            },
            "colorscale": [
             [
              0,
              "#0d0887"
             ],
             [
              0.1111111111111111,
              "#46039f"
             ],
             [
              0.2222222222222222,
              "#7201a8"
             ],
             [
              0.3333333333333333,
              "#9c179e"
             ],
             [
              0.4444444444444444,
              "#bd3786"
             ],
             [
              0.5555555555555556,
              "#d8576b"
             ],
             [
              0.6666666666666666,
              "#ed7953"
             ],
             [
              0.7777777777777778,
              "#fb9f3a"
             ],
             [
              0.8888888888888888,
              "#fdca26"
             ],
             [
              1,
              "#f0f921"
             ]
            ],
            "type": "heatmap"
           }
          ],
          "heatmapgl": [
           {
            "colorbar": {
             "outlinewidth": 0,
             "ticks": ""
            },
            "colorscale": [
             [
              0,
              "#0d0887"
             ],
             [
              0.1111111111111111,
              "#46039f"
             ],
             [
              0.2222222222222222,
              "#7201a8"
             ],
             [
              0.3333333333333333,
              "#9c179e"
             ],
             [
              0.4444444444444444,
              "#bd3786"
             ],
             [
              0.5555555555555556,
              "#d8576b"
             ],
             [
              0.6666666666666666,
              "#ed7953"
             ],
             [
              0.7777777777777778,
              "#fb9f3a"
             ],
             [
              0.8888888888888888,
              "#fdca26"
             ],
             [
              1,
              "#f0f921"
             ]
            ],
            "type": "heatmapgl"
           }
          ],
          "histogram": [
           {
            "marker": {
             "pattern": {
              "fillmode": "overlay",
              "size": 10,
              "solidity": 0.2
             }
            },
            "type": "histogram"
           }
          ],
          "histogram2d": [
           {
            "colorbar": {
             "outlinewidth": 0,
             "ticks": ""
            },
            "colorscale": [
             [
              0,
              "#0d0887"
             ],
             [
              0.1111111111111111,
              "#46039f"
             ],
             [
              0.2222222222222222,
              "#7201a8"
             ],
             [
              0.3333333333333333,
              "#9c179e"
             ],
             [
              0.4444444444444444,
              "#bd3786"
             ],
             [
              0.5555555555555556,
              "#d8576b"
             ],
             [
              0.6666666666666666,
              "#ed7953"
             ],
             [
              0.7777777777777778,
              "#fb9f3a"
             ],
             [
              0.8888888888888888,
              "#fdca26"
             ],
             [
              1,
              "#f0f921"
             ]
            ],
            "type": "histogram2d"
           }
          ],
          "histogram2dcontour": [
           {
            "colorbar": {
             "outlinewidth": 0,
             "ticks": ""
            },
            "colorscale": [
             [
              0,
              "#0d0887"
             ],
             [
              0.1111111111111111,
              "#46039f"
             ],
             [
              0.2222222222222222,
              "#7201a8"
             ],
             [
              0.3333333333333333,
              "#9c179e"
             ],
             [
              0.4444444444444444,
              "#bd3786"
             ],
             [
              0.5555555555555556,
              "#d8576b"
             ],
             [
              0.6666666666666666,
              "#ed7953"
             ],
             [
              0.7777777777777778,
              "#fb9f3a"
             ],
             [
              0.8888888888888888,
              "#fdca26"
             ],
             [
              1,
              "#f0f921"
             ]
            ],
            "type": "histogram2dcontour"
           }
          ],
          "mesh3d": [
           {
            "colorbar": {
             "outlinewidth": 0,
             "ticks": ""
            },
            "type": "mesh3d"
           }
          ],
          "parcoords": [
           {
            "line": {
             "colorbar": {
              "outlinewidth": 0,
              "ticks": ""
             }
            },
            "type": "parcoords"
           }
          ],
          "pie": [
           {
            "automargin": true,
            "type": "pie"
           }
          ],
          "scatter": [
           {
            "fillpattern": {
             "fillmode": "overlay",
             "size": 10,
             "solidity": 0.2
            },
            "type": "scatter"
           }
          ],
          "scatter3d": [
           {
            "line": {
             "colorbar": {
              "outlinewidth": 0,
              "ticks": ""
             }
            },
            "marker": {
             "colorbar": {
              "outlinewidth": 0,
              "ticks": ""
             }
            },
            "type": "scatter3d"
           }
          ],
          "scattercarpet": [
           {
            "marker": {
             "colorbar": {
              "outlinewidth": 0,
              "ticks": ""
             }
            },
            "type": "scattercarpet"
           }
          ],
          "scattergeo": [
           {
            "marker": {
             "colorbar": {
              "outlinewidth": 0,
              "ticks": ""
             }
            },
            "type": "scattergeo"
           }
          ],
          "scattergl": [
           {
            "marker": {
             "colorbar": {
              "outlinewidth": 0,
              "ticks": ""
             }
            },
            "type": "scattergl"
           }
          ],
          "scattermapbox": [
           {
            "marker": {
             "colorbar": {
              "outlinewidth": 0,
              "ticks": ""
             }
            },
            "type": "scattermapbox"
           }
          ],
          "scatterpolar": [
           {
            "marker": {
             "colorbar": {
              "outlinewidth": 0,
              "ticks": ""
             }
            },
            "type": "scatterpolar"
           }
          ],
          "scatterpolargl": [
           {
            "marker": {
             "colorbar": {
              "outlinewidth": 0,
              "ticks": ""
             }
            },
            "type": "scatterpolargl"
           }
          ],
          "scatterternary": [
           {
            "marker": {
             "colorbar": {
              "outlinewidth": 0,
              "ticks": ""
             }
            },
            "type": "scatterternary"
           }
          ],
          "surface": [
           {
            "colorbar": {
             "outlinewidth": 0,
             "ticks": ""
            },
            "colorscale": [
             [
              0,
              "#0d0887"
             ],
             [
              0.1111111111111111,
              "#46039f"
             ],
             [
              0.2222222222222222,
              "#7201a8"
             ],
             [
              0.3333333333333333,
              "#9c179e"
             ],
             [
              0.4444444444444444,
              "#bd3786"
             ],
             [
              0.5555555555555556,
              "#d8576b"
             ],
             [
              0.6666666666666666,
              "#ed7953"
             ],
             [
              0.7777777777777778,
              "#fb9f3a"
             ],
             [
              0.8888888888888888,
              "#fdca26"
             ],
             [
              1,
              "#f0f921"
             ]
            ],
            "type": "surface"
           }
          ],
          "table": [
           {
            "cells": {
             "fill": {
              "color": "#EBF0F8"
             },
             "line": {
              "color": "white"
             }
            },
            "header": {
             "fill": {
              "color": "#C8D4E3"
             },
             "line": {
              "color": "white"
             }
            },
            "type": "table"
           }
          ]
         },
         "layout": {
          "annotationdefaults": {
           "arrowcolor": "#2a3f5f",
           "arrowhead": 0,
           "arrowwidth": 1
          },
          "autotypenumbers": "strict",
          "coloraxis": {
           "colorbar": {
            "outlinewidth": 0,
            "ticks": ""
           }
          },
          "colorscale": {
           "diverging": [
            [
             0,
             "#8e0152"
            ],
            [
             0.1,
             "#c51b7d"
            ],
            [
             0.2,
             "#de77ae"
            ],
            [
             0.3,
             "#f1b6da"
            ],
            [
             0.4,
             "#fde0ef"
            ],
            [
             0.5,
             "#f7f7f7"
            ],
            [
             0.6,
             "#e6f5d0"
            ],
            [
             0.7,
             "#b8e186"
            ],
            [
             0.8,
             "#7fbc41"
            ],
            [
             0.9,
             "#4d9221"
            ],
            [
             1,
             "#276419"
            ]
           ],
           "sequential": [
            [
             0,
             "#0d0887"
            ],
            [
             0.1111111111111111,
             "#46039f"
            ],
            [
             0.2222222222222222,
             "#7201a8"
            ],
            [
             0.3333333333333333,
             "#9c179e"
            ],
            [
             0.4444444444444444,
             "#bd3786"
            ],
            [
             0.5555555555555556,
             "#d8576b"
            ],
            [
             0.6666666666666666,
             "#ed7953"
            ],
            [
             0.7777777777777778,
             "#fb9f3a"
            ],
            [
             0.8888888888888888,
             "#fdca26"
            ],
            [
             1,
             "#f0f921"
            ]
           ],
           "sequentialminus": [
            [
             0,
             "#0d0887"
            ],
            [
             0.1111111111111111,
             "#46039f"
            ],
            [
             0.2222222222222222,
             "#7201a8"
            ],
            [
             0.3333333333333333,
             "#9c179e"
            ],
            [
             0.4444444444444444,
             "#bd3786"
            ],
            [
             0.5555555555555556,
             "#d8576b"
            ],
            [
             0.6666666666666666,
             "#ed7953"
            ],
            [
             0.7777777777777778,
             "#fb9f3a"
            ],
            [
             0.8888888888888888,
             "#fdca26"
            ],
            [
             1,
             "#f0f921"
            ]
           ]
          },
          "colorway": [
           "#636efa",
           "#EF553B",
           "#00cc96",
           "#ab63fa",
           "#FFA15A",
           "#19d3f3",
           "#FF6692",
           "#B6E880",
           "#FF97FF",
           "#FECB52"
          ],
          "font": {
           "color": "#2a3f5f"
          },
          "geo": {
           "bgcolor": "white",
           "lakecolor": "white",
           "landcolor": "#E5ECF6",
           "showlakes": true,
           "showland": true,
           "subunitcolor": "white"
          },
          "hoverlabel": {
           "align": "left"
          },
          "hovermode": "closest",
          "mapbox": {
           "style": "light"
          },
          "paper_bgcolor": "white",
          "plot_bgcolor": "#E5ECF6",
          "polar": {
           "angularaxis": {
            "gridcolor": "white",
            "linecolor": "white",
            "ticks": ""
           },
           "bgcolor": "#E5ECF6",
           "radialaxis": {
            "gridcolor": "white",
            "linecolor": "white",
            "ticks": ""
           }
          },
          "scene": {
           "xaxis": {
            "backgroundcolor": "#E5ECF6",
            "gridcolor": "white",
            "gridwidth": 2,
            "linecolor": "white",
            "showbackground": true,
            "ticks": "",
            "zerolinecolor": "white"
           },
           "yaxis": {
            "backgroundcolor": "#E5ECF6",
            "gridcolor": "white",
            "gridwidth": 2,
            "linecolor": "white",
            "showbackground": true,
            "ticks": "",
            "zerolinecolor": "white"
           },
           "zaxis": {
            "backgroundcolor": "#E5ECF6",
            "gridcolor": "white",
            "gridwidth": 2,
            "linecolor": "white",
            "showbackground": true,
            "ticks": "",
            "zerolinecolor": "white"
           }
          },
          "shapedefaults": {
           "line": {
            "color": "#2a3f5f"
           }
          },
          "ternary": {
           "aaxis": {
            "gridcolor": "white",
            "linecolor": "white",
            "ticks": ""
           },
           "baxis": {
            "gridcolor": "white",
            "linecolor": "white",
            "ticks": ""
           },
           "bgcolor": "#E5ECF6",
           "caxis": {
            "gridcolor": "white",
            "linecolor": "white",
            "ticks": ""
           }
          },
          "title": {
           "x": 0.05
          },
          "xaxis": {
           "automargin": true,
           "gridcolor": "white",
           "linecolor": "white",
           "ticks": "",
           "title": {
            "standoff": 15
           },
           "zerolinecolor": "white",
           "zerolinewidth": 2
          },
          "yaxis": {
           "automargin": true,
           "gridcolor": "white",
           "linecolor": "white",
           "ticks": "",
           "title": {
            "standoff": 15
           },
           "zerolinecolor": "white",
           "zerolinewidth": 2
          }
         }
        },
        "title": {
         "text": "Ampiezza delle oscillazioni in funzione della temperatura"
        },
        "width": 952,
        "xaxis": {
         "anchor": "y",
         "domain": [
          0,
          1
         ],
         "title": {
          "text": "Avg Temperature [K]"
         }
        },
        "yaxis": {
         "anchor": "x",
         "domain": [
          0,
          1
         ],
         "title": {
          "text": "Avg Osc Amplitude [V/cm]"
         }
        }
       }
      },
      "text/html": [
       "<div>                            <div id=\"e77c39eb-92b8-4be4-b254-b49be7e7fcf7\" class=\"plotly-graph-div\" style=\"height:800px; width:952px;\"></div>            <script type=\"text/javascript\">                require([\"plotly\"], function(Plotly) {                    window.PLOTLYENV=window.PLOTLYENV || {};                                    if (document.getElementById(\"e77c39eb-92b8-4be4-b254-b49be7e7fcf7\")) {                    Plotly.newPlot(                        \"e77c39eb-92b8-4be4-b254-b49be7e7fcf7\",                        [{\"error_x\":{\"array\":[0.001328095815935626,0.0021446771325344116,0.13244453508278298,0.4565345903830007,0.0015316562490426122,0.002280902856128364,0.000921353624747212,0.0012680012254548956,0.0006364864941161841,0.0007965908919516096,0.004887731336253864,0.3531725768699232,0.003344913905721114],\"arrayminus\":[0.001654814206048627,0.002855209406902759,0.1459234632139328,0.5805238171961378,0.0019055460380741351,0.003797855736110023,0.0020896867388557894,0.0026521091739510894,0.0008405514537770387,0.0011351166745896535,0.002384843336599829,0.40987087992868965,0.007734352745245587]},\"error_y\":{\"array\":[40.54231862899826,314.5153787744873,55.601966567852486,47.903053416105536,16.68055418911331,240.0988086554649,5.603784068757818,40.10429232428453,12.344224182098742,36.39237630471382,334.36742189986984,24.404100505050508,4.8642134809634285],\"arrayminus\":[69.60129711174241,107.6011285066575,36.650055317669455,25.854830843153763,27.990078950617487,186.28216920648796,9.734175106326404,67.73750102588383,39.95806665123462,48.483345189394015,103.6934493543389,16.702155808080846,9.086770104895095]},\"hovertemplate\":\"<b>%{hovertext}</b><br><br>Name=CA12X2<br>Avg Temperature [K]=%{x}<br>Avg Osc Amplitude [V/cm]=%{y}<extra></extra>\",\"hovertext\":[\"CA12X2_current_from_100e-9_to_200e-9A_flipped-20220315160531\",\"CA12X2_current_from_10e-9_to_100e-9A_flipped-20220315155945\",\"CA12X2_current_from_0.1e-6_to_1.0e-6A-20220317151236\",\"CA12X2_current_from_0.1e-6_to_1.5e-6A-20220317150657\",\"CA12X2_current_from_1e-9_to_10e-9A_flipped-20220315155235\",\"CA12X2_current_from_1e-9_to_1000e-9A_flipped-20220315170952\",\"CA12X2_current_from_200e-9_to_300e-9A_flipped-20220315161234\",\"CA12X2_current_from_100e-9_to_200e-9A-20220315152213\",\"CA12X2_current_from_1e-9_to_10e-9A-20220315153228\",\"CA12X2_current_from_1e-9_to_10e-9A-20220315151857\",\"CA12X2_current_from_10e-9_to_100e-9A-20220315151525\",\"CA12X2_current_from_1e-6_to_2e-6A-20220317143643\",\"CA12X2_current_from_200e-9_to_300e-9A-20220315152513\"],\"legendgroup\":\"CA12X2\",\"marker\":{\"color\":\"#636efa\",\"symbol\":\"circle\"},\"mode\":\"markers\",\"name\":\"CA12X2\",\"orientation\":\"v\",\"showlegend\":true,\"x\":[113.48018048230064,113.47038747931718,108.95441729447298,129.2381324109405,113.46264874300995,113.48172732110667,113.47842832178341,113.4470325494966,113.43692551500877,113.44355525277572,113.4454298182477,133.8554300093167,113.44805214637552],\"xaxis\":\"x\",\"y\":[257.99371714541246,165.5609240032905,180.80883351632264,167.4216549172278,485.1738810592032,246.02805514924893,308.4391889952153,257.577093197601,489.7577687514029,464.2819840951179,156.3530860546756,148.8656570707071,308.9615706099456],\"yaxis\":\"y\",\"type\":\"scatter\"},{\"error_x\":{\"array\":[0.2579376108546825,0.04283274040663798,0.06812879656112614,0.07338099864976755,0.17782681581952886,0.06882861773544846,0.2327080828870578,0.42880519845114407],\"arrayminus\":[0.265603396388002,0.04064684852862399,0.06642117558264715,0.07538620963273956,0.1785839105177871,0.07906378939375713,0.3003395582004913,0.4345991831635416]},\"error_y\":{\"array\":[400.1285652528335,416.00775327956967,412.3793153480476,435.33028314303897,72.68219769585244,105.05162811059904,167.32150690524213,462.2190633646954],\"arrayminus\":[288.7429869245859,340.9389605107529,326.76788223259763,324.8795804053482,186.31666923963138,137.99502027649754,49.13131083669356,222.5215844578853]},\"hovertemplate\":\"<b>%{hovertext}</b><br><br>Name=CA12_01_A<br>Avg Temperature [K]=%{x}<br>Avg Osc Amplitude [V/cm]=%{y}<extra></extra>\",\"hovertext\":[\"CA12_01_A_current_from_1e-8_to_35e-8A-20220429161303\",\"CA12_01_A_current_from_1e-9_to_30e-8A-20220429165618\",\"CA12_01_A_current_from_1e-9_to_30e-8A-20220429163858\",\"CA12_01_A_current_from_0.5e-8_to_30e-8A-20220429161610\",\"CA12_01_A_current_from_1e-7_to_10e-7A-20220429152836\",\"CA12_01_A_current_from_1e-7_to_10e-7A-20220429152137\",\"CA12_01_A_current_from_1e-7_to_10e-7A-20220429151346\",\"CA12_01_A_current_from_1e-8_to_20e-8A-20220429153124\"],\"legendgroup\":\"CA12_01_A\",\"marker\":{\"color\":\"#EF553B\",\"symbol\":\"circle\"},\"mode\":\"markers\",\"name\":\"CA12_01_A\",\"orientation\":\"v\",\"showlegend\":true,\"x\":[107.22490263780487,95.17634373708593,99.29526170202244,99.55930264854368,112.67445502351177,116.28251296723863,123.43440189585394,108.2730863479829],\"xaxis\":\"x\",\"y\":[498.71566942458594,478.61332438172064,469.8801052971138,473.4292771795417,526.3841079493088,544.3915493087558,542.0331737399193,449.9691909094982],\"yaxis\":\"y\",\"type\":\"scatter\"},{\"error_x\":{\"array\":[0.051346350087200676,0.051243834437372016,0.034980863948476326,0.04291561958272894,0.03223017117072402],\"arrayminus\":[0.065222765770514,0.050910512763465476,0.023333539063713715,0.05361390393794352,0.04255127337368947]},\"error_y\":{\"array\":[25.290396381277844,17.560570554239803,74.5694668340119,93.19667279521389,199.6472544159475],\"arrayminus\":[24.504475998922317,24.770004521493036,35.72035381343409,45.587789486456586,168.78810709636417]},\"hovertemplate\":\"<b>%{hovertext}</b><br><br>Name=CA8_01_A<br>Avg Temperature [K]=%{x}<br>Avg Osc Amplitude [V/cm]=%{y}<extra></extra>\",\"hovertext\":[\"CA8_01_A_current_from_0.5e-6_to_2e-6A_flipped-20220421110256\",\"CA8_01_A_current_from_1e-6_to_2e-6A-20220421110002\",\"CA8_01_A_current_from_1e-7_to_1.3e-6A-20220421182659\",\"CA8_01_A_current_from_-0.5e-6_to_1e-6A_flipped-20220421110914\",\"CA8_01_A_current_from_0.5e-7_to_4e-7A-20220421185114\"],\"legendgroup\":\"CA8_01_A\",\"marker\":{\"color\":\"#00cc96\",\"symbol\":\"circle\"},\"mode\":\"markers\",\"name\":\"CA8_01_A\",\"orientation\":\"v\",\"showlegend\":true,\"x\":[127.56662315159107,129.54850133976655,128.17523398077884,125.5403580602984,113.98739377147638],\"xaxis\":\"x\",\"y\":[335.8989899208019,320.5228509026681,347.52271371545976,383.19981233894583,401.4438513755298],\"yaxis\":\"y\",\"type\":\"scatter\"},{\"error_x\":{\"array\":[0.06988055787562075,0.0022509650266471226,0.002231669642284828,0.06772549937601013,0.04148534109843638],\"arrayminus\":[0.08532668828733847,0.002952258899782123,0.002004737189622574,0.09115083139110425,0.05090880116728158]},\"error_y\":{\"array\":[146.76055758169946,128.14347357609716,3.7304880430604044,158.26366274509786,143.16628308823528],\"arrayminus\":[310.93354176470586,85.21572315592903,7.349989081122715,305.80513986928116,316.4482410947713]},\"hovertemplate\":\"<b>%{hovertext}</b><br><br>Name=CA12X_C5<br>Avg Temperature [K]=%{x}<br>Avg Osc Amplitude [V/cm]=%{y}<extra></extra>\",\"hovertext\":[\"CA12X_C5_current_from_1e-7_to_10e-7A_flipped-20220412171054\",\"CA12X_C5_current_from_1e-7_to_3.5e-7A-20220413145630\",\"CA12X_C5_current_from_3.5e-7_to_5e-7A-20220413145837\",\"CA12X_C5_current_from_1e-7_to_10e-7A-20220413133337\",\"CA12X_C5_current_from_1e-7_to_10e-7A-20220412170113\"],\"legendgroup\":\"CA12X_C5\",\"marker\":{\"color\":\"#ab63fa\",\"symbol\":\"circle\"},\"mode\":\"markers\",\"name\":\"CA12X_C5\",\"orientation\":\"v\",\"showlegend\":true,\"x\":[119.40001251119938,112.99590633267607,112.98509315337563,118.93872759441619,119.70959750713385],\"xaxis\":\"x\",\"y\":[421.51413718954245,427.9648813258637,463.7403505190312,402.9853836601308,410.4836907679739],\"yaxis\":\"y\",\"type\":\"scatter\"},{\"error_x\":{\"array\":[0.029195176395035105,0.34701450640979203,0.24850551937997523,0.07550861226327754],\"arrayminus\":[0.027925805130934123,0.4124280550860391,0.24352677684137802,0.09624896283615669]},\"error_y\":{\"array\":[0.6526869476435451,5.638094656287095,3.573341806306914,40.47581234991422],\"arrayminus\":[0.7435566201094304,38.335096767383575,7.407595071909199,10.42417873070329]},\"hovertemplate\":\"<b>%{hovertext}</b><br><br>Name=CA12X2_C1<br>Avg Temperature [K]=%{x}<br>Avg Osc Amplitude [V/cm]=%{y}<extra></extra>\",\"hovertext\":[\"CA12X2_C1_current_from_0.3e-6_to_0.4e-6A-20220428162717\",\"CA12X2_C1_current_from_0.5e-6_to_1e-6A-20220428153610\",\"CA12X2_C1_current_from_0.5e-6_to_1e-6A-20220428154754\",\"CA12X2_C1_current_from_1e-7_to_1e-6A-20220428162518\"],\"legendgroup\":\"CA12X2_C1\",\"marker\":{\"color\":\"#FFA15A\",\"symbol\":\"circle\"},\"mode\":\"markers\",\"name\":\"CA12X2_C1\",\"orientation\":\"v\",\"showlegend\":true,\"x\":[87.94975212793224,103.43576754110424,102.09991796451557,97.99243870006084],\"xaxis\":\"x\",\"y\":[123.35304821530669,100.9774681224436,105.96878906847869,115.93307084048028],\"yaxis\":\"y\",\"type\":\"scatter\"}],                        {\"template\":{\"data\":{\"histogram2dcontour\":[{\"type\":\"histogram2dcontour\",\"colorbar\":{\"outlinewidth\":0,\"ticks\":\"\"},\"colorscale\":[[0.0,\"#0d0887\"],[0.1111111111111111,\"#46039f\"],[0.2222222222222222,\"#7201a8\"],[0.3333333333333333,\"#9c179e\"],[0.4444444444444444,\"#bd3786\"],[0.5555555555555556,\"#d8576b\"],[0.6666666666666666,\"#ed7953\"],[0.7777777777777778,\"#fb9f3a\"],[0.8888888888888888,\"#fdca26\"],[1.0,\"#f0f921\"]]}],\"choropleth\":[{\"type\":\"choropleth\",\"colorbar\":{\"outlinewidth\":0,\"ticks\":\"\"}}],\"histogram2d\":[{\"type\":\"histogram2d\",\"colorbar\":{\"outlinewidth\":0,\"ticks\":\"\"},\"colorscale\":[[0.0,\"#0d0887\"],[0.1111111111111111,\"#46039f\"],[0.2222222222222222,\"#7201a8\"],[0.3333333333333333,\"#9c179e\"],[0.4444444444444444,\"#bd3786\"],[0.5555555555555556,\"#d8576b\"],[0.6666666666666666,\"#ed7953\"],[0.7777777777777778,\"#fb9f3a\"],[0.8888888888888888,\"#fdca26\"],[1.0,\"#f0f921\"]]}],\"heatmap\":[{\"type\":\"heatmap\",\"colorbar\":{\"outlinewidth\":0,\"ticks\":\"\"},\"colorscale\":[[0.0,\"#0d0887\"],[0.1111111111111111,\"#46039f\"],[0.2222222222222222,\"#7201a8\"],[0.3333333333333333,\"#9c179e\"],[0.4444444444444444,\"#bd3786\"],[0.5555555555555556,\"#d8576b\"],[0.6666666666666666,\"#ed7953\"],[0.7777777777777778,\"#fb9f3a\"],[0.8888888888888888,\"#fdca26\"],[1.0,\"#f0f921\"]]}],\"heatmapgl\":[{\"type\":\"heatmapgl\",\"colorbar\":{\"outlinewidth\":0,\"ticks\":\"\"},\"colorscale\":[[0.0,\"#0d0887\"],[0.1111111111111111,\"#46039f\"],[0.2222222222222222,\"#7201a8\"],[0.3333333333333333,\"#9c179e\"],[0.4444444444444444,\"#bd3786\"],[0.5555555555555556,\"#d8576b\"],[0.6666666666666666,\"#ed7953\"],[0.7777777777777778,\"#fb9f3a\"],[0.8888888888888888,\"#fdca26\"],[1.0,\"#f0f921\"]]}],\"contourcarpet\":[{\"type\":\"contourcarpet\",\"colorbar\":{\"outlinewidth\":0,\"ticks\":\"\"}}],\"contour\":[{\"type\":\"contour\",\"colorbar\":{\"outlinewidth\":0,\"ticks\":\"\"},\"colorscale\":[[0.0,\"#0d0887\"],[0.1111111111111111,\"#46039f\"],[0.2222222222222222,\"#7201a8\"],[0.3333333333333333,\"#9c179e\"],[0.4444444444444444,\"#bd3786\"],[0.5555555555555556,\"#d8576b\"],[0.6666666666666666,\"#ed7953\"],[0.7777777777777778,\"#fb9f3a\"],[0.8888888888888888,\"#fdca26\"],[1.0,\"#f0f921\"]]}],\"surface\":[{\"type\":\"surface\",\"colorbar\":{\"outlinewidth\":0,\"ticks\":\"\"},\"colorscale\":[[0.0,\"#0d0887\"],[0.1111111111111111,\"#46039f\"],[0.2222222222222222,\"#7201a8\"],[0.3333333333333333,\"#9c179e\"],[0.4444444444444444,\"#bd3786\"],[0.5555555555555556,\"#d8576b\"],[0.6666666666666666,\"#ed7953\"],[0.7777777777777778,\"#fb9f3a\"],[0.8888888888888888,\"#fdca26\"],[1.0,\"#f0f921\"]]}],\"mesh3d\":[{\"type\":\"mesh3d\",\"colorbar\":{\"outlinewidth\":0,\"ticks\":\"\"}}],\"scatter\":[{\"fillpattern\":{\"fillmode\":\"overlay\",\"size\":10,\"solidity\":0.2},\"type\":\"scatter\"}],\"parcoords\":[{\"type\":\"parcoords\",\"line\":{\"colorbar\":{\"outlinewidth\":0,\"ticks\":\"\"}}}],\"scatterpolargl\":[{\"type\":\"scatterpolargl\",\"marker\":{\"colorbar\":{\"outlinewidth\":0,\"ticks\":\"\"}}}],\"bar\":[{\"error_x\":{\"color\":\"#2a3f5f\"},\"error_y\":{\"color\":\"#2a3f5f\"},\"marker\":{\"line\":{\"color\":\"#E5ECF6\",\"width\":0.5},\"pattern\":{\"fillmode\":\"overlay\",\"size\":10,\"solidity\":0.2}},\"type\":\"bar\"}],\"scattergeo\":[{\"type\":\"scattergeo\",\"marker\":{\"colorbar\":{\"outlinewidth\":0,\"ticks\":\"\"}}}],\"scatterpolar\":[{\"type\":\"scatterpolar\",\"marker\":{\"colorbar\":{\"outlinewidth\":0,\"ticks\":\"\"}}}],\"histogram\":[{\"marker\":{\"pattern\":{\"fillmode\":\"overlay\",\"size\":10,\"solidity\":0.2}},\"type\":\"histogram\"}],\"scattergl\":[{\"type\":\"scattergl\",\"marker\":{\"colorbar\":{\"outlinewidth\":0,\"ticks\":\"\"}}}],\"scatter3d\":[{\"type\":\"scatter3d\",\"line\":{\"colorbar\":{\"outlinewidth\":0,\"ticks\":\"\"}},\"marker\":{\"colorbar\":{\"outlinewidth\":0,\"ticks\":\"\"}}}],\"scattermapbox\":[{\"type\":\"scattermapbox\",\"marker\":{\"colorbar\":{\"outlinewidth\":0,\"ticks\":\"\"}}}],\"scatterternary\":[{\"type\":\"scatterternary\",\"marker\":{\"colorbar\":{\"outlinewidth\":0,\"ticks\":\"\"}}}],\"scattercarpet\":[{\"type\":\"scattercarpet\",\"marker\":{\"colorbar\":{\"outlinewidth\":0,\"ticks\":\"\"}}}],\"carpet\":[{\"aaxis\":{\"endlinecolor\":\"#2a3f5f\",\"gridcolor\":\"white\",\"linecolor\":\"white\",\"minorgridcolor\":\"white\",\"startlinecolor\":\"#2a3f5f\"},\"baxis\":{\"endlinecolor\":\"#2a3f5f\",\"gridcolor\":\"white\",\"linecolor\":\"white\",\"minorgridcolor\":\"white\",\"startlinecolor\":\"#2a3f5f\"},\"type\":\"carpet\"}],\"table\":[{\"cells\":{\"fill\":{\"color\":\"#EBF0F8\"},\"line\":{\"color\":\"white\"}},\"header\":{\"fill\":{\"color\":\"#C8D4E3\"},\"line\":{\"color\":\"white\"}},\"type\":\"table\"}],\"barpolar\":[{\"marker\":{\"line\":{\"color\":\"#E5ECF6\",\"width\":0.5},\"pattern\":{\"fillmode\":\"overlay\",\"size\":10,\"solidity\":0.2}},\"type\":\"barpolar\"}],\"pie\":[{\"automargin\":true,\"type\":\"pie\"}]},\"layout\":{\"autotypenumbers\":\"strict\",\"colorway\":[\"#636efa\",\"#EF553B\",\"#00cc96\",\"#ab63fa\",\"#FFA15A\",\"#19d3f3\",\"#FF6692\",\"#B6E880\",\"#FF97FF\",\"#FECB52\"],\"font\":{\"color\":\"#2a3f5f\"},\"hovermode\":\"closest\",\"hoverlabel\":{\"align\":\"left\"},\"paper_bgcolor\":\"white\",\"plot_bgcolor\":\"#E5ECF6\",\"polar\":{\"bgcolor\":\"#E5ECF6\",\"angularaxis\":{\"gridcolor\":\"white\",\"linecolor\":\"white\",\"ticks\":\"\"},\"radialaxis\":{\"gridcolor\":\"white\",\"linecolor\":\"white\",\"ticks\":\"\"}},\"ternary\":{\"bgcolor\":\"#E5ECF6\",\"aaxis\":{\"gridcolor\":\"white\",\"linecolor\":\"white\",\"ticks\":\"\"},\"baxis\":{\"gridcolor\":\"white\",\"linecolor\":\"white\",\"ticks\":\"\"},\"caxis\":{\"gridcolor\":\"white\",\"linecolor\":\"white\",\"ticks\":\"\"}},\"coloraxis\":{\"colorbar\":{\"outlinewidth\":0,\"ticks\":\"\"}},\"colorscale\":{\"sequential\":[[0.0,\"#0d0887\"],[0.1111111111111111,\"#46039f\"],[0.2222222222222222,\"#7201a8\"],[0.3333333333333333,\"#9c179e\"],[0.4444444444444444,\"#bd3786\"],[0.5555555555555556,\"#d8576b\"],[0.6666666666666666,\"#ed7953\"],[0.7777777777777778,\"#fb9f3a\"],[0.8888888888888888,\"#fdca26\"],[1.0,\"#f0f921\"]],\"sequentialminus\":[[0.0,\"#0d0887\"],[0.1111111111111111,\"#46039f\"],[0.2222222222222222,\"#7201a8\"],[0.3333333333333333,\"#9c179e\"],[0.4444444444444444,\"#bd3786\"],[0.5555555555555556,\"#d8576b\"],[0.6666666666666666,\"#ed7953\"],[0.7777777777777778,\"#fb9f3a\"],[0.8888888888888888,\"#fdca26\"],[1.0,\"#f0f921\"]],\"diverging\":[[0,\"#8e0152\"],[0.1,\"#c51b7d\"],[0.2,\"#de77ae\"],[0.3,\"#f1b6da\"],[0.4,\"#fde0ef\"],[0.5,\"#f7f7f7\"],[0.6,\"#e6f5d0\"],[0.7,\"#b8e186\"],[0.8,\"#7fbc41\"],[0.9,\"#4d9221\"],[1,\"#276419\"]]},\"xaxis\":{\"gridcolor\":\"white\",\"linecolor\":\"white\",\"ticks\":\"\",\"title\":{\"standoff\":15},\"zerolinecolor\":\"white\",\"automargin\":true,\"zerolinewidth\":2},\"yaxis\":{\"gridcolor\":\"white\",\"linecolor\":\"white\",\"ticks\":\"\",\"title\":{\"standoff\":15},\"zerolinecolor\":\"white\",\"automargin\":true,\"zerolinewidth\":2},\"scene\":{\"xaxis\":{\"backgroundcolor\":\"#E5ECF6\",\"gridcolor\":\"white\",\"linecolor\":\"white\",\"showbackground\":true,\"ticks\":\"\",\"zerolinecolor\":\"white\",\"gridwidth\":2},\"yaxis\":{\"backgroundcolor\":\"#E5ECF6\",\"gridcolor\":\"white\",\"linecolor\":\"white\",\"showbackground\":true,\"ticks\":\"\",\"zerolinecolor\":\"white\",\"gridwidth\":2},\"zaxis\":{\"backgroundcolor\":\"#E5ECF6\",\"gridcolor\":\"white\",\"linecolor\":\"white\",\"showbackground\":true,\"ticks\":\"\",\"zerolinecolor\":\"white\",\"gridwidth\":2}},\"shapedefaults\":{\"line\":{\"color\":\"#2a3f5f\"}},\"annotationdefaults\":{\"arrowcolor\":\"#2a3f5f\",\"arrowhead\":0,\"arrowwidth\":1},\"geo\":{\"bgcolor\":\"white\",\"landcolor\":\"#E5ECF6\",\"subunitcolor\":\"white\",\"showland\":true,\"showlakes\":true,\"lakecolor\":\"white\"},\"title\":{\"x\":0.05},\"mapbox\":{\"style\":\"light\"}}},\"xaxis\":{\"anchor\":\"y\",\"domain\":[0.0,1.0],\"title\":{\"text\":\"Avg Temperature [K]\"}},\"yaxis\":{\"anchor\":\"x\",\"domain\":[0.0,1.0],\"title\":{\"text\":\"Avg Osc Amplitude [V/cm]\"}},\"legend\":{\"title\":{\"text\":\"Name\"},\"tracegroupgap\":0},\"title\":{\"text\":\"Ampiezza delle oscillazioni in funzione della temperatura\"},\"height\":800,\"width\":952},                        {\"responsive\": true}                    ).then(function(){\n",
       "                            \n",
       "var gd = document.getElementById('e77c39eb-92b8-4be4-b254-b49be7e7fcf7');\n",
       "var x = new MutationObserver(function (mutations, observer) {{\n",
       "        var display = window.getComputedStyle(gd).display;\n",
       "        if (!display || display === 'none') {{\n",
       "            console.log([gd, 'removed!']);\n",
       "            Plotly.purge(gd);\n",
       "            observer.disconnect();\n",
       "        }}\n",
       "}});\n",
       "\n",
       "// Listen for the removal of the full notebook cells\n",
       "var notebookContainer = gd.closest('#notebook-container');\n",
       "if (notebookContainer) {{\n",
       "    x.observe(notebookContainer, {childList: true});\n",
       "}}\n",
       "\n",
       "// Listen for the clearing of the current output cell\n",
       "var outputEl = gd.closest('.output');\n",
       "if (outputEl) {{\n",
       "    x.observe(outputEl, {childList: true});\n",
       "}}\n",
       "\n",
       "                        })                };                });            </script>        </div>"
      ]
     },
     "metadata": {},
     "output_type": "display_data"
    },
    {
     "data": {
      "application/vnd.plotly.v1+json": {
       "config": {
        "plotlyServerURL": "https://plot.ly"
       },
       "data": [
        {
         "error_x": {
          "array": [
           0.001328095815935626,
           0.0021446771325344116,
           0.13244453508278298,
           0.4565345903830007,
           0.0015316562490426122,
           0.002280902856128364,
           0.000921353624747212,
           0.0012680012254548956,
           0.0006364864941161841,
           0.0007965908919516096,
           0.004887731336253864,
           0.3531725768699232,
           0.003344913905721114
          ],
          "arrayminus": [
           0.001654814206048627,
           0.002855209406902759,
           0.1459234632139328,
           0.5805238171961378,
           0.0019055460380741351,
           0.003797855736110023,
           0.0020896867388557894,
           0.0026521091739510894,
           0.0008405514537770387,
           0.0011351166745896535,
           0.002384843336599829,
           0.40987087992868965,
           0.007734352745245587
          ]
         },
         "error_y": {
          "array": [
           122.10638297872356,
           105.81081081081129,
           731.5263157894738,
           1156,
           1960.7999999999993,
           1161.155737704918,
           155,
           173.33333333333348,
           1974.6000000000004,
           1302.7999999999993,
           76.10526315789502,
           75.71428571428578,
           110.8387096774195
          ],
          "arrayminus": [
           89.89361702127644,
           63.18918918918871,
           284.47368421052624,
           425,
           1540.2000000000007,
           435.844262295082,
           140,
           81.66666666666652,
           1693.3999999999996,
           1196.2000000000007,
           70.89473684210498,
           36.28571428571422,
           92.1612903225805
          ]
         },
         "hovertemplate": "<b>%{hovertext}</b><br><br>Name=CA12X2<br>Avg Temperature [K]=%{x}<br>Avg Osc Period [ms]=%{y}<extra></extra>",
         "hovertext": [
          "CA12X2_current_from_100e-9_to_200e-9A_flipped-20220315160531",
          "CA12X2_current_from_10e-9_to_100e-9A_flipped-20220315155945",
          "CA12X2_current_from_0.1e-6_to_1.0e-6A-20220317151236",
          "CA12X2_current_from_0.1e-6_to_1.5e-6A-20220317150657",
          "CA12X2_current_from_1e-9_to_10e-9A_flipped-20220315155235",
          "CA12X2_current_from_1e-9_to_1000e-9A_flipped-20220315170952",
          "CA12X2_current_from_200e-9_to_300e-9A_flipped-20220315161234",
          "CA12X2_current_from_100e-9_to_200e-9A-20220315152213",
          "CA12X2_current_from_1e-9_to_10e-9A-20220315153228",
          "CA12X2_current_from_1e-9_to_10e-9A-20220315151857",
          "CA12X2_current_from_10e-9_to_100e-9A-20220315151525",
          "CA12X2_current_from_1e-6_to_2e-6A-20220317143643",
          "CA12X2_current_from_200e-9_to_300e-9A-20220315152513"
         ],
         "legendgroup": "CA12X2",
         "marker": {
          "color": "#636efa",
          "symbol": "circle"
         },
         "mode": "markers",
         "name": "CA12X2",
         "orientation": "v",
         "showlegend": true,
         "type": "scatter",
         "x": [
          113.48018048230064,
          113.47038747931718,
          108.95441729447298,
          129.2381324109405,
          113.46264874300995,
          113.48172732110667,
          113.47842832178341,
          113.4470325494966,
          113.43692551500877,
          113.44355525277572,
          113.4454298182477,
          133.8554300093167,
          113.44805214637552
         ],
         "xaxis": "x",
         "y": [
          2446.8936170212764,
          3014.1891891891887,
          2442.4736842105262,
          2793,
          8748.2,
          2670.844262295082,
          2425,
          2634.6666666666665,
          8831.4,
          8304.2,
          3193.894736842105,
          2415.285714285714,
          2617.1612903225805
         ],
         "yaxis": "y"
        },
        {
         "error_x": {
          "array": [
           0.2579376108546825,
           0.04283274040663798,
           0.06812879656112614,
           0.07338099864976755,
           0.17782681581952886,
           0.06882861773544846,
           0.2327080828870578,
           0.42880519845114407
          ],
          "arrayminus": [
           0.265603396388002,
           0.04064684852862399,
           0.06642117558264715,
           0.07538620963273956,
           0.1785839105177871,
           0.07906378939375713,
           0.3003395582004913,
           0.4345991831635416
          ]
         },
         "error_y": {
          "array": [
           69.4814814814813,
           1021.4000000000001,
           1026.5675675675675,
           1055.3611111111113,
           12.636363636363512,
           24.769230769230944,
           19.230769230769056,
           1007.6969696969695
          ],
          "arrayminus": [
           110.5185185185187,
           319.5999999999999,
           569.4324324324325,
           505.6388888888887,
           10.363636363636488,
           25.230769230769056,
           27.769230769230944,
           212.30303030303048
          ]
         },
         "hovertemplate": "<b>%{hovertext}</b><br><br>Name=CA12_01_A<br>Avg Temperature [K]=%{x}<br>Avg Osc Period [ms]=%{y}<extra></extra>",
         "hovertext": [
          "CA12_01_A_current_from_1e-8_to_35e-8A-20220429161303",
          "CA12_01_A_current_from_1e-9_to_30e-8A-20220429165618",
          "CA12_01_A_current_from_1e-9_to_30e-8A-20220429163858",
          "CA12_01_A_current_from_0.5e-8_to_30e-8A-20220429161610",
          "CA12_01_A_current_from_1e-7_to_10e-7A-20220429152836",
          "CA12_01_A_current_from_1e-7_to_10e-7A-20220429152137",
          "CA12_01_A_current_from_1e-7_to_10e-7A-20220429151346",
          "CA12_01_A_current_from_1e-8_to_20e-8A-20220429153124"
         ],
         "legendgroup": "CA12_01_A",
         "marker": {
          "color": "#EF553B",
          "symbol": "circle"
         },
         "mode": "markers",
         "name": "CA12_01_A",
         "orientation": "v",
         "showlegend": true,
         "type": "scatter",
         "x": [
          107.22490263780487,
          95.17634373708593,
          99.29526170202244,
          99.55930264854368,
          112.67445502351177,
          116.28251296723863,
          123.43440189585394,
          108.2730863479829
         ],
         "xaxis": "x",
         "y": [
          2198.5185185185187,
          2385.6,
          2380.4324324324325,
          2365.6388888888887,
          2179.3636363636365,
          2172.230769230769,
          2183.769230769231,
          2388.3030303030305
         ],
         "yaxis": "y"
        },
        {
         "error_x": {
          "array": [
           0.051346350087200676,
           0.051243834437372016,
           0.034980863948476326,
           0.04291561958272894,
           0.03223017117072402
          ],
          "arrayminus": [
           0.065222765770514,
           0.050910512763465476,
           0.023333539063713715,
           0.05361390393794352,
           0.04255127337368947
          ]
         },
         "error_y": {
          "array": [
           23.75,
           28.66666666666697,
           65.92307692307713,
           6.25,
           60.942857142857065
          ],
          "arrayminus": [
           18.25,
           19.33333333333303,
           31.076923076922867,
           4.75,
           47.057142857142935
          ]
         },
         "hovertemplate": "<b>%{hovertext}</b><br><br>Name=CA8_01_A<br>Avg Temperature [K]=%{x}<br>Avg Osc Period [ms]=%{y}<extra></extra>",
         "hovertext": [
          "CA8_01_A_current_from_0.5e-6_to_2e-6A_flipped-20220421110256",
          "CA8_01_A_current_from_1e-6_to_2e-6A-20220421110002",
          "CA8_01_A_current_from_1e-7_to_1.3e-6A-20220421182659",
          "CA8_01_A_current_from_-0.5e-6_to_1e-6A_flipped-20220421110914",
          "CA8_01_A_current_from_0.5e-7_to_4e-7A-20220421185114"
         ],
         "legendgroup": "CA8_01_A",
         "marker": {
          "color": "#00cc96",
          "symbol": "circle"
         },
         "mode": "markers",
         "name": "CA8_01_A",
         "orientation": "v",
         "showlegend": true,
         "type": "scatter",
         "x": [
          127.56662315159107,
          129.54850133976655,
          128.17523398077884,
          125.5403580602984,
          113.98739377147638
         ],
         "xaxis": "x",
         "y": [
          2588.25,
          2602.333333333333,
          2633.076923076923,
          2594.75,
          2598.057142857143
         ],
         "yaxis": "y"
        },
        {
         "error_x": {
          "array": [
           0.06988055787562075,
           0.0022509650266471226,
           0.002231669642284828,
           0.06772549937601013,
           0.04148534109843638
          ],
          "arrayminus": [
           0.08532668828733847,
           0.002952258899782123,
           0.002004737189622574,
           0.09115083139110425,
           0.05090880116728158
          ]
         },
         "error_y": {
          "array": [
           72.37037037037044,
           50.46153846153902,
           29.5,
           15.428571428571558,
           55.5
          ],
          "arrayminus": [
           67.62962962962956,
           28.53846153846098,
           27.5,
           14.571428571428442,
           32.5
          ]
         },
         "hovertemplate": "<b>%{hovertext}</b><br><br>Name=CA12X_C5<br>Avg Temperature [K]=%{x}<br>Avg Osc Period [ms]=%{y}<extra></extra>",
         "hovertext": [
          "CA12X_C5_current_from_1e-7_to_10e-7A_flipped-20220412171054",
          "CA12X_C5_current_from_1e-7_to_3.5e-7A-20220413145630",
          "CA12X_C5_current_from_3.5e-7_to_5e-7A-20220413145837",
          "CA12X_C5_current_from_1e-7_to_10e-7A-20220413133337",
          "CA12X_C5_current_from_1e-7_to_10e-7A-20220412170113"
         ],
         "legendgroup": "CA12X_C5",
         "marker": {
          "color": "#ab63fa",
          "symbol": "circle"
         },
         "mode": "markers",
         "name": "CA12X_C5",
         "orientation": "v",
         "showlegend": true,
         "type": "scatter",
         "x": [
          119.40001251119938,
          112.99590633267607,
          112.98509315337563,
          118.93872759441619,
          119.70959750713385
         ],
         "xaxis": "x",
         "y": [
          2613.6296296296296,
          2598.538461538461,
          2595.5,
          2584.5714285714284,
          2594.5
         ],
         "yaxis": "y"
        },
        {
         "error_x": {
          "array": [
           0.029195176395035105,
           0.34701450640979203,
           0.24850551937997523,
           0.07550861226327754
          ],
          "arrayminus": [
           0.027925805130934123,
           0.4124280550860391,
           0.24352677684137802,
           0.09624896283615669
          ]
         },
         "error_y": {
          "array": [
           45.70588235294099,
           27.15000000000009,
           37.304347826086996,
           28.42857142857156
          ],
          "arrayminus": [
           31.29411764705901,
           21.84999999999991,
           34.695652173913004,
           30.57142857142844
          ]
         },
         "hovertemplate": "<b>%{hovertext}</b><br><br>Name=CA12X2_C1<br>Avg Temperature [K]=%{x}<br>Avg Osc Period [ms]=%{y}<extra></extra>",
         "hovertext": [
          "CA12X2_C1_current_from_0.3e-6_to_0.4e-6A-20220428162717",
          "CA12X2_C1_current_from_0.5e-6_to_1e-6A-20220428153610",
          "CA12X2_C1_current_from_0.5e-6_to_1e-6A-20220428154754",
          "CA12X2_C1_current_from_1e-7_to_1e-6A-20220428162518"
         ],
         "legendgroup": "CA12X2_C1",
         "marker": {
          "color": "#FFA15A",
          "symbol": "circle"
         },
         "mode": "markers",
         "name": "CA12X2_C1",
         "orientation": "v",
         "showlegend": true,
         "type": "scatter",
         "x": [
          87.94975212793224,
          103.43576754110424,
          102.09991796451557,
          97.99243870006084
         ],
         "xaxis": "x",
         "y": [
          2186.294117647059,
          2185.85,
          2196.695652173913,
          2187.5714285714284
         ],
         "yaxis": "y"
        }
       ],
       "layout": {
        "height": 800,
        "legend": {
         "title": {
          "text": "Name"
         },
         "tracegroupgap": 0
        },
        "template": {
         "data": {
          "bar": [
           {
            "error_x": {
             "color": "#2a3f5f"
            },
            "error_y": {
             "color": "#2a3f5f"
            },
            "marker": {
             "line": {
              "color": "#E5ECF6",
              "width": 0.5
             },
             "pattern": {
              "fillmode": "overlay",
              "size": 10,
              "solidity": 0.2
             }
            },
            "type": "bar"
           }
          ],
          "barpolar": [
           {
            "marker": {
             "line": {
              "color": "#E5ECF6",
              "width": 0.5
             },
             "pattern": {
              "fillmode": "overlay",
              "size": 10,
              "solidity": 0.2
             }
            },
            "type": "barpolar"
           }
          ],
          "carpet": [
           {
            "aaxis": {
             "endlinecolor": "#2a3f5f",
             "gridcolor": "white",
             "linecolor": "white",
             "minorgridcolor": "white",
             "startlinecolor": "#2a3f5f"
            },
            "baxis": {
             "endlinecolor": "#2a3f5f",
             "gridcolor": "white",
             "linecolor": "white",
             "minorgridcolor": "white",
             "startlinecolor": "#2a3f5f"
            },
            "type": "carpet"
           }
          ],
          "choropleth": [
           {
            "colorbar": {
             "outlinewidth": 0,
             "ticks": ""
            },
            "type": "choropleth"
           }
          ],
          "contour": [
           {
            "colorbar": {
             "outlinewidth": 0,
             "ticks": ""
            },
            "colorscale": [
             [
              0,
              "#0d0887"
             ],
             [
              0.1111111111111111,
              "#46039f"
             ],
             [
              0.2222222222222222,
              "#7201a8"
             ],
             [
              0.3333333333333333,
              "#9c179e"
             ],
             [
              0.4444444444444444,
              "#bd3786"
             ],
             [
              0.5555555555555556,
              "#d8576b"
             ],
             [
              0.6666666666666666,
              "#ed7953"
             ],
             [
              0.7777777777777778,
              "#fb9f3a"
             ],
             [
              0.8888888888888888,
              "#fdca26"
             ],
             [
              1,
              "#f0f921"
             ]
            ],
            "type": "contour"
           }
          ],
          "contourcarpet": [
           {
            "colorbar": {
             "outlinewidth": 0,
             "ticks": ""
            },
            "type": "contourcarpet"
           }
          ],
          "heatmap": [
           {
            "colorbar": {
             "outlinewidth": 0,
             "ticks": ""
            },
            "colorscale": [
             [
              0,
              "#0d0887"
             ],
             [
              0.1111111111111111,
              "#46039f"
             ],
             [
              0.2222222222222222,
              "#7201a8"
             ],
             [
              0.3333333333333333,
              "#9c179e"
             ],
             [
              0.4444444444444444,
              "#bd3786"
             ],
             [
              0.5555555555555556,
              "#d8576b"
             ],
             [
              0.6666666666666666,
              "#ed7953"
             ],
             [
              0.7777777777777778,
              "#fb9f3a"
             ],
             [
              0.8888888888888888,
              "#fdca26"
             ],
             [
              1,
              "#f0f921"
             ]
            ],
            "type": "heatmap"
           }
          ],
          "heatmapgl": [
           {
            "colorbar": {
             "outlinewidth": 0,
             "ticks": ""
            },
            "colorscale": [
             [
              0,
              "#0d0887"
             ],
             [
              0.1111111111111111,
              "#46039f"
             ],
             [
              0.2222222222222222,
              "#7201a8"
             ],
             [
              0.3333333333333333,
              "#9c179e"
             ],
             [
              0.4444444444444444,
              "#bd3786"
             ],
             [
              0.5555555555555556,
              "#d8576b"
             ],
             [
              0.6666666666666666,
              "#ed7953"
             ],
             [
              0.7777777777777778,
              "#fb9f3a"
             ],
             [
              0.8888888888888888,
              "#fdca26"
             ],
             [
              1,
              "#f0f921"
             ]
            ],
            "type": "heatmapgl"
           }
          ],
          "histogram": [
           {
            "marker": {
             "pattern": {
              "fillmode": "overlay",
              "size": 10,
              "solidity": 0.2
             }
            },
            "type": "histogram"
           }
          ],
          "histogram2d": [
           {
            "colorbar": {
             "outlinewidth": 0,
             "ticks": ""
            },
            "colorscale": [
             [
              0,
              "#0d0887"
             ],
             [
              0.1111111111111111,
              "#46039f"
             ],
             [
              0.2222222222222222,
              "#7201a8"
             ],
             [
              0.3333333333333333,
              "#9c179e"
             ],
             [
              0.4444444444444444,
              "#bd3786"
             ],
             [
              0.5555555555555556,
              "#d8576b"
             ],
             [
              0.6666666666666666,
              "#ed7953"
             ],
             [
              0.7777777777777778,
              "#fb9f3a"
             ],
             [
              0.8888888888888888,
              "#fdca26"
             ],
             [
              1,
              "#f0f921"
             ]
            ],
            "type": "histogram2d"
           }
          ],
          "histogram2dcontour": [
           {
            "colorbar": {
             "outlinewidth": 0,
             "ticks": ""
            },
            "colorscale": [
             [
              0,
              "#0d0887"
             ],
             [
              0.1111111111111111,
              "#46039f"
             ],
             [
              0.2222222222222222,
              "#7201a8"
             ],
             [
              0.3333333333333333,
              "#9c179e"
             ],
             [
              0.4444444444444444,
              "#bd3786"
             ],
             [
              0.5555555555555556,
              "#d8576b"
             ],
             [
              0.6666666666666666,
              "#ed7953"
             ],
             [
              0.7777777777777778,
              "#fb9f3a"
             ],
             [
              0.8888888888888888,
              "#fdca26"
             ],
             [
              1,
              "#f0f921"
             ]
            ],
            "type": "histogram2dcontour"
           }
          ],
          "mesh3d": [
           {
            "colorbar": {
             "outlinewidth": 0,
             "ticks": ""
            },
            "type": "mesh3d"
           }
          ],
          "parcoords": [
           {
            "line": {
             "colorbar": {
              "outlinewidth": 0,
              "ticks": ""
             }
            },
            "type": "parcoords"
           }
          ],
          "pie": [
           {
            "automargin": true,
            "type": "pie"
           }
          ],
          "scatter": [
           {
            "fillpattern": {
             "fillmode": "overlay",
             "size": 10,
             "solidity": 0.2
            },
            "type": "scatter"
           }
          ],
          "scatter3d": [
           {
            "line": {
             "colorbar": {
              "outlinewidth": 0,
              "ticks": ""
             }
            },
            "marker": {
             "colorbar": {
              "outlinewidth": 0,
              "ticks": ""
             }
            },
            "type": "scatter3d"
           }
          ],
          "scattercarpet": [
           {
            "marker": {
             "colorbar": {
              "outlinewidth": 0,
              "ticks": ""
             }
            },
            "type": "scattercarpet"
           }
          ],
          "scattergeo": [
           {
            "marker": {
             "colorbar": {
              "outlinewidth": 0,
              "ticks": ""
             }
            },
            "type": "scattergeo"
           }
          ],
          "scattergl": [
           {
            "marker": {
             "colorbar": {
              "outlinewidth": 0,
              "ticks": ""
             }
            },
            "type": "scattergl"
           }
          ],
          "scattermapbox": [
           {
            "marker": {
             "colorbar": {
              "outlinewidth": 0,
              "ticks": ""
             }
            },
            "type": "scattermapbox"
           }
          ],
          "scatterpolar": [
           {
            "marker": {
             "colorbar": {
              "outlinewidth": 0,
              "ticks": ""
             }
            },
            "type": "scatterpolar"
           }
          ],
          "scatterpolargl": [
           {
            "marker": {
             "colorbar": {
              "outlinewidth": 0,
              "ticks": ""
             }
            },
            "type": "scatterpolargl"
           }
          ],
          "scatterternary": [
           {
            "marker": {
             "colorbar": {
              "outlinewidth": 0,
              "ticks": ""
             }
            },
            "type": "scatterternary"
           }
          ],
          "surface": [
           {
            "colorbar": {
             "outlinewidth": 0,
             "ticks": ""
            },
            "colorscale": [
             [
              0,
              "#0d0887"
             ],
             [
              0.1111111111111111,
              "#46039f"
             ],
             [
              0.2222222222222222,
              "#7201a8"
             ],
             [
              0.3333333333333333,
              "#9c179e"
             ],
             [
              0.4444444444444444,
              "#bd3786"
             ],
             [
              0.5555555555555556,
              "#d8576b"
             ],
             [
              0.6666666666666666,
              "#ed7953"
             ],
             [
              0.7777777777777778,
              "#fb9f3a"
             ],
             [
              0.8888888888888888,
              "#fdca26"
             ],
             [
              1,
              "#f0f921"
             ]
            ],
            "type": "surface"
           }
          ],
          "table": [
           {
            "cells": {
             "fill": {
              "color": "#EBF0F8"
             },
             "line": {
              "color": "white"
             }
            },
            "header": {
             "fill": {
              "color": "#C8D4E3"
             },
             "line": {
              "color": "white"
             }
            },
            "type": "table"
           }
          ]
         },
         "layout": {
          "annotationdefaults": {
           "arrowcolor": "#2a3f5f",
           "arrowhead": 0,
           "arrowwidth": 1
          },
          "autotypenumbers": "strict",
          "coloraxis": {
           "colorbar": {
            "outlinewidth": 0,
            "ticks": ""
           }
          },
          "colorscale": {
           "diverging": [
            [
             0,
             "#8e0152"
            ],
            [
             0.1,
             "#c51b7d"
            ],
            [
             0.2,
             "#de77ae"
            ],
            [
             0.3,
             "#f1b6da"
            ],
            [
             0.4,
             "#fde0ef"
            ],
            [
             0.5,
             "#f7f7f7"
            ],
            [
             0.6,
             "#e6f5d0"
            ],
            [
             0.7,
             "#b8e186"
            ],
            [
             0.8,
             "#7fbc41"
            ],
            [
             0.9,
             "#4d9221"
            ],
            [
             1,
             "#276419"
            ]
           ],
           "sequential": [
            [
             0,
             "#0d0887"
            ],
            [
             0.1111111111111111,
             "#46039f"
            ],
            [
             0.2222222222222222,
             "#7201a8"
            ],
            [
             0.3333333333333333,
             "#9c179e"
            ],
            [
             0.4444444444444444,
             "#bd3786"
            ],
            [
             0.5555555555555556,
             "#d8576b"
            ],
            [
             0.6666666666666666,
             "#ed7953"
            ],
            [
             0.7777777777777778,
             "#fb9f3a"
            ],
            [
             0.8888888888888888,
             "#fdca26"
            ],
            [
             1,
             "#f0f921"
            ]
           ],
           "sequentialminus": [
            [
             0,
             "#0d0887"
            ],
            [
             0.1111111111111111,
             "#46039f"
            ],
            [
             0.2222222222222222,
             "#7201a8"
            ],
            [
             0.3333333333333333,
             "#9c179e"
            ],
            [
             0.4444444444444444,
             "#bd3786"
            ],
            [
             0.5555555555555556,
             "#d8576b"
            ],
            [
             0.6666666666666666,
             "#ed7953"
            ],
            [
             0.7777777777777778,
             "#fb9f3a"
            ],
            [
             0.8888888888888888,
             "#fdca26"
            ],
            [
             1,
             "#f0f921"
            ]
           ]
          },
          "colorway": [
           "#636efa",
           "#EF553B",
           "#00cc96",
           "#ab63fa",
           "#FFA15A",
           "#19d3f3",
           "#FF6692",
           "#B6E880",
           "#FF97FF",
           "#FECB52"
          ],
          "font": {
           "color": "#2a3f5f"
          },
          "geo": {
           "bgcolor": "white",
           "lakecolor": "white",
           "landcolor": "#E5ECF6",
           "showlakes": true,
           "showland": true,
           "subunitcolor": "white"
          },
          "hoverlabel": {
           "align": "left"
          },
          "hovermode": "closest",
          "mapbox": {
           "style": "light"
          },
          "paper_bgcolor": "white",
          "plot_bgcolor": "#E5ECF6",
          "polar": {
           "angularaxis": {
            "gridcolor": "white",
            "linecolor": "white",
            "ticks": ""
           },
           "bgcolor": "#E5ECF6",
           "radialaxis": {
            "gridcolor": "white",
            "linecolor": "white",
            "ticks": ""
           }
          },
          "scene": {
           "xaxis": {
            "backgroundcolor": "#E5ECF6",
            "gridcolor": "white",
            "gridwidth": 2,
            "linecolor": "white",
            "showbackground": true,
            "ticks": "",
            "zerolinecolor": "white"
           },
           "yaxis": {
            "backgroundcolor": "#E5ECF6",
            "gridcolor": "white",
            "gridwidth": 2,
            "linecolor": "white",
            "showbackground": true,
            "ticks": "",
            "zerolinecolor": "white"
           },
           "zaxis": {
            "backgroundcolor": "#E5ECF6",
            "gridcolor": "white",
            "gridwidth": 2,
            "linecolor": "white",
            "showbackground": true,
            "ticks": "",
            "zerolinecolor": "white"
           }
          },
          "shapedefaults": {
           "line": {
            "color": "#2a3f5f"
           }
          },
          "ternary": {
           "aaxis": {
            "gridcolor": "white",
            "linecolor": "white",
            "ticks": ""
           },
           "baxis": {
            "gridcolor": "white",
            "linecolor": "white",
            "ticks": ""
           },
           "bgcolor": "#E5ECF6",
           "caxis": {
            "gridcolor": "white",
            "linecolor": "white",
            "ticks": ""
           }
          },
          "title": {
           "x": 0.05
          },
          "xaxis": {
           "automargin": true,
           "gridcolor": "white",
           "linecolor": "white",
           "ticks": "",
           "title": {
            "standoff": 15
           },
           "zerolinecolor": "white",
           "zerolinewidth": 2
          },
          "yaxis": {
           "automargin": true,
           "gridcolor": "white",
           "linecolor": "white",
           "ticks": "",
           "title": {
            "standoff": 15
           },
           "zerolinecolor": "white",
           "zerolinewidth": 2
          }
         }
        },
        "title": {
         "text": "Periodo delle oscillazioni in funzione della temperatura"
        },
        "width": 952,
        "xaxis": {
         "anchor": "y",
         "domain": [
          0,
          1
         ],
         "title": {
          "text": "Avg Temperature [K]"
         }
        },
        "yaxis": {
         "anchor": "x",
         "domain": [
          0,
          1
         ],
         "title": {
          "text": "Avg Osc Period [ms]"
         }
        }
       }
      },
      "text/html": [
       "<div>                            <div id=\"0fcd6ba0-2098-4487-a569-c20584e979ee\" class=\"plotly-graph-div\" style=\"height:800px; width:952px;\"></div>            <script type=\"text/javascript\">                require([\"plotly\"], function(Plotly) {                    window.PLOTLYENV=window.PLOTLYENV || {};                                    if (document.getElementById(\"0fcd6ba0-2098-4487-a569-c20584e979ee\")) {                    Plotly.newPlot(                        \"0fcd6ba0-2098-4487-a569-c20584e979ee\",                        [{\"error_x\":{\"array\":[0.001328095815935626,0.0021446771325344116,0.13244453508278298,0.4565345903830007,0.0015316562490426122,0.002280902856128364,0.000921353624747212,0.0012680012254548956,0.0006364864941161841,0.0007965908919516096,0.004887731336253864,0.3531725768699232,0.003344913905721114],\"arrayminus\":[0.001654814206048627,0.002855209406902759,0.1459234632139328,0.5805238171961378,0.0019055460380741351,0.003797855736110023,0.0020896867388557894,0.0026521091739510894,0.0008405514537770387,0.0011351166745896535,0.002384843336599829,0.40987087992868965,0.007734352745245587]},\"error_y\":{\"array\":[122.10638297872356,105.81081081081129,731.5263157894738,1156.0,1960.7999999999993,1161.155737704918,155.0,173.33333333333348,1974.6000000000004,1302.7999999999993,76.10526315789502,75.71428571428578,110.8387096774195],\"arrayminus\":[89.89361702127644,63.18918918918871,284.47368421052624,425.0,1540.2000000000007,435.844262295082,140.0,81.66666666666652,1693.3999999999996,1196.2000000000007,70.89473684210498,36.28571428571422,92.1612903225805]},\"hovertemplate\":\"<b>%{hovertext}</b><br><br>Name=CA12X2<br>Avg Temperature [K]=%{x}<br>Avg Osc Period [ms]=%{y}<extra></extra>\",\"hovertext\":[\"CA12X2_current_from_100e-9_to_200e-9A_flipped-20220315160531\",\"CA12X2_current_from_10e-9_to_100e-9A_flipped-20220315155945\",\"CA12X2_current_from_0.1e-6_to_1.0e-6A-20220317151236\",\"CA12X2_current_from_0.1e-6_to_1.5e-6A-20220317150657\",\"CA12X2_current_from_1e-9_to_10e-9A_flipped-20220315155235\",\"CA12X2_current_from_1e-9_to_1000e-9A_flipped-20220315170952\",\"CA12X2_current_from_200e-9_to_300e-9A_flipped-20220315161234\",\"CA12X2_current_from_100e-9_to_200e-9A-20220315152213\",\"CA12X2_current_from_1e-9_to_10e-9A-20220315153228\",\"CA12X2_current_from_1e-9_to_10e-9A-20220315151857\",\"CA12X2_current_from_10e-9_to_100e-9A-20220315151525\",\"CA12X2_current_from_1e-6_to_2e-6A-20220317143643\",\"CA12X2_current_from_200e-9_to_300e-9A-20220315152513\"],\"legendgroup\":\"CA12X2\",\"marker\":{\"color\":\"#636efa\",\"symbol\":\"circle\"},\"mode\":\"markers\",\"name\":\"CA12X2\",\"orientation\":\"v\",\"showlegend\":true,\"x\":[113.48018048230064,113.47038747931718,108.95441729447298,129.2381324109405,113.46264874300995,113.48172732110667,113.47842832178341,113.4470325494966,113.43692551500877,113.44355525277572,113.4454298182477,133.8554300093167,113.44805214637552],\"xaxis\":\"x\",\"y\":[2446.8936170212764,3014.1891891891887,2442.4736842105262,2793.0,8748.2,2670.844262295082,2425.0,2634.6666666666665,8831.4,8304.2,3193.894736842105,2415.285714285714,2617.1612903225805],\"yaxis\":\"y\",\"type\":\"scatter\"},{\"error_x\":{\"array\":[0.2579376108546825,0.04283274040663798,0.06812879656112614,0.07338099864976755,0.17782681581952886,0.06882861773544846,0.2327080828870578,0.42880519845114407],\"arrayminus\":[0.265603396388002,0.04064684852862399,0.06642117558264715,0.07538620963273956,0.1785839105177871,0.07906378939375713,0.3003395582004913,0.4345991831635416]},\"error_y\":{\"array\":[69.4814814814813,1021.4000000000001,1026.5675675675675,1055.3611111111113,12.636363636363512,24.769230769230944,19.230769230769056,1007.6969696969695],\"arrayminus\":[110.5185185185187,319.5999999999999,569.4324324324325,505.6388888888887,10.363636363636488,25.230769230769056,27.769230769230944,212.30303030303048]},\"hovertemplate\":\"<b>%{hovertext}</b><br><br>Name=CA12_01_A<br>Avg Temperature [K]=%{x}<br>Avg Osc Period [ms]=%{y}<extra></extra>\",\"hovertext\":[\"CA12_01_A_current_from_1e-8_to_35e-8A-20220429161303\",\"CA12_01_A_current_from_1e-9_to_30e-8A-20220429165618\",\"CA12_01_A_current_from_1e-9_to_30e-8A-20220429163858\",\"CA12_01_A_current_from_0.5e-8_to_30e-8A-20220429161610\",\"CA12_01_A_current_from_1e-7_to_10e-7A-20220429152836\",\"CA12_01_A_current_from_1e-7_to_10e-7A-20220429152137\",\"CA12_01_A_current_from_1e-7_to_10e-7A-20220429151346\",\"CA12_01_A_current_from_1e-8_to_20e-8A-20220429153124\"],\"legendgroup\":\"CA12_01_A\",\"marker\":{\"color\":\"#EF553B\",\"symbol\":\"circle\"},\"mode\":\"markers\",\"name\":\"CA12_01_A\",\"orientation\":\"v\",\"showlegend\":true,\"x\":[107.22490263780487,95.17634373708593,99.29526170202244,99.55930264854368,112.67445502351177,116.28251296723863,123.43440189585394,108.2730863479829],\"xaxis\":\"x\",\"y\":[2198.5185185185187,2385.6,2380.4324324324325,2365.6388888888887,2179.3636363636365,2172.230769230769,2183.769230769231,2388.3030303030305],\"yaxis\":\"y\",\"type\":\"scatter\"},{\"error_x\":{\"array\":[0.051346350087200676,0.051243834437372016,0.034980863948476326,0.04291561958272894,0.03223017117072402],\"arrayminus\":[0.065222765770514,0.050910512763465476,0.023333539063713715,0.05361390393794352,0.04255127337368947]},\"error_y\":{\"array\":[23.75,28.66666666666697,65.92307692307713,6.25,60.942857142857065],\"arrayminus\":[18.25,19.33333333333303,31.076923076922867,4.75,47.057142857142935]},\"hovertemplate\":\"<b>%{hovertext}</b><br><br>Name=CA8_01_A<br>Avg Temperature [K]=%{x}<br>Avg Osc Period [ms]=%{y}<extra></extra>\",\"hovertext\":[\"CA8_01_A_current_from_0.5e-6_to_2e-6A_flipped-20220421110256\",\"CA8_01_A_current_from_1e-6_to_2e-6A-20220421110002\",\"CA8_01_A_current_from_1e-7_to_1.3e-6A-20220421182659\",\"CA8_01_A_current_from_-0.5e-6_to_1e-6A_flipped-20220421110914\",\"CA8_01_A_current_from_0.5e-7_to_4e-7A-20220421185114\"],\"legendgroup\":\"CA8_01_A\",\"marker\":{\"color\":\"#00cc96\",\"symbol\":\"circle\"},\"mode\":\"markers\",\"name\":\"CA8_01_A\",\"orientation\":\"v\",\"showlegend\":true,\"x\":[127.56662315159107,129.54850133976655,128.17523398077884,125.5403580602984,113.98739377147638],\"xaxis\":\"x\",\"y\":[2588.25,2602.333333333333,2633.076923076923,2594.75,2598.057142857143],\"yaxis\":\"y\",\"type\":\"scatter\"},{\"error_x\":{\"array\":[0.06988055787562075,0.0022509650266471226,0.002231669642284828,0.06772549937601013,0.04148534109843638],\"arrayminus\":[0.08532668828733847,0.002952258899782123,0.002004737189622574,0.09115083139110425,0.05090880116728158]},\"error_y\":{\"array\":[72.37037037037044,50.46153846153902,29.5,15.428571428571558,55.5],\"arrayminus\":[67.62962962962956,28.53846153846098,27.5,14.571428571428442,32.5]},\"hovertemplate\":\"<b>%{hovertext}</b><br><br>Name=CA12X_C5<br>Avg Temperature [K]=%{x}<br>Avg Osc Period [ms]=%{y}<extra></extra>\",\"hovertext\":[\"CA12X_C5_current_from_1e-7_to_10e-7A_flipped-20220412171054\",\"CA12X_C5_current_from_1e-7_to_3.5e-7A-20220413145630\",\"CA12X_C5_current_from_3.5e-7_to_5e-7A-20220413145837\",\"CA12X_C5_current_from_1e-7_to_10e-7A-20220413133337\",\"CA12X_C5_current_from_1e-7_to_10e-7A-20220412170113\"],\"legendgroup\":\"CA12X_C5\",\"marker\":{\"color\":\"#ab63fa\",\"symbol\":\"circle\"},\"mode\":\"markers\",\"name\":\"CA12X_C5\",\"orientation\":\"v\",\"showlegend\":true,\"x\":[119.40001251119938,112.99590633267607,112.98509315337563,118.93872759441619,119.70959750713385],\"xaxis\":\"x\",\"y\":[2613.6296296296296,2598.538461538461,2595.5,2584.5714285714284,2594.5],\"yaxis\":\"y\",\"type\":\"scatter\"},{\"error_x\":{\"array\":[0.029195176395035105,0.34701450640979203,0.24850551937997523,0.07550861226327754],\"arrayminus\":[0.027925805130934123,0.4124280550860391,0.24352677684137802,0.09624896283615669]},\"error_y\":{\"array\":[45.70588235294099,27.15000000000009,37.304347826086996,28.42857142857156],\"arrayminus\":[31.29411764705901,21.84999999999991,34.695652173913004,30.57142857142844]},\"hovertemplate\":\"<b>%{hovertext}</b><br><br>Name=CA12X2_C1<br>Avg Temperature [K]=%{x}<br>Avg Osc Period [ms]=%{y}<extra></extra>\",\"hovertext\":[\"CA12X2_C1_current_from_0.3e-6_to_0.4e-6A-20220428162717\",\"CA12X2_C1_current_from_0.5e-6_to_1e-6A-20220428153610\",\"CA12X2_C1_current_from_0.5e-6_to_1e-6A-20220428154754\",\"CA12X2_C1_current_from_1e-7_to_1e-6A-20220428162518\"],\"legendgroup\":\"CA12X2_C1\",\"marker\":{\"color\":\"#FFA15A\",\"symbol\":\"circle\"},\"mode\":\"markers\",\"name\":\"CA12X2_C1\",\"orientation\":\"v\",\"showlegend\":true,\"x\":[87.94975212793224,103.43576754110424,102.09991796451557,97.99243870006084],\"xaxis\":\"x\",\"y\":[2186.294117647059,2185.85,2196.695652173913,2187.5714285714284],\"yaxis\":\"y\",\"type\":\"scatter\"}],                        {\"template\":{\"data\":{\"histogram2dcontour\":[{\"type\":\"histogram2dcontour\",\"colorbar\":{\"outlinewidth\":0,\"ticks\":\"\"},\"colorscale\":[[0.0,\"#0d0887\"],[0.1111111111111111,\"#46039f\"],[0.2222222222222222,\"#7201a8\"],[0.3333333333333333,\"#9c179e\"],[0.4444444444444444,\"#bd3786\"],[0.5555555555555556,\"#d8576b\"],[0.6666666666666666,\"#ed7953\"],[0.7777777777777778,\"#fb9f3a\"],[0.8888888888888888,\"#fdca26\"],[1.0,\"#f0f921\"]]}],\"choropleth\":[{\"type\":\"choropleth\",\"colorbar\":{\"outlinewidth\":0,\"ticks\":\"\"}}],\"histogram2d\":[{\"type\":\"histogram2d\",\"colorbar\":{\"outlinewidth\":0,\"ticks\":\"\"},\"colorscale\":[[0.0,\"#0d0887\"],[0.1111111111111111,\"#46039f\"],[0.2222222222222222,\"#7201a8\"],[0.3333333333333333,\"#9c179e\"],[0.4444444444444444,\"#bd3786\"],[0.5555555555555556,\"#d8576b\"],[0.6666666666666666,\"#ed7953\"],[0.7777777777777778,\"#fb9f3a\"],[0.8888888888888888,\"#fdca26\"],[1.0,\"#f0f921\"]]}],\"heatmap\":[{\"type\":\"heatmap\",\"colorbar\":{\"outlinewidth\":0,\"ticks\":\"\"},\"colorscale\":[[0.0,\"#0d0887\"],[0.1111111111111111,\"#46039f\"],[0.2222222222222222,\"#7201a8\"],[0.3333333333333333,\"#9c179e\"],[0.4444444444444444,\"#bd3786\"],[0.5555555555555556,\"#d8576b\"],[0.6666666666666666,\"#ed7953\"],[0.7777777777777778,\"#fb9f3a\"],[0.8888888888888888,\"#fdca26\"],[1.0,\"#f0f921\"]]}],\"heatmapgl\":[{\"type\":\"heatmapgl\",\"colorbar\":{\"outlinewidth\":0,\"ticks\":\"\"},\"colorscale\":[[0.0,\"#0d0887\"],[0.1111111111111111,\"#46039f\"],[0.2222222222222222,\"#7201a8\"],[0.3333333333333333,\"#9c179e\"],[0.4444444444444444,\"#bd3786\"],[0.5555555555555556,\"#d8576b\"],[0.6666666666666666,\"#ed7953\"],[0.7777777777777778,\"#fb9f3a\"],[0.8888888888888888,\"#fdca26\"],[1.0,\"#f0f921\"]]}],\"contourcarpet\":[{\"type\":\"contourcarpet\",\"colorbar\":{\"outlinewidth\":0,\"ticks\":\"\"}}],\"contour\":[{\"type\":\"contour\",\"colorbar\":{\"outlinewidth\":0,\"ticks\":\"\"},\"colorscale\":[[0.0,\"#0d0887\"],[0.1111111111111111,\"#46039f\"],[0.2222222222222222,\"#7201a8\"],[0.3333333333333333,\"#9c179e\"],[0.4444444444444444,\"#bd3786\"],[0.5555555555555556,\"#d8576b\"],[0.6666666666666666,\"#ed7953\"],[0.7777777777777778,\"#fb9f3a\"],[0.8888888888888888,\"#fdca26\"],[1.0,\"#f0f921\"]]}],\"surface\":[{\"type\":\"surface\",\"colorbar\":{\"outlinewidth\":0,\"ticks\":\"\"},\"colorscale\":[[0.0,\"#0d0887\"],[0.1111111111111111,\"#46039f\"],[0.2222222222222222,\"#7201a8\"],[0.3333333333333333,\"#9c179e\"],[0.4444444444444444,\"#bd3786\"],[0.5555555555555556,\"#d8576b\"],[0.6666666666666666,\"#ed7953\"],[0.7777777777777778,\"#fb9f3a\"],[0.8888888888888888,\"#fdca26\"],[1.0,\"#f0f921\"]]}],\"mesh3d\":[{\"type\":\"mesh3d\",\"colorbar\":{\"outlinewidth\":0,\"ticks\":\"\"}}],\"scatter\":[{\"fillpattern\":{\"fillmode\":\"overlay\",\"size\":10,\"solidity\":0.2},\"type\":\"scatter\"}],\"parcoords\":[{\"type\":\"parcoords\",\"line\":{\"colorbar\":{\"outlinewidth\":0,\"ticks\":\"\"}}}],\"scatterpolargl\":[{\"type\":\"scatterpolargl\",\"marker\":{\"colorbar\":{\"outlinewidth\":0,\"ticks\":\"\"}}}],\"bar\":[{\"error_x\":{\"color\":\"#2a3f5f\"},\"error_y\":{\"color\":\"#2a3f5f\"},\"marker\":{\"line\":{\"color\":\"#E5ECF6\",\"width\":0.5},\"pattern\":{\"fillmode\":\"overlay\",\"size\":10,\"solidity\":0.2}},\"type\":\"bar\"}],\"scattergeo\":[{\"type\":\"scattergeo\",\"marker\":{\"colorbar\":{\"outlinewidth\":0,\"ticks\":\"\"}}}],\"scatterpolar\":[{\"type\":\"scatterpolar\",\"marker\":{\"colorbar\":{\"outlinewidth\":0,\"ticks\":\"\"}}}],\"histogram\":[{\"marker\":{\"pattern\":{\"fillmode\":\"overlay\",\"size\":10,\"solidity\":0.2}},\"type\":\"histogram\"}],\"scattergl\":[{\"type\":\"scattergl\",\"marker\":{\"colorbar\":{\"outlinewidth\":0,\"ticks\":\"\"}}}],\"scatter3d\":[{\"type\":\"scatter3d\",\"line\":{\"colorbar\":{\"outlinewidth\":0,\"ticks\":\"\"}},\"marker\":{\"colorbar\":{\"outlinewidth\":0,\"ticks\":\"\"}}}],\"scattermapbox\":[{\"type\":\"scattermapbox\",\"marker\":{\"colorbar\":{\"outlinewidth\":0,\"ticks\":\"\"}}}],\"scatterternary\":[{\"type\":\"scatterternary\",\"marker\":{\"colorbar\":{\"outlinewidth\":0,\"ticks\":\"\"}}}],\"scattercarpet\":[{\"type\":\"scattercarpet\",\"marker\":{\"colorbar\":{\"outlinewidth\":0,\"ticks\":\"\"}}}],\"carpet\":[{\"aaxis\":{\"endlinecolor\":\"#2a3f5f\",\"gridcolor\":\"white\",\"linecolor\":\"white\",\"minorgridcolor\":\"white\",\"startlinecolor\":\"#2a3f5f\"},\"baxis\":{\"endlinecolor\":\"#2a3f5f\",\"gridcolor\":\"white\",\"linecolor\":\"white\",\"minorgridcolor\":\"white\",\"startlinecolor\":\"#2a3f5f\"},\"type\":\"carpet\"}],\"table\":[{\"cells\":{\"fill\":{\"color\":\"#EBF0F8\"},\"line\":{\"color\":\"white\"}},\"header\":{\"fill\":{\"color\":\"#C8D4E3\"},\"line\":{\"color\":\"white\"}},\"type\":\"table\"}],\"barpolar\":[{\"marker\":{\"line\":{\"color\":\"#E5ECF6\",\"width\":0.5},\"pattern\":{\"fillmode\":\"overlay\",\"size\":10,\"solidity\":0.2}},\"type\":\"barpolar\"}],\"pie\":[{\"automargin\":true,\"type\":\"pie\"}]},\"layout\":{\"autotypenumbers\":\"strict\",\"colorway\":[\"#636efa\",\"#EF553B\",\"#00cc96\",\"#ab63fa\",\"#FFA15A\",\"#19d3f3\",\"#FF6692\",\"#B6E880\",\"#FF97FF\",\"#FECB52\"],\"font\":{\"color\":\"#2a3f5f\"},\"hovermode\":\"closest\",\"hoverlabel\":{\"align\":\"left\"},\"paper_bgcolor\":\"white\",\"plot_bgcolor\":\"#E5ECF6\",\"polar\":{\"bgcolor\":\"#E5ECF6\",\"angularaxis\":{\"gridcolor\":\"white\",\"linecolor\":\"white\",\"ticks\":\"\"},\"radialaxis\":{\"gridcolor\":\"white\",\"linecolor\":\"white\",\"ticks\":\"\"}},\"ternary\":{\"bgcolor\":\"#E5ECF6\",\"aaxis\":{\"gridcolor\":\"white\",\"linecolor\":\"white\",\"ticks\":\"\"},\"baxis\":{\"gridcolor\":\"white\",\"linecolor\":\"white\",\"ticks\":\"\"},\"caxis\":{\"gridcolor\":\"white\",\"linecolor\":\"white\",\"ticks\":\"\"}},\"coloraxis\":{\"colorbar\":{\"outlinewidth\":0,\"ticks\":\"\"}},\"colorscale\":{\"sequential\":[[0.0,\"#0d0887\"],[0.1111111111111111,\"#46039f\"],[0.2222222222222222,\"#7201a8\"],[0.3333333333333333,\"#9c179e\"],[0.4444444444444444,\"#bd3786\"],[0.5555555555555556,\"#d8576b\"],[0.6666666666666666,\"#ed7953\"],[0.7777777777777778,\"#fb9f3a\"],[0.8888888888888888,\"#fdca26\"],[1.0,\"#f0f921\"]],\"sequentialminus\":[[0.0,\"#0d0887\"],[0.1111111111111111,\"#46039f\"],[0.2222222222222222,\"#7201a8\"],[0.3333333333333333,\"#9c179e\"],[0.4444444444444444,\"#bd3786\"],[0.5555555555555556,\"#d8576b\"],[0.6666666666666666,\"#ed7953\"],[0.7777777777777778,\"#fb9f3a\"],[0.8888888888888888,\"#fdca26\"],[1.0,\"#f0f921\"]],\"diverging\":[[0,\"#8e0152\"],[0.1,\"#c51b7d\"],[0.2,\"#de77ae\"],[0.3,\"#f1b6da\"],[0.4,\"#fde0ef\"],[0.5,\"#f7f7f7\"],[0.6,\"#e6f5d0\"],[0.7,\"#b8e186\"],[0.8,\"#7fbc41\"],[0.9,\"#4d9221\"],[1,\"#276419\"]]},\"xaxis\":{\"gridcolor\":\"white\",\"linecolor\":\"white\",\"ticks\":\"\",\"title\":{\"standoff\":15},\"zerolinecolor\":\"white\",\"automargin\":true,\"zerolinewidth\":2},\"yaxis\":{\"gridcolor\":\"white\",\"linecolor\":\"white\",\"ticks\":\"\",\"title\":{\"standoff\":15},\"zerolinecolor\":\"white\",\"automargin\":true,\"zerolinewidth\":2},\"scene\":{\"xaxis\":{\"backgroundcolor\":\"#E5ECF6\",\"gridcolor\":\"white\",\"linecolor\":\"white\",\"showbackground\":true,\"ticks\":\"\",\"zerolinecolor\":\"white\",\"gridwidth\":2},\"yaxis\":{\"backgroundcolor\":\"#E5ECF6\",\"gridcolor\":\"white\",\"linecolor\":\"white\",\"showbackground\":true,\"ticks\":\"\",\"zerolinecolor\":\"white\",\"gridwidth\":2},\"zaxis\":{\"backgroundcolor\":\"#E5ECF6\",\"gridcolor\":\"white\",\"linecolor\":\"white\",\"showbackground\":true,\"ticks\":\"\",\"zerolinecolor\":\"white\",\"gridwidth\":2}},\"shapedefaults\":{\"line\":{\"color\":\"#2a3f5f\"}},\"annotationdefaults\":{\"arrowcolor\":\"#2a3f5f\",\"arrowhead\":0,\"arrowwidth\":1},\"geo\":{\"bgcolor\":\"white\",\"landcolor\":\"#E5ECF6\",\"subunitcolor\":\"white\",\"showland\":true,\"showlakes\":true,\"lakecolor\":\"white\"},\"title\":{\"x\":0.05},\"mapbox\":{\"style\":\"light\"}}},\"xaxis\":{\"anchor\":\"y\",\"domain\":[0.0,1.0],\"title\":{\"text\":\"Avg Temperature [K]\"}},\"yaxis\":{\"anchor\":\"x\",\"domain\":[0.0,1.0],\"title\":{\"text\":\"Avg Osc Period [ms]\"}},\"legend\":{\"title\":{\"text\":\"Name\"},\"tracegroupgap\":0},\"title\":{\"text\":\"Periodo delle oscillazioni in funzione della temperatura\"},\"height\":800,\"width\":952},                        {\"responsive\": true}                    ).then(function(){\n",
       "                            \n",
       "var gd = document.getElementById('0fcd6ba0-2098-4487-a569-c20584e979ee');\n",
       "var x = new MutationObserver(function (mutations, observer) {{\n",
       "        var display = window.getComputedStyle(gd).display;\n",
       "        if (!display || display === 'none') {{\n",
       "            console.log([gd, 'removed!']);\n",
       "            Plotly.purge(gd);\n",
       "            observer.disconnect();\n",
       "        }}\n",
       "}});\n",
       "\n",
       "// Listen for the removal of the full notebook cells\n",
       "var notebookContainer = gd.closest('#notebook-container');\n",
       "if (notebookContainer) {{\n",
       "    x.observe(notebookContainer, {childList: true});\n",
       "}}\n",
       "\n",
       "// Listen for the clearing of the current output cell\n",
       "var outputEl = gd.closest('.output');\n",
       "if (outputEl) {{\n",
       "    x.observe(outputEl, {childList: true});\n",
       "}}\n",
       "\n",
       "                        })                };                });            </script>        </div>"
      ]
     },
     "metadata": {},
     "output_type": "display_data"
    }
   ],
   "source": [
    "# Range dell'ampiezza delle oscillazioni in funzione della temperatura\n",
    "fig = px.scatter(df_variable, x='Avg Temperature [K]', y='Avg Osc Amplitude [V/cm]', \n",
    "title='Ampiezza delle oscillazioni in funzione della temperatura',\n",
    "color=\"Name\", hover_name=\"Experiment\", log_y=False, error_y='e_a_plus', error_y_minus='e_a_minus',\n",
    "error_x='e_t_plus', error_x_minus='e_t_minus',\n",
    "width=952, height=800)\n",
    "fig.show()\n",
    "\n",
    "# Range del periodo delle oscillazioni in funzione della temperatura\n",
    "fig = px.scatter(df_variable, x='Avg Temperature [K]', y='Avg Osc Period [ms]', \n",
    "title='Periodo delle oscillazioni in funzione della temperatura',\n",
    "color=\"Name\", hover_name=\"Experiment\", log_y=False, error_y='e_p_plus', error_y_minus='e_p_minus',\n",
    "error_x='e_t_plus', error_x_minus='e_t_minus',\n",
    "width=952, height=800)\n",
    "fig.show()"
   ]
  },
  {
   "cell_type": "markdown",
   "id": "welcome-staff",
   "metadata": {},
   "source": [
    "### Oscillazioni in funzione della corrente"
   ]
  },
  {
   "cell_type": "code",
   "execution_count": 10,
   "id": "deluxe-bonus",
   "metadata": {},
   "outputs": [
    {
     "data": {
      "application/vnd.plotly.v1+json": {
       "config": {
        "plotlyServerURL": "https://plot.ly"
       },
       "data": [
        {
         "error_x": {
          "array": [
           9.981235277677974e-07,
           9.077670820961847e-07,
           5.673544263101155e-06,
           6.913318750223259e-06,
           6.808253115721393e-08,
           2.9332223840233e-06,
           8.405250760149871e-07,
           9.981235277677974e-07,
           6.808253115721393e-08,
           7.186489399928135e-08,
           8.983111749910171e-07,
           2.6266408625468358e-06,
           8.510316394651753e-07
          ],
          "arrayminus": [
           9.981235277677957e-07,
           9.077670820961857e-07,
           5.673544263101161e-06,
           6.913318750223266e-06,
           6.808253115721395e-08,
           2.9332223840232994e-06,
           8.405250760149854e-07,
           9.981235277677957e-07,
           6.808253115721395e-08,
           7.186489399928136e-08,
           8.983111749910165e-07,
           2.626640862546829e-06,
           8.510316394651728e-07
          ]
         },
         "error_y": {
          "array": [
           40.54231862899826,
           314.5153787744873,
           55.601966567852486,
           47.903053416105536,
           16.68055418911331,
           240.0988086554649,
           5.603784068757818,
           40.10429232428453,
           12.344224182098742,
           36.39237630471382,
           334.36742189986984,
           24.404100505050508,
           4.8642134809634285
          ],
          "arrayminus": [
           69.60129711174241,
           107.6011285066575,
           36.650055317669455,
           25.854830843153763,
           27.990078950617487,
           186.28216920648796,
           9.734175106326404,
           67.73750102588383,
           39.95806665123462,
           48.483345189394015,
           103.6934493543389,
           16.702155808080846,
           9.086770104895095
          ]
         },
         "hovertemplate": "<b>%{hovertext}</b><br><br>Name=CA12X2<br>Avg Current [A/cm2]=%{x}<br>Avg Osc Amplitude [V/cm]=%{y}<extra></extra>",
         "hovertext": [
          "CA12X2_current_from_100e-9_to_200e-9A_flipped-20220315160531",
          "CA12X2_current_from_10e-9_to_100e-9A_flipped-20220315155945",
          "CA12X2_current_from_0.1e-6_to_1.0e-6A-20220317151236",
          "CA12X2_current_from_0.1e-6_to_1.5e-6A-20220317150657",
          "CA12X2_current_from_1e-9_to_10e-9A_flipped-20220315155235",
          "CA12X2_current_from_1e-9_to_1000e-9A_flipped-20220315170952",
          "CA12X2_current_from_200e-9_to_300e-9A_flipped-20220315161234",
          "CA12X2_current_from_100e-9_to_200e-9A-20220315152213",
          "CA12X2_current_from_1e-9_to_10e-9A-20220315153228",
          "CA12X2_current_from_1e-9_to_10e-9A-20220315151857",
          "CA12X2_current_from_10e-9_to_100e-9A-20220315151525",
          "CA12X2_current_from_1e-6_to_2e-6A-20220317143643",
          "CA12X2_current_from_200e-9_to_300e-9A-20220315152513"
         ],
         "legendgroup": "CA12X2",
         "marker": {
          "color": "#636efa",
          "symbol": "circle"
         },
         "mode": "markers",
         "name": "CA12X2",
         "orientation": "v",
         "showlegend": true,
         "type": "scatter",
         "x": [
          3.0994362178052623e-06,
          1.134708852620232e-06,
          8.888552678858484e-06,
          1.458311006886002e-05,
          1.2670915520925926e-07,
          2.9748283752860413e-06,
          5.022137329189544e-06,
          3.0994362178052623e-06,
          1.2670915520925926e-07,
          1.2481797378822552e-07,
          1.1252529455150629e-06,
          2.3639767762921495e-05,
          5.032643892639731e-06
         ],
         "xaxis": "x",
         "y": [
          257.99371714541246,
          165.5609240032905,
          180.80883351632264,
          167.4216549172278,
          485.1738810592032,
          246.02805514924893,
          308.4391889952153,
          257.577093197601,
          489.7577687514029,
          464.2819840951179,
          156.3530860546756,
          148.8656570707071,
          308.9615706099456
         ],
         "yaxis": "y"
        },
        {
         "error_x": {
          "array": [
           1.1420292670292665e-05,
           1.0769149831649828e-05,
           9.680134680134682e-06,
           1.0031042975320084e-05,
           9.833916083916087e-06,
           1.2019230769230773e-05,
           2.185314685314685e-05,
           7.368692264525595e-06
          ],
          "arrayminus": [
           1.1420292670292675e-05,
           1.0769149831649832e-05,
           9.680134680134679e-06,
           1.0025289581012472e-05,
           9.83391608391608e-06,
           1.2019230769230766e-05,
           2.1853146853146857e-05,
           7.394322498489165e-06
          ]
         },
         "error_y": {
          "array": [
           400.1285652528335,
           416.00775327956967,
           412.3793153480476,
           435.33028314303897,
           72.68219769585244,
           105.05162811059904,
           167.32150690524213,
           462.2190633646954
          ],
          "arrayminus": [
           288.7429869245859,
           340.9389605107529,
           326.76788223259763,
           324.8795804053482,
           186.31666923963138,
           137.99502027649754,
           49.13131083669356,
           222.5215844578853
          ]
         },
         "hovertemplate": "<b>%{hovertext}</b><br><br>Name=CA12_01_A<br>Avg Current [A/cm2]=%{x}<br>Avg Osc Amplitude [V/cm]=%{y}<extra></extra>",
         "hovertext": [
          "CA12_01_A_current_from_1e-8_to_35e-8A-20220429161303",
          "CA12_01_A_current_from_1e-9_to_30e-8A-20220429165618",
          "CA12_01_A_current_from_1e-9_to_30e-8A-20220429163858",
          "CA12_01_A_current_from_0.5e-8_to_30e-8A-20220429161610",
          "CA12_01_A_current_from_1e-7_to_10e-7A-20220429152836",
          "CA12_01_A_current_from_1e-7_to_10e-7A-20220429152137",
          "CA12_01_A_current_from_1e-7_to_10e-7A-20220429151346",
          "CA12_01_A_current_from_1e-8_to_20e-8A-20220429153124"
         ],
         "legendgroup": "CA12_01_A",
         "marker": {
          "color": "#EF553B",
          "symbol": "circle"
         },
         "mode": "markers",
         "name": "CA12_01_A",
         "orientation": "v",
         "showlegend": true,
         "type": "scatter",
         "x": [
          1.2221574721574726e-05,
          1.1091281403781404e-05,
          1.0244269619269618e-05,
          1.0664696470419362e-05,
          1.7846736596736593e-05,
          2.003205128205128e-05,
          2.986596736596737e-05,
          8.34938595355262e-06
         ],
         "xaxis": "x",
         "y": [
          498.71566942458594,
          478.61332438172064,
          469.8801052971138,
          473.4292771795417,
          526.3841079493088,
          544.3915493087558,
          542.0331737399193,
          449.9691909094982
         ],
         "yaxis": "y"
        },
        {
         "error_x": {
          "array": [
           1.2244897959183681e-05,
           5.5853920515574595e-06,
           1.709728867623604e-05,
           1.417830290010741e-05,
           7.145135566188199e-06
          ],
          "arrayminus": [
           1.224489795918367e-05,
           5.585392051557473e-06,
           1.7097288676236052e-05,
           1.4178302900107413e-05,
           7.145135566188196e-06
          ]
         },
         "error_y": {
          "array": [
           25.290396381277844,
           17.560570554239803,
           74.5694668340119,
           93.19667279521389,
           199.6472544159475
          ],
          "arrayminus": [
           24.504475998922317,
           24.770004521493036,
           35.72035381343409,
           45.587789486456586,
           168.78810709636417
          ]
         },
         "hovertemplate": "<b>%{hovertext}</b><br><br>Name=CA8_01_A<br>Avg Current [A/cm2]=%{x}<br>Avg Osc Amplitude [V/cm]=%{y}<extra></extra>",
         "hovertext": [
          "CA8_01_A_current_from_0.5e-6_to_2e-6A_flipped-20220421110256",
          "CA8_01_A_current_from_1e-6_to_2e-6A-20220421110002",
          "CA8_01_A_current_from_1e-7_to_1.3e-6A-20220421182659",
          "CA8_01_A_current_from_-0.5e-6_to_1e-6A_flipped-20220421110914",
          "CA8_01_A_current_from_0.5e-7_to_4e-7A-20220421185114"
         ],
         "legendgroup": "CA8_01_A",
         "marker": {
          "color": "#00cc96",
          "symbol": "circle"
         },
         "mode": "markers",
         "name": "CA8_01_A",
         "orientation": "v",
         "showlegend": true,
         "type": "scatter",
         "x": [
          3.329752953813104e-05,
          4.85499462943072e-05,
          3.151515151515152e-05,
          2.406015037593985e-05,
          9.250398724082933e-06
         ],
         "xaxis": "x",
         "y": [
          335.8989899208019,
          320.5228509026681,
          347.52271371545976,
          383.19981233894583,
          401.4438513755298
         ],
         "yaxis": "y"
        },
        {
         "error_x": {
          "array": [
           1.118420541657281e-05,
           4.53427120461786e-06,
           2.01085070813488e-06,
           1.029082421221966e-05,
           1.1240691302515108e-05
          ],
          "arrayminus": [
           1.1184205416572817e-05,
           4.534271204617858e-06,
           2.0108507081348748e-06,
           1.0290824212219665e-05,
           1.1240691302515103e-05
          ]
         },
         "error_y": {
          "array": [
           146.76055758169946,
           128.14347357609716,
           3.7304880430604044,
           158.26366274509786,
           143.16628308823528
          ],
          "arrayminus": [
           310.93354176470586,
           85.21572315592903,
           7.349989081122715,
           305.80513986928116,
           316.4482410947713
          ]
         },
         "hovertemplate": "<b>%{hovertext}</b><br><br>Name=CA12X_C5<br>Avg Current [A/cm2]=%{x}<br>Avg Osc Amplitude [V/cm]=%{y}<extra></extra>",
         "hovertext": [
          "CA12X_C5_current_from_1e-7_to_10e-7A_flipped-20220412171054",
          "CA12X_C5_current_from_1e-7_to_3.5e-7A-20220413145630",
          "CA12X_C5_current_from_3.5e-7_to_5e-7A-20220413145837",
          "CA12X_C5_current_from_1e-7_to_10e-7A-20220413133337",
          "CA12X_C5_current_from_1e-7_to_10e-7A-20220412170113"
         ],
         "legendgroup": "CA12X_C5",
         "marker": {
          "color": "#ab63fa",
          "symbol": "circle"
         },
         "mode": "markers",
         "name": "CA12X_C5",
         "orientation": "v",
         "showlegend": true,
         "type": "scatter",
         "x": [
          1.5397699471080285e-05,
          8.398258839857425e-06,
          1.5653092767246e-05,
          1.4864523862095071e-05,
          1.5807222144161864e-05
         ],
         "xaxis": "x",
         "y": [
          421.51413718954245,
          427.9648813258637,
          463.7403505190312,
          402.9853836601308,
          410.4836907679739
         ],
         "yaxis": "y"
        },
        {
         "error_x": {
          "array": [
           7.081370124217589e-07,
           3.2484629641027707e-06,
           2.1798896206479126e-06,
           4.231550440081243e-06
          ],
          "arrayminus": [
           7.081370124217606e-07,
           3.248462964102776e-06,
           2.179889620647916e-06,
           4.231550440081246e-06
          ]
         },
         "error_y": {
          "array": [
           0.6526869476435451,
           5.638094656287095,
           3.573341806306914,
           40.47581234991422
          ],
          "arrayminus": [
           0.7435566201094304,
           38.335096767383575,
           7.407595071909199,
           10.42417873070329
          ]
         },
         "hovertemplate": "<b>%{hovertext}</b><br><br>Name=CA12X2_C1<br>Avg Current [A/cm2]=%{x}<br>Avg Osc Amplitude [V/cm]=%{y}<extra></extra>",
         "hovertext": [
          "CA12X2_C1_current_from_0.3e-6_to_0.4e-6A-20220428162717",
          "CA12X2_C1_current_from_0.5e-6_to_1e-6A-20220428153610",
          "CA12X2_C1_current_from_0.5e-6_to_1e-6A-20220428154754",
          "CA12X2_C1_current_from_1e-7_to_1e-6A-20220428162518"
         ],
         "legendgroup": "CA12X2_C1",
         "marker": {
          "color": "#FFA15A",
          "symbol": "circle"
         },
         "mode": "markers",
         "name": "CA12X2_C1",
         "orientation": "v",
         "showlegend": true,
         "type": "scatter",
         "x": [
          5.8205408094178775e-06,
          1.1711563844265267e-05,
          1.1412363308097906e-05,
          5.924170616113744e-06
         ],
         "xaxis": "x",
         "y": [
          123.35304821530669,
          100.9774681224436,
          105.96878906847869,
          115.93307084048028
         ],
         "yaxis": "y"
        }
       ],
       "layout": {
        "height": 800,
        "legend": {
         "title": {
          "text": "Name"
         },
         "tracegroupgap": 0
        },
        "template": {
         "data": {
          "bar": [
           {
            "error_x": {
             "color": "#2a3f5f"
            },
            "error_y": {
             "color": "#2a3f5f"
            },
            "marker": {
             "line": {
              "color": "#E5ECF6",
              "width": 0.5
             },
             "pattern": {
              "fillmode": "overlay",
              "size": 10,
              "solidity": 0.2
             }
            },
            "type": "bar"
           }
          ],
          "barpolar": [
           {
            "marker": {
             "line": {
              "color": "#E5ECF6",
              "width": 0.5
             },
             "pattern": {
              "fillmode": "overlay",
              "size": 10,
              "solidity": 0.2
             }
            },
            "type": "barpolar"
           }
          ],
          "carpet": [
           {
            "aaxis": {
             "endlinecolor": "#2a3f5f",
             "gridcolor": "white",
             "linecolor": "white",
             "minorgridcolor": "white",
             "startlinecolor": "#2a3f5f"
            },
            "baxis": {
             "endlinecolor": "#2a3f5f",
             "gridcolor": "white",
             "linecolor": "white",
             "minorgridcolor": "white",
             "startlinecolor": "#2a3f5f"
            },
            "type": "carpet"
           }
          ],
          "choropleth": [
           {
            "colorbar": {
             "outlinewidth": 0,
             "ticks": ""
            },
            "type": "choropleth"
           }
          ],
          "contour": [
           {
            "colorbar": {
             "outlinewidth": 0,
             "ticks": ""
            },
            "colorscale": [
             [
              0,
              "#0d0887"
             ],
             [
              0.1111111111111111,
              "#46039f"
             ],
             [
              0.2222222222222222,
              "#7201a8"
             ],
             [
              0.3333333333333333,
              "#9c179e"
             ],
             [
              0.4444444444444444,
              "#bd3786"
             ],
             [
              0.5555555555555556,
              "#d8576b"
             ],
             [
              0.6666666666666666,
              "#ed7953"
             ],
             [
              0.7777777777777778,
              "#fb9f3a"
             ],
             [
              0.8888888888888888,
              "#fdca26"
             ],
             [
              1,
              "#f0f921"
             ]
            ],
            "type": "contour"
           }
          ],
          "contourcarpet": [
           {
            "colorbar": {
             "outlinewidth": 0,
             "ticks": ""
            },
            "type": "contourcarpet"
           }
          ],
          "heatmap": [
           {
            "colorbar": {
             "outlinewidth": 0,
             "ticks": ""
            },
            "colorscale": [
             [
              0,
              "#0d0887"
             ],
             [
              0.1111111111111111,
              "#46039f"
             ],
             [
              0.2222222222222222,
              "#7201a8"
             ],
             [
              0.3333333333333333,
              "#9c179e"
             ],
             [
              0.4444444444444444,
              "#bd3786"
             ],
             [
              0.5555555555555556,
              "#d8576b"
             ],
             [
              0.6666666666666666,
              "#ed7953"
             ],
             [
              0.7777777777777778,
              "#fb9f3a"
             ],
             [
              0.8888888888888888,
              "#fdca26"
             ],
             [
              1,
              "#f0f921"
             ]
            ],
            "type": "heatmap"
           }
          ],
          "heatmapgl": [
           {
            "colorbar": {
             "outlinewidth": 0,
             "ticks": ""
            },
            "colorscale": [
             [
              0,
              "#0d0887"
             ],
             [
              0.1111111111111111,
              "#46039f"
             ],
             [
              0.2222222222222222,
              "#7201a8"
             ],
             [
              0.3333333333333333,
              "#9c179e"
             ],
             [
              0.4444444444444444,
              "#bd3786"
             ],
             [
              0.5555555555555556,
              "#d8576b"
             ],
             [
              0.6666666666666666,
              "#ed7953"
             ],
             [
              0.7777777777777778,
              "#fb9f3a"
             ],
             [
              0.8888888888888888,
              "#fdca26"
             ],
             [
              1,
              "#f0f921"
             ]
            ],
            "type": "heatmapgl"
           }
          ],
          "histogram": [
           {
            "marker": {
             "pattern": {
              "fillmode": "overlay",
              "size": 10,
              "solidity": 0.2
             }
            },
            "type": "histogram"
           }
          ],
          "histogram2d": [
           {
            "colorbar": {
             "outlinewidth": 0,
             "ticks": ""
            },
            "colorscale": [
             [
              0,
              "#0d0887"
             ],
             [
              0.1111111111111111,
              "#46039f"
             ],
             [
              0.2222222222222222,
              "#7201a8"
             ],
             [
              0.3333333333333333,
              "#9c179e"
             ],
             [
              0.4444444444444444,
              "#bd3786"
             ],
             [
              0.5555555555555556,
              "#d8576b"
             ],
             [
              0.6666666666666666,
              "#ed7953"
             ],
             [
              0.7777777777777778,
              "#fb9f3a"
             ],
             [
              0.8888888888888888,
              "#fdca26"
             ],
             [
              1,
              "#f0f921"
             ]
            ],
            "type": "histogram2d"
           }
          ],
          "histogram2dcontour": [
           {
            "colorbar": {
             "outlinewidth": 0,
             "ticks": ""
            },
            "colorscale": [
             [
              0,
              "#0d0887"
             ],
             [
              0.1111111111111111,
              "#46039f"
             ],
             [
              0.2222222222222222,
              "#7201a8"
             ],
             [
              0.3333333333333333,
              "#9c179e"
             ],
             [
              0.4444444444444444,
              "#bd3786"
             ],
             [
              0.5555555555555556,
              "#d8576b"
             ],
             [
              0.6666666666666666,
              "#ed7953"
             ],
             [
              0.7777777777777778,
              "#fb9f3a"
             ],
             [
              0.8888888888888888,
              "#fdca26"
             ],
             [
              1,
              "#f0f921"
             ]
            ],
            "type": "histogram2dcontour"
           }
          ],
          "mesh3d": [
           {
            "colorbar": {
             "outlinewidth": 0,
             "ticks": ""
            },
            "type": "mesh3d"
           }
          ],
          "parcoords": [
           {
            "line": {
             "colorbar": {
              "outlinewidth": 0,
              "ticks": ""
             }
            },
            "type": "parcoords"
           }
          ],
          "pie": [
           {
            "automargin": true,
            "type": "pie"
           }
          ],
          "scatter": [
           {
            "fillpattern": {
             "fillmode": "overlay",
             "size": 10,
             "solidity": 0.2
            },
            "type": "scatter"
           }
          ],
          "scatter3d": [
           {
            "line": {
             "colorbar": {
              "outlinewidth": 0,
              "ticks": ""
             }
            },
            "marker": {
             "colorbar": {
              "outlinewidth": 0,
              "ticks": ""
             }
            },
            "type": "scatter3d"
           }
          ],
          "scattercarpet": [
           {
            "marker": {
             "colorbar": {
              "outlinewidth": 0,
              "ticks": ""
             }
            },
            "type": "scattercarpet"
           }
          ],
          "scattergeo": [
           {
            "marker": {
             "colorbar": {
              "outlinewidth": 0,
              "ticks": ""
             }
            },
            "type": "scattergeo"
           }
          ],
          "scattergl": [
           {
            "marker": {
             "colorbar": {
              "outlinewidth": 0,
              "ticks": ""
             }
            },
            "type": "scattergl"
           }
          ],
          "scattermapbox": [
           {
            "marker": {
             "colorbar": {
              "outlinewidth": 0,
              "ticks": ""
             }
            },
            "type": "scattermapbox"
           }
          ],
          "scatterpolar": [
           {
            "marker": {
             "colorbar": {
              "outlinewidth": 0,
              "ticks": ""
             }
            },
            "type": "scatterpolar"
           }
          ],
          "scatterpolargl": [
           {
            "marker": {
             "colorbar": {
              "outlinewidth": 0,
              "ticks": ""
             }
            },
            "type": "scatterpolargl"
           }
          ],
          "scatterternary": [
           {
            "marker": {
             "colorbar": {
              "outlinewidth": 0,
              "ticks": ""
             }
            },
            "type": "scatterternary"
           }
          ],
          "surface": [
           {
            "colorbar": {
             "outlinewidth": 0,
             "ticks": ""
            },
            "colorscale": [
             [
              0,
              "#0d0887"
             ],
             [
              0.1111111111111111,
              "#46039f"
             ],
             [
              0.2222222222222222,
              "#7201a8"
             ],
             [
              0.3333333333333333,
              "#9c179e"
             ],
             [
              0.4444444444444444,
              "#bd3786"
             ],
             [
              0.5555555555555556,
              "#d8576b"
             ],
             [
              0.6666666666666666,
              "#ed7953"
             ],
             [
              0.7777777777777778,
              "#fb9f3a"
             ],
             [
              0.8888888888888888,
              "#fdca26"
             ],
             [
              1,
              "#f0f921"
             ]
            ],
            "type": "surface"
           }
          ],
          "table": [
           {
            "cells": {
             "fill": {
              "color": "#EBF0F8"
             },
             "line": {
              "color": "white"
             }
            },
            "header": {
             "fill": {
              "color": "#C8D4E3"
             },
             "line": {
              "color": "white"
             }
            },
            "type": "table"
           }
          ]
         },
         "layout": {
          "annotationdefaults": {
           "arrowcolor": "#2a3f5f",
           "arrowhead": 0,
           "arrowwidth": 1
          },
          "autotypenumbers": "strict",
          "coloraxis": {
           "colorbar": {
            "outlinewidth": 0,
            "ticks": ""
           }
          },
          "colorscale": {
           "diverging": [
            [
             0,
             "#8e0152"
            ],
            [
             0.1,
             "#c51b7d"
            ],
            [
             0.2,
             "#de77ae"
            ],
            [
             0.3,
             "#f1b6da"
            ],
            [
             0.4,
             "#fde0ef"
            ],
            [
             0.5,
             "#f7f7f7"
            ],
            [
             0.6,
             "#e6f5d0"
            ],
            [
             0.7,
             "#b8e186"
            ],
            [
             0.8,
             "#7fbc41"
            ],
            [
             0.9,
             "#4d9221"
            ],
            [
             1,
             "#276419"
            ]
           ],
           "sequential": [
            [
             0,
             "#0d0887"
            ],
            [
             0.1111111111111111,
             "#46039f"
            ],
            [
             0.2222222222222222,
             "#7201a8"
            ],
            [
             0.3333333333333333,
             "#9c179e"
            ],
            [
             0.4444444444444444,
             "#bd3786"
            ],
            [
             0.5555555555555556,
             "#d8576b"
            ],
            [
             0.6666666666666666,
             "#ed7953"
            ],
            [
             0.7777777777777778,
             "#fb9f3a"
            ],
            [
             0.8888888888888888,
             "#fdca26"
            ],
            [
             1,
             "#f0f921"
            ]
           ],
           "sequentialminus": [
            [
             0,
             "#0d0887"
            ],
            [
             0.1111111111111111,
             "#46039f"
            ],
            [
             0.2222222222222222,
             "#7201a8"
            ],
            [
             0.3333333333333333,
             "#9c179e"
            ],
            [
             0.4444444444444444,
             "#bd3786"
            ],
            [
             0.5555555555555556,
             "#d8576b"
            ],
            [
             0.6666666666666666,
             "#ed7953"
            ],
            [
             0.7777777777777778,
             "#fb9f3a"
            ],
            [
             0.8888888888888888,
             "#fdca26"
            ],
            [
             1,
             "#f0f921"
            ]
           ]
          },
          "colorway": [
           "#636efa",
           "#EF553B",
           "#00cc96",
           "#ab63fa",
           "#FFA15A",
           "#19d3f3",
           "#FF6692",
           "#B6E880",
           "#FF97FF",
           "#FECB52"
          ],
          "font": {
           "color": "#2a3f5f"
          },
          "geo": {
           "bgcolor": "white",
           "lakecolor": "white",
           "landcolor": "#E5ECF6",
           "showlakes": true,
           "showland": true,
           "subunitcolor": "white"
          },
          "hoverlabel": {
           "align": "left"
          },
          "hovermode": "closest",
          "mapbox": {
           "style": "light"
          },
          "paper_bgcolor": "white",
          "plot_bgcolor": "#E5ECF6",
          "polar": {
           "angularaxis": {
            "gridcolor": "white",
            "linecolor": "white",
            "ticks": ""
           },
           "bgcolor": "#E5ECF6",
           "radialaxis": {
            "gridcolor": "white",
            "linecolor": "white",
            "ticks": ""
           }
          },
          "scene": {
           "xaxis": {
            "backgroundcolor": "#E5ECF6",
            "gridcolor": "white",
            "gridwidth": 2,
            "linecolor": "white",
            "showbackground": true,
            "ticks": "",
            "zerolinecolor": "white"
           },
           "yaxis": {
            "backgroundcolor": "#E5ECF6",
            "gridcolor": "white",
            "gridwidth": 2,
            "linecolor": "white",
            "showbackground": true,
            "ticks": "",
            "zerolinecolor": "white"
           },
           "zaxis": {
            "backgroundcolor": "#E5ECF6",
            "gridcolor": "white",
            "gridwidth": 2,
            "linecolor": "white",
            "showbackground": true,
            "ticks": "",
            "zerolinecolor": "white"
           }
          },
          "shapedefaults": {
           "line": {
            "color": "#2a3f5f"
           }
          },
          "ternary": {
           "aaxis": {
            "gridcolor": "white",
            "linecolor": "white",
            "ticks": ""
           },
           "baxis": {
            "gridcolor": "white",
            "linecolor": "white",
            "ticks": ""
           },
           "bgcolor": "#E5ECF6",
           "caxis": {
            "gridcolor": "white",
            "linecolor": "white",
            "ticks": ""
           }
          },
          "title": {
           "x": 0.05
          },
          "xaxis": {
           "automargin": true,
           "gridcolor": "white",
           "linecolor": "white",
           "ticks": "",
           "title": {
            "standoff": 15
           },
           "zerolinecolor": "white",
           "zerolinewidth": 2
          },
          "yaxis": {
           "automargin": true,
           "gridcolor": "white",
           "linecolor": "white",
           "ticks": "",
           "title": {
            "standoff": 15
           },
           "zerolinecolor": "white",
           "zerolinewidth": 2
          }
         }
        },
        "title": {
         "text": "Ampiezza delle oscillazioni in funzione della corrente"
        },
        "width": 952,
        "xaxis": {
         "anchor": "y",
         "domain": [
          0,
          1
         ],
         "title": {
          "text": "Avg Current [A/cm2]"
         },
         "type": "log"
        },
        "yaxis": {
         "anchor": "x",
         "domain": [
          0,
          1
         ],
         "title": {
          "text": "Avg Osc Amplitude [V/cm]"
         }
        }
       }
      },
      "text/html": [
       "<div>                            <div id=\"9c4de189-9ff7-4c12-96cc-da9f1200b3cb\" class=\"plotly-graph-div\" style=\"height:800px; width:952px;\"></div>            <script type=\"text/javascript\">                require([\"plotly\"], function(Plotly) {                    window.PLOTLYENV=window.PLOTLYENV || {};                                    if (document.getElementById(\"9c4de189-9ff7-4c12-96cc-da9f1200b3cb\")) {                    Plotly.newPlot(                        \"9c4de189-9ff7-4c12-96cc-da9f1200b3cb\",                        [{\"error_x\":{\"array\":[9.981235277677974e-07,9.077670820961847e-07,5.673544263101155e-06,6.913318750223259e-06,6.808253115721393e-08,2.9332223840233e-06,8.405250760149871e-07,9.981235277677974e-07,6.808253115721393e-08,7.186489399928135e-08,8.983111749910171e-07,2.6266408625468358e-06,8.510316394651753e-07],\"arrayminus\":[9.981235277677957e-07,9.077670820961857e-07,5.673544263101161e-06,6.913318750223266e-06,6.808253115721395e-08,2.9332223840232994e-06,8.405250760149854e-07,9.981235277677957e-07,6.808253115721395e-08,7.186489399928136e-08,8.983111749910165e-07,2.626640862546829e-06,8.510316394651728e-07]},\"error_y\":{\"array\":[40.54231862899826,314.5153787744873,55.601966567852486,47.903053416105536,16.68055418911331,240.0988086554649,5.603784068757818,40.10429232428453,12.344224182098742,36.39237630471382,334.36742189986984,24.404100505050508,4.8642134809634285],\"arrayminus\":[69.60129711174241,107.6011285066575,36.650055317669455,25.854830843153763,27.990078950617487,186.28216920648796,9.734175106326404,67.73750102588383,39.95806665123462,48.483345189394015,103.6934493543389,16.702155808080846,9.086770104895095]},\"hovertemplate\":\"<b>%{hovertext}</b><br><br>Name=CA12X2<br>Avg Current [A/cm2]=%{x}<br>Avg Osc Amplitude [V/cm]=%{y}<extra></extra>\",\"hovertext\":[\"CA12X2_current_from_100e-9_to_200e-9A_flipped-20220315160531\",\"CA12X2_current_from_10e-9_to_100e-9A_flipped-20220315155945\",\"CA12X2_current_from_0.1e-6_to_1.0e-6A-20220317151236\",\"CA12X2_current_from_0.1e-6_to_1.5e-6A-20220317150657\",\"CA12X2_current_from_1e-9_to_10e-9A_flipped-20220315155235\",\"CA12X2_current_from_1e-9_to_1000e-9A_flipped-20220315170952\",\"CA12X2_current_from_200e-9_to_300e-9A_flipped-20220315161234\",\"CA12X2_current_from_100e-9_to_200e-9A-20220315152213\",\"CA12X2_current_from_1e-9_to_10e-9A-20220315153228\",\"CA12X2_current_from_1e-9_to_10e-9A-20220315151857\",\"CA12X2_current_from_10e-9_to_100e-9A-20220315151525\",\"CA12X2_current_from_1e-6_to_2e-6A-20220317143643\",\"CA12X2_current_from_200e-9_to_300e-9A-20220315152513\"],\"legendgroup\":\"CA12X2\",\"marker\":{\"color\":\"#636efa\",\"symbol\":\"circle\"},\"mode\":\"markers\",\"name\":\"CA12X2\",\"orientation\":\"v\",\"showlegend\":true,\"x\":[3.0994362178052623e-06,1.134708852620232e-06,8.888552678858484e-06,1.458311006886002e-05,1.2670915520925926e-07,2.9748283752860413e-06,5.022137329189544e-06,3.0994362178052623e-06,1.2670915520925926e-07,1.2481797378822552e-07,1.1252529455150629e-06,2.3639767762921495e-05,5.032643892639731e-06],\"xaxis\":\"x\",\"y\":[257.99371714541246,165.5609240032905,180.80883351632264,167.4216549172278,485.1738810592032,246.02805514924893,308.4391889952153,257.577093197601,489.7577687514029,464.2819840951179,156.3530860546756,148.8656570707071,308.9615706099456],\"yaxis\":\"y\",\"type\":\"scatter\"},{\"error_x\":{\"array\":[1.1420292670292665e-05,1.0769149831649828e-05,9.680134680134682e-06,1.0031042975320084e-05,9.833916083916087e-06,1.2019230769230773e-05,2.185314685314685e-05,7.368692264525595e-06],\"arrayminus\":[1.1420292670292675e-05,1.0769149831649832e-05,9.680134680134679e-06,1.0025289581012472e-05,9.83391608391608e-06,1.2019230769230766e-05,2.1853146853146857e-05,7.394322498489165e-06]},\"error_y\":{\"array\":[400.1285652528335,416.00775327956967,412.3793153480476,435.33028314303897,72.68219769585244,105.05162811059904,167.32150690524213,462.2190633646954],\"arrayminus\":[288.7429869245859,340.9389605107529,326.76788223259763,324.8795804053482,186.31666923963138,137.99502027649754,49.13131083669356,222.5215844578853]},\"hovertemplate\":\"<b>%{hovertext}</b><br><br>Name=CA12_01_A<br>Avg Current [A/cm2]=%{x}<br>Avg Osc Amplitude [V/cm]=%{y}<extra></extra>\",\"hovertext\":[\"CA12_01_A_current_from_1e-8_to_35e-8A-20220429161303\",\"CA12_01_A_current_from_1e-9_to_30e-8A-20220429165618\",\"CA12_01_A_current_from_1e-9_to_30e-8A-20220429163858\",\"CA12_01_A_current_from_0.5e-8_to_30e-8A-20220429161610\",\"CA12_01_A_current_from_1e-7_to_10e-7A-20220429152836\",\"CA12_01_A_current_from_1e-7_to_10e-7A-20220429152137\",\"CA12_01_A_current_from_1e-7_to_10e-7A-20220429151346\",\"CA12_01_A_current_from_1e-8_to_20e-8A-20220429153124\"],\"legendgroup\":\"CA12_01_A\",\"marker\":{\"color\":\"#EF553B\",\"symbol\":\"circle\"},\"mode\":\"markers\",\"name\":\"CA12_01_A\",\"orientation\":\"v\",\"showlegend\":true,\"x\":[1.2221574721574726e-05,1.1091281403781404e-05,1.0244269619269618e-05,1.0664696470419362e-05,1.7846736596736593e-05,2.003205128205128e-05,2.986596736596737e-05,8.34938595355262e-06],\"xaxis\":\"x\",\"y\":[498.71566942458594,478.61332438172064,469.8801052971138,473.4292771795417,526.3841079493088,544.3915493087558,542.0331737399193,449.9691909094982],\"yaxis\":\"y\",\"type\":\"scatter\"},{\"error_x\":{\"array\":[1.2244897959183681e-05,5.5853920515574595e-06,1.709728867623604e-05,1.417830290010741e-05,7.145135566188199e-06],\"arrayminus\":[1.224489795918367e-05,5.585392051557473e-06,1.7097288676236052e-05,1.4178302900107413e-05,7.145135566188196e-06]},\"error_y\":{\"array\":[25.290396381277844,17.560570554239803,74.5694668340119,93.19667279521389,199.6472544159475],\"arrayminus\":[24.504475998922317,24.770004521493036,35.72035381343409,45.587789486456586,168.78810709636417]},\"hovertemplate\":\"<b>%{hovertext}</b><br><br>Name=CA8_01_A<br>Avg Current [A/cm2]=%{x}<br>Avg Osc Amplitude [V/cm]=%{y}<extra></extra>\",\"hovertext\":[\"CA8_01_A_current_from_0.5e-6_to_2e-6A_flipped-20220421110256\",\"CA8_01_A_current_from_1e-6_to_2e-6A-20220421110002\",\"CA8_01_A_current_from_1e-7_to_1.3e-6A-20220421182659\",\"CA8_01_A_current_from_-0.5e-6_to_1e-6A_flipped-20220421110914\",\"CA8_01_A_current_from_0.5e-7_to_4e-7A-20220421185114\"],\"legendgroup\":\"CA8_01_A\",\"marker\":{\"color\":\"#00cc96\",\"symbol\":\"circle\"},\"mode\":\"markers\",\"name\":\"CA8_01_A\",\"orientation\":\"v\",\"showlegend\":true,\"x\":[3.329752953813104e-05,4.85499462943072e-05,3.151515151515152e-05,2.406015037593985e-05,9.250398724082933e-06],\"xaxis\":\"x\",\"y\":[335.8989899208019,320.5228509026681,347.52271371545976,383.19981233894583,401.4438513755298],\"yaxis\":\"y\",\"type\":\"scatter\"},{\"error_x\":{\"array\":[1.118420541657281e-05,4.53427120461786e-06,2.01085070813488e-06,1.029082421221966e-05,1.1240691302515108e-05],\"arrayminus\":[1.1184205416572817e-05,4.534271204617858e-06,2.0108507081348748e-06,1.0290824212219665e-05,1.1240691302515103e-05]},\"error_y\":{\"array\":[146.76055758169946,128.14347357609716,3.7304880430604044,158.26366274509786,143.16628308823528],\"arrayminus\":[310.93354176470586,85.21572315592903,7.349989081122715,305.80513986928116,316.4482410947713]},\"hovertemplate\":\"<b>%{hovertext}</b><br><br>Name=CA12X_C5<br>Avg Current [A/cm2]=%{x}<br>Avg Osc Amplitude [V/cm]=%{y}<extra></extra>\",\"hovertext\":[\"CA12X_C5_current_from_1e-7_to_10e-7A_flipped-20220412171054\",\"CA12X_C5_current_from_1e-7_to_3.5e-7A-20220413145630\",\"CA12X_C5_current_from_3.5e-7_to_5e-7A-20220413145837\",\"CA12X_C5_current_from_1e-7_to_10e-7A-20220413133337\",\"CA12X_C5_current_from_1e-7_to_10e-7A-20220412170113\"],\"legendgroup\":\"CA12X_C5\",\"marker\":{\"color\":\"#ab63fa\",\"symbol\":\"circle\"},\"mode\":\"markers\",\"name\":\"CA12X_C5\",\"orientation\":\"v\",\"showlegend\":true,\"x\":[1.5397699471080285e-05,8.398258839857425e-06,1.5653092767246e-05,1.4864523862095071e-05,1.5807222144161864e-05],\"xaxis\":\"x\",\"y\":[421.51413718954245,427.9648813258637,463.7403505190312,402.9853836601308,410.4836907679739],\"yaxis\":\"y\",\"type\":\"scatter\"},{\"error_x\":{\"array\":[7.081370124217589e-07,3.2484629641027707e-06,2.1798896206479126e-06,4.231550440081243e-06],\"arrayminus\":[7.081370124217606e-07,3.248462964102776e-06,2.179889620647916e-06,4.231550440081246e-06]},\"error_y\":{\"array\":[0.6526869476435451,5.638094656287095,3.573341806306914,40.47581234991422],\"arrayminus\":[0.7435566201094304,38.335096767383575,7.407595071909199,10.42417873070329]},\"hovertemplate\":\"<b>%{hovertext}</b><br><br>Name=CA12X2_C1<br>Avg Current [A/cm2]=%{x}<br>Avg Osc Amplitude [V/cm]=%{y}<extra></extra>\",\"hovertext\":[\"CA12X2_C1_current_from_0.3e-6_to_0.4e-6A-20220428162717\",\"CA12X2_C1_current_from_0.5e-6_to_1e-6A-20220428153610\",\"CA12X2_C1_current_from_0.5e-6_to_1e-6A-20220428154754\",\"CA12X2_C1_current_from_1e-7_to_1e-6A-20220428162518\"],\"legendgroup\":\"CA12X2_C1\",\"marker\":{\"color\":\"#FFA15A\",\"symbol\":\"circle\"},\"mode\":\"markers\",\"name\":\"CA12X2_C1\",\"orientation\":\"v\",\"showlegend\":true,\"x\":[5.8205408094178775e-06,1.1711563844265267e-05,1.1412363308097906e-05,5.924170616113744e-06],\"xaxis\":\"x\",\"y\":[123.35304821530669,100.9774681224436,105.96878906847869,115.93307084048028],\"yaxis\":\"y\",\"type\":\"scatter\"}],                        {\"template\":{\"data\":{\"histogram2dcontour\":[{\"type\":\"histogram2dcontour\",\"colorbar\":{\"outlinewidth\":0,\"ticks\":\"\"},\"colorscale\":[[0.0,\"#0d0887\"],[0.1111111111111111,\"#46039f\"],[0.2222222222222222,\"#7201a8\"],[0.3333333333333333,\"#9c179e\"],[0.4444444444444444,\"#bd3786\"],[0.5555555555555556,\"#d8576b\"],[0.6666666666666666,\"#ed7953\"],[0.7777777777777778,\"#fb9f3a\"],[0.8888888888888888,\"#fdca26\"],[1.0,\"#f0f921\"]]}],\"choropleth\":[{\"type\":\"choropleth\",\"colorbar\":{\"outlinewidth\":0,\"ticks\":\"\"}}],\"histogram2d\":[{\"type\":\"histogram2d\",\"colorbar\":{\"outlinewidth\":0,\"ticks\":\"\"},\"colorscale\":[[0.0,\"#0d0887\"],[0.1111111111111111,\"#46039f\"],[0.2222222222222222,\"#7201a8\"],[0.3333333333333333,\"#9c179e\"],[0.4444444444444444,\"#bd3786\"],[0.5555555555555556,\"#d8576b\"],[0.6666666666666666,\"#ed7953\"],[0.7777777777777778,\"#fb9f3a\"],[0.8888888888888888,\"#fdca26\"],[1.0,\"#f0f921\"]]}],\"heatmap\":[{\"type\":\"heatmap\",\"colorbar\":{\"outlinewidth\":0,\"ticks\":\"\"},\"colorscale\":[[0.0,\"#0d0887\"],[0.1111111111111111,\"#46039f\"],[0.2222222222222222,\"#7201a8\"],[0.3333333333333333,\"#9c179e\"],[0.4444444444444444,\"#bd3786\"],[0.5555555555555556,\"#d8576b\"],[0.6666666666666666,\"#ed7953\"],[0.7777777777777778,\"#fb9f3a\"],[0.8888888888888888,\"#fdca26\"],[1.0,\"#f0f921\"]]}],\"heatmapgl\":[{\"type\":\"heatmapgl\",\"colorbar\":{\"outlinewidth\":0,\"ticks\":\"\"},\"colorscale\":[[0.0,\"#0d0887\"],[0.1111111111111111,\"#46039f\"],[0.2222222222222222,\"#7201a8\"],[0.3333333333333333,\"#9c179e\"],[0.4444444444444444,\"#bd3786\"],[0.5555555555555556,\"#d8576b\"],[0.6666666666666666,\"#ed7953\"],[0.7777777777777778,\"#fb9f3a\"],[0.8888888888888888,\"#fdca26\"],[1.0,\"#f0f921\"]]}],\"contourcarpet\":[{\"type\":\"contourcarpet\",\"colorbar\":{\"outlinewidth\":0,\"ticks\":\"\"}}],\"contour\":[{\"type\":\"contour\",\"colorbar\":{\"outlinewidth\":0,\"ticks\":\"\"},\"colorscale\":[[0.0,\"#0d0887\"],[0.1111111111111111,\"#46039f\"],[0.2222222222222222,\"#7201a8\"],[0.3333333333333333,\"#9c179e\"],[0.4444444444444444,\"#bd3786\"],[0.5555555555555556,\"#d8576b\"],[0.6666666666666666,\"#ed7953\"],[0.7777777777777778,\"#fb9f3a\"],[0.8888888888888888,\"#fdca26\"],[1.0,\"#f0f921\"]]}],\"surface\":[{\"type\":\"surface\",\"colorbar\":{\"outlinewidth\":0,\"ticks\":\"\"},\"colorscale\":[[0.0,\"#0d0887\"],[0.1111111111111111,\"#46039f\"],[0.2222222222222222,\"#7201a8\"],[0.3333333333333333,\"#9c179e\"],[0.4444444444444444,\"#bd3786\"],[0.5555555555555556,\"#d8576b\"],[0.6666666666666666,\"#ed7953\"],[0.7777777777777778,\"#fb9f3a\"],[0.8888888888888888,\"#fdca26\"],[1.0,\"#f0f921\"]]}],\"mesh3d\":[{\"type\":\"mesh3d\",\"colorbar\":{\"outlinewidth\":0,\"ticks\":\"\"}}],\"scatter\":[{\"fillpattern\":{\"fillmode\":\"overlay\",\"size\":10,\"solidity\":0.2},\"type\":\"scatter\"}],\"parcoords\":[{\"type\":\"parcoords\",\"line\":{\"colorbar\":{\"outlinewidth\":0,\"ticks\":\"\"}}}],\"scatterpolargl\":[{\"type\":\"scatterpolargl\",\"marker\":{\"colorbar\":{\"outlinewidth\":0,\"ticks\":\"\"}}}],\"bar\":[{\"error_x\":{\"color\":\"#2a3f5f\"},\"error_y\":{\"color\":\"#2a3f5f\"},\"marker\":{\"line\":{\"color\":\"#E5ECF6\",\"width\":0.5},\"pattern\":{\"fillmode\":\"overlay\",\"size\":10,\"solidity\":0.2}},\"type\":\"bar\"}],\"scattergeo\":[{\"type\":\"scattergeo\",\"marker\":{\"colorbar\":{\"outlinewidth\":0,\"ticks\":\"\"}}}],\"scatterpolar\":[{\"type\":\"scatterpolar\",\"marker\":{\"colorbar\":{\"outlinewidth\":0,\"ticks\":\"\"}}}],\"histogram\":[{\"marker\":{\"pattern\":{\"fillmode\":\"overlay\",\"size\":10,\"solidity\":0.2}},\"type\":\"histogram\"}],\"scattergl\":[{\"type\":\"scattergl\",\"marker\":{\"colorbar\":{\"outlinewidth\":0,\"ticks\":\"\"}}}],\"scatter3d\":[{\"type\":\"scatter3d\",\"line\":{\"colorbar\":{\"outlinewidth\":0,\"ticks\":\"\"}},\"marker\":{\"colorbar\":{\"outlinewidth\":0,\"ticks\":\"\"}}}],\"scattermapbox\":[{\"type\":\"scattermapbox\",\"marker\":{\"colorbar\":{\"outlinewidth\":0,\"ticks\":\"\"}}}],\"scatterternary\":[{\"type\":\"scatterternary\",\"marker\":{\"colorbar\":{\"outlinewidth\":0,\"ticks\":\"\"}}}],\"scattercarpet\":[{\"type\":\"scattercarpet\",\"marker\":{\"colorbar\":{\"outlinewidth\":0,\"ticks\":\"\"}}}],\"carpet\":[{\"aaxis\":{\"endlinecolor\":\"#2a3f5f\",\"gridcolor\":\"white\",\"linecolor\":\"white\",\"minorgridcolor\":\"white\",\"startlinecolor\":\"#2a3f5f\"},\"baxis\":{\"endlinecolor\":\"#2a3f5f\",\"gridcolor\":\"white\",\"linecolor\":\"white\",\"minorgridcolor\":\"white\",\"startlinecolor\":\"#2a3f5f\"},\"type\":\"carpet\"}],\"table\":[{\"cells\":{\"fill\":{\"color\":\"#EBF0F8\"},\"line\":{\"color\":\"white\"}},\"header\":{\"fill\":{\"color\":\"#C8D4E3\"},\"line\":{\"color\":\"white\"}},\"type\":\"table\"}],\"barpolar\":[{\"marker\":{\"line\":{\"color\":\"#E5ECF6\",\"width\":0.5},\"pattern\":{\"fillmode\":\"overlay\",\"size\":10,\"solidity\":0.2}},\"type\":\"barpolar\"}],\"pie\":[{\"automargin\":true,\"type\":\"pie\"}]},\"layout\":{\"autotypenumbers\":\"strict\",\"colorway\":[\"#636efa\",\"#EF553B\",\"#00cc96\",\"#ab63fa\",\"#FFA15A\",\"#19d3f3\",\"#FF6692\",\"#B6E880\",\"#FF97FF\",\"#FECB52\"],\"font\":{\"color\":\"#2a3f5f\"},\"hovermode\":\"closest\",\"hoverlabel\":{\"align\":\"left\"},\"paper_bgcolor\":\"white\",\"plot_bgcolor\":\"#E5ECF6\",\"polar\":{\"bgcolor\":\"#E5ECF6\",\"angularaxis\":{\"gridcolor\":\"white\",\"linecolor\":\"white\",\"ticks\":\"\"},\"radialaxis\":{\"gridcolor\":\"white\",\"linecolor\":\"white\",\"ticks\":\"\"}},\"ternary\":{\"bgcolor\":\"#E5ECF6\",\"aaxis\":{\"gridcolor\":\"white\",\"linecolor\":\"white\",\"ticks\":\"\"},\"baxis\":{\"gridcolor\":\"white\",\"linecolor\":\"white\",\"ticks\":\"\"},\"caxis\":{\"gridcolor\":\"white\",\"linecolor\":\"white\",\"ticks\":\"\"}},\"coloraxis\":{\"colorbar\":{\"outlinewidth\":0,\"ticks\":\"\"}},\"colorscale\":{\"sequential\":[[0.0,\"#0d0887\"],[0.1111111111111111,\"#46039f\"],[0.2222222222222222,\"#7201a8\"],[0.3333333333333333,\"#9c179e\"],[0.4444444444444444,\"#bd3786\"],[0.5555555555555556,\"#d8576b\"],[0.6666666666666666,\"#ed7953\"],[0.7777777777777778,\"#fb9f3a\"],[0.8888888888888888,\"#fdca26\"],[1.0,\"#f0f921\"]],\"sequentialminus\":[[0.0,\"#0d0887\"],[0.1111111111111111,\"#46039f\"],[0.2222222222222222,\"#7201a8\"],[0.3333333333333333,\"#9c179e\"],[0.4444444444444444,\"#bd3786\"],[0.5555555555555556,\"#d8576b\"],[0.6666666666666666,\"#ed7953\"],[0.7777777777777778,\"#fb9f3a\"],[0.8888888888888888,\"#fdca26\"],[1.0,\"#f0f921\"]],\"diverging\":[[0,\"#8e0152\"],[0.1,\"#c51b7d\"],[0.2,\"#de77ae\"],[0.3,\"#f1b6da\"],[0.4,\"#fde0ef\"],[0.5,\"#f7f7f7\"],[0.6,\"#e6f5d0\"],[0.7,\"#b8e186\"],[0.8,\"#7fbc41\"],[0.9,\"#4d9221\"],[1,\"#276419\"]]},\"xaxis\":{\"gridcolor\":\"white\",\"linecolor\":\"white\",\"ticks\":\"\",\"title\":{\"standoff\":15},\"zerolinecolor\":\"white\",\"automargin\":true,\"zerolinewidth\":2},\"yaxis\":{\"gridcolor\":\"white\",\"linecolor\":\"white\",\"ticks\":\"\",\"title\":{\"standoff\":15},\"zerolinecolor\":\"white\",\"automargin\":true,\"zerolinewidth\":2},\"scene\":{\"xaxis\":{\"backgroundcolor\":\"#E5ECF6\",\"gridcolor\":\"white\",\"linecolor\":\"white\",\"showbackground\":true,\"ticks\":\"\",\"zerolinecolor\":\"white\",\"gridwidth\":2},\"yaxis\":{\"backgroundcolor\":\"#E5ECF6\",\"gridcolor\":\"white\",\"linecolor\":\"white\",\"showbackground\":true,\"ticks\":\"\",\"zerolinecolor\":\"white\",\"gridwidth\":2},\"zaxis\":{\"backgroundcolor\":\"#E5ECF6\",\"gridcolor\":\"white\",\"linecolor\":\"white\",\"showbackground\":true,\"ticks\":\"\",\"zerolinecolor\":\"white\",\"gridwidth\":2}},\"shapedefaults\":{\"line\":{\"color\":\"#2a3f5f\"}},\"annotationdefaults\":{\"arrowcolor\":\"#2a3f5f\",\"arrowhead\":0,\"arrowwidth\":1},\"geo\":{\"bgcolor\":\"white\",\"landcolor\":\"#E5ECF6\",\"subunitcolor\":\"white\",\"showland\":true,\"showlakes\":true,\"lakecolor\":\"white\"},\"title\":{\"x\":0.05},\"mapbox\":{\"style\":\"light\"}}},\"xaxis\":{\"anchor\":\"y\",\"domain\":[0.0,1.0],\"title\":{\"text\":\"Avg Current [A/cm2]\"},\"type\":\"log\"},\"yaxis\":{\"anchor\":\"x\",\"domain\":[0.0,1.0],\"title\":{\"text\":\"Avg Osc Amplitude [V/cm]\"}},\"legend\":{\"title\":{\"text\":\"Name\"},\"tracegroupgap\":0},\"title\":{\"text\":\"Ampiezza delle oscillazioni in funzione della corrente\"},\"height\":800,\"width\":952},                        {\"responsive\": true}                    ).then(function(){\n",
       "                            \n",
       "var gd = document.getElementById('9c4de189-9ff7-4c12-96cc-da9f1200b3cb');\n",
       "var x = new MutationObserver(function (mutations, observer) {{\n",
       "        var display = window.getComputedStyle(gd).display;\n",
       "        if (!display || display === 'none') {{\n",
       "            console.log([gd, 'removed!']);\n",
       "            Plotly.purge(gd);\n",
       "            observer.disconnect();\n",
       "        }}\n",
       "}});\n",
       "\n",
       "// Listen for the removal of the full notebook cells\n",
       "var notebookContainer = gd.closest('#notebook-container');\n",
       "if (notebookContainer) {{\n",
       "    x.observe(notebookContainer, {childList: true});\n",
       "}}\n",
       "\n",
       "// Listen for the clearing of the current output cell\n",
       "var outputEl = gd.closest('.output');\n",
       "if (outputEl) {{\n",
       "    x.observe(outputEl, {childList: true});\n",
       "}}\n",
       "\n",
       "                        })                };                });            </script>        </div>"
      ]
     },
     "metadata": {},
     "output_type": "display_data"
    },
    {
     "data": {
      "application/vnd.plotly.v1+json": {
       "config": {
        "plotlyServerURL": "https://plot.ly"
       },
       "data": [
        {
         "error_x": {
          "array": [
           9.981235277677974e-07,
           9.077670820961847e-07,
           5.673544263101155e-06,
           6.913318750223259e-06,
           6.808253115721393e-08,
           2.9332223840233e-06,
           8.405250760149871e-07,
           9.981235277677974e-07,
           6.808253115721393e-08,
           7.186489399928135e-08,
           8.983111749910171e-07,
           2.6266408625468358e-06,
           8.510316394651753e-07
          ],
          "arrayminus": [
           9.981235277677957e-07,
           9.077670820961857e-07,
           5.673544263101161e-06,
           6.913318750223266e-06,
           6.808253115721395e-08,
           2.9332223840232994e-06,
           8.405250760149854e-07,
           9.981235277677957e-07,
           6.808253115721395e-08,
           7.186489399928136e-08,
           8.983111749910165e-07,
           2.626640862546829e-06,
           8.510316394651728e-07
          ]
         },
         "error_y": {
          "array": [
           122.10638297872356,
           105.81081081081129,
           731.5263157894738,
           1156,
           1960.7999999999993,
           1161.155737704918,
           155,
           173.33333333333348,
           1974.6000000000004,
           1302.7999999999993,
           76.10526315789502,
           75.71428571428578,
           110.8387096774195
          ],
          "arrayminus": [
           89.89361702127644,
           63.18918918918871,
           284.47368421052624,
           425,
           1540.2000000000007,
           435.844262295082,
           140,
           81.66666666666652,
           1693.3999999999996,
           1196.2000000000007,
           70.89473684210498,
           36.28571428571422,
           92.1612903225805
          ]
         },
         "hovertemplate": "<b>%{hovertext}</b><br><br>Name=CA12X2<br>Avg Current [A/cm2]=%{x}<br>Avg Osc Period [ms]=%{y}<extra></extra>",
         "hovertext": [
          "CA12X2_current_from_100e-9_to_200e-9A_flipped-20220315160531",
          "CA12X2_current_from_10e-9_to_100e-9A_flipped-20220315155945",
          "CA12X2_current_from_0.1e-6_to_1.0e-6A-20220317151236",
          "CA12X2_current_from_0.1e-6_to_1.5e-6A-20220317150657",
          "CA12X2_current_from_1e-9_to_10e-9A_flipped-20220315155235",
          "CA12X2_current_from_1e-9_to_1000e-9A_flipped-20220315170952",
          "CA12X2_current_from_200e-9_to_300e-9A_flipped-20220315161234",
          "CA12X2_current_from_100e-9_to_200e-9A-20220315152213",
          "CA12X2_current_from_1e-9_to_10e-9A-20220315153228",
          "CA12X2_current_from_1e-9_to_10e-9A-20220315151857",
          "CA12X2_current_from_10e-9_to_100e-9A-20220315151525",
          "CA12X2_current_from_1e-6_to_2e-6A-20220317143643",
          "CA12X2_current_from_200e-9_to_300e-9A-20220315152513"
         ],
         "legendgroup": "CA12X2",
         "marker": {
          "color": "#636efa",
          "symbol": "circle"
         },
         "mode": "markers",
         "name": "CA12X2",
         "orientation": "v",
         "showlegend": true,
         "type": "scatter",
         "x": [
          3.0994362178052623e-06,
          1.134708852620232e-06,
          8.888552678858484e-06,
          1.458311006886002e-05,
          1.2670915520925926e-07,
          2.9748283752860413e-06,
          5.022137329189544e-06,
          3.0994362178052623e-06,
          1.2670915520925926e-07,
          1.2481797378822552e-07,
          1.1252529455150629e-06,
          2.3639767762921495e-05,
          5.032643892639731e-06
         ],
         "xaxis": "x",
         "y": [
          2446.8936170212764,
          3014.1891891891887,
          2442.4736842105262,
          2793,
          8748.2,
          2670.844262295082,
          2425,
          2634.6666666666665,
          8831.4,
          8304.2,
          3193.894736842105,
          2415.285714285714,
          2617.1612903225805
         ],
         "yaxis": "y"
        },
        {
         "error_x": {
          "array": [
           1.1420292670292665e-05,
           1.0769149831649828e-05,
           9.680134680134682e-06,
           1.0031042975320084e-05,
           9.833916083916087e-06,
           1.2019230769230773e-05,
           2.185314685314685e-05,
           7.368692264525595e-06
          ],
          "arrayminus": [
           1.1420292670292675e-05,
           1.0769149831649832e-05,
           9.680134680134679e-06,
           1.0025289581012472e-05,
           9.83391608391608e-06,
           1.2019230769230766e-05,
           2.1853146853146857e-05,
           7.394322498489165e-06
          ]
         },
         "error_y": {
          "array": [
           69.4814814814813,
           1021.4000000000001,
           1026.5675675675675,
           1055.3611111111113,
           12.636363636363512,
           24.769230769230944,
           19.230769230769056,
           1007.6969696969695
          ],
          "arrayminus": [
           110.5185185185187,
           319.5999999999999,
           569.4324324324325,
           505.6388888888887,
           10.363636363636488,
           25.230769230769056,
           27.769230769230944,
           212.30303030303048
          ]
         },
         "hovertemplate": "<b>%{hovertext}</b><br><br>Name=CA12_01_A<br>Avg Current [A/cm2]=%{x}<br>Avg Osc Period [ms]=%{y}<extra></extra>",
         "hovertext": [
          "CA12_01_A_current_from_1e-8_to_35e-8A-20220429161303",
          "CA12_01_A_current_from_1e-9_to_30e-8A-20220429165618",
          "CA12_01_A_current_from_1e-9_to_30e-8A-20220429163858",
          "CA12_01_A_current_from_0.5e-8_to_30e-8A-20220429161610",
          "CA12_01_A_current_from_1e-7_to_10e-7A-20220429152836",
          "CA12_01_A_current_from_1e-7_to_10e-7A-20220429152137",
          "CA12_01_A_current_from_1e-7_to_10e-7A-20220429151346",
          "CA12_01_A_current_from_1e-8_to_20e-8A-20220429153124"
         ],
         "legendgroup": "CA12_01_A",
         "marker": {
          "color": "#EF553B",
          "symbol": "circle"
         },
         "mode": "markers",
         "name": "CA12_01_A",
         "orientation": "v",
         "showlegend": true,
         "type": "scatter",
         "x": [
          1.2221574721574726e-05,
          1.1091281403781404e-05,
          1.0244269619269618e-05,
          1.0664696470419362e-05,
          1.7846736596736593e-05,
          2.003205128205128e-05,
          2.986596736596737e-05,
          8.34938595355262e-06
         ],
         "xaxis": "x",
         "y": [
          2198.5185185185187,
          2385.6,
          2380.4324324324325,
          2365.6388888888887,
          2179.3636363636365,
          2172.230769230769,
          2183.769230769231,
          2388.3030303030305
         ],
         "yaxis": "y"
        },
        {
         "error_x": {
          "array": [
           1.2244897959183681e-05,
           5.5853920515574595e-06,
           1.709728867623604e-05,
           1.417830290010741e-05,
           7.145135566188199e-06
          ],
          "arrayminus": [
           1.224489795918367e-05,
           5.585392051557473e-06,
           1.7097288676236052e-05,
           1.4178302900107413e-05,
           7.145135566188196e-06
          ]
         },
         "error_y": {
          "array": [
           23.75,
           28.66666666666697,
           65.92307692307713,
           6.25,
           60.942857142857065
          ],
          "arrayminus": [
           18.25,
           19.33333333333303,
           31.076923076922867,
           4.75,
           47.057142857142935
          ]
         },
         "hovertemplate": "<b>%{hovertext}</b><br><br>Name=CA8_01_A<br>Avg Current [A/cm2]=%{x}<br>Avg Osc Period [ms]=%{y}<extra></extra>",
         "hovertext": [
          "CA8_01_A_current_from_0.5e-6_to_2e-6A_flipped-20220421110256",
          "CA8_01_A_current_from_1e-6_to_2e-6A-20220421110002",
          "CA8_01_A_current_from_1e-7_to_1.3e-6A-20220421182659",
          "CA8_01_A_current_from_-0.5e-6_to_1e-6A_flipped-20220421110914",
          "CA8_01_A_current_from_0.5e-7_to_4e-7A-20220421185114"
         ],
         "legendgroup": "CA8_01_A",
         "marker": {
          "color": "#00cc96",
          "symbol": "circle"
         },
         "mode": "markers",
         "name": "CA8_01_A",
         "orientation": "v",
         "showlegend": true,
         "type": "scatter",
         "x": [
          3.329752953813104e-05,
          4.85499462943072e-05,
          3.151515151515152e-05,
          2.406015037593985e-05,
          9.250398724082933e-06
         ],
         "xaxis": "x",
         "y": [
          2588.25,
          2602.333333333333,
          2633.076923076923,
          2594.75,
          2598.057142857143
         ],
         "yaxis": "y"
        },
        {
         "error_x": {
          "array": [
           1.118420541657281e-05,
           4.53427120461786e-06,
           2.01085070813488e-06,
           1.029082421221966e-05,
           1.1240691302515108e-05
          ],
          "arrayminus": [
           1.1184205416572817e-05,
           4.534271204617858e-06,
           2.0108507081348748e-06,
           1.0290824212219665e-05,
           1.1240691302515103e-05
          ]
         },
         "error_y": {
          "array": [
           72.37037037037044,
           50.46153846153902,
           29.5,
           15.428571428571558,
           55.5
          ],
          "arrayminus": [
           67.62962962962956,
           28.53846153846098,
           27.5,
           14.571428571428442,
           32.5
          ]
         },
         "hovertemplate": "<b>%{hovertext}</b><br><br>Name=CA12X_C5<br>Avg Current [A/cm2]=%{x}<br>Avg Osc Period [ms]=%{y}<extra></extra>",
         "hovertext": [
          "CA12X_C5_current_from_1e-7_to_10e-7A_flipped-20220412171054",
          "CA12X_C5_current_from_1e-7_to_3.5e-7A-20220413145630",
          "CA12X_C5_current_from_3.5e-7_to_5e-7A-20220413145837",
          "CA12X_C5_current_from_1e-7_to_10e-7A-20220413133337",
          "CA12X_C5_current_from_1e-7_to_10e-7A-20220412170113"
         ],
         "legendgroup": "CA12X_C5",
         "marker": {
          "color": "#ab63fa",
          "symbol": "circle"
         },
         "mode": "markers",
         "name": "CA12X_C5",
         "orientation": "v",
         "showlegend": true,
         "type": "scatter",
         "x": [
          1.5397699471080285e-05,
          8.398258839857425e-06,
          1.5653092767246e-05,
          1.4864523862095071e-05,
          1.5807222144161864e-05
         ],
         "xaxis": "x",
         "y": [
          2613.6296296296296,
          2598.538461538461,
          2595.5,
          2584.5714285714284,
          2594.5
         ],
         "yaxis": "y"
        },
        {
         "error_x": {
          "array": [
           7.081370124217589e-07,
           3.2484629641027707e-06,
           2.1798896206479126e-06,
           4.231550440081243e-06
          ],
          "arrayminus": [
           7.081370124217606e-07,
           3.248462964102776e-06,
           2.179889620647916e-06,
           4.231550440081246e-06
          ]
         },
         "error_y": {
          "array": [
           45.70588235294099,
           27.15000000000009,
           37.304347826086996,
           28.42857142857156
          ],
          "arrayminus": [
           31.29411764705901,
           21.84999999999991,
           34.695652173913004,
           30.57142857142844
          ]
         },
         "hovertemplate": "<b>%{hovertext}</b><br><br>Name=CA12X2_C1<br>Avg Current [A/cm2]=%{x}<br>Avg Osc Period [ms]=%{y}<extra></extra>",
         "hovertext": [
          "CA12X2_C1_current_from_0.3e-6_to_0.4e-6A-20220428162717",
          "CA12X2_C1_current_from_0.5e-6_to_1e-6A-20220428153610",
          "CA12X2_C1_current_from_0.5e-6_to_1e-6A-20220428154754",
          "CA12X2_C1_current_from_1e-7_to_1e-6A-20220428162518"
         ],
         "legendgroup": "CA12X2_C1",
         "marker": {
          "color": "#FFA15A",
          "symbol": "circle"
         },
         "mode": "markers",
         "name": "CA12X2_C1",
         "orientation": "v",
         "showlegend": true,
         "type": "scatter",
         "x": [
          5.8205408094178775e-06,
          1.1711563844265267e-05,
          1.1412363308097906e-05,
          5.924170616113744e-06
         ],
         "xaxis": "x",
         "y": [
          2186.294117647059,
          2185.85,
          2196.695652173913,
          2187.5714285714284
         ],
         "yaxis": "y"
        }
       ],
       "layout": {
        "height": 800,
        "legend": {
         "title": {
          "text": "Name"
         },
         "tracegroupgap": 0
        },
        "template": {
         "data": {
          "bar": [
           {
            "error_x": {
             "color": "#2a3f5f"
            },
            "error_y": {
             "color": "#2a3f5f"
            },
            "marker": {
             "line": {
              "color": "#E5ECF6",
              "width": 0.5
             },
             "pattern": {
              "fillmode": "overlay",
              "size": 10,
              "solidity": 0.2
             }
            },
            "type": "bar"
           }
          ],
          "barpolar": [
           {
            "marker": {
             "line": {
              "color": "#E5ECF6",
              "width": 0.5
             },
             "pattern": {
              "fillmode": "overlay",
              "size": 10,
              "solidity": 0.2
             }
            },
            "type": "barpolar"
           }
          ],
          "carpet": [
           {
            "aaxis": {
             "endlinecolor": "#2a3f5f",
             "gridcolor": "white",
             "linecolor": "white",
             "minorgridcolor": "white",
             "startlinecolor": "#2a3f5f"
            },
            "baxis": {
             "endlinecolor": "#2a3f5f",
             "gridcolor": "white",
             "linecolor": "white",
             "minorgridcolor": "white",
             "startlinecolor": "#2a3f5f"
            },
            "type": "carpet"
           }
          ],
          "choropleth": [
           {
            "colorbar": {
             "outlinewidth": 0,
             "ticks": ""
            },
            "type": "choropleth"
           }
          ],
          "contour": [
           {
            "colorbar": {
             "outlinewidth": 0,
             "ticks": ""
            },
            "colorscale": [
             [
              0,
              "#0d0887"
             ],
             [
              0.1111111111111111,
              "#46039f"
             ],
             [
              0.2222222222222222,
              "#7201a8"
             ],
             [
              0.3333333333333333,
              "#9c179e"
             ],
             [
              0.4444444444444444,
              "#bd3786"
             ],
             [
              0.5555555555555556,
              "#d8576b"
             ],
             [
              0.6666666666666666,
              "#ed7953"
             ],
             [
              0.7777777777777778,
              "#fb9f3a"
             ],
             [
              0.8888888888888888,
              "#fdca26"
             ],
             [
              1,
              "#f0f921"
             ]
            ],
            "type": "contour"
           }
          ],
          "contourcarpet": [
           {
            "colorbar": {
             "outlinewidth": 0,
             "ticks": ""
            },
            "type": "contourcarpet"
           }
          ],
          "heatmap": [
           {
            "colorbar": {
             "outlinewidth": 0,
             "ticks": ""
            },
            "colorscale": [
             [
              0,
              "#0d0887"
             ],
             [
              0.1111111111111111,
              "#46039f"
             ],
             [
              0.2222222222222222,
              "#7201a8"
             ],
             [
              0.3333333333333333,
              "#9c179e"
             ],
             [
              0.4444444444444444,
              "#bd3786"
             ],
             [
              0.5555555555555556,
              "#d8576b"
             ],
             [
              0.6666666666666666,
              "#ed7953"
             ],
             [
              0.7777777777777778,
              "#fb9f3a"
             ],
             [
              0.8888888888888888,
              "#fdca26"
             ],
             [
              1,
              "#f0f921"
             ]
            ],
            "type": "heatmap"
           }
          ],
          "heatmapgl": [
           {
            "colorbar": {
             "outlinewidth": 0,
             "ticks": ""
            },
            "colorscale": [
             [
              0,
              "#0d0887"
             ],
             [
              0.1111111111111111,
              "#46039f"
             ],
             [
              0.2222222222222222,
              "#7201a8"
             ],
             [
              0.3333333333333333,
              "#9c179e"
             ],
             [
              0.4444444444444444,
              "#bd3786"
             ],
             [
              0.5555555555555556,
              "#d8576b"
             ],
             [
              0.6666666666666666,
              "#ed7953"
             ],
             [
              0.7777777777777778,
              "#fb9f3a"
             ],
             [
              0.8888888888888888,
              "#fdca26"
             ],
             [
              1,
              "#f0f921"
             ]
            ],
            "type": "heatmapgl"
           }
          ],
          "histogram": [
           {
            "marker": {
             "pattern": {
              "fillmode": "overlay",
              "size": 10,
              "solidity": 0.2
             }
            },
            "type": "histogram"
           }
          ],
          "histogram2d": [
           {
            "colorbar": {
             "outlinewidth": 0,
             "ticks": ""
            },
            "colorscale": [
             [
              0,
              "#0d0887"
             ],
             [
              0.1111111111111111,
              "#46039f"
             ],
             [
              0.2222222222222222,
              "#7201a8"
             ],
             [
              0.3333333333333333,
              "#9c179e"
             ],
             [
              0.4444444444444444,
              "#bd3786"
             ],
             [
              0.5555555555555556,
              "#d8576b"
             ],
             [
              0.6666666666666666,
              "#ed7953"
             ],
             [
              0.7777777777777778,
              "#fb9f3a"
             ],
             [
              0.8888888888888888,
              "#fdca26"
             ],
             [
              1,
              "#f0f921"
             ]
            ],
            "type": "histogram2d"
           }
          ],
          "histogram2dcontour": [
           {
            "colorbar": {
             "outlinewidth": 0,
             "ticks": ""
            },
            "colorscale": [
             [
              0,
              "#0d0887"
             ],
             [
              0.1111111111111111,
              "#46039f"
             ],
             [
              0.2222222222222222,
              "#7201a8"
             ],
             [
              0.3333333333333333,
              "#9c179e"
             ],
             [
              0.4444444444444444,
              "#bd3786"
             ],
             [
              0.5555555555555556,
              "#d8576b"
             ],
             [
              0.6666666666666666,
              "#ed7953"
             ],
             [
              0.7777777777777778,
              "#fb9f3a"
             ],
             [
              0.8888888888888888,
              "#fdca26"
             ],
             [
              1,
              "#f0f921"
             ]
            ],
            "type": "histogram2dcontour"
           }
          ],
          "mesh3d": [
           {
            "colorbar": {
             "outlinewidth": 0,
             "ticks": ""
            },
            "type": "mesh3d"
           }
          ],
          "parcoords": [
           {
            "line": {
             "colorbar": {
              "outlinewidth": 0,
              "ticks": ""
             }
            },
            "type": "parcoords"
           }
          ],
          "pie": [
           {
            "automargin": true,
            "type": "pie"
           }
          ],
          "scatter": [
           {
            "fillpattern": {
             "fillmode": "overlay",
             "size": 10,
             "solidity": 0.2
            },
            "type": "scatter"
           }
          ],
          "scatter3d": [
           {
            "line": {
             "colorbar": {
              "outlinewidth": 0,
              "ticks": ""
             }
            },
            "marker": {
             "colorbar": {
              "outlinewidth": 0,
              "ticks": ""
             }
            },
            "type": "scatter3d"
           }
          ],
          "scattercarpet": [
           {
            "marker": {
             "colorbar": {
              "outlinewidth": 0,
              "ticks": ""
             }
            },
            "type": "scattercarpet"
           }
          ],
          "scattergeo": [
           {
            "marker": {
             "colorbar": {
              "outlinewidth": 0,
              "ticks": ""
             }
            },
            "type": "scattergeo"
           }
          ],
          "scattergl": [
           {
            "marker": {
             "colorbar": {
              "outlinewidth": 0,
              "ticks": ""
             }
            },
            "type": "scattergl"
           }
          ],
          "scattermapbox": [
           {
            "marker": {
             "colorbar": {
              "outlinewidth": 0,
              "ticks": ""
             }
            },
            "type": "scattermapbox"
           }
          ],
          "scatterpolar": [
           {
            "marker": {
             "colorbar": {
              "outlinewidth": 0,
              "ticks": ""
             }
            },
            "type": "scatterpolar"
           }
          ],
          "scatterpolargl": [
           {
            "marker": {
             "colorbar": {
              "outlinewidth": 0,
              "ticks": ""
             }
            },
            "type": "scatterpolargl"
           }
          ],
          "scatterternary": [
           {
            "marker": {
             "colorbar": {
              "outlinewidth": 0,
              "ticks": ""
             }
            },
            "type": "scatterternary"
           }
          ],
          "surface": [
           {
            "colorbar": {
             "outlinewidth": 0,
             "ticks": ""
            },
            "colorscale": [
             [
              0,
              "#0d0887"
             ],
             [
              0.1111111111111111,
              "#46039f"
             ],
             [
              0.2222222222222222,
              "#7201a8"
             ],
             [
              0.3333333333333333,
              "#9c179e"
             ],
             [
              0.4444444444444444,
              "#bd3786"
             ],
             [
              0.5555555555555556,
              "#d8576b"
             ],
             [
              0.6666666666666666,
              "#ed7953"
             ],
             [
              0.7777777777777778,
              "#fb9f3a"
             ],
             [
              0.8888888888888888,
              "#fdca26"
             ],
             [
              1,
              "#f0f921"
             ]
            ],
            "type": "surface"
           }
          ],
          "table": [
           {
            "cells": {
             "fill": {
              "color": "#EBF0F8"
             },
             "line": {
              "color": "white"
             }
            },
            "header": {
             "fill": {
              "color": "#C8D4E3"
             },
             "line": {
              "color": "white"
             }
            },
            "type": "table"
           }
          ]
         },
         "layout": {
          "annotationdefaults": {
           "arrowcolor": "#2a3f5f",
           "arrowhead": 0,
           "arrowwidth": 1
          },
          "autotypenumbers": "strict",
          "coloraxis": {
           "colorbar": {
            "outlinewidth": 0,
            "ticks": ""
           }
          },
          "colorscale": {
           "diverging": [
            [
             0,
             "#8e0152"
            ],
            [
             0.1,
             "#c51b7d"
            ],
            [
             0.2,
             "#de77ae"
            ],
            [
             0.3,
             "#f1b6da"
            ],
            [
             0.4,
             "#fde0ef"
            ],
            [
             0.5,
             "#f7f7f7"
            ],
            [
             0.6,
             "#e6f5d0"
            ],
            [
             0.7,
             "#b8e186"
            ],
            [
             0.8,
             "#7fbc41"
            ],
            [
             0.9,
             "#4d9221"
            ],
            [
             1,
             "#276419"
            ]
           ],
           "sequential": [
            [
             0,
             "#0d0887"
            ],
            [
             0.1111111111111111,
             "#46039f"
            ],
            [
             0.2222222222222222,
             "#7201a8"
            ],
            [
             0.3333333333333333,
             "#9c179e"
            ],
            [
             0.4444444444444444,
             "#bd3786"
            ],
            [
             0.5555555555555556,
             "#d8576b"
            ],
            [
             0.6666666666666666,
             "#ed7953"
            ],
            [
             0.7777777777777778,
             "#fb9f3a"
            ],
            [
             0.8888888888888888,
             "#fdca26"
            ],
            [
             1,
             "#f0f921"
            ]
           ],
           "sequentialminus": [
            [
             0,
             "#0d0887"
            ],
            [
             0.1111111111111111,
             "#46039f"
            ],
            [
             0.2222222222222222,
             "#7201a8"
            ],
            [
             0.3333333333333333,
             "#9c179e"
            ],
            [
             0.4444444444444444,
             "#bd3786"
            ],
            [
             0.5555555555555556,
             "#d8576b"
            ],
            [
             0.6666666666666666,
             "#ed7953"
            ],
            [
             0.7777777777777778,
             "#fb9f3a"
            ],
            [
             0.8888888888888888,
             "#fdca26"
            ],
            [
             1,
             "#f0f921"
            ]
           ]
          },
          "colorway": [
           "#636efa",
           "#EF553B",
           "#00cc96",
           "#ab63fa",
           "#FFA15A",
           "#19d3f3",
           "#FF6692",
           "#B6E880",
           "#FF97FF",
           "#FECB52"
          ],
          "font": {
           "color": "#2a3f5f"
          },
          "geo": {
           "bgcolor": "white",
           "lakecolor": "white",
           "landcolor": "#E5ECF6",
           "showlakes": true,
           "showland": true,
           "subunitcolor": "white"
          },
          "hoverlabel": {
           "align": "left"
          },
          "hovermode": "closest",
          "mapbox": {
           "style": "light"
          },
          "paper_bgcolor": "white",
          "plot_bgcolor": "#E5ECF6",
          "polar": {
           "angularaxis": {
            "gridcolor": "white",
            "linecolor": "white",
            "ticks": ""
           },
           "bgcolor": "#E5ECF6",
           "radialaxis": {
            "gridcolor": "white",
            "linecolor": "white",
            "ticks": ""
           }
          },
          "scene": {
           "xaxis": {
            "backgroundcolor": "#E5ECF6",
            "gridcolor": "white",
            "gridwidth": 2,
            "linecolor": "white",
            "showbackground": true,
            "ticks": "",
            "zerolinecolor": "white"
           },
           "yaxis": {
            "backgroundcolor": "#E5ECF6",
            "gridcolor": "white",
            "gridwidth": 2,
            "linecolor": "white",
            "showbackground": true,
            "ticks": "",
            "zerolinecolor": "white"
           },
           "zaxis": {
            "backgroundcolor": "#E5ECF6",
            "gridcolor": "white",
            "gridwidth": 2,
            "linecolor": "white",
            "showbackground": true,
            "ticks": "",
            "zerolinecolor": "white"
           }
          },
          "shapedefaults": {
           "line": {
            "color": "#2a3f5f"
           }
          },
          "ternary": {
           "aaxis": {
            "gridcolor": "white",
            "linecolor": "white",
            "ticks": ""
           },
           "baxis": {
            "gridcolor": "white",
            "linecolor": "white",
            "ticks": ""
           },
           "bgcolor": "#E5ECF6",
           "caxis": {
            "gridcolor": "white",
            "linecolor": "white",
            "ticks": ""
           }
          },
          "title": {
           "x": 0.05
          },
          "xaxis": {
           "automargin": true,
           "gridcolor": "white",
           "linecolor": "white",
           "ticks": "",
           "title": {
            "standoff": 15
           },
           "zerolinecolor": "white",
           "zerolinewidth": 2
          },
          "yaxis": {
           "automargin": true,
           "gridcolor": "white",
           "linecolor": "white",
           "ticks": "",
           "title": {
            "standoff": 15
           },
           "zerolinecolor": "white",
           "zerolinewidth": 2
          }
         }
        },
        "title": {
         "text": "Periodo delle oscillazioni in funzione della corrente"
        },
        "width": 952,
        "xaxis": {
         "anchor": "y",
         "domain": [
          0,
          1
         ],
         "title": {
          "text": "Avg Current [A/cm2]"
         },
         "type": "log"
        },
        "yaxis": {
         "anchor": "x",
         "domain": [
          0,
          1
         ],
         "title": {
          "text": "Avg Osc Period [ms]"
         }
        }
       }
      },
      "text/html": [
       "<div>                            <div id=\"92504eee-70a8-45f3-a45d-4fca774cf574\" class=\"plotly-graph-div\" style=\"height:800px; width:952px;\"></div>            <script type=\"text/javascript\">                require([\"plotly\"], function(Plotly) {                    window.PLOTLYENV=window.PLOTLYENV || {};                                    if (document.getElementById(\"92504eee-70a8-45f3-a45d-4fca774cf574\")) {                    Plotly.newPlot(                        \"92504eee-70a8-45f3-a45d-4fca774cf574\",                        [{\"error_x\":{\"array\":[9.981235277677974e-07,9.077670820961847e-07,5.673544263101155e-06,6.913318750223259e-06,6.808253115721393e-08,2.9332223840233e-06,8.405250760149871e-07,9.981235277677974e-07,6.808253115721393e-08,7.186489399928135e-08,8.983111749910171e-07,2.6266408625468358e-06,8.510316394651753e-07],\"arrayminus\":[9.981235277677957e-07,9.077670820961857e-07,5.673544263101161e-06,6.913318750223266e-06,6.808253115721395e-08,2.9332223840232994e-06,8.405250760149854e-07,9.981235277677957e-07,6.808253115721395e-08,7.186489399928136e-08,8.983111749910165e-07,2.626640862546829e-06,8.510316394651728e-07]},\"error_y\":{\"array\":[122.10638297872356,105.81081081081129,731.5263157894738,1156.0,1960.7999999999993,1161.155737704918,155.0,173.33333333333348,1974.6000000000004,1302.7999999999993,76.10526315789502,75.71428571428578,110.8387096774195],\"arrayminus\":[89.89361702127644,63.18918918918871,284.47368421052624,425.0,1540.2000000000007,435.844262295082,140.0,81.66666666666652,1693.3999999999996,1196.2000000000007,70.89473684210498,36.28571428571422,92.1612903225805]},\"hovertemplate\":\"<b>%{hovertext}</b><br><br>Name=CA12X2<br>Avg Current [A/cm2]=%{x}<br>Avg Osc Period [ms]=%{y}<extra></extra>\",\"hovertext\":[\"CA12X2_current_from_100e-9_to_200e-9A_flipped-20220315160531\",\"CA12X2_current_from_10e-9_to_100e-9A_flipped-20220315155945\",\"CA12X2_current_from_0.1e-6_to_1.0e-6A-20220317151236\",\"CA12X2_current_from_0.1e-6_to_1.5e-6A-20220317150657\",\"CA12X2_current_from_1e-9_to_10e-9A_flipped-20220315155235\",\"CA12X2_current_from_1e-9_to_1000e-9A_flipped-20220315170952\",\"CA12X2_current_from_200e-9_to_300e-9A_flipped-20220315161234\",\"CA12X2_current_from_100e-9_to_200e-9A-20220315152213\",\"CA12X2_current_from_1e-9_to_10e-9A-20220315153228\",\"CA12X2_current_from_1e-9_to_10e-9A-20220315151857\",\"CA12X2_current_from_10e-9_to_100e-9A-20220315151525\",\"CA12X2_current_from_1e-6_to_2e-6A-20220317143643\",\"CA12X2_current_from_200e-9_to_300e-9A-20220315152513\"],\"legendgroup\":\"CA12X2\",\"marker\":{\"color\":\"#636efa\",\"symbol\":\"circle\"},\"mode\":\"markers\",\"name\":\"CA12X2\",\"orientation\":\"v\",\"showlegend\":true,\"x\":[3.0994362178052623e-06,1.134708852620232e-06,8.888552678858484e-06,1.458311006886002e-05,1.2670915520925926e-07,2.9748283752860413e-06,5.022137329189544e-06,3.0994362178052623e-06,1.2670915520925926e-07,1.2481797378822552e-07,1.1252529455150629e-06,2.3639767762921495e-05,5.032643892639731e-06],\"xaxis\":\"x\",\"y\":[2446.8936170212764,3014.1891891891887,2442.4736842105262,2793.0,8748.2,2670.844262295082,2425.0,2634.6666666666665,8831.4,8304.2,3193.894736842105,2415.285714285714,2617.1612903225805],\"yaxis\":\"y\",\"type\":\"scatter\"},{\"error_x\":{\"array\":[1.1420292670292665e-05,1.0769149831649828e-05,9.680134680134682e-06,1.0031042975320084e-05,9.833916083916087e-06,1.2019230769230773e-05,2.185314685314685e-05,7.368692264525595e-06],\"arrayminus\":[1.1420292670292675e-05,1.0769149831649832e-05,9.680134680134679e-06,1.0025289581012472e-05,9.83391608391608e-06,1.2019230769230766e-05,2.1853146853146857e-05,7.394322498489165e-06]},\"error_y\":{\"array\":[69.4814814814813,1021.4000000000001,1026.5675675675675,1055.3611111111113,12.636363636363512,24.769230769230944,19.230769230769056,1007.6969696969695],\"arrayminus\":[110.5185185185187,319.5999999999999,569.4324324324325,505.6388888888887,10.363636363636488,25.230769230769056,27.769230769230944,212.30303030303048]},\"hovertemplate\":\"<b>%{hovertext}</b><br><br>Name=CA12_01_A<br>Avg Current [A/cm2]=%{x}<br>Avg Osc Period [ms]=%{y}<extra></extra>\",\"hovertext\":[\"CA12_01_A_current_from_1e-8_to_35e-8A-20220429161303\",\"CA12_01_A_current_from_1e-9_to_30e-8A-20220429165618\",\"CA12_01_A_current_from_1e-9_to_30e-8A-20220429163858\",\"CA12_01_A_current_from_0.5e-8_to_30e-8A-20220429161610\",\"CA12_01_A_current_from_1e-7_to_10e-7A-20220429152836\",\"CA12_01_A_current_from_1e-7_to_10e-7A-20220429152137\",\"CA12_01_A_current_from_1e-7_to_10e-7A-20220429151346\",\"CA12_01_A_current_from_1e-8_to_20e-8A-20220429153124\"],\"legendgroup\":\"CA12_01_A\",\"marker\":{\"color\":\"#EF553B\",\"symbol\":\"circle\"},\"mode\":\"markers\",\"name\":\"CA12_01_A\",\"orientation\":\"v\",\"showlegend\":true,\"x\":[1.2221574721574726e-05,1.1091281403781404e-05,1.0244269619269618e-05,1.0664696470419362e-05,1.7846736596736593e-05,2.003205128205128e-05,2.986596736596737e-05,8.34938595355262e-06],\"xaxis\":\"x\",\"y\":[2198.5185185185187,2385.6,2380.4324324324325,2365.6388888888887,2179.3636363636365,2172.230769230769,2183.769230769231,2388.3030303030305],\"yaxis\":\"y\",\"type\":\"scatter\"},{\"error_x\":{\"array\":[1.2244897959183681e-05,5.5853920515574595e-06,1.709728867623604e-05,1.417830290010741e-05,7.145135566188199e-06],\"arrayminus\":[1.224489795918367e-05,5.585392051557473e-06,1.7097288676236052e-05,1.4178302900107413e-05,7.145135566188196e-06]},\"error_y\":{\"array\":[23.75,28.66666666666697,65.92307692307713,6.25,60.942857142857065],\"arrayminus\":[18.25,19.33333333333303,31.076923076922867,4.75,47.057142857142935]},\"hovertemplate\":\"<b>%{hovertext}</b><br><br>Name=CA8_01_A<br>Avg Current [A/cm2]=%{x}<br>Avg Osc Period [ms]=%{y}<extra></extra>\",\"hovertext\":[\"CA8_01_A_current_from_0.5e-6_to_2e-6A_flipped-20220421110256\",\"CA8_01_A_current_from_1e-6_to_2e-6A-20220421110002\",\"CA8_01_A_current_from_1e-7_to_1.3e-6A-20220421182659\",\"CA8_01_A_current_from_-0.5e-6_to_1e-6A_flipped-20220421110914\",\"CA8_01_A_current_from_0.5e-7_to_4e-7A-20220421185114\"],\"legendgroup\":\"CA8_01_A\",\"marker\":{\"color\":\"#00cc96\",\"symbol\":\"circle\"},\"mode\":\"markers\",\"name\":\"CA8_01_A\",\"orientation\":\"v\",\"showlegend\":true,\"x\":[3.329752953813104e-05,4.85499462943072e-05,3.151515151515152e-05,2.406015037593985e-05,9.250398724082933e-06],\"xaxis\":\"x\",\"y\":[2588.25,2602.333333333333,2633.076923076923,2594.75,2598.057142857143],\"yaxis\":\"y\",\"type\":\"scatter\"},{\"error_x\":{\"array\":[1.118420541657281e-05,4.53427120461786e-06,2.01085070813488e-06,1.029082421221966e-05,1.1240691302515108e-05],\"arrayminus\":[1.1184205416572817e-05,4.534271204617858e-06,2.0108507081348748e-06,1.0290824212219665e-05,1.1240691302515103e-05]},\"error_y\":{\"array\":[72.37037037037044,50.46153846153902,29.5,15.428571428571558,55.5],\"arrayminus\":[67.62962962962956,28.53846153846098,27.5,14.571428571428442,32.5]},\"hovertemplate\":\"<b>%{hovertext}</b><br><br>Name=CA12X_C5<br>Avg Current [A/cm2]=%{x}<br>Avg Osc Period [ms]=%{y}<extra></extra>\",\"hovertext\":[\"CA12X_C5_current_from_1e-7_to_10e-7A_flipped-20220412171054\",\"CA12X_C5_current_from_1e-7_to_3.5e-7A-20220413145630\",\"CA12X_C5_current_from_3.5e-7_to_5e-7A-20220413145837\",\"CA12X_C5_current_from_1e-7_to_10e-7A-20220413133337\",\"CA12X_C5_current_from_1e-7_to_10e-7A-20220412170113\"],\"legendgroup\":\"CA12X_C5\",\"marker\":{\"color\":\"#ab63fa\",\"symbol\":\"circle\"},\"mode\":\"markers\",\"name\":\"CA12X_C5\",\"orientation\":\"v\",\"showlegend\":true,\"x\":[1.5397699471080285e-05,8.398258839857425e-06,1.5653092767246e-05,1.4864523862095071e-05,1.5807222144161864e-05],\"xaxis\":\"x\",\"y\":[2613.6296296296296,2598.538461538461,2595.5,2584.5714285714284,2594.5],\"yaxis\":\"y\",\"type\":\"scatter\"},{\"error_x\":{\"array\":[7.081370124217589e-07,3.2484629641027707e-06,2.1798896206479126e-06,4.231550440081243e-06],\"arrayminus\":[7.081370124217606e-07,3.248462964102776e-06,2.179889620647916e-06,4.231550440081246e-06]},\"error_y\":{\"array\":[45.70588235294099,27.15000000000009,37.304347826086996,28.42857142857156],\"arrayminus\":[31.29411764705901,21.84999999999991,34.695652173913004,30.57142857142844]},\"hovertemplate\":\"<b>%{hovertext}</b><br><br>Name=CA12X2_C1<br>Avg Current [A/cm2]=%{x}<br>Avg Osc Period [ms]=%{y}<extra></extra>\",\"hovertext\":[\"CA12X2_C1_current_from_0.3e-6_to_0.4e-6A-20220428162717\",\"CA12X2_C1_current_from_0.5e-6_to_1e-6A-20220428153610\",\"CA12X2_C1_current_from_0.5e-6_to_1e-6A-20220428154754\",\"CA12X2_C1_current_from_1e-7_to_1e-6A-20220428162518\"],\"legendgroup\":\"CA12X2_C1\",\"marker\":{\"color\":\"#FFA15A\",\"symbol\":\"circle\"},\"mode\":\"markers\",\"name\":\"CA12X2_C1\",\"orientation\":\"v\",\"showlegend\":true,\"x\":[5.8205408094178775e-06,1.1711563844265267e-05,1.1412363308097906e-05,5.924170616113744e-06],\"xaxis\":\"x\",\"y\":[2186.294117647059,2185.85,2196.695652173913,2187.5714285714284],\"yaxis\":\"y\",\"type\":\"scatter\"}],                        {\"template\":{\"data\":{\"histogram2dcontour\":[{\"type\":\"histogram2dcontour\",\"colorbar\":{\"outlinewidth\":0,\"ticks\":\"\"},\"colorscale\":[[0.0,\"#0d0887\"],[0.1111111111111111,\"#46039f\"],[0.2222222222222222,\"#7201a8\"],[0.3333333333333333,\"#9c179e\"],[0.4444444444444444,\"#bd3786\"],[0.5555555555555556,\"#d8576b\"],[0.6666666666666666,\"#ed7953\"],[0.7777777777777778,\"#fb9f3a\"],[0.8888888888888888,\"#fdca26\"],[1.0,\"#f0f921\"]]}],\"choropleth\":[{\"type\":\"choropleth\",\"colorbar\":{\"outlinewidth\":0,\"ticks\":\"\"}}],\"histogram2d\":[{\"type\":\"histogram2d\",\"colorbar\":{\"outlinewidth\":0,\"ticks\":\"\"},\"colorscale\":[[0.0,\"#0d0887\"],[0.1111111111111111,\"#46039f\"],[0.2222222222222222,\"#7201a8\"],[0.3333333333333333,\"#9c179e\"],[0.4444444444444444,\"#bd3786\"],[0.5555555555555556,\"#d8576b\"],[0.6666666666666666,\"#ed7953\"],[0.7777777777777778,\"#fb9f3a\"],[0.8888888888888888,\"#fdca26\"],[1.0,\"#f0f921\"]]}],\"heatmap\":[{\"type\":\"heatmap\",\"colorbar\":{\"outlinewidth\":0,\"ticks\":\"\"},\"colorscale\":[[0.0,\"#0d0887\"],[0.1111111111111111,\"#46039f\"],[0.2222222222222222,\"#7201a8\"],[0.3333333333333333,\"#9c179e\"],[0.4444444444444444,\"#bd3786\"],[0.5555555555555556,\"#d8576b\"],[0.6666666666666666,\"#ed7953\"],[0.7777777777777778,\"#fb9f3a\"],[0.8888888888888888,\"#fdca26\"],[1.0,\"#f0f921\"]]}],\"heatmapgl\":[{\"type\":\"heatmapgl\",\"colorbar\":{\"outlinewidth\":0,\"ticks\":\"\"},\"colorscale\":[[0.0,\"#0d0887\"],[0.1111111111111111,\"#46039f\"],[0.2222222222222222,\"#7201a8\"],[0.3333333333333333,\"#9c179e\"],[0.4444444444444444,\"#bd3786\"],[0.5555555555555556,\"#d8576b\"],[0.6666666666666666,\"#ed7953\"],[0.7777777777777778,\"#fb9f3a\"],[0.8888888888888888,\"#fdca26\"],[1.0,\"#f0f921\"]]}],\"contourcarpet\":[{\"type\":\"contourcarpet\",\"colorbar\":{\"outlinewidth\":0,\"ticks\":\"\"}}],\"contour\":[{\"type\":\"contour\",\"colorbar\":{\"outlinewidth\":0,\"ticks\":\"\"},\"colorscale\":[[0.0,\"#0d0887\"],[0.1111111111111111,\"#46039f\"],[0.2222222222222222,\"#7201a8\"],[0.3333333333333333,\"#9c179e\"],[0.4444444444444444,\"#bd3786\"],[0.5555555555555556,\"#d8576b\"],[0.6666666666666666,\"#ed7953\"],[0.7777777777777778,\"#fb9f3a\"],[0.8888888888888888,\"#fdca26\"],[1.0,\"#f0f921\"]]}],\"surface\":[{\"type\":\"surface\",\"colorbar\":{\"outlinewidth\":0,\"ticks\":\"\"},\"colorscale\":[[0.0,\"#0d0887\"],[0.1111111111111111,\"#46039f\"],[0.2222222222222222,\"#7201a8\"],[0.3333333333333333,\"#9c179e\"],[0.4444444444444444,\"#bd3786\"],[0.5555555555555556,\"#d8576b\"],[0.6666666666666666,\"#ed7953\"],[0.7777777777777778,\"#fb9f3a\"],[0.8888888888888888,\"#fdca26\"],[1.0,\"#f0f921\"]]}],\"mesh3d\":[{\"type\":\"mesh3d\",\"colorbar\":{\"outlinewidth\":0,\"ticks\":\"\"}}],\"scatter\":[{\"fillpattern\":{\"fillmode\":\"overlay\",\"size\":10,\"solidity\":0.2},\"type\":\"scatter\"}],\"parcoords\":[{\"type\":\"parcoords\",\"line\":{\"colorbar\":{\"outlinewidth\":0,\"ticks\":\"\"}}}],\"scatterpolargl\":[{\"type\":\"scatterpolargl\",\"marker\":{\"colorbar\":{\"outlinewidth\":0,\"ticks\":\"\"}}}],\"bar\":[{\"error_x\":{\"color\":\"#2a3f5f\"},\"error_y\":{\"color\":\"#2a3f5f\"},\"marker\":{\"line\":{\"color\":\"#E5ECF6\",\"width\":0.5},\"pattern\":{\"fillmode\":\"overlay\",\"size\":10,\"solidity\":0.2}},\"type\":\"bar\"}],\"scattergeo\":[{\"type\":\"scattergeo\",\"marker\":{\"colorbar\":{\"outlinewidth\":0,\"ticks\":\"\"}}}],\"scatterpolar\":[{\"type\":\"scatterpolar\",\"marker\":{\"colorbar\":{\"outlinewidth\":0,\"ticks\":\"\"}}}],\"histogram\":[{\"marker\":{\"pattern\":{\"fillmode\":\"overlay\",\"size\":10,\"solidity\":0.2}},\"type\":\"histogram\"}],\"scattergl\":[{\"type\":\"scattergl\",\"marker\":{\"colorbar\":{\"outlinewidth\":0,\"ticks\":\"\"}}}],\"scatter3d\":[{\"type\":\"scatter3d\",\"line\":{\"colorbar\":{\"outlinewidth\":0,\"ticks\":\"\"}},\"marker\":{\"colorbar\":{\"outlinewidth\":0,\"ticks\":\"\"}}}],\"scattermapbox\":[{\"type\":\"scattermapbox\",\"marker\":{\"colorbar\":{\"outlinewidth\":0,\"ticks\":\"\"}}}],\"scatterternary\":[{\"type\":\"scatterternary\",\"marker\":{\"colorbar\":{\"outlinewidth\":0,\"ticks\":\"\"}}}],\"scattercarpet\":[{\"type\":\"scattercarpet\",\"marker\":{\"colorbar\":{\"outlinewidth\":0,\"ticks\":\"\"}}}],\"carpet\":[{\"aaxis\":{\"endlinecolor\":\"#2a3f5f\",\"gridcolor\":\"white\",\"linecolor\":\"white\",\"minorgridcolor\":\"white\",\"startlinecolor\":\"#2a3f5f\"},\"baxis\":{\"endlinecolor\":\"#2a3f5f\",\"gridcolor\":\"white\",\"linecolor\":\"white\",\"minorgridcolor\":\"white\",\"startlinecolor\":\"#2a3f5f\"},\"type\":\"carpet\"}],\"table\":[{\"cells\":{\"fill\":{\"color\":\"#EBF0F8\"},\"line\":{\"color\":\"white\"}},\"header\":{\"fill\":{\"color\":\"#C8D4E3\"},\"line\":{\"color\":\"white\"}},\"type\":\"table\"}],\"barpolar\":[{\"marker\":{\"line\":{\"color\":\"#E5ECF6\",\"width\":0.5},\"pattern\":{\"fillmode\":\"overlay\",\"size\":10,\"solidity\":0.2}},\"type\":\"barpolar\"}],\"pie\":[{\"automargin\":true,\"type\":\"pie\"}]},\"layout\":{\"autotypenumbers\":\"strict\",\"colorway\":[\"#636efa\",\"#EF553B\",\"#00cc96\",\"#ab63fa\",\"#FFA15A\",\"#19d3f3\",\"#FF6692\",\"#B6E880\",\"#FF97FF\",\"#FECB52\"],\"font\":{\"color\":\"#2a3f5f\"},\"hovermode\":\"closest\",\"hoverlabel\":{\"align\":\"left\"},\"paper_bgcolor\":\"white\",\"plot_bgcolor\":\"#E5ECF6\",\"polar\":{\"bgcolor\":\"#E5ECF6\",\"angularaxis\":{\"gridcolor\":\"white\",\"linecolor\":\"white\",\"ticks\":\"\"},\"radialaxis\":{\"gridcolor\":\"white\",\"linecolor\":\"white\",\"ticks\":\"\"}},\"ternary\":{\"bgcolor\":\"#E5ECF6\",\"aaxis\":{\"gridcolor\":\"white\",\"linecolor\":\"white\",\"ticks\":\"\"},\"baxis\":{\"gridcolor\":\"white\",\"linecolor\":\"white\",\"ticks\":\"\"},\"caxis\":{\"gridcolor\":\"white\",\"linecolor\":\"white\",\"ticks\":\"\"}},\"coloraxis\":{\"colorbar\":{\"outlinewidth\":0,\"ticks\":\"\"}},\"colorscale\":{\"sequential\":[[0.0,\"#0d0887\"],[0.1111111111111111,\"#46039f\"],[0.2222222222222222,\"#7201a8\"],[0.3333333333333333,\"#9c179e\"],[0.4444444444444444,\"#bd3786\"],[0.5555555555555556,\"#d8576b\"],[0.6666666666666666,\"#ed7953\"],[0.7777777777777778,\"#fb9f3a\"],[0.8888888888888888,\"#fdca26\"],[1.0,\"#f0f921\"]],\"sequentialminus\":[[0.0,\"#0d0887\"],[0.1111111111111111,\"#46039f\"],[0.2222222222222222,\"#7201a8\"],[0.3333333333333333,\"#9c179e\"],[0.4444444444444444,\"#bd3786\"],[0.5555555555555556,\"#d8576b\"],[0.6666666666666666,\"#ed7953\"],[0.7777777777777778,\"#fb9f3a\"],[0.8888888888888888,\"#fdca26\"],[1.0,\"#f0f921\"]],\"diverging\":[[0,\"#8e0152\"],[0.1,\"#c51b7d\"],[0.2,\"#de77ae\"],[0.3,\"#f1b6da\"],[0.4,\"#fde0ef\"],[0.5,\"#f7f7f7\"],[0.6,\"#e6f5d0\"],[0.7,\"#b8e186\"],[0.8,\"#7fbc41\"],[0.9,\"#4d9221\"],[1,\"#276419\"]]},\"xaxis\":{\"gridcolor\":\"white\",\"linecolor\":\"white\",\"ticks\":\"\",\"title\":{\"standoff\":15},\"zerolinecolor\":\"white\",\"automargin\":true,\"zerolinewidth\":2},\"yaxis\":{\"gridcolor\":\"white\",\"linecolor\":\"white\",\"ticks\":\"\",\"title\":{\"standoff\":15},\"zerolinecolor\":\"white\",\"automargin\":true,\"zerolinewidth\":2},\"scene\":{\"xaxis\":{\"backgroundcolor\":\"#E5ECF6\",\"gridcolor\":\"white\",\"linecolor\":\"white\",\"showbackground\":true,\"ticks\":\"\",\"zerolinecolor\":\"white\",\"gridwidth\":2},\"yaxis\":{\"backgroundcolor\":\"#E5ECF6\",\"gridcolor\":\"white\",\"linecolor\":\"white\",\"showbackground\":true,\"ticks\":\"\",\"zerolinecolor\":\"white\",\"gridwidth\":2},\"zaxis\":{\"backgroundcolor\":\"#E5ECF6\",\"gridcolor\":\"white\",\"linecolor\":\"white\",\"showbackground\":true,\"ticks\":\"\",\"zerolinecolor\":\"white\",\"gridwidth\":2}},\"shapedefaults\":{\"line\":{\"color\":\"#2a3f5f\"}},\"annotationdefaults\":{\"arrowcolor\":\"#2a3f5f\",\"arrowhead\":0,\"arrowwidth\":1},\"geo\":{\"bgcolor\":\"white\",\"landcolor\":\"#E5ECF6\",\"subunitcolor\":\"white\",\"showland\":true,\"showlakes\":true,\"lakecolor\":\"white\"},\"title\":{\"x\":0.05},\"mapbox\":{\"style\":\"light\"}}},\"xaxis\":{\"anchor\":\"y\",\"domain\":[0.0,1.0],\"title\":{\"text\":\"Avg Current [A/cm2]\"},\"type\":\"log\"},\"yaxis\":{\"anchor\":\"x\",\"domain\":[0.0,1.0],\"title\":{\"text\":\"Avg Osc Period [ms]\"}},\"legend\":{\"title\":{\"text\":\"Name\"},\"tracegroupgap\":0},\"title\":{\"text\":\"Periodo delle oscillazioni in funzione della corrente\"},\"height\":800,\"width\":952},                        {\"responsive\": true}                    ).then(function(){\n",
       "                            \n",
       "var gd = document.getElementById('92504eee-70a8-45f3-a45d-4fca774cf574');\n",
       "var x = new MutationObserver(function (mutations, observer) {{\n",
       "        var display = window.getComputedStyle(gd).display;\n",
       "        if (!display || display === 'none') {{\n",
       "            console.log([gd, 'removed!']);\n",
       "            Plotly.purge(gd);\n",
       "            observer.disconnect();\n",
       "        }}\n",
       "}});\n",
       "\n",
       "// Listen for the removal of the full notebook cells\n",
       "var notebookContainer = gd.closest('#notebook-container');\n",
       "if (notebookContainer) {{\n",
       "    x.observe(notebookContainer, {childList: true});\n",
       "}}\n",
       "\n",
       "// Listen for the clearing of the current output cell\n",
       "var outputEl = gd.closest('.output');\n",
       "if (outputEl) {{\n",
       "    x.observe(outputEl, {childList: true});\n",
       "}}\n",
       "\n",
       "                        })                };                });            </script>        </div>"
      ]
     },
     "metadata": {},
     "output_type": "display_data"
    }
   ],
   "source": [
    "# Range dell'ampiezza delle oscillazioni in funzione della corrente\n",
    "fig = px.scatter(df_variable, x='Avg Current [A/cm2]', y='Avg Osc Amplitude [V/cm]', \n",
    "title='Ampiezza delle oscillazioni in funzione della corrente',\n",
    "color=\"Name\", hover_name=\"Experiment\", log_x=True, error_y='e_a_plus', error_y_minus='e_a_minus', \n",
    "error_x='e_j_plus', error_x_minus='e_j_minus',\n",
    "width=952, height=800)\n",
    "fig.show()\n",
    "\n",
    "# Range del periodo delle oscillazioni in funzione della corrente\n",
    "fig = px.scatter(df_variable, x='Avg Current [A/cm2]', y='Avg Osc Period [ms]', \n",
    "title='Periodo delle oscillazioni in funzione della corrente',\n",
    "color=\"Name\", hover_name=\"Experiment\", log_x=True, error_y='e_p_plus', error_y_minus='e_p_minus', \n",
    "error_x='e_j_plus', error_x_minus='e_j_minus',\n",
    "width=952, height=800)\n",
    "fig.show()"
   ]
  },
  {
   "cell_type": "markdown",
   "id": "scenic-twenty",
   "metadata": {},
   "source": [
    "   ### Periodo vs Ampiezza"
   ]
  },
  {
   "cell_type": "code",
   "execution_count": 11,
   "id": "tested-middle",
   "metadata": {},
   "outputs": [
    {
     "data": {
      "application/vnd.plotly.v1+json": {
       "config": {
        "plotlyServerURL": "https://plot.ly"
       },
       "data": [
        {
         "error_x": {
          "array": [
           122.10638297872356,
           105.81081081081129,
           731.5263157894738,
           1156,
           1960.7999999999993,
           1161.155737704918,
           155,
           173.33333333333348,
           1974.6000000000004,
           1302.7999999999993,
           76.10526315789502,
           75.71428571428578,
           110.8387096774195
          ],
          "arrayminus": [
           89.89361702127644,
           63.18918918918871,
           284.47368421052624,
           425,
           1540.2000000000007,
           435.844262295082,
           140,
           81.66666666666652,
           1693.3999999999996,
           1196.2000000000007,
           70.89473684210498,
           36.28571428571422,
           92.1612903225805
          ]
         },
         "error_y": {
          "array": [
           40.54231862899826,
           314.5153787744873,
           55.601966567852486,
           47.903053416105536,
           16.68055418911331,
           240.0988086554649,
           5.603784068757818,
           40.10429232428453,
           12.344224182098742,
           36.39237630471382,
           334.36742189986984,
           24.404100505050508,
           4.8642134809634285
          ],
          "arrayminus": [
           69.60129711174241,
           107.6011285066575,
           36.650055317669455,
           25.854830843153763,
           27.990078950617487,
           186.28216920648796,
           9.734175106326404,
           67.73750102588383,
           39.95806665123462,
           48.483345189394015,
           103.6934493543389,
           16.702155808080846,
           9.086770104895095
          ]
         },
         "hovertemplate": "<b>%{hovertext}</b><br><br>Name=CA12X2<br>Avg Osc Period [ms]=%{x}<br>Avg Osc Amplitude [V/cm]=%{y}<extra></extra>",
         "hovertext": [
          "CA12X2_current_from_100e-9_to_200e-9A_flipped-20220315160531",
          "CA12X2_current_from_10e-9_to_100e-9A_flipped-20220315155945",
          "CA12X2_current_from_0.1e-6_to_1.0e-6A-20220317151236",
          "CA12X2_current_from_0.1e-6_to_1.5e-6A-20220317150657",
          "CA12X2_current_from_1e-9_to_10e-9A_flipped-20220315155235",
          "CA12X2_current_from_1e-9_to_1000e-9A_flipped-20220315170952",
          "CA12X2_current_from_200e-9_to_300e-9A_flipped-20220315161234",
          "CA12X2_current_from_100e-9_to_200e-9A-20220315152213",
          "CA12X2_current_from_1e-9_to_10e-9A-20220315153228",
          "CA12X2_current_from_1e-9_to_10e-9A-20220315151857",
          "CA12X2_current_from_10e-9_to_100e-9A-20220315151525",
          "CA12X2_current_from_1e-6_to_2e-6A-20220317143643",
          "CA12X2_current_from_200e-9_to_300e-9A-20220315152513"
         ],
         "legendgroup": "CA12X2",
         "marker": {
          "color": "#636efa",
          "symbol": "circle"
         },
         "mode": "markers",
         "name": "CA12X2",
         "orientation": "v",
         "showlegend": true,
         "type": "scatter",
         "x": [
          2446.8936170212764,
          3014.1891891891887,
          2442.4736842105262,
          2793,
          8748.2,
          2670.844262295082,
          2425,
          2634.6666666666665,
          8831.4,
          8304.2,
          3193.894736842105,
          2415.285714285714,
          2617.1612903225805
         ],
         "xaxis": "x",
         "y": [
          257.99371714541246,
          165.5609240032905,
          180.80883351632264,
          167.4216549172278,
          485.1738810592032,
          246.02805514924893,
          308.4391889952153,
          257.577093197601,
          489.7577687514029,
          464.2819840951179,
          156.3530860546756,
          148.8656570707071,
          308.9615706099456
         ],
         "yaxis": "y"
        },
        {
         "error_x": {
          "array": [
           69.4814814814813,
           1021.4000000000001,
           1026.5675675675675,
           1055.3611111111113,
           12.636363636363512,
           24.769230769230944,
           19.230769230769056,
           1007.6969696969695
          ],
          "arrayminus": [
           110.5185185185187,
           319.5999999999999,
           569.4324324324325,
           505.6388888888887,
           10.363636363636488,
           25.230769230769056,
           27.769230769230944,
           212.30303030303048
          ]
         },
         "error_y": {
          "array": [
           400.1285652528335,
           416.00775327956967,
           412.3793153480476,
           435.33028314303897,
           72.68219769585244,
           105.05162811059904,
           167.32150690524213,
           462.2190633646954
          ],
          "arrayminus": [
           288.7429869245859,
           340.9389605107529,
           326.76788223259763,
           324.8795804053482,
           186.31666923963138,
           137.99502027649754,
           49.13131083669356,
           222.5215844578853
          ]
         },
         "hovertemplate": "<b>%{hovertext}</b><br><br>Name=CA12_01_A<br>Avg Osc Period [ms]=%{x}<br>Avg Osc Amplitude [V/cm]=%{y}<extra></extra>",
         "hovertext": [
          "CA12_01_A_current_from_1e-8_to_35e-8A-20220429161303",
          "CA12_01_A_current_from_1e-9_to_30e-8A-20220429165618",
          "CA12_01_A_current_from_1e-9_to_30e-8A-20220429163858",
          "CA12_01_A_current_from_0.5e-8_to_30e-8A-20220429161610",
          "CA12_01_A_current_from_1e-7_to_10e-7A-20220429152836",
          "CA12_01_A_current_from_1e-7_to_10e-7A-20220429152137",
          "CA12_01_A_current_from_1e-7_to_10e-7A-20220429151346",
          "CA12_01_A_current_from_1e-8_to_20e-8A-20220429153124"
         ],
         "legendgroup": "CA12_01_A",
         "marker": {
          "color": "#EF553B",
          "symbol": "circle"
         },
         "mode": "markers",
         "name": "CA12_01_A",
         "orientation": "v",
         "showlegend": true,
         "type": "scatter",
         "x": [
          2198.5185185185187,
          2385.6,
          2380.4324324324325,
          2365.6388888888887,
          2179.3636363636365,
          2172.230769230769,
          2183.769230769231,
          2388.3030303030305
         ],
         "xaxis": "x",
         "y": [
          498.71566942458594,
          478.61332438172064,
          469.8801052971138,
          473.4292771795417,
          526.3841079493088,
          544.3915493087558,
          542.0331737399193,
          449.9691909094982
         ],
         "yaxis": "y"
        },
        {
         "error_x": {
          "array": [
           23.75,
           28.66666666666697,
           65.92307692307713,
           6.25,
           60.942857142857065
          ],
          "arrayminus": [
           18.25,
           19.33333333333303,
           31.076923076922867,
           4.75,
           47.057142857142935
          ]
         },
         "error_y": {
          "array": [
           25.290396381277844,
           17.560570554239803,
           74.5694668340119,
           93.19667279521389,
           199.6472544159475
          ],
          "arrayminus": [
           24.504475998922317,
           24.770004521493036,
           35.72035381343409,
           45.587789486456586,
           168.78810709636417
          ]
         },
         "hovertemplate": "<b>%{hovertext}</b><br><br>Name=CA8_01_A<br>Avg Osc Period [ms]=%{x}<br>Avg Osc Amplitude [V/cm]=%{y}<extra></extra>",
         "hovertext": [
          "CA8_01_A_current_from_0.5e-6_to_2e-6A_flipped-20220421110256",
          "CA8_01_A_current_from_1e-6_to_2e-6A-20220421110002",
          "CA8_01_A_current_from_1e-7_to_1.3e-6A-20220421182659",
          "CA8_01_A_current_from_-0.5e-6_to_1e-6A_flipped-20220421110914",
          "CA8_01_A_current_from_0.5e-7_to_4e-7A-20220421185114"
         ],
         "legendgroup": "CA8_01_A",
         "marker": {
          "color": "#00cc96",
          "symbol": "circle"
         },
         "mode": "markers",
         "name": "CA8_01_A",
         "orientation": "v",
         "showlegend": true,
         "type": "scatter",
         "x": [
          2588.25,
          2602.333333333333,
          2633.076923076923,
          2594.75,
          2598.057142857143
         ],
         "xaxis": "x",
         "y": [
          335.8989899208019,
          320.5228509026681,
          347.52271371545976,
          383.19981233894583,
          401.4438513755298
         ],
         "yaxis": "y"
        },
        {
         "error_x": {
          "array": [
           72.37037037037044,
           50.46153846153902,
           29.5,
           15.428571428571558,
           55.5
          ],
          "arrayminus": [
           67.62962962962956,
           28.53846153846098,
           27.5,
           14.571428571428442,
           32.5
          ]
         },
         "error_y": {
          "array": [
           146.76055758169946,
           128.14347357609716,
           3.7304880430604044,
           158.26366274509786,
           143.16628308823528
          ],
          "arrayminus": [
           310.93354176470586,
           85.21572315592903,
           7.349989081122715,
           305.80513986928116,
           316.4482410947713
          ]
         },
         "hovertemplate": "<b>%{hovertext}</b><br><br>Name=CA12X_C5<br>Avg Osc Period [ms]=%{x}<br>Avg Osc Amplitude [V/cm]=%{y}<extra></extra>",
         "hovertext": [
          "CA12X_C5_current_from_1e-7_to_10e-7A_flipped-20220412171054",
          "CA12X_C5_current_from_1e-7_to_3.5e-7A-20220413145630",
          "CA12X_C5_current_from_3.5e-7_to_5e-7A-20220413145837",
          "CA12X_C5_current_from_1e-7_to_10e-7A-20220413133337",
          "CA12X_C5_current_from_1e-7_to_10e-7A-20220412170113"
         ],
         "legendgroup": "CA12X_C5",
         "marker": {
          "color": "#ab63fa",
          "symbol": "circle"
         },
         "mode": "markers",
         "name": "CA12X_C5",
         "orientation": "v",
         "showlegend": true,
         "type": "scatter",
         "x": [
          2613.6296296296296,
          2598.538461538461,
          2595.5,
          2584.5714285714284,
          2594.5
         ],
         "xaxis": "x",
         "y": [
          421.51413718954245,
          427.9648813258637,
          463.7403505190312,
          402.9853836601308,
          410.4836907679739
         ],
         "yaxis": "y"
        },
        {
         "error_x": {
          "array": [
           45.70588235294099,
           27.15000000000009,
           37.304347826086996,
           28.42857142857156
          ],
          "arrayminus": [
           31.29411764705901,
           21.84999999999991,
           34.695652173913004,
           30.57142857142844
          ]
         },
         "error_y": {
          "array": [
           0.6526869476435451,
           5.638094656287095,
           3.573341806306914,
           40.47581234991422
          ],
          "arrayminus": [
           0.7435566201094304,
           38.335096767383575,
           7.407595071909199,
           10.42417873070329
          ]
         },
         "hovertemplate": "<b>%{hovertext}</b><br><br>Name=CA12X2_C1<br>Avg Osc Period [ms]=%{x}<br>Avg Osc Amplitude [V/cm]=%{y}<extra></extra>",
         "hovertext": [
          "CA12X2_C1_current_from_0.3e-6_to_0.4e-6A-20220428162717",
          "CA12X2_C1_current_from_0.5e-6_to_1e-6A-20220428153610",
          "CA12X2_C1_current_from_0.5e-6_to_1e-6A-20220428154754",
          "CA12X2_C1_current_from_1e-7_to_1e-6A-20220428162518"
         ],
         "legendgroup": "CA12X2_C1",
         "marker": {
          "color": "#FFA15A",
          "symbol": "circle"
         },
         "mode": "markers",
         "name": "CA12X2_C1",
         "orientation": "v",
         "showlegend": true,
         "type": "scatter",
         "x": [
          2186.294117647059,
          2185.85,
          2196.695652173913,
          2187.5714285714284
         ],
         "xaxis": "x",
         "y": [
          123.35304821530669,
          100.9774681224436,
          105.96878906847869,
          115.93307084048028
         ],
         "yaxis": "y"
        }
       ],
       "layout": {
        "height": 800,
        "legend": {
         "title": {
          "text": "Name"
         },
         "tracegroupgap": 0
        },
        "template": {
         "data": {
          "bar": [
           {
            "error_x": {
             "color": "#2a3f5f"
            },
            "error_y": {
             "color": "#2a3f5f"
            },
            "marker": {
             "line": {
              "color": "#E5ECF6",
              "width": 0.5
             },
             "pattern": {
              "fillmode": "overlay",
              "size": 10,
              "solidity": 0.2
             }
            },
            "type": "bar"
           }
          ],
          "barpolar": [
           {
            "marker": {
             "line": {
              "color": "#E5ECF6",
              "width": 0.5
             },
             "pattern": {
              "fillmode": "overlay",
              "size": 10,
              "solidity": 0.2
             }
            },
            "type": "barpolar"
           }
          ],
          "carpet": [
           {
            "aaxis": {
             "endlinecolor": "#2a3f5f",
             "gridcolor": "white",
             "linecolor": "white",
             "minorgridcolor": "white",
             "startlinecolor": "#2a3f5f"
            },
            "baxis": {
             "endlinecolor": "#2a3f5f",
             "gridcolor": "white",
             "linecolor": "white",
             "minorgridcolor": "white",
             "startlinecolor": "#2a3f5f"
            },
            "type": "carpet"
           }
          ],
          "choropleth": [
           {
            "colorbar": {
             "outlinewidth": 0,
             "ticks": ""
            },
            "type": "choropleth"
           }
          ],
          "contour": [
           {
            "colorbar": {
             "outlinewidth": 0,
             "ticks": ""
            },
            "colorscale": [
             [
              0,
              "#0d0887"
             ],
             [
              0.1111111111111111,
              "#46039f"
             ],
             [
              0.2222222222222222,
              "#7201a8"
             ],
             [
              0.3333333333333333,
              "#9c179e"
             ],
             [
              0.4444444444444444,
              "#bd3786"
             ],
             [
              0.5555555555555556,
              "#d8576b"
             ],
             [
              0.6666666666666666,
              "#ed7953"
             ],
             [
              0.7777777777777778,
              "#fb9f3a"
             ],
             [
              0.8888888888888888,
              "#fdca26"
             ],
             [
              1,
              "#f0f921"
             ]
            ],
            "type": "contour"
           }
          ],
          "contourcarpet": [
           {
            "colorbar": {
             "outlinewidth": 0,
             "ticks": ""
            },
            "type": "contourcarpet"
           }
          ],
          "heatmap": [
           {
            "colorbar": {
             "outlinewidth": 0,
             "ticks": ""
            },
            "colorscale": [
             [
              0,
              "#0d0887"
             ],
             [
              0.1111111111111111,
              "#46039f"
             ],
             [
              0.2222222222222222,
              "#7201a8"
             ],
             [
              0.3333333333333333,
              "#9c179e"
             ],
             [
              0.4444444444444444,
              "#bd3786"
             ],
             [
              0.5555555555555556,
              "#d8576b"
             ],
             [
              0.6666666666666666,
              "#ed7953"
             ],
             [
              0.7777777777777778,
              "#fb9f3a"
             ],
             [
              0.8888888888888888,
              "#fdca26"
             ],
             [
              1,
              "#f0f921"
             ]
            ],
            "type": "heatmap"
           }
          ],
          "heatmapgl": [
           {
            "colorbar": {
             "outlinewidth": 0,
             "ticks": ""
            },
            "colorscale": [
             [
              0,
              "#0d0887"
             ],
             [
              0.1111111111111111,
              "#46039f"
             ],
             [
              0.2222222222222222,
              "#7201a8"
             ],
             [
              0.3333333333333333,
              "#9c179e"
             ],
             [
              0.4444444444444444,
              "#bd3786"
             ],
             [
              0.5555555555555556,
              "#d8576b"
             ],
             [
              0.6666666666666666,
              "#ed7953"
             ],
             [
              0.7777777777777778,
              "#fb9f3a"
             ],
             [
              0.8888888888888888,
              "#fdca26"
             ],
             [
              1,
              "#f0f921"
             ]
            ],
            "type": "heatmapgl"
           }
          ],
          "histogram": [
           {
            "marker": {
             "pattern": {
              "fillmode": "overlay",
              "size": 10,
              "solidity": 0.2
             }
            },
            "type": "histogram"
           }
          ],
          "histogram2d": [
           {
            "colorbar": {
             "outlinewidth": 0,
             "ticks": ""
            },
            "colorscale": [
             [
              0,
              "#0d0887"
             ],
             [
              0.1111111111111111,
              "#46039f"
             ],
             [
              0.2222222222222222,
              "#7201a8"
             ],
             [
              0.3333333333333333,
              "#9c179e"
             ],
             [
              0.4444444444444444,
              "#bd3786"
             ],
             [
              0.5555555555555556,
              "#d8576b"
             ],
             [
              0.6666666666666666,
              "#ed7953"
             ],
             [
              0.7777777777777778,
              "#fb9f3a"
             ],
             [
              0.8888888888888888,
              "#fdca26"
             ],
             [
              1,
              "#f0f921"
             ]
            ],
            "type": "histogram2d"
           }
          ],
          "histogram2dcontour": [
           {
            "colorbar": {
             "outlinewidth": 0,
             "ticks": ""
            },
            "colorscale": [
             [
              0,
              "#0d0887"
             ],
             [
              0.1111111111111111,
              "#46039f"
             ],
             [
              0.2222222222222222,
              "#7201a8"
             ],
             [
              0.3333333333333333,
              "#9c179e"
             ],
             [
              0.4444444444444444,
              "#bd3786"
             ],
             [
              0.5555555555555556,
              "#d8576b"
             ],
             [
              0.6666666666666666,
              "#ed7953"
             ],
             [
              0.7777777777777778,
              "#fb9f3a"
             ],
             [
              0.8888888888888888,
              "#fdca26"
             ],
             [
              1,
              "#f0f921"
             ]
            ],
            "type": "histogram2dcontour"
           }
          ],
          "mesh3d": [
           {
            "colorbar": {
             "outlinewidth": 0,
             "ticks": ""
            },
            "type": "mesh3d"
           }
          ],
          "parcoords": [
           {
            "line": {
             "colorbar": {
              "outlinewidth": 0,
              "ticks": ""
             }
            },
            "type": "parcoords"
           }
          ],
          "pie": [
           {
            "automargin": true,
            "type": "pie"
           }
          ],
          "scatter": [
           {
            "fillpattern": {
             "fillmode": "overlay",
             "size": 10,
             "solidity": 0.2
            },
            "type": "scatter"
           }
          ],
          "scatter3d": [
           {
            "line": {
             "colorbar": {
              "outlinewidth": 0,
              "ticks": ""
             }
            },
            "marker": {
             "colorbar": {
              "outlinewidth": 0,
              "ticks": ""
             }
            },
            "type": "scatter3d"
           }
          ],
          "scattercarpet": [
           {
            "marker": {
             "colorbar": {
              "outlinewidth": 0,
              "ticks": ""
             }
            },
            "type": "scattercarpet"
           }
          ],
          "scattergeo": [
           {
            "marker": {
             "colorbar": {
              "outlinewidth": 0,
              "ticks": ""
             }
            },
            "type": "scattergeo"
           }
          ],
          "scattergl": [
           {
            "marker": {
             "colorbar": {
              "outlinewidth": 0,
              "ticks": ""
             }
            },
            "type": "scattergl"
           }
          ],
          "scattermapbox": [
           {
            "marker": {
             "colorbar": {
              "outlinewidth": 0,
              "ticks": ""
             }
            },
            "type": "scattermapbox"
           }
          ],
          "scatterpolar": [
           {
            "marker": {
             "colorbar": {
              "outlinewidth": 0,
              "ticks": ""
             }
            },
            "type": "scatterpolar"
           }
          ],
          "scatterpolargl": [
           {
            "marker": {
             "colorbar": {
              "outlinewidth": 0,
              "ticks": ""
             }
            },
            "type": "scatterpolargl"
           }
          ],
          "scatterternary": [
           {
            "marker": {
             "colorbar": {
              "outlinewidth": 0,
              "ticks": ""
             }
            },
            "type": "scatterternary"
           }
          ],
          "surface": [
           {
            "colorbar": {
             "outlinewidth": 0,
             "ticks": ""
            },
            "colorscale": [
             [
              0,
              "#0d0887"
             ],
             [
              0.1111111111111111,
              "#46039f"
             ],
             [
              0.2222222222222222,
              "#7201a8"
             ],
             [
              0.3333333333333333,
              "#9c179e"
             ],
             [
              0.4444444444444444,
              "#bd3786"
             ],
             [
              0.5555555555555556,
              "#d8576b"
             ],
             [
              0.6666666666666666,
              "#ed7953"
             ],
             [
              0.7777777777777778,
              "#fb9f3a"
             ],
             [
              0.8888888888888888,
              "#fdca26"
             ],
             [
              1,
              "#f0f921"
             ]
            ],
            "type": "surface"
           }
          ],
          "table": [
           {
            "cells": {
             "fill": {
              "color": "#EBF0F8"
             },
             "line": {
              "color": "white"
             }
            },
            "header": {
             "fill": {
              "color": "#C8D4E3"
             },
             "line": {
              "color": "white"
             }
            },
            "type": "table"
           }
          ]
         },
         "layout": {
          "annotationdefaults": {
           "arrowcolor": "#2a3f5f",
           "arrowhead": 0,
           "arrowwidth": 1
          },
          "autotypenumbers": "strict",
          "coloraxis": {
           "colorbar": {
            "outlinewidth": 0,
            "ticks": ""
           }
          },
          "colorscale": {
           "diverging": [
            [
             0,
             "#8e0152"
            ],
            [
             0.1,
             "#c51b7d"
            ],
            [
             0.2,
             "#de77ae"
            ],
            [
             0.3,
             "#f1b6da"
            ],
            [
             0.4,
             "#fde0ef"
            ],
            [
             0.5,
             "#f7f7f7"
            ],
            [
             0.6,
             "#e6f5d0"
            ],
            [
             0.7,
             "#b8e186"
            ],
            [
             0.8,
             "#7fbc41"
            ],
            [
             0.9,
             "#4d9221"
            ],
            [
             1,
             "#276419"
            ]
           ],
           "sequential": [
            [
             0,
             "#0d0887"
            ],
            [
             0.1111111111111111,
             "#46039f"
            ],
            [
             0.2222222222222222,
             "#7201a8"
            ],
            [
             0.3333333333333333,
             "#9c179e"
            ],
            [
             0.4444444444444444,
             "#bd3786"
            ],
            [
             0.5555555555555556,
             "#d8576b"
            ],
            [
             0.6666666666666666,
             "#ed7953"
            ],
            [
             0.7777777777777778,
             "#fb9f3a"
            ],
            [
             0.8888888888888888,
             "#fdca26"
            ],
            [
             1,
             "#f0f921"
            ]
           ],
           "sequentialminus": [
            [
             0,
             "#0d0887"
            ],
            [
             0.1111111111111111,
             "#46039f"
            ],
            [
             0.2222222222222222,
             "#7201a8"
            ],
            [
             0.3333333333333333,
             "#9c179e"
            ],
            [
             0.4444444444444444,
             "#bd3786"
            ],
            [
             0.5555555555555556,
             "#d8576b"
            ],
            [
             0.6666666666666666,
             "#ed7953"
            ],
            [
             0.7777777777777778,
             "#fb9f3a"
            ],
            [
             0.8888888888888888,
             "#fdca26"
            ],
            [
             1,
             "#f0f921"
            ]
           ]
          },
          "colorway": [
           "#636efa",
           "#EF553B",
           "#00cc96",
           "#ab63fa",
           "#FFA15A",
           "#19d3f3",
           "#FF6692",
           "#B6E880",
           "#FF97FF",
           "#FECB52"
          ],
          "font": {
           "color": "#2a3f5f"
          },
          "geo": {
           "bgcolor": "white",
           "lakecolor": "white",
           "landcolor": "#E5ECF6",
           "showlakes": true,
           "showland": true,
           "subunitcolor": "white"
          },
          "hoverlabel": {
           "align": "left"
          },
          "hovermode": "closest",
          "mapbox": {
           "style": "light"
          },
          "paper_bgcolor": "white",
          "plot_bgcolor": "#E5ECF6",
          "polar": {
           "angularaxis": {
            "gridcolor": "white",
            "linecolor": "white",
            "ticks": ""
           },
           "bgcolor": "#E5ECF6",
           "radialaxis": {
            "gridcolor": "white",
            "linecolor": "white",
            "ticks": ""
           }
          },
          "scene": {
           "xaxis": {
            "backgroundcolor": "#E5ECF6",
            "gridcolor": "white",
            "gridwidth": 2,
            "linecolor": "white",
            "showbackground": true,
            "ticks": "",
            "zerolinecolor": "white"
           },
           "yaxis": {
            "backgroundcolor": "#E5ECF6",
            "gridcolor": "white",
            "gridwidth": 2,
            "linecolor": "white",
            "showbackground": true,
            "ticks": "",
            "zerolinecolor": "white"
           },
           "zaxis": {
            "backgroundcolor": "#E5ECF6",
            "gridcolor": "white",
            "gridwidth": 2,
            "linecolor": "white",
            "showbackground": true,
            "ticks": "",
            "zerolinecolor": "white"
           }
          },
          "shapedefaults": {
           "line": {
            "color": "#2a3f5f"
           }
          },
          "ternary": {
           "aaxis": {
            "gridcolor": "white",
            "linecolor": "white",
            "ticks": ""
           },
           "baxis": {
            "gridcolor": "white",
            "linecolor": "white",
            "ticks": ""
           },
           "bgcolor": "#E5ECF6",
           "caxis": {
            "gridcolor": "white",
            "linecolor": "white",
            "ticks": ""
           }
          },
          "title": {
           "x": 0.05
          },
          "xaxis": {
           "automargin": true,
           "gridcolor": "white",
           "linecolor": "white",
           "ticks": "",
           "title": {
            "standoff": 15
           },
           "zerolinecolor": "white",
           "zerolinewidth": 2
          },
          "yaxis": {
           "automargin": true,
           "gridcolor": "white",
           "linecolor": "white",
           "ticks": "",
           "title": {
            "standoff": 15
           },
           "zerolinecolor": "white",
           "zerolinewidth": 2
          }
         }
        },
        "title": {
         "text": "Confronto dell'ampiezza e del periodo"
        },
        "width": 952,
        "xaxis": {
         "anchor": "y",
         "domain": [
          0,
          1
         ],
         "title": {
          "text": "Avg Osc Period [ms]"
         }
        },
        "yaxis": {
         "anchor": "x",
         "domain": [
          0,
          1
         ],
         "title": {
          "text": "Avg Osc Amplitude [V/cm]"
         }
        }
       }
      },
      "text/html": [
       "<div>                            <div id=\"9c5e8e15-4f1e-4bae-a5d5-f0e2d70a3309\" class=\"plotly-graph-div\" style=\"height:800px; width:952px;\"></div>            <script type=\"text/javascript\">                require([\"plotly\"], function(Plotly) {                    window.PLOTLYENV=window.PLOTLYENV || {};                                    if (document.getElementById(\"9c5e8e15-4f1e-4bae-a5d5-f0e2d70a3309\")) {                    Plotly.newPlot(                        \"9c5e8e15-4f1e-4bae-a5d5-f0e2d70a3309\",                        [{\"error_x\":{\"array\":[122.10638297872356,105.81081081081129,731.5263157894738,1156.0,1960.7999999999993,1161.155737704918,155.0,173.33333333333348,1974.6000000000004,1302.7999999999993,76.10526315789502,75.71428571428578,110.8387096774195],\"arrayminus\":[89.89361702127644,63.18918918918871,284.47368421052624,425.0,1540.2000000000007,435.844262295082,140.0,81.66666666666652,1693.3999999999996,1196.2000000000007,70.89473684210498,36.28571428571422,92.1612903225805]},\"error_y\":{\"array\":[40.54231862899826,314.5153787744873,55.601966567852486,47.903053416105536,16.68055418911331,240.0988086554649,5.603784068757818,40.10429232428453,12.344224182098742,36.39237630471382,334.36742189986984,24.404100505050508,4.8642134809634285],\"arrayminus\":[69.60129711174241,107.6011285066575,36.650055317669455,25.854830843153763,27.990078950617487,186.28216920648796,9.734175106326404,67.73750102588383,39.95806665123462,48.483345189394015,103.6934493543389,16.702155808080846,9.086770104895095]},\"hovertemplate\":\"<b>%{hovertext}</b><br><br>Name=CA12X2<br>Avg Osc Period [ms]=%{x}<br>Avg Osc Amplitude [V/cm]=%{y}<extra></extra>\",\"hovertext\":[\"CA12X2_current_from_100e-9_to_200e-9A_flipped-20220315160531\",\"CA12X2_current_from_10e-9_to_100e-9A_flipped-20220315155945\",\"CA12X2_current_from_0.1e-6_to_1.0e-6A-20220317151236\",\"CA12X2_current_from_0.1e-6_to_1.5e-6A-20220317150657\",\"CA12X2_current_from_1e-9_to_10e-9A_flipped-20220315155235\",\"CA12X2_current_from_1e-9_to_1000e-9A_flipped-20220315170952\",\"CA12X2_current_from_200e-9_to_300e-9A_flipped-20220315161234\",\"CA12X2_current_from_100e-9_to_200e-9A-20220315152213\",\"CA12X2_current_from_1e-9_to_10e-9A-20220315153228\",\"CA12X2_current_from_1e-9_to_10e-9A-20220315151857\",\"CA12X2_current_from_10e-9_to_100e-9A-20220315151525\",\"CA12X2_current_from_1e-6_to_2e-6A-20220317143643\",\"CA12X2_current_from_200e-9_to_300e-9A-20220315152513\"],\"legendgroup\":\"CA12X2\",\"marker\":{\"color\":\"#636efa\",\"symbol\":\"circle\"},\"mode\":\"markers\",\"name\":\"CA12X2\",\"orientation\":\"v\",\"showlegend\":true,\"x\":[2446.8936170212764,3014.1891891891887,2442.4736842105262,2793.0,8748.2,2670.844262295082,2425.0,2634.6666666666665,8831.4,8304.2,3193.894736842105,2415.285714285714,2617.1612903225805],\"xaxis\":\"x\",\"y\":[257.99371714541246,165.5609240032905,180.80883351632264,167.4216549172278,485.1738810592032,246.02805514924893,308.4391889952153,257.577093197601,489.7577687514029,464.2819840951179,156.3530860546756,148.8656570707071,308.9615706099456],\"yaxis\":\"y\",\"type\":\"scatter\"},{\"error_x\":{\"array\":[69.4814814814813,1021.4000000000001,1026.5675675675675,1055.3611111111113,12.636363636363512,24.769230769230944,19.230769230769056,1007.6969696969695],\"arrayminus\":[110.5185185185187,319.5999999999999,569.4324324324325,505.6388888888887,10.363636363636488,25.230769230769056,27.769230769230944,212.30303030303048]},\"error_y\":{\"array\":[400.1285652528335,416.00775327956967,412.3793153480476,435.33028314303897,72.68219769585244,105.05162811059904,167.32150690524213,462.2190633646954],\"arrayminus\":[288.7429869245859,340.9389605107529,326.76788223259763,324.8795804053482,186.31666923963138,137.99502027649754,49.13131083669356,222.5215844578853]},\"hovertemplate\":\"<b>%{hovertext}</b><br><br>Name=CA12_01_A<br>Avg Osc Period [ms]=%{x}<br>Avg Osc Amplitude [V/cm]=%{y}<extra></extra>\",\"hovertext\":[\"CA12_01_A_current_from_1e-8_to_35e-8A-20220429161303\",\"CA12_01_A_current_from_1e-9_to_30e-8A-20220429165618\",\"CA12_01_A_current_from_1e-9_to_30e-8A-20220429163858\",\"CA12_01_A_current_from_0.5e-8_to_30e-8A-20220429161610\",\"CA12_01_A_current_from_1e-7_to_10e-7A-20220429152836\",\"CA12_01_A_current_from_1e-7_to_10e-7A-20220429152137\",\"CA12_01_A_current_from_1e-7_to_10e-7A-20220429151346\",\"CA12_01_A_current_from_1e-8_to_20e-8A-20220429153124\"],\"legendgroup\":\"CA12_01_A\",\"marker\":{\"color\":\"#EF553B\",\"symbol\":\"circle\"},\"mode\":\"markers\",\"name\":\"CA12_01_A\",\"orientation\":\"v\",\"showlegend\":true,\"x\":[2198.5185185185187,2385.6,2380.4324324324325,2365.6388888888887,2179.3636363636365,2172.230769230769,2183.769230769231,2388.3030303030305],\"xaxis\":\"x\",\"y\":[498.71566942458594,478.61332438172064,469.8801052971138,473.4292771795417,526.3841079493088,544.3915493087558,542.0331737399193,449.9691909094982],\"yaxis\":\"y\",\"type\":\"scatter\"},{\"error_x\":{\"array\":[23.75,28.66666666666697,65.92307692307713,6.25,60.942857142857065],\"arrayminus\":[18.25,19.33333333333303,31.076923076922867,4.75,47.057142857142935]},\"error_y\":{\"array\":[25.290396381277844,17.560570554239803,74.5694668340119,93.19667279521389,199.6472544159475],\"arrayminus\":[24.504475998922317,24.770004521493036,35.72035381343409,45.587789486456586,168.78810709636417]},\"hovertemplate\":\"<b>%{hovertext}</b><br><br>Name=CA8_01_A<br>Avg Osc Period [ms]=%{x}<br>Avg Osc Amplitude [V/cm]=%{y}<extra></extra>\",\"hovertext\":[\"CA8_01_A_current_from_0.5e-6_to_2e-6A_flipped-20220421110256\",\"CA8_01_A_current_from_1e-6_to_2e-6A-20220421110002\",\"CA8_01_A_current_from_1e-7_to_1.3e-6A-20220421182659\",\"CA8_01_A_current_from_-0.5e-6_to_1e-6A_flipped-20220421110914\",\"CA8_01_A_current_from_0.5e-7_to_4e-7A-20220421185114\"],\"legendgroup\":\"CA8_01_A\",\"marker\":{\"color\":\"#00cc96\",\"symbol\":\"circle\"},\"mode\":\"markers\",\"name\":\"CA8_01_A\",\"orientation\":\"v\",\"showlegend\":true,\"x\":[2588.25,2602.333333333333,2633.076923076923,2594.75,2598.057142857143],\"xaxis\":\"x\",\"y\":[335.8989899208019,320.5228509026681,347.52271371545976,383.19981233894583,401.4438513755298],\"yaxis\":\"y\",\"type\":\"scatter\"},{\"error_x\":{\"array\":[72.37037037037044,50.46153846153902,29.5,15.428571428571558,55.5],\"arrayminus\":[67.62962962962956,28.53846153846098,27.5,14.571428571428442,32.5]},\"error_y\":{\"array\":[146.76055758169946,128.14347357609716,3.7304880430604044,158.26366274509786,143.16628308823528],\"arrayminus\":[310.93354176470586,85.21572315592903,7.349989081122715,305.80513986928116,316.4482410947713]},\"hovertemplate\":\"<b>%{hovertext}</b><br><br>Name=CA12X_C5<br>Avg Osc Period [ms]=%{x}<br>Avg Osc Amplitude [V/cm]=%{y}<extra></extra>\",\"hovertext\":[\"CA12X_C5_current_from_1e-7_to_10e-7A_flipped-20220412171054\",\"CA12X_C5_current_from_1e-7_to_3.5e-7A-20220413145630\",\"CA12X_C5_current_from_3.5e-7_to_5e-7A-20220413145837\",\"CA12X_C5_current_from_1e-7_to_10e-7A-20220413133337\",\"CA12X_C5_current_from_1e-7_to_10e-7A-20220412170113\"],\"legendgroup\":\"CA12X_C5\",\"marker\":{\"color\":\"#ab63fa\",\"symbol\":\"circle\"},\"mode\":\"markers\",\"name\":\"CA12X_C5\",\"orientation\":\"v\",\"showlegend\":true,\"x\":[2613.6296296296296,2598.538461538461,2595.5,2584.5714285714284,2594.5],\"xaxis\":\"x\",\"y\":[421.51413718954245,427.9648813258637,463.7403505190312,402.9853836601308,410.4836907679739],\"yaxis\":\"y\",\"type\":\"scatter\"},{\"error_x\":{\"array\":[45.70588235294099,27.15000000000009,37.304347826086996,28.42857142857156],\"arrayminus\":[31.29411764705901,21.84999999999991,34.695652173913004,30.57142857142844]},\"error_y\":{\"array\":[0.6526869476435451,5.638094656287095,3.573341806306914,40.47581234991422],\"arrayminus\":[0.7435566201094304,38.335096767383575,7.407595071909199,10.42417873070329]},\"hovertemplate\":\"<b>%{hovertext}</b><br><br>Name=CA12X2_C1<br>Avg Osc Period [ms]=%{x}<br>Avg Osc Amplitude [V/cm]=%{y}<extra></extra>\",\"hovertext\":[\"CA12X2_C1_current_from_0.3e-6_to_0.4e-6A-20220428162717\",\"CA12X2_C1_current_from_0.5e-6_to_1e-6A-20220428153610\",\"CA12X2_C1_current_from_0.5e-6_to_1e-6A-20220428154754\",\"CA12X2_C1_current_from_1e-7_to_1e-6A-20220428162518\"],\"legendgroup\":\"CA12X2_C1\",\"marker\":{\"color\":\"#FFA15A\",\"symbol\":\"circle\"},\"mode\":\"markers\",\"name\":\"CA12X2_C1\",\"orientation\":\"v\",\"showlegend\":true,\"x\":[2186.294117647059,2185.85,2196.695652173913,2187.5714285714284],\"xaxis\":\"x\",\"y\":[123.35304821530669,100.9774681224436,105.96878906847869,115.93307084048028],\"yaxis\":\"y\",\"type\":\"scatter\"}],                        {\"template\":{\"data\":{\"histogram2dcontour\":[{\"type\":\"histogram2dcontour\",\"colorbar\":{\"outlinewidth\":0,\"ticks\":\"\"},\"colorscale\":[[0.0,\"#0d0887\"],[0.1111111111111111,\"#46039f\"],[0.2222222222222222,\"#7201a8\"],[0.3333333333333333,\"#9c179e\"],[0.4444444444444444,\"#bd3786\"],[0.5555555555555556,\"#d8576b\"],[0.6666666666666666,\"#ed7953\"],[0.7777777777777778,\"#fb9f3a\"],[0.8888888888888888,\"#fdca26\"],[1.0,\"#f0f921\"]]}],\"choropleth\":[{\"type\":\"choropleth\",\"colorbar\":{\"outlinewidth\":0,\"ticks\":\"\"}}],\"histogram2d\":[{\"type\":\"histogram2d\",\"colorbar\":{\"outlinewidth\":0,\"ticks\":\"\"},\"colorscale\":[[0.0,\"#0d0887\"],[0.1111111111111111,\"#46039f\"],[0.2222222222222222,\"#7201a8\"],[0.3333333333333333,\"#9c179e\"],[0.4444444444444444,\"#bd3786\"],[0.5555555555555556,\"#d8576b\"],[0.6666666666666666,\"#ed7953\"],[0.7777777777777778,\"#fb9f3a\"],[0.8888888888888888,\"#fdca26\"],[1.0,\"#f0f921\"]]}],\"heatmap\":[{\"type\":\"heatmap\",\"colorbar\":{\"outlinewidth\":0,\"ticks\":\"\"},\"colorscale\":[[0.0,\"#0d0887\"],[0.1111111111111111,\"#46039f\"],[0.2222222222222222,\"#7201a8\"],[0.3333333333333333,\"#9c179e\"],[0.4444444444444444,\"#bd3786\"],[0.5555555555555556,\"#d8576b\"],[0.6666666666666666,\"#ed7953\"],[0.7777777777777778,\"#fb9f3a\"],[0.8888888888888888,\"#fdca26\"],[1.0,\"#f0f921\"]]}],\"heatmapgl\":[{\"type\":\"heatmapgl\",\"colorbar\":{\"outlinewidth\":0,\"ticks\":\"\"},\"colorscale\":[[0.0,\"#0d0887\"],[0.1111111111111111,\"#46039f\"],[0.2222222222222222,\"#7201a8\"],[0.3333333333333333,\"#9c179e\"],[0.4444444444444444,\"#bd3786\"],[0.5555555555555556,\"#d8576b\"],[0.6666666666666666,\"#ed7953\"],[0.7777777777777778,\"#fb9f3a\"],[0.8888888888888888,\"#fdca26\"],[1.0,\"#f0f921\"]]}],\"contourcarpet\":[{\"type\":\"contourcarpet\",\"colorbar\":{\"outlinewidth\":0,\"ticks\":\"\"}}],\"contour\":[{\"type\":\"contour\",\"colorbar\":{\"outlinewidth\":0,\"ticks\":\"\"},\"colorscale\":[[0.0,\"#0d0887\"],[0.1111111111111111,\"#46039f\"],[0.2222222222222222,\"#7201a8\"],[0.3333333333333333,\"#9c179e\"],[0.4444444444444444,\"#bd3786\"],[0.5555555555555556,\"#d8576b\"],[0.6666666666666666,\"#ed7953\"],[0.7777777777777778,\"#fb9f3a\"],[0.8888888888888888,\"#fdca26\"],[1.0,\"#f0f921\"]]}],\"surface\":[{\"type\":\"surface\",\"colorbar\":{\"outlinewidth\":0,\"ticks\":\"\"},\"colorscale\":[[0.0,\"#0d0887\"],[0.1111111111111111,\"#46039f\"],[0.2222222222222222,\"#7201a8\"],[0.3333333333333333,\"#9c179e\"],[0.4444444444444444,\"#bd3786\"],[0.5555555555555556,\"#d8576b\"],[0.6666666666666666,\"#ed7953\"],[0.7777777777777778,\"#fb9f3a\"],[0.8888888888888888,\"#fdca26\"],[1.0,\"#f0f921\"]]}],\"mesh3d\":[{\"type\":\"mesh3d\",\"colorbar\":{\"outlinewidth\":0,\"ticks\":\"\"}}],\"scatter\":[{\"fillpattern\":{\"fillmode\":\"overlay\",\"size\":10,\"solidity\":0.2},\"type\":\"scatter\"}],\"parcoords\":[{\"type\":\"parcoords\",\"line\":{\"colorbar\":{\"outlinewidth\":0,\"ticks\":\"\"}}}],\"scatterpolargl\":[{\"type\":\"scatterpolargl\",\"marker\":{\"colorbar\":{\"outlinewidth\":0,\"ticks\":\"\"}}}],\"bar\":[{\"error_x\":{\"color\":\"#2a3f5f\"},\"error_y\":{\"color\":\"#2a3f5f\"},\"marker\":{\"line\":{\"color\":\"#E5ECF6\",\"width\":0.5},\"pattern\":{\"fillmode\":\"overlay\",\"size\":10,\"solidity\":0.2}},\"type\":\"bar\"}],\"scattergeo\":[{\"type\":\"scattergeo\",\"marker\":{\"colorbar\":{\"outlinewidth\":0,\"ticks\":\"\"}}}],\"scatterpolar\":[{\"type\":\"scatterpolar\",\"marker\":{\"colorbar\":{\"outlinewidth\":0,\"ticks\":\"\"}}}],\"histogram\":[{\"marker\":{\"pattern\":{\"fillmode\":\"overlay\",\"size\":10,\"solidity\":0.2}},\"type\":\"histogram\"}],\"scattergl\":[{\"type\":\"scattergl\",\"marker\":{\"colorbar\":{\"outlinewidth\":0,\"ticks\":\"\"}}}],\"scatter3d\":[{\"type\":\"scatter3d\",\"line\":{\"colorbar\":{\"outlinewidth\":0,\"ticks\":\"\"}},\"marker\":{\"colorbar\":{\"outlinewidth\":0,\"ticks\":\"\"}}}],\"scattermapbox\":[{\"type\":\"scattermapbox\",\"marker\":{\"colorbar\":{\"outlinewidth\":0,\"ticks\":\"\"}}}],\"scatterternary\":[{\"type\":\"scatterternary\",\"marker\":{\"colorbar\":{\"outlinewidth\":0,\"ticks\":\"\"}}}],\"scattercarpet\":[{\"type\":\"scattercarpet\",\"marker\":{\"colorbar\":{\"outlinewidth\":0,\"ticks\":\"\"}}}],\"carpet\":[{\"aaxis\":{\"endlinecolor\":\"#2a3f5f\",\"gridcolor\":\"white\",\"linecolor\":\"white\",\"minorgridcolor\":\"white\",\"startlinecolor\":\"#2a3f5f\"},\"baxis\":{\"endlinecolor\":\"#2a3f5f\",\"gridcolor\":\"white\",\"linecolor\":\"white\",\"minorgridcolor\":\"white\",\"startlinecolor\":\"#2a3f5f\"},\"type\":\"carpet\"}],\"table\":[{\"cells\":{\"fill\":{\"color\":\"#EBF0F8\"},\"line\":{\"color\":\"white\"}},\"header\":{\"fill\":{\"color\":\"#C8D4E3\"},\"line\":{\"color\":\"white\"}},\"type\":\"table\"}],\"barpolar\":[{\"marker\":{\"line\":{\"color\":\"#E5ECF6\",\"width\":0.5},\"pattern\":{\"fillmode\":\"overlay\",\"size\":10,\"solidity\":0.2}},\"type\":\"barpolar\"}],\"pie\":[{\"automargin\":true,\"type\":\"pie\"}]},\"layout\":{\"autotypenumbers\":\"strict\",\"colorway\":[\"#636efa\",\"#EF553B\",\"#00cc96\",\"#ab63fa\",\"#FFA15A\",\"#19d3f3\",\"#FF6692\",\"#B6E880\",\"#FF97FF\",\"#FECB52\"],\"font\":{\"color\":\"#2a3f5f\"},\"hovermode\":\"closest\",\"hoverlabel\":{\"align\":\"left\"},\"paper_bgcolor\":\"white\",\"plot_bgcolor\":\"#E5ECF6\",\"polar\":{\"bgcolor\":\"#E5ECF6\",\"angularaxis\":{\"gridcolor\":\"white\",\"linecolor\":\"white\",\"ticks\":\"\"},\"radialaxis\":{\"gridcolor\":\"white\",\"linecolor\":\"white\",\"ticks\":\"\"}},\"ternary\":{\"bgcolor\":\"#E5ECF6\",\"aaxis\":{\"gridcolor\":\"white\",\"linecolor\":\"white\",\"ticks\":\"\"},\"baxis\":{\"gridcolor\":\"white\",\"linecolor\":\"white\",\"ticks\":\"\"},\"caxis\":{\"gridcolor\":\"white\",\"linecolor\":\"white\",\"ticks\":\"\"}},\"coloraxis\":{\"colorbar\":{\"outlinewidth\":0,\"ticks\":\"\"}},\"colorscale\":{\"sequential\":[[0.0,\"#0d0887\"],[0.1111111111111111,\"#46039f\"],[0.2222222222222222,\"#7201a8\"],[0.3333333333333333,\"#9c179e\"],[0.4444444444444444,\"#bd3786\"],[0.5555555555555556,\"#d8576b\"],[0.6666666666666666,\"#ed7953\"],[0.7777777777777778,\"#fb9f3a\"],[0.8888888888888888,\"#fdca26\"],[1.0,\"#f0f921\"]],\"sequentialminus\":[[0.0,\"#0d0887\"],[0.1111111111111111,\"#46039f\"],[0.2222222222222222,\"#7201a8\"],[0.3333333333333333,\"#9c179e\"],[0.4444444444444444,\"#bd3786\"],[0.5555555555555556,\"#d8576b\"],[0.6666666666666666,\"#ed7953\"],[0.7777777777777778,\"#fb9f3a\"],[0.8888888888888888,\"#fdca26\"],[1.0,\"#f0f921\"]],\"diverging\":[[0,\"#8e0152\"],[0.1,\"#c51b7d\"],[0.2,\"#de77ae\"],[0.3,\"#f1b6da\"],[0.4,\"#fde0ef\"],[0.5,\"#f7f7f7\"],[0.6,\"#e6f5d0\"],[0.7,\"#b8e186\"],[0.8,\"#7fbc41\"],[0.9,\"#4d9221\"],[1,\"#276419\"]]},\"xaxis\":{\"gridcolor\":\"white\",\"linecolor\":\"white\",\"ticks\":\"\",\"title\":{\"standoff\":15},\"zerolinecolor\":\"white\",\"automargin\":true,\"zerolinewidth\":2},\"yaxis\":{\"gridcolor\":\"white\",\"linecolor\":\"white\",\"ticks\":\"\",\"title\":{\"standoff\":15},\"zerolinecolor\":\"white\",\"automargin\":true,\"zerolinewidth\":2},\"scene\":{\"xaxis\":{\"backgroundcolor\":\"#E5ECF6\",\"gridcolor\":\"white\",\"linecolor\":\"white\",\"showbackground\":true,\"ticks\":\"\",\"zerolinecolor\":\"white\",\"gridwidth\":2},\"yaxis\":{\"backgroundcolor\":\"#E5ECF6\",\"gridcolor\":\"white\",\"linecolor\":\"white\",\"showbackground\":true,\"ticks\":\"\",\"zerolinecolor\":\"white\",\"gridwidth\":2},\"zaxis\":{\"backgroundcolor\":\"#E5ECF6\",\"gridcolor\":\"white\",\"linecolor\":\"white\",\"showbackground\":true,\"ticks\":\"\",\"zerolinecolor\":\"white\",\"gridwidth\":2}},\"shapedefaults\":{\"line\":{\"color\":\"#2a3f5f\"}},\"annotationdefaults\":{\"arrowcolor\":\"#2a3f5f\",\"arrowhead\":0,\"arrowwidth\":1},\"geo\":{\"bgcolor\":\"white\",\"landcolor\":\"#E5ECF6\",\"subunitcolor\":\"white\",\"showland\":true,\"showlakes\":true,\"lakecolor\":\"white\"},\"title\":{\"x\":0.05},\"mapbox\":{\"style\":\"light\"}}},\"xaxis\":{\"anchor\":\"y\",\"domain\":[0.0,1.0],\"title\":{\"text\":\"Avg Osc Period [ms]\"}},\"yaxis\":{\"anchor\":\"x\",\"domain\":[0.0,1.0],\"title\":{\"text\":\"Avg Osc Amplitude [V/cm]\"}},\"legend\":{\"title\":{\"text\":\"Name\"},\"tracegroupgap\":0},\"title\":{\"text\":\"Confronto dell'ampiezza e del periodo\"},\"height\":800,\"width\":952},                        {\"responsive\": true}                    ).then(function(){\n",
       "                            \n",
       "var gd = document.getElementById('9c5e8e15-4f1e-4bae-a5d5-f0e2d70a3309');\n",
       "var x = new MutationObserver(function (mutations, observer) {{\n",
       "        var display = window.getComputedStyle(gd).display;\n",
       "        if (!display || display === 'none') {{\n",
       "            console.log([gd, 'removed!']);\n",
       "            Plotly.purge(gd);\n",
       "            observer.disconnect();\n",
       "        }}\n",
       "}});\n",
       "\n",
       "// Listen for the removal of the full notebook cells\n",
       "var notebookContainer = gd.closest('#notebook-container');\n",
       "if (notebookContainer) {{\n",
       "    x.observe(notebookContainer, {childList: true});\n",
       "}}\n",
       "\n",
       "// Listen for the clearing of the current output cell\n",
       "var outputEl = gd.closest('.output');\n",
       "if (outputEl) {{\n",
       "    x.observe(outputEl, {childList: true});\n",
       "}}\n",
       "\n",
       "                        })                };                });            </script>        </div>"
      ]
     },
     "metadata": {},
     "output_type": "display_data"
    }
   ],
   "source": [
    "# Range dell'ampiezza e del periodo delle oscillazioni a corrente costante\n",
    "fig = px.scatter(df_variable, x='Avg Osc Period [ms]', y='Avg Osc Amplitude [V/cm]', \n",
    "title='Confronto dell\\'ampiezza e del periodo',\n",
    "color=\"Name\", hover_name=\"Experiment\", log_y=False, error_y='e_a_plus', error_y_minus='e_a_minus',\n",
    "error_x='e_p_plus', error_x_minus='e_p_minus',\n",
    "width=952, height=800)\n",
    "fig.show()"
   ]
  },
  {
   "cell_type": "markdown",
   "id": "excess-heaven",
   "metadata": {},
   "source": [
    "   ### Distribuzione delle oscillazioni in funzione di corrente e temperatura"
   ]
  },
  {
   "cell_type": "code",
   "execution_count": 12,
   "id": "loaded-communist",
   "metadata": {},
   "outputs": [
    {
     "data": {
      "application/vnd.plotly.v1+json": {
       "config": {
        "plotlyServerURL": "https://plot.ly"
       },
       "data": [
        {
         "hovertemplate": "<b>%{hovertext}</b><br><br>Name=CA12X2<br>Avg Temperature [K]=%{x}<br>Avg Current [A/cm2]=%{y}<br>Avg Osc Amplitude [V/cm]=%{marker.size}<extra></extra>",
         "hovertext": [
          "CA12X2_current_from_100e-9_to_200e-9A_flipped-20220315160531",
          "CA12X2_current_from_10e-9_to_100e-9A_flipped-20220315155945",
          "CA12X2_current_from_0.1e-6_to_1.0e-6A-20220317151236",
          "CA12X2_current_from_0.1e-6_to_1.5e-6A-20220317150657",
          "CA12X2_current_from_1e-9_to_10e-9A_flipped-20220315155235",
          "CA12X2_current_from_1e-9_to_1000e-9A_flipped-20220315170952",
          "CA12X2_current_from_200e-9_to_300e-9A_flipped-20220315161234",
          "CA12X2_current_from_100e-9_to_200e-9A-20220315152213",
          "CA12X2_current_from_1e-9_to_10e-9A-20220315153228",
          "CA12X2_current_from_1e-9_to_10e-9A-20220315151857",
          "CA12X2_current_from_10e-9_to_100e-9A-20220315151525",
          "CA12X2_current_from_1e-6_to_2e-6A-20220317143643",
          "CA12X2_current_from_200e-9_to_300e-9A-20220315152513"
         ],
         "legendgroup": "CA12X2",
         "marker": {
          "color": "#636efa",
          "size": [
           257.99371714541246,
           165.5609240032905,
           180.80883351632264,
           167.4216549172278,
           485.1738810592032,
           246.02805514924893,
           308.4391889952153,
           257.577093197601,
           489.7577687514029,
           464.2819840951179,
           156.3530860546756,
           148.8656570707071,
           308.9615706099456
          ],
          "sizemode": "area",
          "sizeref": 0.1512198748079877,
          "symbol": "circle"
         },
         "mode": "markers",
         "name": "CA12X2",
         "orientation": "v",
         "showlegend": true,
         "type": "scatter",
         "x": [
          113.48018048230064,
          113.47038747931718,
          108.95441729447298,
          129.2381324109405,
          113.46264874300995,
          113.48172732110667,
          113.47842832178341,
          113.4470325494966,
          113.43692551500877,
          113.44355525277572,
          113.4454298182477,
          133.8554300093167,
          113.44805214637552
         ],
         "xaxis": "x",
         "y": [
          3.0994362178052623e-06,
          1.134708852620232e-06,
          8.888552678858484e-06,
          1.458311006886002e-05,
          1.2670915520925926e-07,
          2.9748283752860413e-06,
          5.022137329189544e-06,
          3.0994362178052623e-06,
          1.2670915520925926e-07,
          1.2481797378822552e-07,
          1.1252529455150629e-06,
          2.3639767762921495e-05,
          5.032643892639731e-06
         ],
         "yaxis": "y"
        },
        {
         "hovertemplate": "<b>%{hovertext}</b><br><br>Name=CA12_01_A<br>Avg Temperature [K]=%{x}<br>Avg Current [A/cm2]=%{y}<br>Avg Osc Amplitude [V/cm]=%{marker.size}<extra></extra>",
         "hovertext": [
          "CA12_01_A_current_from_1e-8_to_35e-8A-20220429161303",
          "CA12_01_A_current_from_1e-9_to_30e-8A-20220429165618",
          "CA12_01_A_current_from_1e-9_to_30e-8A-20220429163858",
          "CA12_01_A_current_from_0.5e-8_to_30e-8A-20220429161610",
          "CA12_01_A_current_from_1e-7_to_10e-7A-20220429152836",
          "CA12_01_A_current_from_1e-7_to_10e-7A-20220429152137",
          "CA12_01_A_current_from_1e-7_to_10e-7A-20220429151346",
          "CA12_01_A_current_from_1e-8_to_20e-8A-20220429153124"
         ],
         "legendgroup": "CA12_01_A",
         "marker": {
          "color": "#EF553B",
          "size": [
           498.71566942458594,
           478.61332438172064,
           469.8801052971138,
           473.4292771795417,
           526.3841079493088,
           544.3915493087558,
           542.0331737399193,
           449.9691909094982
          ],
          "sizemode": "area",
          "sizeref": 0.1512198748079877,
          "symbol": "circle"
         },
         "mode": "markers",
         "name": "CA12_01_A",
         "orientation": "v",
         "showlegend": true,
         "type": "scatter",
         "x": [
          107.22490263780487,
          95.17634373708593,
          99.29526170202244,
          99.55930264854368,
          112.67445502351177,
          116.28251296723863,
          123.43440189585394,
          108.2730863479829
         ],
         "xaxis": "x",
         "y": [
          1.2221574721574726e-05,
          1.1091281403781404e-05,
          1.0244269619269618e-05,
          1.0664696470419362e-05,
          1.7846736596736593e-05,
          2.003205128205128e-05,
          2.986596736596737e-05,
          8.34938595355262e-06
         ],
         "yaxis": "y"
        },
        {
         "hovertemplate": "<b>%{hovertext}</b><br><br>Name=CA8_01_A<br>Avg Temperature [K]=%{x}<br>Avg Current [A/cm2]=%{y}<br>Avg Osc Amplitude [V/cm]=%{marker.size}<extra></extra>",
         "hovertext": [
          "CA8_01_A_current_from_0.5e-6_to_2e-6A_flipped-20220421110256",
          "CA8_01_A_current_from_1e-6_to_2e-6A-20220421110002",
          "CA8_01_A_current_from_1e-7_to_1.3e-6A-20220421182659",
          "CA8_01_A_current_from_-0.5e-6_to_1e-6A_flipped-20220421110914",
          "CA8_01_A_current_from_0.5e-7_to_4e-7A-20220421185114"
         ],
         "legendgroup": "CA8_01_A",
         "marker": {
          "color": "#00cc96",
          "size": [
           335.8989899208019,
           320.5228509026681,
           347.52271371545976,
           383.19981233894583,
           401.4438513755298
          ],
          "sizemode": "area",
          "sizeref": 0.1512198748079877,
          "symbol": "circle"
         },
         "mode": "markers",
         "name": "CA8_01_A",
         "orientation": "v",
         "showlegend": true,
         "type": "scatter",
         "x": [
          127.56662315159107,
          129.54850133976655,
          128.17523398077884,
          125.5403580602984,
          113.98739377147638
         ],
         "xaxis": "x",
         "y": [
          3.329752953813104e-05,
          4.85499462943072e-05,
          3.151515151515152e-05,
          2.406015037593985e-05,
          9.250398724082933e-06
         ],
         "yaxis": "y"
        },
        {
         "hovertemplate": "<b>%{hovertext}</b><br><br>Name=CA12X_C5<br>Avg Temperature [K]=%{x}<br>Avg Current [A/cm2]=%{y}<br>Avg Osc Amplitude [V/cm]=%{marker.size}<extra></extra>",
         "hovertext": [
          "CA12X_C5_current_from_1e-7_to_10e-7A_flipped-20220412171054",
          "CA12X_C5_current_from_1e-7_to_3.5e-7A-20220413145630",
          "CA12X_C5_current_from_3.5e-7_to_5e-7A-20220413145837",
          "CA12X_C5_current_from_1e-7_to_10e-7A-20220413133337",
          "CA12X_C5_current_from_1e-7_to_10e-7A-20220412170113"
         ],
         "legendgroup": "CA12X_C5",
         "marker": {
          "color": "#ab63fa",
          "size": [
           421.51413718954245,
           427.9648813258637,
           463.7403505190312,
           402.9853836601308,
           410.4836907679739
          ],
          "sizemode": "area",
          "sizeref": 0.1512198748079877,
          "symbol": "circle"
         },
         "mode": "markers",
         "name": "CA12X_C5",
         "orientation": "v",
         "showlegend": true,
         "type": "scatter",
         "x": [
          119.40001251119938,
          112.99590633267607,
          112.98509315337563,
          118.93872759441619,
          119.70959750713385
         ],
         "xaxis": "x",
         "y": [
          1.5397699471080285e-05,
          8.398258839857425e-06,
          1.5653092767246e-05,
          1.4864523862095071e-05,
          1.5807222144161864e-05
         ],
         "yaxis": "y"
        },
        {
         "hovertemplate": "<b>%{hovertext}</b><br><br>Name=CA12X2_C1<br>Avg Temperature [K]=%{x}<br>Avg Current [A/cm2]=%{y}<br>Avg Osc Amplitude [V/cm]=%{marker.size}<extra></extra>",
         "hovertext": [
          "CA12X2_C1_current_from_0.3e-6_to_0.4e-6A-20220428162717",
          "CA12X2_C1_current_from_0.5e-6_to_1e-6A-20220428153610",
          "CA12X2_C1_current_from_0.5e-6_to_1e-6A-20220428154754",
          "CA12X2_C1_current_from_1e-7_to_1e-6A-20220428162518"
         ],
         "legendgroup": "CA12X2_C1",
         "marker": {
          "color": "#FFA15A",
          "size": [
           123.35304821530669,
           100.9774681224436,
           105.96878906847869,
           115.93307084048028
          ],
          "sizemode": "area",
          "sizeref": 0.1512198748079877,
          "symbol": "circle"
         },
         "mode": "markers",
         "name": "CA12X2_C1",
         "orientation": "v",
         "showlegend": true,
         "type": "scatter",
         "x": [
          87.94975212793224,
          103.43576754110424,
          102.09991796451557,
          97.99243870006084
         ],
         "xaxis": "x",
         "y": [
          5.8205408094178775e-06,
          1.1711563844265267e-05,
          1.1412363308097906e-05,
          5.924170616113744e-06
         ],
         "yaxis": "y"
        }
       ],
       "layout": {
        "height": 800,
        "legend": {
         "itemsizing": "constant",
         "title": {
          "text": "Name"
         },
         "tracegroupgap": 0
        },
        "template": {
         "data": {
          "bar": [
           {
            "error_x": {
             "color": "#2a3f5f"
            },
            "error_y": {
             "color": "#2a3f5f"
            },
            "marker": {
             "line": {
              "color": "#E5ECF6",
              "width": 0.5
             },
             "pattern": {
              "fillmode": "overlay",
              "size": 10,
              "solidity": 0.2
             }
            },
            "type": "bar"
           }
          ],
          "barpolar": [
           {
            "marker": {
             "line": {
              "color": "#E5ECF6",
              "width": 0.5
             },
             "pattern": {
              "fillmode": "overlay",
              "size": 10,
              "solidity": 0.2
             }
            },
            "type": "barpolar"
           }
          ],
          "carpet": [
           {
            "aaxis": {
             "endlinecolor": "#2a3f5f",
             "gridcolor": "white",
             "linecolor": "white",
             "minorgridcolor": "white",
             "startlinecolor": "#2a3f5f"
            },
            "baxis": {
             "endlinecolor": "#2a3f5f",
             "gridcolor": "white",
             "linecolor": "white",
             "minorgridcolor": "white",
             "startlinecolor": "#2a3f5f"
            },
            "type": "carpet"
           }
          ],
          "choropleth": [
           {
            "colorbar": {
             "outlinewidth": 0,
             "ticks": ""
            },
            "type": "choropleth"
           }
          ],
          "contour": [
           {
            "colorbar": {
             "outlinewidth": 0,
             "ticks": ""
            },
            "colorscale": [
             [
              0,
              "#0d0887"
             ],
             [
              0.1111111111111111,
              "#46039f"
             ],
             [
              0.2222222222222222,
              "#7201a8"
             ],
             [
              0.3333333333333333,
              "#9c179e"
             ],
             [
              0.4444444444444444,
              "#bd3786"
             ],
             [
              0.5555555555555556,
              "#d8576b"
             ],
             [
              0.6666666666666666,
              "#ed7953"
             ],
             [
              0.7777777777777778,
              "#fb9f3a"
             ],
             [
              0.8888888888888888,
              "#fdca26"
             ],
             [
              1,
              "#f0f921"
             ]
            ],
            "type": "contour"
           }
          ],
          "contourcarpet": [
           {
            "colorbar": {
             "outlinewidth": 0,
             "ticks": ""
            },
            "type": "contourcarpet"
           }
          ],
          "heatmap": [
           {
            "colorbar": {
             "outlinewidth": 0,
             "ticks": ""
            },
            "colorscale": [
             [
              0,
              "#0d0887"
             ],
             [
              0.1111111111111111,
              "#46039f"
             ],
             [
              0.2222222222222222,
              "#7201a8"
             ],
             [
              0.3333333333333333,
              "#9c179e"
             ],
             [
              0.4444444444444444,
              "#bd3786"
             ],
             [
              0.5555555555555556,
              "#d8576b"
             ],
             [
              0.6666666666666666,
              "#ed7953"
             ],
             [
              0.7777777777777778,
              "#fb9f3a"
             ],
             [
              0.8888888888888888,
              "#fdca26"
             ],
             [
              1,
              "#f0f921"
             ]
            ],
            "type": "heatmap"
           }
          ],
          "heatmapgl": [
           {
            "colorbar": {
             "outlinewidth": 0,
             "ticks": ""
            },
            "colorscale": [
             [
              0,
              "#0d0887"
             ],
             [
              0.1111111111111111,
              "#46039f"
             ],
             [
              0.2222222222222222,
              "#7201a8"
             ],
             [
              0.3333333333333333,
              "#9c179e"
             ],
             [
              0.4444444444444444,
              "#bd3786"
             ],
             [
              0.5555555555555556,
              "#d8576b"
             ],
             [
              0.6666666666666666,
              "#ed7953"
             ],
             [
              0.7777777777777778,
              "#fb9f3a"
             ],
             [
              0.8888888888888888,
              "#fdca26"
             ],
             [
              1,
              "#f0f921"
             ]
            ],
            "type": "heatmapgl"
           }
          ],
          "histogram": [
           {
            "marker": {
             "pattern": {
              "fillmode": "overlay",
              "size": 10,
              "solidity": 0.2
             }
            },
            "type": "histogram"
           }
          ],
          "histogram2d": [
           {
            "colorbar": {
             "outlinewidth": 0,
             "ticks": ""
            },
            "colorscale": [
             [
              0,
              "#0d0887"
             ],
             [
              0.1111111111111111,
              "#46039f"
             ],
             [
              0.2222222222222222,
              "#7201a8"
             ],
             [
              0.3333333333333333,
              "#9c179e"
             ],
             [
              0.4444444444444444,
              "#bd3786"
             ],
             [
              0.5555555555555556,
              "#d8576b"
             ],
             [
              0.6666666666666666,
              "#ed7953"
             ],
             [
              0.7777777777777778,
              "#fb9f3a"
             ],
             [
              0.8888888888888888,
              "#fdca26"
             ],
             [
              1,
              "#f0f921"
             ]
            ],
            "type": "histogram2d"
           }
          ],
          "histogram2dcontour": [
           {
            "colorbar": {
             "outlinewidth": 0,
             "ticks": ""
            },
            "colorscale": [
             [
              0,
              "#0d0887"
             ],
             [
              0.1111111111111111,
              "#46039f"
             ],
             [
              0.2222222222222222,
              "#7201a8"
             ],
             [
              0.3333333333333333,
              "#9c179e"
             ],
             [
              0.4444444444444444,
              "#bd3786"
             ],
             [
              0.5555555555555556,
              "#d8576b"
             ],
             [
              0.6666666666666666,
              "#ed7953"
             ],
             [
              0.7777777777777778,
              "#fb9f3a"
             ],
             [
              0.8888888888888888,
              "#fdca26"
             ],
             [
              1,
              "#f0f921"
             ]
            ],
            "type": "histogram2dcontour"
           }
          ],
          "mesh3d": [
           {
            "colorbar": {
             "outlinewidth": 0,
             "ticks": ""
            },
            "type": "mesh3d"
           }
          ],
          "parcoords": [
           {
            "line": {
             "colorbar": {
              "outlinewidth": 0,
              "ticks": ""
             }
            },
            "type": "parcoords"
           }
          ],
          "pie": [
           {
            "automargin": true,
            "type": "pie"
           }
          ],
          "scatter": [
           {
            "fillpattern": {
             "fillmode": "overlay",
             "size": 10,
             "solidity": 0.2
            },
            "type": "scatter"
           }
          ],
          "scatter3d": [
           {
            "line": {
             "colorbar": {
              "outlinewidth": 0,
              "ticks": ""
             }
            },
            "marker": {
             "colorbar": {
              "outlinewidth": 0,
              "ticks": ""
             }
            },
            "type": "scatter3d"
           }
          ],
          "scattercarpet": [
           {
            "marker": {
             "colorbar": {
              "outlinewidth": 0,
              "ticks": ""
             }
            },
            "type": "scattercarpet"
           }
          ],
          "scattergeo": [
           {
            "marker": {
             "colorbar": {
              "outlinewidth": 0,
              "ticks": ""
             }
            },
            "type": "scattergeo"
           }
          ],
          "scattergl": [
           {
            "marker": {
             "colorbar": {
              "outlinewidth": 0,
              "ticks": ""
             }
            },
            "type": "scattergl"
           }
          ],
          "scattermapbox": [
           {
            "marker": {
             "colorbar": {
              "outlinewidth": 0,
              "ticks": ""
             }
            },
            "type": "scattermapbox"
           }
          ],
          "scatterpolar": [
           {
            "marker": {
             "colorbar": {
              "outlinewidth": 0,
              "ticks": ""
             }
            },
            "type": "scatterpolar"
           }
          ],
          "scatterpolargl": [
           {
            "marker": {
             "colorbar": {
              "outlinewidth": 0,
              "ticks": ""
             }
            },
            "type": "scatterpolargl"
           }
          ],
          "scatterternary": [
           {
            "marker": {
             "colorbar": {
              "outlinewidth": 0,
              "ticks": ""
             }
            },
            "type": "scatterternary"
           }
          ],
          "surface": [
           {
            "colorbar": {
             "outlinewidth": 0,
             "ticks": ""
            },
            "colorscale": [
             [
              0,
              "#0d0887"
             ],
             [
              0.1111111111111111,
              "#46039f"
             ],
             [
              0.2222222222222222,
              "#7201a8"
             ],
             [
              0.3333333333333333,
              "#9c179e"
             ],
             [
              0.4444444444444444,
              "#bd3786"
             ],
             [
              0.5555555555555556,
              "#d8576b"
             ],
             [
              0.6666666666666666,
              "#ed7953"
             ],
             [
              0.7777777777777778,
              "#fb9f3a"
             ],
             [
              0.8888888888888888,
              "#fdca26"
             ],
             [
              1,
              "#f0f921"
             ]
            ],
            "type": "surface"
           }
          ],
          "table": [
           {
            "cells": {
             "fill": {
              "color": "#EBF0F8"
             },
             "line": {
              "color": "white"
             }
            },
            "header": {
             "fill": {
              "color": "#C8D4E3"
             },
             "line": {
              "color": "white"
             }
            },
            "type": "table"
           }
          ]
         },
         "layout": {
          "annotationdefaults": {
           "arrowcolor": "#2a3f5f",
           "arrowhead": 0,
           "arrowwidth": 1
          },
          "autotypenumbers": "strict",
          "coloraxis": {
           "colorbar": {
            "outlinewidth": 0,
            "ticks": ""
           }
          },
          "colorscale": {
           "diverging": [
            [
             0,
             "#8e0152"
            ],
            [
             0.1,
             "#c51b7d"
            ],
            [
             0.2,
             "#de77ae"
            ],
            [
             0.3,
             "#f1b6da"
            ],
            [
             0.4,
             "#fde0ef"
            ],
            [
             0.5,
             "#f7f7f7"
            ],
            [
             0.6,
             "#e6f5d0"
            ],
            [
             0.7,
             "#b8e186"
            ],
            [
             0.8,
             "#7fbc41"
            ],
            [
             0.9,
             "#4d9221"
            ],
            [
             1,
             "#276419"
            ]
           ],
           "sequential": [
            [
             0,
             "#0d0887"
            ],
            [
             0.1111111111111111,
             "#46039f"
            ],
            [
             0.2222222222222222,
             "#7201a8"
            ],
            [
             0.3333333333333333,
             "#9c179e"
            ],
            [
             0.4444444444444444,
             "#bd3786"
            ],
            [
             0.5555555555555556,
             "#d8576b"
            ],
            [
             0.6666666666666666,
             "#ed7953"
            ],
            [
             0.7777777777777778,
             "#fb9f3a"
            ],
            [
             0.8888888888888888,
             "#fdca26"
            ],
            [
             1,
             "#f0f921"
            ]
           ],
           "sequentialminus": [
            [
             0,
             "#0d0887"
            ],
            [
             0.1111111111111111,
             "#46039f"
            ],
            [
             0.2222222222222222,
             "#7201a8"
            ],
            [
             0.3333333333333333,
             "#9c179e"
            ],
            [
             0.4444444444444444,
             "#bd3786"
            ],
            [
             0.5555555555555556,
             "#d8576b"
            ],
            [
             0.6666666666666666,
             "#ed7953"
            ],
            [
             0.7777777777777778,
             "#fb9f3a"
            ],
            [
             0.8888888888888888,
             "#fdca26"
            ],
            [
             1,
             "#f0f921"
            ]
           ]
          },
          "colorway": [
           "#636efa",
           "#EF553B",
           "#00cc96",
           "#ab63fa",
           "#FFA15A",
           "#19d3f3",
           "#FF6692",
           "#B6E880",
           "#FF97FF",
           "#FECB52"
          ],
          "font": {
           "color": "#2a3f5f"
          },
          "geo": {
           "bgcolor": "white",
           "lakecolor": "white",
           "landcolor": "#E5ECF6",
           "showlakes": true,
           "showland": true,
           "subunitcolor": "white"
          },
          "hoverlabel": {
           "align": "left"
          },
          "hovermode": "closest",
          "mapbox": {
           "style": "light"
          },
          "paper_bgcolor": "white",
          "plot_bgcolor": "#E5ECF6",
          "polar": {
           "angularaxis": {
            "gridcolor": "white",
            "linecolor": "white",
            "ticks": ""
           },
           "bgcolor": "#E5ECF6",
           "radialaxis": {
            "gridcolor": "white",
            "linecolor": "white",
            "ticks": ""
           }
          },
          "scene": {
           "xaxis": {
            "backgroundcolor": "#E5ECF6",
            "gridcolor": "white",
            "gridwidth": 2,
            "linecolor": "white",
            "showbackground": true,
            "ticks": "",
            "zerolinecolor": "white"
           },
           "yaxis": {
            "backgroundcolor": "#E5ECF6",
            "gridcolor": "white",
            "gridwidth": 2,
            "linecolor": "white",
            "showbackground": true,
            "ticks": "",
            "zerolinecolor": "white"
           },
           "zaxis": {
            "backgroundcolor": "#E5ECF6",
            "gridcolor": "white",
            "gridwidth": 2,
            "linecolor": "white",
            "showbackground": true,
            "ticks": "",
            "zerolinecolor": "white"
           }
          },
          "shapedefaults": {
           "line": {
            "color": "#2a3f5f"
           }
          },
          "ternary": {
           "aaxis": {
            "gridcolor": "white",
            "linecolor": "white",
            "ticks": ""
           },
           "baxis": {
            "gridcolor": "white",
            "linecolor": "white",
            "ticks": ""
           },
           "bgcolor": "#E5ECF6",
           "caxis": {
            "gridcolor": "white",
            "linecolor": "white",
            "ticks": ""
           }
          },
          "title": {
           "x": 0.05
          },
          "xaxis": {
           "automargin": true,
           "gridcolor": "white",
           "linecolor": "white",
           "ticks": "",
           "title": {
            "standoff": 15
           },
           "zerolinecolor": "white",
           "zerolinewidth": 2
          },
          "yaxis": {
           "automargin": true,
           "gridcolor": "white",
           "linecolor": "white",
           "ticks": "",
           "title": {
            "standoff": 15
           },
           "zerolinecolor": "white",
           "zerolinewidth": 2
          }
         }
        },
        "title": {
         "text": "Distribuzione dell'Ampiezza in funzione di corrente e temperatura"
        },
        "width": 952,
        "xaxis": {
         "anchor": "y",
         "domain": [
          0,
          1
         ],
         "title": {
          "text": "Avg Temperature [K]"
         }
        },
        "yaxis": {
         "anchor": "x",
         "domain": [
          0,
          1
         ],
         "title": {
          "text": "Avg Current [A/cm2]"
         },
         "type": "log"
        }
       }
      },
      "text/html": [
       "<div>                            <div id=\"dc044d1d-15c1-4ff7-91c2-643883b02d02\" class=\"plotly-graph-div\" style=\"height:800px; width:952px;\"></div>            <script type=\"text/javascript\">                require([\"plotly\"], function(Plotly) {                    window.PLOTLYENV=window.PLOTLYENV || {};                                    if (document.getElementById(\"dc044d1d-15c1-4ff7-91c2-643883b02d02\")) {                    Plotly.newPlot(                        \"dc044d1d-15c1-4ff7-91c2-643883b02d02\",                        [{\"hovertemplate\":\"<b>%{hovertext}</b><br><br>Name=CA12X2<br>Avg Temperature [K]=%{x}<br>Avg Current [A/cm2]=%{y}<br>Avg Osc Amplitude [V/cm]=%{marker.size}<extra></extra>\",\"hovertext\":[\"CA12X2_current_from_100e-9_to_200e-9A_flipped-20220315160531\",\"CA12X2_current_from_10e-9_to_100e-9A_flipped-20220315155945\",\"CA12X2_current_from_0.1e-6_to_1.0e-6A-20220317151236\",\"CA12X2_current_from_0.1e-6_to_1.5e-6A-20220317150657\",\"CA12X2_current_from_1e-9_to_10e-9A_flipped-20220315155235\",\"CA12X2_current_from_1e-9_to_1000e-9A_flipped-20220315170952\",\"CA12X2_current_from_200e-9_to_300e-9A_flipped-20220315161234\",\"CA12X2_current_from_100e-9_to_200e-9A-20220315152213\",\"CA12X2_current_from_1e-9_to_10e-9A-20220315153228\",\"CA12X2_current_from_1e-9_to_10e-9A-20220315151857\",\"CA12X2_current_from_10e-9_to_100e-9A-20220315151525\",\"CA12X2_current_from_1e-6_to_2e-6A-20220317143643\",\"CA12X2_current_from_200e-9_to_300e-9A-20220315152513\"],\"legendgroup\":\"CA12X2\",\"marker\":{\"color\":\"#636efa\",\"size\":[257.99371714541246,165.5609240032905,180.80883351632264,167.4216549172278,485.1738810592032,246.02805514924893,308.4391889952153,257.577093197601,489.7577687514029,464.2819840951179,156.3530860546756,148.8656570707071,308.9615706099456],\"sizemode\":\"area\",\"sizeref\":0.1512198748079877,\"symbol\":\"circle\"},\"mode\":\"markers\",\"name\":\"CA12X2\",\"orientation\":\"v\",\"showlegend\":true,\"x\":[113.48018048230064,113.47038747931718,108.95441729447298,129.2381324109405,113.46264874300995,113.48172732110667,113.47842832178341,113.4470325494966,113.43692551500877,113.44355525277572,113.4454298182477,133.8554300093167,113.44805214637552],\"xaxis\":\"x\",\"y\":[3.0994362178052623e-06,1.134708852620232e-06,8.888552678858484e-06,1.458311006886002e-05,1.2670915520925926e-07,2.9748283752860413e-06,5.022137329189544e-06,3.0994362178052623e-06,1.2670915520925926e-07,1.2481797378822552e-07,1.1252529455150629e-06,2.3639767762921495e-05,5.032643892639731e-06],\"yaxis\":\"y\",\"type\":\"scatter\"},{\"hovertemplate\":\"<b>%{hovertext}</b><br><br>Name=CA12_01_A<br>Avg Temperature [K]=%{x}<br>Avg Current [A/cm2]=%{y}<br>Avg Osc Amplitude [V/cm]=%{marker.size}<extra></extra>\",\"hovertext\":[\"CA12_01_A_current_from_1e-8_to_35e-8A-20220429161303\",\"CA12_01_A_current_from_1e-9_to_30e-8A-20220429165618\",\"CA12_01_A_current_from_1e-9_to_30e-8A-20220429163858\",\"CA12_01_A_current_from_0.5e-8_to_30e-8A-20220429161610\",\"CA12_01_A_current_from_1e-7_to_10e-7A-20220429152836\",\"CA12_01_A_current_from_1e-7_to_10e-7A-20220429152137\",\"CA12_01_A_current_from_1e-7_to_10e-7A-20220429151346\",\"CA12_01_A_current_from_1e-8_to_20e-8A-20220429153124\"],\"legendgroup\":\"CA12_01_A\",\"marker\":{\"color\":\"#EF553B\",\"size\":[498.71566942458594,478.61332438172064,469.8801052971138,473.4292771795417,526.3841079493088,544.3915493087558,542.0331737399193,449.9691909094982],\"sizemode\":\"area\",\"sizeref\":0.1512198748079877,\"symbol\":\"circle\"},\"mode\":\"markers\",\"name\":\"CA12_01_A\",\"orientation\":\"v\",\"showlegend\":true,\"x\":[107.22490263780487,95.17634373708593,99.29526170202244,99.55930264854368,112.67445502351177,116.28251296723863,123.43440189585394,108.2730863479829],\"xaxis\":\"x\",\"y\":[1.2221574721574726e-05,1.1091281403781404e-05,1.0244269619269618e-05,1.0664696470419362e-05,1.7846736596736593e-05,2.003205128205128e-05,2.986596736596737e-05,8.34938595355262e-06],\"yaxis\":\"y\",\"type\":\"scatter\"},{\"hovertemplate\":\"<b>%{hovertext}</b><br><br>Name=CA8_01_A<br>Avg Temperature [K]=%{x}<br>Avg Current [A/cm2]=%{y}<br>Avg Osc Amplitude [V/cm]=%{marker.size}<extra></extra>\",\"hovertext\":[\"CA8_01_A_current_from_0.5e-6_to_2e-6A_flipped-20220421110256\",\"CA8_01_A_current_from_1e-6_to_2e-6A-20220421110002\",\"CA8_01_A_current_from_1e-7_to_1.3e-6A-20220421182659\",\"CA8_01_A_current_from_-0.5e-6_to_1e-6A_flipped-20220421110914\",\"CA8_01_A_current_from_0.5e-7_to_4e-7A-20220421185114\"],\"legendgroup\":\"CA8_01_A\",\"marker\":{\"color\":\"#00cc96\",\"size\":[335.8989899208019,320.5228509026681,347.52271371545976,383.19981233894583,401.4438513755298],\"sizemode\":\"area\",\"sizeref\":0.1512198748079877,\"symbol\":\"circle\"},\"mode\":\"markers\",\"name\":\"CA8_01_A\",\"orientation\":\"v\",\"showlegend\":true,\"x\":[127.56662315159107,129.54850133976655,128.17523398077884,125.5403580602984,113.98739377147638],\"xaxis\":\"x\",\"y\":[3.329752953813104e-05,4.85499462943072e-05,3.151515151515152e-05,2.406015037593985e-05,9.250398724082933e-06],\"yaxis\":\"y\",\"type\":\"scatter\"},{\"hovertemplate\":\"<b>%{hovertext}</b><br><br>Name=CA12X_C5<br>Avg Temperature [K]=%{x}<br>Avg Current [A/cm2]=%{y}<br>Avg Osc Amplitude [V/cm]=%{marker.size}<extra></extra>\",\"hovertext\":[\"CA12X_C5_current_from_1e-7_to_10e-7A_flipped-20220412171054\",\"CA12X_C5_current_from_1e-7_to_3.5e-7A-20220413145630\",\"CA12X_C5_current_from_3.5e-7_to_5e-7A-20220413145837\",\"CA12X_C5_current_from_1e-7_to_10e-7A-20220413133337\",\"CA12X_C5_current_from_1e-7_to_10e-7A-20220412170113\"],\"legendgroup\":\"CA12X_C5\",\"marker\":{\"color\":\"#ab63fa\",\"size\":[421.51413718954245,427.9648813258637,463.7403505190312,402.9853836601308,410.4836907679739],\"sizemode\":\"area\",\"sizeref\":0.1512198748079877,\"symbol\":\"circle\"},\"mode\":\"markers\",\"name\":\"CA12X_C5\",\"orientation\":\"v\",\"showlegend\":true,\"x\":[119.40001251119938,112.99590633267607,112.98509315337563,118.93872759441619,119.70959750713385],\"xaxis\":\"x\",\"y\":[1.5397699471080285e-05,8.398258839857425e-06,1.5653092767246e-05,1.4864523862095071e-05,1.5807222144161864e-05],\"yaxis\":\"y\",\"type\":\"scatter\"},{\"hovertemplate\":\"<b>%{hovertext}</b><br><br>Name=CA12X2_C1<br>Avg Temperature [K]=%{x}<br>Avg Current [A/cm2]=%{y}<br>Avg Osc Amplitude [V/cm]=%{marker.size}<extra></extra>\",\"hovertext\":[\"CA12X2_C1_current_from_0.3e-6_to_0.4e-6A-20220428162717\",\"CA12X2_C1_current_from_0.5e-6_to_1e-6A-20220428153610\",\"CA12X2_C1_current_from_0.5e-6_to_1e-6A-20220428154754\",\"CA12X2_C1_current_from_1e-7_to_1e-6A-20220428162518\"],\"legendgroup\":\"CA12X2_C1\",\"marker\":{\"color\":\"#FFA15A\",\"size\":[123.35304821530669,100.9774681224436,105.96878906847869,115.93307084048028],\"sizemode\":\"area\",\"sizeref\":0.1512198748079877,\"symbol\":\"circle\"},\"mode\":\"markers\",\"name\":\"CA12X2_C1\",\"orientation\":\"v\",\"showlegend\":true,\"x\":[87.94975212793224,103.43576754110424,102.09991796451557,97.99243870006084],\"xaxis\":\"x\",\"y\":[5.8205408094178775e-06,1.1711563844265267e-05,1.1412363308097906e-05,5.924170616113744e-06],\"yaxis\":\"y\",\"type\":\"scatter\"}],                        {\"template\":{\"data\":{\"histogram2dcontour\":[{\"type\":\"histogram2dcontour\",\"colorbar\":{\"outlinewidth\":0,\"ticks\":\"\"},\"colorscale\":[[0.0,\"#0d0887\"],[0.1111111111111111,\"#46039f\"],[0.2222222222222222,\"#7201a8\"],[0.3333333333333333,\"#9c179e\"],[0.4444444444444444,\"#bd3786\"],[0.5555555555555556,\"#d8576b\"],[0.6666666666666666,\"#ed7953\"],[0.7777777777777778,\"#fb9f3a\"],[0.8888888888888888,\"#fdca26\"],[1.0,\"#f0f921\"]]}],\"choropleth\":[{\"type\":\"choropleth\",\"colorbar\":{\"outlinewidth\":0,\"ticks\":\"\"}}],\"histogram2d\":[{\"type\":\"histogram2d\",\"colorbar\":{\"outlinewidth\":0,\"ticks\":\"\"},\"colorscale\":[[0.0,\"#0d0887\"],[0.1111111111111111,\"#46039f\"],[0.2222222222222222,\"#7201a8\"],[0.3333333333333333,\"#9c179e\"],[0.4444444444444444,\"#bd3786\"],[0.5555555555555556,\"#d8576b\"],[0.6666666666666666,\"#ed7953\"],[0.7777777777777778,\"#fb9f3a\"],[0.8888888888888888,\"#fdca26\"],[1.0,\"#f0f921\"]]}],\"heatmap\":[{\"type\":\"heatmap\",\"colorbar\":{\"outlinewidth\":0,\"ticks\":\"\"},\"colorscale\":[[0.0,\"#0d0887\"],[0.1111111111111111,\"#46039f\"],[0.2222222222222222,\"#7201a8\"],[0.3333333333333333,\"#9c179e\"],[0.4444444444444444,\"#bd3786\"],[0.5555555555555556,\"#d8576b\"],[0.6666666666666666,\"#ed7953\"],[0.7777777777777778,\"#fb9f3a\"],[0.8888888888888888,\"#fdca26\"],[1.0,\"#f0f921\"]]}],\"heatmapgl\":[{\"type\":\"heatmapgl\",\"colorbar\":{\"outlinewidth\":0,\"ticks\":\"\"},\"colorscale\":[[0.0,\"#0d0887\"],[0.1111111111111111,\"#46039f\"],[0.2222222222222222,\"#7201a8\"],[0.3333333333333333,\"#9c179e\"],[0.4444444444444444,\"#bd3786\"],[0.5555555555555556,\"#d8576b\"],[0.6666666666666666,\"#ed7953\"],[0.7777777777777778,\"#fb9f3a\"],[0.8888888888888888,\"#fdca26\"],[1.0,\"#f0f921\"]]}],\"contourcarpet\":[{\"type\":\"contourcarpet\",\"colorbar\":{\"outlinewidth\":0,\"ticks\":\"\"}}],\"contour\":[{\"type\":\"contour\",\"colorbar\":{\"outlinewidth\":0,\"ticks\":\"\"},\"colorscale\":[[0.0,\"#0d0887\"],[0.1111111111111111,\"#46039f\"],[0.2222222222222222,\"#7201a8\"],[0.3333333333333333,\"#9c179e\"],[0.4444444444444444,\"#bd3786\"],[0.5555555555555556,\"#d8576b\"],[0.6666666666666666,\"#ed7953\"],[0.7777777777777778,\"#fb9f3a\"],[0.8888888888888888,\"#fdca26\"],[1.0,\"#f0f921\"]]}],\"surface\":[{\"type\":\"surface\",\"colorbar\":{\"outlinewidth\":0,\"ticks\":\"\"},\"colorscale\":[[0.0,\"#0d0887\"],[0.1111111111111111,\"#46039f\"],[0.2222222222222222,\"#7201a8\"],[0.3333333333333333,\"#9c179e\"],[0.4444444444444444,\"#bd3786\"],[0.5555555555555556,\"#d8576b\"],[0.6666666666666666,\"#ed7953\"],[0.7777777777777778,\"#fb9f3a\"],[0.8888888888888888,\"#fdca26\"],[1.0,\"#f0f921\"]]}],\"mesh3d\":[{\"type\":\"mesh3d\",\"colorbar\":{\"outlinewidth\":0,\"ticks\":\"\"}}],\"scatter\":[{\"fillpattern\":{\"fillmode\":\"overlay\",\"size\":10,\"solidity\":0.2},\"type\":\"scatter\"}],\"parcoords\":[{\"type\":\"parcoords\",\"line\":{\"colorbar\":{\"outlinewidth\":0,\"ticks\":\"\"}}}],\"scatterpolargl\":[{\"type\":\"scatterpolargl\",\"marker\":{\"colorbar\":{\"outlinewidth\":0,\"ticks\":\"\"}}}],\"bar\":[{\"error_x\":{\"color\":\"#2a3f5f\"},\"error_y\":{\"color\":\"#2a3f5f\"},\"marker\":{\"line\":{\"color\":\"#E5ECF6\",\"width\":0.5},\"pattern\":{\"fillmode\":\"overlay\",\"size\":10,\"solidity\":0.2}},\"type\":\"bar\"}],\"scattergeo\":[{\"type\":\"scattergeo\",\"marker\":{\"colorbar\":{\"outlinewidth\":0,\"ticks\":\"\"}}}],\"scatterpolar\":[{\"type\":\"scatterpolar\",\"marker\":{\"colorbar\":{\"outlinewidth\":0,\"ticks\":\"\"}}}],\"histogram\":[{\"marker\":{\"pattern\":{\"fillmode\":\"overlay\",\"size\":10,\"solidity\":0.2}},\"type\":\"histogram\"}],\"scattergl\":[{\"type\":\"scattergl\",\"marker\":{\"colorbar\":{\"outlinewidth\":0,\"ticks\":\"\"}}}],\"scatter3d\":[{\"type\":\"scatter3d\",\"line\":{\"colorbar\":{\"outlinewidth\":0,\"ticks\":\"\"}},\"marker\":{\"colorbar\":{\"outlinewidth\":0,\"ticks\":\"\"}}}],\"scattermapbox\":[{\"type\":\"scattermapbox\",\"marker\":{\"colorbar\":{\"outlinewidth\":0,\"ticks\":\"\"}}}],\"scatterternary\":[{\"type\":\"scatterternary\",\"marker\":{\"colorbar\":{\"outlinewidth\":0,\"ticks\":\"\"}}}],\"scattercarpet\":[{\"type\":\"scattercarpet\",\"marker\":{\"colorbar\":{\"outlinewidth\":0,\"ticks\":\"\"}}}],\"carpet\":[{\"aaxis\":{\"endlinecolor\":\"#2a3f5f\",\"gridcolor\":\"white\",\"linecolor\":\"white\",\"minorgridcolor\":\"white\",\"startlinecolor\":\"#2a3f5f\"},\"baxis\":{\"endlinecolor\":\"#2a3f5f\",\"gridcolor\":\"white\",\"linecolor\":\"white\",\"minorgridcolor\":\"white\",\"startlinecolor\":\"#2a3f5f\"},\"type\":\"carpet\"}],\"table\":[{\"cells\":{\"fill\":{\"color\":\"#EBF0F8\"},\"line\":{\"color\":\"white\"}},\"header\":{\"fill\":{\"color\":\"#C8D4E3\"},\"line\":{\"color\":\"white\"}},\"type\":\"table\"}],\"barpolar\":[{\"marker\":{\"line\":{\"color\":\"#E5ECF6\",\"width\":0.5},\"pattern\":{\"fillmode\":\"overlay\",\"size\":10,\"solidity\":0.2}},\"type\":\"barpolar\"}],\"pie\":[{\"automargin\":true,\"type\":\"pie\"}]},\"layout\":{\"autotypenumbers\":\"strict\",\"colorway\":[\"#636efa\",\"#EF553B\",\"#00cc96\",\"#ab63fa\",\"#FFA15A\",\"#19d3f3\",\"#FF6692\",\"#B6E880\",\"#FF97FF\",\"#FECB52\"],\"font\":{\"color\":\"#2a3f5f\"},\"hovermode\":\"closest\",\"hoverlabel\":{\"align\":\"left\"},\"paper_bgcolor\":\"white\",\"plot_bgcolor\":\"#E5ECF6\",\"polar\":{\"bgcolor\":\"#E5ECF6\",\"angularaxis\":{\"gridcolor\":\"white\",\"linecolor\":\"white\",\"ticks\":\"\"},\"radialaxis\":{\"gridcolor\":\"white\",\"linecolor\":\"white\",\"ticks\":\"\"}},\"ternary\":{\"bgcolor\":\"#E5ECF6\",\"aaxis\":{\"gridcolor\":\"white\",\"linecolor\":\"white\",\"ticks\":\"\"},\"baxis\":{\"gridcolor\":\"white\",\"linecolor\":\"white\",\"ticks\":\"\"},\"caxis\":{\"gridcolor\":\"white\",\"linecolor\":\"white\",\"ticks\":\"\"}},\"coloraxis\":{\"colorbar\":{\"outlinewidth\":0,\"ticks\":\"\"}},\"colorscale\":{\"sequential\":[[0.0,\"#0d0887\"],[0.1111111111111111,\"#46039f\"],[0.2222222222222222,\"#7201a8\"],[0.3333333333333333,\"#9c179e\"],[0.4444444444444444,\"#bd3786\"],[0.5555555555555556,\"#d8576b\"],[0.6666666666666666,\"#ed7953\"],[0.7777777777777778,\"#fb9f3a\"],[0.8888888888888888,\"#fdca26\"],[1.0,\"#f0f921\"]],\"sequentialminus\":[[0.0,\"#0d0887\"],[0.1111111111111111,\"#46039f\"],[0.2222222222222222,\"#7201a8\"],[0.3333333333333333,\"#9c179e\"],[0.4444444444444444,\"#bd3786\"],[0.5555555555555556,\"#d8576b\"],[0.6666666666666666,\"#ed7953\"],[0.7777777777777778,\"#fb9f3a\"],[0.8888888888888888,\"#fdca26\"],[1.0,\"#f0f921\"]],\"diverging\":[[0,\"#8e0152\"],[0.1,\"#c51b7d\"],[0.2,\"#de77ae\"],[0.3,\"#f1b6da\"],[0.4,\"#fde0ef\"],[0.5,\"#f7f7f7\"],[0.6,\"#e6f5d0\"],[0.7,\"#b8e186\"],[0.8,\"#7fbc41\"],[0.9,\"#4d9221\"],[1,\"#276419\"]]},\"xaxis\":{\"gridcolor\":\"white\",\"linecolor\":\"white\",\"ticks\":\"\",\"title\":{\"standoff\":15},\"zerolinecolor\":\"white\",\"automargin\":true,\"zerolinewidth\":2},\"yaxis\":{\"gridcolor\":\"white\",\"linecolor\":\"white\",\"ticks\":\"\",\"title\":{\"standoff\":15},\"zerolinecolor\":\"white\",\"automargin\":true,\"zerolinewidth\":2},\"scene\":{\"xaxis\":{\"backgroundcolor\":\"#E5ECF6\",\"gridcolor\":\"white\",\"linecolor\":\"white\",\"showbackground\":true,\"ticks\":\"\",\"zerolinecolor\":\"white\",\"gridwidth\":2},\"yaxis\":{\"backgroundcolor\":\"#E5ECF6\",\"gridcolor\":\"white\",\"linecolor\":\"white\",\"showbackground\":true,\"ticks\":\"\",\"zerolinecolor\":\"white\",\"gridwidth\":2},\"zaxis\":{\"backgroundcolor\":\"#E5ECF6\",\"gridcolor\":\"white\",\"linecolor\":\"white\",\"showbackground\":true,\"ticks\":\"\",\"zerolinecolor\":\"white\",\"gridwidth\":2}},\"shapedefaults\":{\"line\":{\"color\":\"#2a3f5f\"}},\"annotationdefaults\":{\"arrowcolor\":\"#2a3f5f\",\"arrowhead\":0,\"arrowwidth\":1},\"geo\":{\"bgcolor\":\"white\",\"landcolor\":\"#E5ECF6\",\"subunitcolor\":\"white\",\"showland\":true,\"showlakes\":true,\"lakecolor\":\"white\"},\"title\":{\"x\":0.05},\"mapbox\":{\"style\":\"light\"}}},\"xaxis\":{\"anchor\":\"y\",\"domain\":[0.0,1.0],\"title\":{\"text\":\"Avg Temperature [K]\"}},\"yaxis\":{\"anchor\":\"x\",\"domain\":[0.0,1.0],\"title\":{\"text\":\"Avg Current [A/cm2]\"},\"type\":\"log\"},\"legend\":{\"title\":{\"text\":\"Name\"},\"tracegroupgap\":0,\"itemsizing\":\"constant\"},\"title\":{\"text\":\"Distribuzione dell'Ampiezza in funzione di corrente e temperatura\"},\"height\":800,\"width\":952},                        {\"responsive\": true}                    ).then(function(){\n",
       "                            \n",
       "var gd = document.getElementById('dc044d1d-15c1-4ff7-91c2-643883b02d02');\n",
       "var x = new MutationObserver(function (mutations, observer) {{\n",
       "        var display = window.getComputedStyle(gd).display;\n",
       "        if (!display || display === 'none') {{\n",
       "            console.log([gd, 'removed!']);\n",
       "            Plotly.purge(gd);\n",
       "            observer.disconnect();\n",
       "        }}\n",
       "}});\n",
       "\n",
       "// Listen for the removal of the full notebook cells\n",
       "var notebookContainer = gd.closest('#notebook-container');\n",
       "if (notebookContainer) {{\n",
       "    x.observe(notebookContainer, {childList: true});\n",
       "}}\n",
       "\n",
       "// Listen for the clearing of the current output cell\n",
       "var outputEl = gd.closest('.output');\n",
       "if (outputEl) {{\n",
       "    x.observe(outputEl, {childList: true});\n",
       "}}\n",
       "\n",
       "                        })                };                });            </script>        </div>"
      ]
     },
     "metadata": {},
     "output_type": "display_data"
    },
    {
     "data": {
      "application/vnd.plotly.v1+json": {
       "config": {
        "plotlyServerURL": "https://plot.ly"
       },
       "data": [
        {
         "hovertemplate": "<b>%{hovertext}</b><br><br>Name=CA12X2<br>Avg Temperature [K]=%{x}<br>Avg Current [A/cm2]=%{y}<br>Avg Osc Period [ms]=%{marker.size}<extra></extra>",
         "hovertext": [
          "CA12X2_current_from_100e-9_to_200e-9A_flipped-20220315160531",
          "CA12X2_current_from_10e-9_to_100e-9A_flipped-20220315155945",
          "CA12X2_current_from_0.1e-6_to_1.0e-6A-20220317151236",
          "CA12X2_current_from_0.1e-6_to_1.5e-6A-20220317150657",
          "CA12X2_current_from_1e-9_to_10e-9A_flipped-20220315155235",
          "CA12X2_current_from_1e-9_to_1000e-9A_flipped-20220315170952",
          "CA12X2_current_from_200e-9_to_300e-9A_flipped-20220315161234",
          "CA12X2_current_from_100e-9_to_200e-9A-20220315152213",
          "CA12X2_current_from_1e-9_to_10e-9A-20220315153228",
          "CA12X2_current_from_1e-9_to_10e-9A-20220315151857",
          "CA12X2_current_from_10e-9_to_100e-9A-20220315151525",
          "CA12X2_current_from_1e-6_to_2e-6A-20220317143643",
          "CA12X2_current_from_200e-9_to_300e-9A-20220315152513"
         ],
         "legendgroup": "CA12X2",
         "marker": {
          "color": "#636efa",
          "size": [
           2446.8936170212764,
           3014.1891891891887,
           2442.4736842105262,
           2793,
           8748.2,
           2670.844262295082,
           2425,
           2634.6666666666665,
           8831.4,
           8304.2,
           3193.894736842105,
           2415.285714285714,
           2617.1612903225805
          ],
          "sizemode": "area",
          "sizeref": 2.4531666666666667,
          "symbol": "circle"
         },
         "mode": "markers",
         "name": "CA12X2",
         "orientation": "v",
         "showlegend": true,
         "type": "scatter",
         "x": [
          113.48018048230064,
          113.47038747931718,
          108.95441729447298,
          129.2381324109405,
          113.46264874300995,
          113.48172732110667,
          113.47842832178341,
          113.4470325494966,
          113.43692551500877,
          113.44355525277572,
          113.4454298182477,
          133.8554300093167,
          113.44805214637552
         ],
         "xaxis": "x",
         "y": [
          3.0994362178052623e-06,
          1.134708852620232e-06,
          8.888552678858484e-06,
          1.458311006886002e-05,
          1.2670915520925926e-07,
          2.9748283752860413e-06,
          5.022137329189544e-06,
          3.0994362178052623e-06,
          1.2670915520925926e-07,
          1.2481797378822552e-07,
          1.1252529455150629e-06,
          2.3639767762921495e-05,
          5.032643892639731e-06
         ],
         "yaxis": "y"
        },
        {
         "hovertemplate": "<b>%{hovertext}</b><br><br>Name=CA12_01_A<br>Avg Temperature [K]=%{x}<br>Avg Current [A/cm2]=%{y}<br>Avg Osc Period [ms]=%{marker.size}<extra></extra>",
         "hovertext": [
          "CA12_01_A_current_from_1e-8_to_35e-8A-20220429161303",
          "CA12_01_A_current_from_1e-9_to_30e-8A-20220429165618",
          "CA12_01_A_current_from_1e-9_to_30e-8A-20220429163858",
          "CA12_01_A_current_from_0.5e-8_to_30e-8A-20220429161610",
          "CA12_01_A_current_from_1e-7_to_10e-7A-20220429152836",
          "CA12_01_A_current_from_1e-7_to_10e-7A-20220429152137",
          "CA12_01_A_current_from_1e-7_to_10e-7A-20220429151346",
          "CA12_01_A_current_from_1e-8_to_20e-8A-20220429153124"
         ],
         "legendgroup": "CA12_01_A",
         "marker": {
          "color": "#EF553B",
          "size": [
           2198.5185185185187,
           2385.6,
           2380.4324324324325,
           2365.6388888888887,
           2179.3636363636365,
           2172.230769230769,
           2183.769230769231,
           2388.3030303030305
          ],
          "sizemode": "area",
          "sizeref": 2.4531666666666667,
          "symbol": "circle"
         },
         "mode": "markers",
         "name": "CA12_01_A",
         "orientation": "v",
         "showlegend": true,
         "type": "scatter",
         "x": [
          107.22490263780487,
          95.17634373708593,
          99.29526170202244,
          99.55930264854368,
          112.67445502351177,
          116.28251296723863,
          123.43440189585394,
          108.2730863479829
         ],
         "xaxis": "x",
         "y": [
          1.2221574721574726e-05,
          1.1091281403781404e-05,
          1.0244269619269618e-05,
          1.0664696470419362e-05,
          1.7846736596736593e-05,
          2.003205128205128e-05,
          2.986596736596737e-05,
          8.34938595355262e-06
         ],
         "yaxis": "y"
        },
        {
         "hovertemplate": "<b>%{hovertext}</b><br><br>Name=CA8_01_A<br>Avg Temperature [K]=%{x}<br>Avg Current [A/cm2]=%{y}<br>Avg Osc Period [ms]=%{marker.size}<extra></extra>",
         "hovertext": [
          "CA8_01_A_current_from_0.5e-6_to_2e-6A_flipped-20220421110256",
          "CA8_01_A_current_from_1e-6_to_2e-6A-20220421110002",
          "CA8_01_A_current_from_1e-7_to_1.3e-6A-20220421182659",
          "CA8_01_A_current_from_-0.5e-6_to_1e-6A_flipped-20220421110914",
          "CA8_01_A_current_from_0.5e-7_to_4e-7A-20220421185114"
         ],
         "legendgroup": "CA8_01_A",
         "marker": {
          "color": "#00cc96",
          "size": [
           2588.25,
           2602.333333333333,
           2633.076923076923,
           2594.75,
           2598.057142857143
          ],
          "sizemode": "area",
          "sizeref": 2.4531666666666667,
          "symbol": "circle"
         },
         "mode": "markers",
         "name": "CA8_01_A",
         "orientation": "v",
         "showlegend": true,
         "type": "scatter",
         "x": [
          127.56662315159107,
          129.54850133976655,
          128.17523398077884,
          125.5403580602984,
          113.98739377147638
         ],
         "xaxis": "x",
         "y": [
          3.329752953813104e-05,
          4.85499462943072e-05,
          3.151515151515152e-05,
          2.406015037593985e-05,
          9.250398724082933e-06
         ],
         "yaxis": "y"
        },
        {
         "hovertemplate": "<b>%{hovertext}</b><br><br>Name=CA12X_C5<br>Avg Temperature [K]=%{x}<br>Avg Current [A/cm2]=%{y}<br>Avg Osc Period [ms]=%{marker.size}<extra></extra>",
         "hovertext": [
          "CA12X_C5_current_from_1e-7_to_10e-7A_flipped-20220412171054",
          "CA12X_C5_current_from_1e-7_to_3.5e-7A-20220413145630",
          "CA12X_C5_current_from_3.5e-7_to_5e-7A-20220413145837",
          "CA12X_C5_current_from_1e-7_to_10e-7A-20220413133337",
          "CA12X_C5_current_from_1e-7_to_10e-7A-20220412170113"
         ],
         "legendgroup": "CA12X_C5",
         "marker": {
          "color": "#ab63fa",
          "size": [
           2613.6296296296296,
           2598.538461538461,
           2595.5,
           2584.5714285714284,
           2594.5
          ],
          "sizemode": "area",
          "sizeref": 2.4531666666666667,
          "symbol": "circle"
         },
         "mode": "markers",
         "name": "CA12X_C5",
         "orientation": "v",
         "showlegend": true,
         "type": "scatter",
         "x": [
          119.40001251119938,
          112.99590633267607,
          112.98509315337563,
          118.93872759441619,
          119.70959750713385
         ],
         "xaxis": "x",
         "y": [
          1.5397699471080285e-05,
          8.398258839857425e-06,
          1.5653092767246e-05,
          1.4864523862095071e-05,
          1.5807222144161864e-05
         ],
         "yaxis": "y"
        },
        {
         "hovertemplate": "<b>%{hovertext}</b><br><br>Name=CA12X2_C1<br>Avg Temperature [K]=%{x}<br>Avg Current [A/cm2]=%{y}<br>Avg Osc Period [ms]=%{marker.size}<extra></extra>",
         "hovertext": [
          "CA12X2_C1_current_from_0.3e-6_to_0.4e-6A-20220428162717",
          "CA12X2_C1_current_from_0.5e-6_to_1e-6A-20220428153610",
          "CA12X2_C1_current_from_0.5e-6_to_1e-6A-20220428154754",
          "CA12X2_C1_current_from_1e-7_to_1e-6A-20220428162518"
         ],
         "legendgroup": "CA12X2_C1",
         "marker": {
          "color": "#FFA15A",
          "size": [
           2186.294117647059,
           2185.85,
           2196.695652173913,
           2187.5714285714284
          ],
          "sizemode": "area",
          "sizeref": 2.4531666666666667,
          "symbol": "circle"
         },
         "mode": "markers",
         "name": "CA12X2_C1",
         "orientation": "v",
         "showlegend": true,
         "type": "scatter",
         "x": [
          87.94975212793224,
          103.43576754110424,
          102.09991796451557,
          97.99243870006084
         ],
         "xaxis": "x",
         "y": [
          5.8205408094178775e-06,
          1.1711563844265267e-05,
          1.1412363308097906e-05,
          5.924170616113744e-06
         ],
         "yaxis": "y"
        }
       ],
       "layout": {
        "height": 800,
        "legend": {
         "itemsizing": "constant",
         "title": {
          "text": "Name"
         },
         "tracegroupgap": 0
        },
        "template": {
         "data": {
          "bar": [
           {
            "error_x": {
             "color": "#2a3f5f"
            },
            "error_y": {
             "color": "#2a3f5f"
            },
            "marker": {
             "line": {
              "color": "#E5ECF6",
              "width": 0.5
             },
             "pattern": {
              "fillmode": "overlay",
              "size": 10,
              "solidity": 0.2
             }
            },
            "type": "bar"
           }
          ],
          "barpolar": [
           {
            "marker": {
             "line": {
              "color": "#E5ECF6",
              "width": 0.5
             },
             "pattern": {
              "fillmode": "overlay",
              "size": 10,
              "solidity": 0.2
             }
            },
            "type": "barpolar"
           }
          ],
          "carpet": [
           {
            "aaxis": {
             "endlinecolor": "#2a3f5f",
             "gridcolor": "white",
             "linecolor": "white",
             "minorgridcolor": "white",
             "startlinecolor": "#2a3f5f"
            },
            "baxis": {
             "endlinecolor": "#2a3f5f",
             "gridcolor": "white",
             "linecolor": "white",
             "minorgridcolor": "white",
             "startlinecolor": "#2a3f5f"
            },
            "type": "carpet"
           }
          ],
          "choropleth": [
           {
            "colorbar": {
             "outlinewidth": 0,
             "ticks": ""
            },
            "type": "choropleth"
           }
          ],
          "contour": [
           {
            "colorbar": {
             "outlinewidth": 0,
             "ticks": ""
            },
            "colorscale": [
             [
              0,
              "#0d0887"
             ],
             [
              0.1111111111111111,
              "#46039f"
             ],
             [
              0.2222222222222222,
              "#7201a8"
             ],
             [
              0.3333333333333333,
              "#9c179e"
             ],
             [
              0.4444444444444444,
              "#bd3786"
             ],
             [
              0.5555555555555556,
              "#d8576b"
             ],
             [
              0.6666666666666666,
              "#ed7953"
             ],
             [
              0.7777777777777778,
              "#fb9f3a"
             ],
             [
              0.8888888888888888,
              "#fdca26"
             ],
             [
              1,
              "#f0f921"
             ]
            ],
            "type": "contour"
           }
          ],
          "contourcarpet": [
           {
            "colorbar": {
             "outlinewidth": 0,
             "ticks": ""
            },
            "type": "contourcarpet"
           }
          ],
          "heatmap": [
           {
            "colorbar": {
             "outlinewidth": 0,
             "ticks": ""
            },
            "colorscale": [
             [
              0,
              "#0d0887"
             ],
             [
              0.1111111111111111,
              "#46039f"
             ],
             [
              0.2222222222222222,
              "#7201a8"
             ],
             [
              0.3333333333333333,
              "#9c179e"
             ],
             [
              0.4444444444444444,
              "#bd3786"
             ],
             [
              0.5555555555555556,
              "#d8576b"
             ],
             [
              0.6666666666666666,
              "#ed7953"
             ],
             [
              0.7777777777777778,
              "#fb9f3a"
             ],
             [
              0.8888888888888888,
              "#fdca26"
             ],
             [
              1,
              "#f0f921"
             ]
            ],
            "type": "heatmap"
           }
          ],
          "heatmapgl": [
           {
            "colorbar": {
             "outlinewidth": 0,
             "ticks": ""
            },
            "colorscale": [
             [
              0,
              "#0d0887"
             ],
             [
              0.1111111111111111,
              "#46039f"
             ],
             [
              0.2222222222222222,
              "#7201a8"
             ],
             [
              0.3333333333333333,
              "#9c179e"
             ],
             [
              0.4444444444444444,
              "#bd3786"
             ],
             [
              0.5555555555555556,
              "#d8576b"
             ],
             [
              0.6666666666666666,
              "#ed7953"
             ],
             [
              0.7777777777777778,
              "#fb9f3a"
             ],
             [
              0.8888888888888888,
              "#fdca26"
             ],
             [
              1,
              "#f0f921"
             ]
            ],
            "type": "heatmapgl"
           }
          ],
          "histogram": [
           {
            "marker": {
             "pattern": {
              "fillmode": "overlay",
              "size": 10,
              "solidity": 0.2
             }
            },
            "type": "histogram"
           }
          ],
          "histogram2d": [
           {
            "colorbar": {
             "outlinewidth": 0,
             "ticks": ""
            },
            "colorscale": [
             [
              0,
              "#0d0887"
             ],
             [
              0.1111111111111111,
              "#46039f"
             ],
             [
              0.2222222222222222,
              "#7201a8"
             ],
             [
              0.3333333333333333,
              "#9c179e"
             ],
             [
              0.4444444444444444,
              "#bd3786"
             ],
             [
              0.5555555555555556,
              "#d8576b"
             ],
             [
              0.6666666666666666,
              "#ed7953"
             ],
             [
              0.7777777777777778,
              "#fb9f3a"
             ],
             [
              0.8888888888888888,
              "#fdca26"
             ],
             [
              1,
              "#f0f921"
             ]
            ],
            "type": "histogram2d"
           }
          ],
          "histogram2dcontour": [
           {
            "colorbar": {
             "outlinewidth": 0,
             "ticks": ""
            },
            "colorscale": [
             [
              0,
              "#0d0887"
             ],
             [
              0.1111111111111111,
              "#46039f"
             ],
             [
              0.2222222222222222,
              "#7201a8"
             ],
             [
              0.3333333333333333,
              "#9c179e"
             ],
             [
              0.4444444444444444,
              "#bd3786"
             ],
             [
              0.5555555555555556,
              "#d8576b"
             ],
             [
              0.6666666666666666,
              "#ed7953"
             ],
             [
              0.7777777777777778,
              "#fb9f3a"
             ],
             [
              0.8888888888888888,
              "#fdca26"
             ],
             [
              1,
              "#f0f921"
             ]
            ],
            "type": "histogram2dcontour"
           }
          ],
          "mesh3d": [
           {
            "colorbar": {
             "outlinewidth": 0,
             "ticks": ""
            },
            "type": "mesh3d"
           }
          ],
          "parcoords": [
           {
            "line": {
             "colorbar": {
              "outlinewidth": 0,
              "ticks": ""
             }
            },
            "type": "parcoords"
           }
          ],
          "pie": [
           {
            "automargin": true,
            "type": "pie"
           }
          ],
          "scatter": [
           {
            "fillpattern": {
             "fillmode": "overlay",
             "size": 10,
             "solidity": 0.2
            },
            "type": "scatter"
           }
          ],
          "scatter3d": [
           {
            "line": {
             "colorbar": {
              "outlinewidth": 0,
              "ticks": ""
             }
            },
            "marker": {
             "colorbar": {
              "outlinewidth": 0,
              "ticks": ""
             }
            },
            "type": "scatter3d"
           }
          ],
          "scattercarpet": [
           {
            "marker": {
             "colorbar": {
              "outlinewidth": 0,
              "ticks": ""
             }
            },
            "type": "scattercarpet"
           }
          ],
          "scattergeo": [
           {
            "marker": {
             "colorbar": {
              "outlinewidth": 0,
              "ticks": ""
             }
            },
            "type": "scattergeo"
           }
          ],
          "scattergl": [
           {
            "marker": {
             "colorbar": {
              "outlinewidth": 0,
              "ticks": ""
             }
            },
            "type": "scattergl"
           }
          ],
          "scattermapbox": [
           {
            "marker": {
             "colorbar": {
              "outlinewidth": 0,
              "ticks": ""
             }
            },
            "type": "scattermapbox"
           }
          ],
          "scatterpolar": [
           {
            "marker": {
             "colorbar": {
              "outlinewidth": 0,
              "ticks": ""
             }
            },
            "type": "scatterpolar"
           }
          ],
          "scatterpolargl": [
           {
            "marker": {
             "colorbar": {
              "outlinewidth": 0,
              "ticks": ""
             }
            },
            "type": "scatterpolargl"
           }
          ],
          "scatterternary": [
           {
            "marker": {
             "colorbar": {
              "outlinewidth": 0,
              "ticks": ""
             }
            },
            "type": "scatterternary"
           }
          ],
          "surface": [
           {
            "colorbar": {
             "outlinewidth": 0,
             "ticks": ""
            },
            "colorscale": [
             [
              0,
              "#0d0887"
             ],
             [
              0.1111111111111111,
              "#46039f"
             ],
             [
              0.2222222222222222,
              "#7201a8"
             ],
             [
              0.3333333333333333,
              "#9c179e"
             ],
             [
              0.4444444444444444,
              "#bd3786"
             ],
             [
              0.5555555555555556,
              "#d8576b"
             ],
             [
              0.6666666666666666,
              "#ed7953"
             ],
             [
              0.7777777777777778,
              "#fb9f3a"
             ],
             [
              0.8888888888888888,
              "#fdca26"
             ],
             [
              1,
              "#f0f921"
             ]
            ],
            "type": "surface"
           }
          ],
          "table": [
           {
            "cells": {
             "fill": {
              "color": "#EBF0F8"
             },
             "line": {
              "color": "white"
             }
            },
            "header": {
             "fill": {
              "color": "#C8D4E3"
             },
             "line": {
              "color": "white"
             }
            },
            "type": "table"
           }
          ]
         },
         "layout": {
          "annotationdefaults": {
           "arrowcolor": "#2a3f5f",
           "arrowhead": 0,
           "arrowwidth": 1
          },
          "autotypenumbers": "strict",
          "coloraxis": {
           "colorbar": {
            "outlinewidth": 0,
            "ticks": ""
           }
          },
          "colorscale": {
           "diverging": [
            [
             0,
             "#8e0152"
            ],
            [
             0.1,
             "#c51b7d"
            ],
            [
             0.2,
             "#de77ae"
            ],
            [
             0.3,
             "#f1b6da"
            ],
            [
             0.4,
             "#fde0ef"
            ],
            [
             0.5,
             "#f7f7f7"
            ],
            [
             0.6,
             "#e6f5d0"
            ],
            [
             0.7,
             "#b8e186"
            ],
            [
             0.8,
             "#7fbc41"
            ],
            [
             0.9,
             "#4d9221"
            ],
            [
             1,
             "#276419"
            ]
           ],
           "sequential": [
            [
             0,
             "#0d0887"
            ],
            [
             0.1111111111111111,
             "#46039f"
            ],
            [
             0.2222222222222222,
             "#7201a8"
            ],
            [
             0.3333333333333333,
             "#9c179e"
            ],
            [
             0.4444444444444444,
             "#bd3786"
            ],
            [
             0.5555555555555556,
             "#d8576b"
            ],
            [
             0.6666666666666666,
             "#ed7953"
            ],
            [
             0.7777777777777778,
             "#fb9f3a"
            ],
            [
             0.8888888888888888,
             "#fdca26"
            ],
            [
             1,
             "#f0f921"
            ]
           ],
           "sequentialminus": [
            [
             0,
             "#0d0887"
            ],
            [
             0.1111111111111111,
             "#46039f"
            ],
            [
             0.2222222222222222,
             "#7201a8"
            ],
            [
             0.3333333333333333,
             "#9c179e"
            ],
            [
             0.4444444444444444,
             "#bd3786"
            ],
            [
             0.5555555555555556,
             "#d8576b"
            ],
            [
             0.6666666666666666,
             "#ed7953"
            ],
            [
             0.7777777777777778,
             "#fb9f3a"
            ],
            [
             0.8888888888888888,
             "#fdca26"
            ],
            [
             1,
             "#f0f921"
            ]
           ]
          },
          "colorway": [
           "#636efa",
           "#EF553B",
           "#00cc96",
           "#ab63fa",
           "#FFA15A",
           "#19d3f3",
           "#FF6692",
           "#B6E880",
           "#FF97FF",
           "#FECB52"
          ],
          "font": {
           "color": "#2a3f5f"
          },
          "geo": {
           "bgcolor": "white",
           "lakecolor": "white",
           "landcolor": "#E5ECF6",
           "showlakes": true,
           "showland": true,
           "subunitcolor": "white"
          },
          "hoverlabel": {
           "align": "left"
          },
          "hovermode": "closest",
          "mapbox": {
           "style": "light"
          },
          "paper_bgcolor": "white",
          "plot_bgcolor": "#E5ECF6",
          "polar": {
           "angularaxis": {
            "gridcolor": "white",
            "linecolor": "white",
            "ticks": ""
           },
           "bgcolor": "#E5ECF6",
           "radialaxis": {
            "gridcolor": "white",
            "linecolor": "white",
            "ticks": ""
           }
          },
          "scene": {
           "xaxis": {
            "backgroundcolor": "#E5ECF6",
            "gridcolor": "white",
            "gridwidth": 2,
            "linecolor": "white",
            "showbackground": true,
            "ticks": "",
            "zerolinecolor": "white"
           },
           "yaxis": {
            "backgroundcolor": "#E5ECF6",
            "gridcolor": "white",
            "gridwidth": 2,
            "linecolor": "white",
            "showbackground": true,
            "ticks": "",
            "zerolinecolor": "white"
           },
           "zaxis": {
            "backgroundcolor": "#E5ECF6",
            "gridcolor": "white",
            "gridwidth": 2,
            "linecolor": "white",
            "showbackground": true,
            "ticks": "",
            "zerolinecolor": "white"
           }
          },
          "shapedefaults": {
           "line": {
            "color": "#2a3f5f"
           }
          },
          "ternary": {
           "aaxis": {
            "gridcolor": "white",
            "linecolor": "white",
            "ticks": ""
           },
           "baxis": {
            "gridcolor": "white",
            "linecolor": "white",
            "ticks": ""
           },
           "bgcolor": "#E5ECF6",
           "caxis": {
            "gridcolor": "white",
            "linecolor": "white",
            "ticks": ""
           }
          },
          "title": {
           "x": 0.05
          },
          "xaxis": {
           "automargin": true,
           "gridcolor": "white",
           "linecolor": "white",
           "ticks": "",
           "title": {
            "standoff": 15
           },
           "zerolinecolor": "white",
           "zerolinewidth": 2
          },
          "yaxis": {
           "automargin": true,
           "gridcolor": "white",
           "linecolor": "white",
           "ticks": "",
           "title": {
            "standoff": 15
           },
           "zerolinecolor": "white",
           "zerolinewidth": 2
          }
         }
        },
        "title": {
         "text": "Distribuzione del Periodo in funzione della corrente e temperatura"
        },
        "width": 952,
        "xaxis": {
         "anchor": "y",
         "domain": [
          0,
          1
         ],
         "title": {
          "text": "Avg Temperature [K]"
         }
        },
        "yaxis": {
         "anchor": "x",
         "domain": [
          0,
          1
         ],
         "title": {
          "text": "Avg Current [A/cm2]"
         },
         "type": "log"
        }
       }
      },
      "text/html": [
       "<div>                            <div id=\"7b480685-6322-4262-8057-954cb13cb79a\" class=\"plotly-graph-div\" style=\"height:800px; width:952px;\"></div>            <script type=\"text/javascript\">                require([\"plotly\"], function(Plotly) {                    window.PLOTLYENV=window.PLOTLYENV || {};                                    if (document.getElementById(\"7b480685-6322-4262-8057-954cb13cb79a\")) {                    Plotly.newPlot(                        \"7b480685-6322-4262-8057-954cb13cb79a\",                        [{\"hovertemplate\":\"<b>%{hovertext}</b><br><br>Name=CA12X2<br>Avg Temperature [K]=%{x}<br>Avg Current [A/cm2]=%{y}<br>Avg Osc Period [ms]=%{marker.size}<extra></extra>\",\"hovertext\":[\"CA12X2_current_from_100e-9_to_200e-9A_flipped-20220315160531\",\"CA12X2_current_from_10e-9_to_100e-9A_flipped-20220315155945\",\"CA12X2_current_from_0.1e-6_to_1.0e-6A-20220317151236\",\"CA12X2_current_from_0.1e-6_to_1.5e-6A-20220317150657\",\"CA12X2_current_from_1e-9_to_10e-9A_flipped-20220315155235\",\"CA12X2_current_from_1e-9_to_1000e-9A_flipped-20220315170952\",\"CA12X2_current_from_200e-9_to_300e-9A_flipped-20220315161234\",\"CA12X2_current_from_100e-9_to_200e-9A-20220315152213\",\"CA12X2_current_from_1e-9_to_10e-9A-20220315153228\",\"CA12X2_current_from_1e-9_to_10e-9A-20220315151857\",\"CA12X2_current_from_10e-9_to_100e-9A-20220315151525\",\"CA12X2_current_from_1e-6_to_2e-6A-20220317143643\",\"CA12X2_current_from_200e-9_to_300e-9A-20220315152513\"],\"legendgroup\":\"CA12X2\",\"marker\":{\"color\":\"#636efa\",\"size\":[2446.8936170212764,3014.1891891891887,2442.4736842105262,2793.0,8748.2,2670.844262295082,2425.0,2634.6666666666665,8831.4,8304.2,3193.894736842105,2415.285714285714,2617.1612903225805],\"sizemode\":\"area\",\"sizeref\":2.4531666666666667,\"symbol\":\"circle\"},\"mode\":\"markers\",\"name\":\"CA12X2\",\"orientation\":\"v\",\"showlegend\":true,\"x\":[113.48018048230064,113.47038747931718,108.95441729447298,129.2381324109405,113.46264874300995,113.48172732110667,113.47842832178341,113.4470325494966,113.43692551500877,113.44355525277572,113.4454298182477,133.8554300093167,113.44805214637552],\"xaxis\":\"x\",\"y\":[3.0994362178052623e-06,1.134708852620232e-06,8.888552678858484e-06,1.458311006886002e-05,1.2670915520925926e-07,2.9748283752860413e-06,5.022137329189544e-06,3.0994362178052623e-06,1.2670915520925926e-07,1.2481797378822552e-07,1.1252529455150629e-06,2.3639767762921495e-05,5.032643892639731e-06],\"yaxis\":\"y\",\"type\":\"scatter\"},{\"hovertemplate\":\"<b>%{hovertext}</b><br><br>Name=CA12_01_A<br>Avg Temperature [K]=%{x}<br>Avg Current [A/cm2]=%{y}<br>Avg Osc Period [ms]=%{marker.size}<extra></extra>\",\"hovertext\":[\"CA12_01_A_current_from_1e-8_to_35e-8A-20220429161303\",\"CA12_01_A_current_from_1e-9_to_30e-8A-20220429165618\",\"CA12_01_A_current_from_1e-9_to_30e-8A-20220429163858\",\"CA12_01_A_current_from_0.5e-8_to_30e-8A-20220429161610\",\"CA12_01_A_current_from_1e-7_to_10e-7A-20220429152836\",\"CA12_01_A_current_from_1e-7_to_10e-7A-20220429152137\",\"CA12_01_A_current_from_1e-7_to_10e-7A-20220429151346\",\"CA12_01_A_current_from_1e-8_to_20e-8A-20220429153124\"],\"legendgroup\":\"CA12_01_A\",\"marker\":{\"color\":\"#EF553B\",\"size\":[2198.5185185185187,2385.6,2380.4324324324325,2365.6388888888887,2179.3636363636365,2172.230769230769,2183.769230769231,2388.3030303030305],\"sizemode\":\"area\",\"sizeref\":2.4531666666666667,\"symbol\":\"circle\"},\"mode\":\"markers\",\"name\":\"CA12_01_A\",\"orientation\":\"v\",\"showlegend\":true,\"x\":[107.22490263780487,95.17634373708593,99.29526170202244,99.55930264854368,112.67445502351177,116.28251296723863,123.43440189585394,108.2730863479829],\"xaxis\":\"x\",\"y\":[1.2221574721574726e-05,1.1091281403781404e-05,1.0244269619269618e-05,1.0664696470419362e-05,1.7846736596736593e-05,2.003205128205128e-05,2.986596736596737e-05,8.34938595355262e-06],\"yaxis\":\"y\",\"type\":\"scatter\"},{\"hovertemplate\":\"<b>%{hovertext}</b><br><br>Name=CA8_01_A<br>Avg Temperature [K]=%{x}<br>Avg Current [A/cm2]=%{y}<br>Avg Osc Period [ms]=%{marker.size}<extra></extra>\",\"hovertext\":[\"CA8_01_A_current_from_0.5e-6_to_2e-6A_flipped-20220421110256\",\"CA8_01_A_current_from_1e-6_to_2e-6A-20220421110002\",\"CA8_01_A_current_from_1e-7_to_1.3e-6A-20220421182659\",\"CA8_01_A_current_from_-0.5e-6_to_1e-6A_flipped-20220421110914\",\"CA8_01_A_current_from_0.5e-7_to_4e-7A-20220421185114\"],\"legendgroup\":\"CA8_01_A\",\"marker\":{\"color\":\"#00cc96\",\"size\":[2588.25,2602.333333333333,2633.076923076923,2594.75,2598.057142857143],\"sizemode\":\"area\",\"sizeref\":2.4531666666666667,\"symbol\":\"circle\"},\"mode\":\"markers\",\"name\":\"CA8_01_A\",\"orientation\":\"v\",\"showlegend\":true,\"x\":[127.56662315159107,129.54850133976655,128.17523398077884,125.5403580602984,113.98739377147638],\"xaxis\":\"x\",\"y\":[3.329752953813104e-05,4.85499462943072e-05,3.151515151515152e-05,2.406015037593985e-05,9.250398724082933e-06],\"yaxis\":\"y\",\"type\":\"scatter\"},{\"hovertemplate\":\"<b>%{hovertext}</b><br><br>Name=CA12X_C5<br>Avg Temperature [K]=%{x}<br>Avg Current [A/cm2]=%{y}<br>Avg Osc Period [ms]=%{marker.size}<extra></extra>\",\"hovertext\":[\"CA12X_C5_current_from_1e-7_to_10e-7A_flipped-20220412171054\",\"CA12X_C5_current_from_1e-7_to_3.5e-7A-20220413145630\",\"CA12X_C5_current_from_3.5e-7_to_5e-7A-20220413145837\",\"CA12X_C5_current_from_1e-7_to_10e-7A-20220413133337\",\"CA12X_C5_current_from_1e-7_to_10e-7A-20220412170113\"],\"legendgroup\":\"CA12X_C5\",\"marker\":{\"color\":\"#ab63fa\",\"size\":[2613.6296296296296,2598.538461538461,2595.5,2584.5714285714284,2594.5],\"sizemode\":\"area\",\"sizeref\":2.4531666666666667,\"symbol\":\"circle\"},\"mode\":\"markers\",\"name\":\"CA12X_C5\",\"orientation\":\"v\",\"showlegend\":true,\"x\":[119.40001251119938,112.99590633267607,112.98509315337563,118.93872759441619,119.70959750713385],\"xaxis\":\"x\",\"y\":[1.5397699471080285e-05,8.398258839857425e-06,1.5653092767246e-05,1.4864523862095071e-05,1.5807222144161864e-05],\"yaxis\":\"y\",\"type\":\"scatter\"},{\"hovertemplate\":\"<b>%{hovertext}</b><br><br>Name=CA12X2_C1<br>Avg Temperature [K]=%{x}<br>Avg Current [A/cm2]=%{y}<br>Avg Osc Period [ms]=%{marker.size}<extra></extra>\",\"hovertext\":[\"CA12X2_C1_current_from_0.3e-6_to_0.4e-6A-20220428162717\",\"CA12X2_C1_current_from_0.5e-6_to_1e-6A-20220428153610\",\"CA12X2_C1_current_from_0.5e-6_to_1e-6A-20220428154754\",\"CA12X2_C1_current_from_1e-7_to_1e-6A-20220428162518\"],\"legendgroup\":\"CA12X2_C1\",\"marker\":{\"color\":\"#FFA15A\",\"size\":[2186.294117647059,2185.85,2196.695652173913,2187.5714285714284],\"sizemode\":\"area\",\"sizeref\":2.4531666666666667,\"symbol\":\"circle\"},\"mode\":\"markers\",\"name\":\"CA12X2_C1\",\"orientation\":\"v\",\"showlegend\":true,\"x\":[87.94975212793224,103.43576754110424,102.09991796451557,97.99243870006084],\"xaxis\":\"x\",\"y\":[5.8205408094178775e-06,1.1711563844265267e-05,1.1412363308097906e-05,5.924170616113744e-06],\"yaxis\":\"y\",\"type\":\"scatter\"}],                        {\"template\":{\"data\":{\"histogram2dcontour\":[{\"type\":\"histogram2dcontour\",\"colorbar\":{\"outlinewidth\":0,\"ticks\":\"\"},\"colorscale\":[[0.0,\"#0d0887\"],[0.1111111111111111,\"#46039f\"],[0.2222222222222222,\"#7201a8\"],[0.3333333333333333,\"#9c179e\"],[0.4444444444444444,\"#bd3786\"],[0.5555555555555556,\"#d8576b\"],[0.6666666666666666,\"#ed7953\"],[0.7777777777777778,\"#fb9f3a\"],[0.8888888888888888,\"#fdca26\"],[1.0,\"#f0f921\"]]}],\"choropleth\":[{\"type\":\"choropleth\",\"colorbar\":{\"outlinewidth\":0,\"ticks\":\"\"}}],\"histogram2d\":[{\"type\":\"histogram2d\",\"colorbar\":{\"outlinewidth\":0,\"ticks\":\"\"},\"colorscale\":[[0.0,\"#0d0887\"],[0.1111111111111111,\"#46039f\"],[0.2222222222222222,\"#7201a8\"],[0.3333333333333333,\"#9c179e\"],[0.4444444444444444,\"#bd3786\"],[0.5555555555555556,\"#d8576b\"],[0.6666666666666666,\"#ed7953\"],[0.7777777777777778,\"#fb9f3a\"],[0.8888888888888888,\"#fdca26\"],[1.0,\"#f0f921\"]]}],\"heatmap\":[{\"type\":\"heatmap\",\"colorbar\":{\"outlinewidth\":0,\"ticks\":\"\"},\"colorscale\":[[0.0,\"#0d0887\"],[0.1111111111111111,\"#46039f\"],[0.2222222222222222,\"#7201a8\"],[0.3333333333333333,\"#9c179e\"],[0.4444444444444444,\"#bd3786\"],[0.5555555555555556,\"#d8576b\"],[0.6666666666666666,\"#ed7953\"],[0.7777777777777778,\"#fb9f3a\"],[0.8888888888888888,\"#fdca26\"],[1.0,\"#f0f921\"]]}],\"heatmapgl\":[{\"type\":\"heatmapgl\",\"colorbar\":{\"outlinewidth\":0,\"ticks\":\"\"},\"colorscale\":[[0.0,\"#0d0887\"],[0.1111111111111111,\"#46039f\"],[0.2222222222222222,\"#7201a8\"],[0.3333333333333333,\"#9c179e\"],[0.4444444444444444,\"#bd3786\"],[0.5555555555555556,\"#d8576b\"],[0.6666666666666666,\"#ed7953\"],[0.7777777777777778,\"#fb9f3a\"],[0.8888888888888888,\"#fdca26\"],[1.0,\"#f0f921\"]]}],\"contourcarpet\":[{\"type\":\"contourcarpet\",\"colorbar\":{\"outlinewidth\":0,\"ticks\":\"\"}}],\"contour\":[{\"type\":\"contour\",\"colorbar\":{\"outlinewidth\":0,\"ticks\":\"\"},\"colorscale\":[[0.0,\"#0d0887\"],[0.1111111111111111,\"#46039f\"],[0.2222222222222222,\"#7201a8\"],[0.3333333333333333,\"#9c179e\"],[0.4444444444444444,\"#bd3786\"],[0.5555555555555556,\"#d8576b\"],[0.6666666666666666,\"#ed7953\"],[0.7777777777777778,\"#fb9f3a\"],[0.8888888888888888,\"#fdca26\"],[1.0,\"#f0f921\"]]}],\"surface\":[{\"type\":\"surface\",\"colorbar\":{\"outlinewidth\":0,\"ticks\":\"\"},\"colorscale\":[[0.0,\"#0d0887\"],[0.1111111111111111,\"#46039f\"],[0.2222222222222222,\"#7201a8\"],[0.3333333333333333,\"#9c179e\"],[0.4444444444444444,\"#bd3786\"],[0.5555555555555556,\"#d8576b\"],[0.6666666666666666,\"#ed7953\"],[0.7777777777777778,\"#fb9f3a\"],[0.8888888888888888,\"#fdca26\"],[1.0,\"#f0f921\"]]}],\"mesh3d\":[{\"type\":\"mesh3d\",\"colorbar\":{\"outlinewidth\":0,\"ticks\":\"\"}}],\"scatter\":[{\"fillpattern\":{\"fillmode\":\"overlay\",\"size\":10,\"solidity\":0.2},\"type\":\"scatter\"}],\"parcoords\":[{\"type\":\"parcoords\",\"line\":{\"colorbar\":{\"outlinewidth\":0,\"ticks\":\"\"}}}],\"scatterpolargl\":[{\"type\":\"scatterpolargl\",\"marker\":{\"colorbar\":{\"outlinewidth\":0,\"ticks\":\"\"}}}],\"bar\":[{\"error_x\":{\"color\":\"#2a3f5f\"},\"error_y\":{\"color\":\"#2a3f5f\"},\"marker\":{\"line\":{\"color\":\"#E5ECF6\",\"width\":0.5},\"pattern\":{\"fillmode\":\"overlay\",\"size\":10,\"solidity\":0.2}},\"type\":\"bar\"}],\"scattergeo\":[{\"type\":\"scattergeo\",\"marker\":{\"colorbar\":{\"outlinewidth\":0,\"ticks\":\"\"}}}],\"scatterpolar\":[{\"type\":\"scatterpolar\",\"marker\":{\"colorbar\":{\"outlinewidth\":0,\"ticks\":\"\"}}}],\"histogram\":[{\"marker\":{\"pattern\":{\"fillmode\":\"overlay\",\"size\":10,\"solidity\":0.2}},\"type\":\"histogram\"}],\"scattergl\":[{\"type\":\"scattergl\",\"marker\":{\"colorbar\":{\"outlinewidth\":0,\"ticks\":\"\"}}}],\"scatter3d\":[{\"type\":\"scatter3d\",\"line\":{\"colorbar\":{\"outlinewidth\":0,\"ticks\":\"\"}},\"marker\":{\"colorbar\":{\"outlinewidth\":0,\"ticks\":\"\"}}}],\"scattermapbox\":[{\"type\":\"scattermapbox\",\"marker\":{\"colorbar\":{\"outlinewidth\":0,\"ticks\":\"\"}}}],\"scatterternary\":[{\"type\":\"scatterternary\",\"marker\":{\"colorbar\":{\"outlinewidth\":0,\"ticks\":\"\"}}}],\"scattercarpet\":[{\"type\":\"scattercarpet\",\"marker\":{\"colorbar\":{\"outlinewidth\":0,\"ticks\":\"\"}}}],\"carpet\":[{\"aaxis\":{\"endlinecolor\":\"#2a3f5f\",\"gridcolor\":\"white\",\"linecolor\":\"white\",\"minorgridcolor\":\"white\",\"startlinecolor\":\"#2a3f5f\"},\"baxis\":{\"endlinecolor\":\"#2a3f5f\",\"gridcolor\":\"white\",\"linecolor\":\"white\",\"minorgridcolor\":\"white\",\"startlinecolor\":\"#2a3f5f\"},\"type\":\"carpet\"}],\"table\":[{\"cells\":{\"fill\":{\"color\":\"#EBF0F8\"},\"line\":{\"color\":\"white\"}},\"header\":{\"fill\":{\"color\":\"#C8D4E3\"},\"line\":{\"color\":\"white\"}},\"type\":\"table\"}],\"barpolar\":[{\"marker\":{\"line\":{\"color\":\"#E5ECF6\",\"width\":0.5},\"pattern\":{\"fillmode\":\"overlay\",\"size\":10,\"solidity\":0.2}},\"type\":\"barpolar\"}],\"pie\":[{\"automargin\":true,\"type\":\"pie\"}]},\"layout\":{\"autotypenumbers\":\"strict\",\"colorway\":[\"#636efa\",\"#EF553B\",\"#00cc96\",\"#ab63fa\",\"#FFA15A\",\"#19d3f3\",\"#FF6692\",\"#B6E880\",\"#FF97FF\",\"#FECB52\"],\"font\":{\"color\":\"#2a3f5f\"},\"hovermode\":\"closest\",\"hoverlabel\":{\"align\":\"left\"},\"paper_bgcolor\":\"white\",\"plot_bgcolor\":\"#E5ECF6\",\"polar\":{\"bgcolor\":\"#E5ECF6\",\"angularaxis\":{\"gridcolor\":\"white\",\"linecolor\":\"white\",\"ticks\":\"\"},\"radialaxis\":{\"gridcolor\":\"white\",\"linecolor\":\"white\",\"ticks\":\"\"}},\"ternary\":{\"bgcolor\":\"#E5ECF6\",\"aaxis\":{\"gridcolor\":\"white\",\"linecolor\":\"white\",\"ticks\":\"\"},\"baxis\":{\"gridcolor\":\"white\",\"linecolor\":\"white\",\"ticks\":\"\"},\"caxis\":{\"gridcolor\":\"white\",\"linecolor\":\"white\",\"ticks\":\"\"}},\"coloraxis\":{\"colorbar\":{\"outlinewidth\":0,\"ticks\":\"\"}},\"colorscale\":{\"sequential\":[[0.0,\"#0d0887\"],[0.1111111111111111,\"#46039f\"],[0.2222222222222222,\"#7201a8\"],[0.3333333333333333,\"#9c179e\"],[0.4444444444444444,\"#bd3786\"],[0.5555555555555556,\"#d8576b\"],[0.6666666666666666,\"#ed7953\"],[0.7777777777777778,\"#fb9f3a\"],[0.8888888888888888,\"#fdca26\"],[1.0,\"#f0f921\"]],\"sequentialminus\":[[0.0,\"#0d0887\"],[0.1111111111111111,\"#46039f\"],[0.2222222222222222,\"#7201a8\"],[0.3333333333333333,\"#9c179e\"],[0.4444444444444444,\"#bd3786\"],[0.5555555555555556,\"#d8576b\"],[0.6666666666666666,\"#ed7953\"],[0.7777777777777778,\"#fb9f3a\"],[0.8888888888888888,\"#fdca26\"],[1.0,\"#f0f921\"]],\"diverging\":[[0,\"#8e0152\"],[0.1,\"#c51b7d\"],[0.2,\"#de77ae\"],[0.3,\"#f1b6da\"],[0.4,\"#fde0ef\"],[0.5,\"#f7f7f7\"],[0.6,\"#e6f5d0\"],[0.7,\"#b8e186\"],[0.8,\"#7fbc41\"],[0.9,\"#4d9221\"],[1,\"#276419\"]]},\"xaxis\":{\"gridcolor\":\"white\",\"linecolor\":\"white\",\"ticks\":\"\",\"title\":{\"standoff\":15},\"zerolinecolor\":\"white\",\"automargin\":true,\"zerolinewidth\":2},\"yaxis\":{\"gridcolor\":\"white\",\"linecolor\":\"white\",\"ticks\":\"\",\"title\":{\"standoff\":15},\"zerolinecolor\":\"white\",\"automargin\":true,\"zerolinewidth\":2},\"scene\":{\"xaxis\":{\"backgroundcolor\":\"#E5ECF6\",\"gridcolor\":\"white\",\"linecolor\":\"white\",\"showbackground\":true,\"ticks\":\"\",\"zerolinecolor\":\"white\",\"gridwidth\":2},\"yaxis\":{\"backgroundcolor\":\"#E5ECF6\",\"gridcolor\":\"white\",\"linecolor\":\"white\",\"showbackground\":true,\"ticks\":\"\",\"zerolinecolor\":\"white\",\"gridwidth\":2},\"zaxis\":{\"backgroundcolor\":\"#E5ECF6\",\"gridcolor\":\"white\",\"linecolor\":\"white\",\"showbackground\":true,\"ticks\":\"\",\"zerolinecolor\":\"white\",\"gridwidth\":2}},\"shapedefaults\":{\"line\":{\"color\":\"#2a3f5f\"}},\"annotationdefaults\":{\"arrowcolor\":\"#2a3f5f\",\"arrowhead\":0,\"arrowwidth\":1},\"geo\":{\"bgcolor\":\"white\",\"landcolor\":\"#E5ECF6\",\"subunitcolor\":\"white\",\"showland\":true,\"showlakes\":true,\"lakecolor\":\"white\"},\"title\":{\"x\":0.05},\"mapbox\":{\"style\":\"light\"}}},\"xaxis\":{\"anchor\":\"y\",\"domain\":[0.0,1.0],\"title\":{\"text\":\"Avg Temperature [K]\"}},\"yaxis\":{\"anchor\":\"x\",\"domain\":[0.0,1.0],\"title\":{\"text\":\"Avg Current [A/cm2]\"},\"type\":\"log\"},\"legend\":{\"title\":{\"text\":\"Name\"},\"tracegroupgap\":0,\"itemsizing\":\"constant\"},\"title\":{\"text\":\"Distribuzione del Periodo in funzione della corrente e temperatura\"},\"height\":800,\"width\":952},                        {\"responsive\": true}                    ).then(function(){\n",
       "                            \n",
       "var gd = document.getElementById('7b480685-6322-4262-8057-954cb13cb79a');\n",
       "var x = new MutationObserver(function (mutations, observer) {{\n",
       "        var display = window.getComputedStyle(gd).display;\n",
       "        if (!display || display === 'none') {{\n",
       "            console.log([gd, 'removed!']);\n",
       "            Plotly.purge(gd);\n",
       "            observer.disconnect();\n",
       "        }}\n",
       "}});\n",
       "\n",
       "// Listen for the removal of the full notebook cells\n",
       "var notebookContainer = gd.closest('#notebook-container');\n",
       "if (notebookContainer) {{\n",
       "    x.observe(notebookContainer, {childList: true});\n",
       "}}\n",
       "\n",
       "// Listen for the clearing of the current output cell\n",
       "var outputEl = gd.closest('.output');\n",
       "if (outputEl) {{\n",
       "    x.observe(outputEl, {childList: true});\n",
       "}}\n",
       "\n",
       "                        })                };                });            </script>        </div>"
      ]
     },
     "metadata": {},
     "output_type": "display_data"
    }
   ],
   "source": [
    "# Ampiezza media delle oscillazioni del campo elettrico in funzione della corrente e temperatura media\n",
    "fig = px.scatter(df_variable, x='Avg Temperature [K]', y='Avg Current [A/cm2]', size='Avg Osc Amplitude [V/cm]', \n",
    "color=\"Name\", hover_name=\"Experiment\", log_y=True, size_max=60,\n",
    "width=952, height=800, \n",
    "labels={'x':'Average Temperature [°K]', 'y':'Current Density J [A/cm2]', 'color':'Sample', 'size':'Average Amplitude E [V/cm]'}, \n",
    "title='Distribuzione dell\\'Ampiezza in funzione di corrente e temperatura')\n",
    "fig.show()\n",
    "\n",
    "#Periodo medio delle oscillazioni in funzione della corrente e temperatura media\n",
    "fig = px.scatter(df_variable, x='Avg Temperature [K]', y='Avg Current [A/cm2]', size='Avg Osc Period [ms]', \n",
    "color=\"Name\", hover_name=\"Experiment\", log_y=True, size_max=60,\n",
    "width=952, height=800,  \n",
    "labels={'x':'Average Temperature [°K]', 'y':'Current Density J [A/cm2]', 'color':'Sample', 'size':'Average Width [ms]'}, \n",
    "title='Distribuzione del Periodo in funzione della corrente e temperatura')\n",
    "fig.show()"
   ]
  }
 ],
 "metadata": {
  "hide_input": false,
  "kernelspec": {
   "display_name": "Python 3",
   "language": "python",
   "name": "python3"
  },
  "language_info": {
   "codemirror_mode": {
    "name": "ipython",
    "version": 3
   },
   "file_extension": ".py",
   "mimetype": "text/x-python",
   "name": "python",
   "nbconvert_exporter": "python",
   "pygments_lexer": "ipython3",
   "version": "3.9.2"
  },
  "toc": {
   "base_numbering": 1,
   "nav_menu": {},
   "number_sections": true,
   "sideBar": true,
   "skip_h1_title": false,
   "title_cell": "Table of Contents",
   "title_sidebar": "Contents",
   "toc_cell": false,
   "toc_position": {
    "height": "calc(100% - 180px)",
    "left": "10px",
    "top": "150px",
    "width": "384px"
   },
   "toc_section_display": true,
   "toc_window_display": true
  },
  "varInspector": {
   "cols": {
    "lenName": 16,
    "lenType": 16,
    "lenVar": 40
   },
   "kernels_config": {
    "python": {
     "delete_cmd_postfix": "",
     "delete_cmd_prefix": "del ",
     "library": "var_list.py",
     "varRefreshCmd": "print(var_dic_list())"
    },
    "r": {
     "delete_cmd_postfix": ") ",
     "delete_cmd_prefix": "rm(",
     "library": "var_list.r",
     "varRefreshCmd": "cat(var_dic_list()) "
    }
   },
   "position": {
    "height": "378.85px",
    "left": "1559px",
    "right": "20px",
    "top": "120px",
    "width": "341px"
   },
   "types_to_exclude": [
    "module",
    "function",
    "builtin_function_or_method",
    "instance",
    "_Feature"
   ],
   "window_display": false
  }
 },
 "nbformat": 4,
 "nbformat_minor": 5
}
