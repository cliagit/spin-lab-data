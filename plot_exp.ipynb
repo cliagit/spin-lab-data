{
 "cells": [
  {
   "cell_type": "code",
   "execution_count": null,
   "id": "882263d3-05db-4fd7-9510-7001772f3cac",
   "metadata": {},
   "outputs": [],
   "source": [
    "import matplotlib.pyplot as plt\n",
    "from matplotlib import cm\n",
    "import numpy as np"
   ]
  },
  {
   "cell_type": "code",
   "execution_count": 11,
   "id": "numeric-bradford",
   "metadata": {},
   "outputs": [],
   "source": [
    "data_path = 'CA12X2/CA12X2_at_fixed_current_1e-6A/CA12X2_at_fixed_current_1e-6A-20220310161627'"
   ]
  },
  {
   "cell_type": "code",
   "execution_count": 17,
   "id": "e5156771-8bd8-43fc-8b5a-b0695a49cfd1",
   "metadata": {},
   "outputs": [
    {
     "name": "stdout",
     "output_type": "stream",
     "text": [
      "Electrical characterization experiment of current biased Ca2RuO4 crystal along C-axis as a function of temperature with 2-wire connection on the A-descendant\n",
      "Sample name: CA12X2\n",
      "Area: 4.807e-2cm2\n",
      "Length: 0.2376e-1cm\n",
      "Current source fixed at 1e-6A\n",
      "### Experiment 20220310161627 ###\n",
      "Date 2022-03-10 start at 16:04:55 end at 16:15:58 duration 0:11:03\n",
      "Temperature range from 105.87°K to 197.19°K\n",
      "Resistivity:\n",
      "\t average 1.4329e+07𝛀 cm\n",
      "\t minimum 2.4461e+06𝛀 cm at 197.19°K\n",
      "\t maximum 2.0186e+07𝛀 cm at 105.87°K\n",
      "Voltage:\n",
      "\t average 7.0826e+00V\n",
      "\t minimum 1.2091e+00V at 197.19°K\n",
      "\t maximum 9.9774e+00V at 105.87°K\n",
      "\n"
     ]
    }
   ],
   "source": [
    "# Visualizzazione della descrizione dell'esperimento\n",
    "with open(data_path, \"r\", encoding='utf-8') as file_desc:\n",
    "    text = file_desc.read()\n",
    "    print(text)"
   ]
  },
  {
   "cell_type": "code",
   "execution_count": 12,
   "id": "missing-norman",
   "metadata": {},
   "outputs": [],
   "source": [
    "data = np.load(data_path + '.npz', allow_pickle=True)\n",
    "V=data['voltage']\n",
    "R=data['resistance']\n",
    "T=data['temperature']\n",
    "I=data['current_source']\n",
    "J=data['current_density']\n",
    "E=data['electric_field']\n",
    "RHO=data['resistivity']"
   ]
  },
  {
   "cell_type": "code",
   "execution_count": 13,
   "id": "18c093be",
   "metadata": {},
   "outputs": [
    {
     "data": {
      "image/png": "[encoded data removed]",
      "text/plain": [
       "<Figure size 432x288 with 1 Axes>"
      ]
     },
     "metadata": {
      "needs_background": "light"
     },
     "output_type": "display_data"
    }
   ],
   "source": [
    "plt.plot(T,E)\n",
    "plt.grid()\n",
    "plt.show()"
   ]
  },
  {
   "cell_type": "code",
   "execution_count": null,
   "id": "b3951622-9723-44e6-9750-080bf2477c5a",
   "metadata": {},
   "outputs": [],
   "source": []
  }
 ],
 "metadata": {
  "kernelspec": {
   "display_name": "Python 3 (ipykernel)",
   "language": "python",
   "name": "python3"
  },
  "language_info": {
   "codemirror_mode": {
    "name": "ipython",
    "version": 3
   },
   "file_extension": ".py",
   "mimetype": "text/x-python",
   "name": "python",
   "nbconvert_exporter": "python",
   "pygments_lexer": "ipython3",
   "version": "3.7.12"
  }
 },
 "nbformat": 4,
 "nbformat_minor": 5
}
