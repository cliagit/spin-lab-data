{
 "cells": [
  {
   "cell_type": "code",
   "execution_count": 9,
   "id": "numeric-bradford",
   "metadata": {},
   "outputs": [],
   "source": [
    "import numpy as np\n",
    "import requests\n",
    "import io\n",
    "base_url = \"https://github.com/cliagit/spin-lab-data/raw/main/\"\n",
    "exp_path = 'CA12X2/CA12X2_at_fixed_current_1e-6A/CA12X2_at_fixed_current_1e-6A-20220310155321'\n",
    "response = requests.get(base_url + exp_path + '.npz')\n",
    "response.raise_for_status()\n",
    "data = np.load(io.BytesIO(response.content), allow_pickle=True)"
   ]
  },
  {
   "cell_type": "code",
   "execution_count": 10,
   "id": "systematic-humanitarian",
   "metadata": {},
   "outputs": [
    {
     "data": {
      "text/plain": [
       "<numpy.lib.npyio.NpzFile at 0x7efde5d6ca30>"
      ]
     },
     "execution_count": 10,
     "metadata": {},
     "output_type": "execute_result"
    }
   ],
   "source": [
    "data"
   ]
  },
  {
   "cell_type": "code",
   "execution_count": null,
   "id": "missing-norman",
   "metadata": {},
   "outputs": [],
   "source": []
  }
 ],
 "metadata": {
  "kernelspec": {
   "display_name": "Python 3",
   "language": "python",
   "name": "python3"
  },
  "language_info": {
   "codemirror_mode": {
    "name": "ipython",
    "version": 3
   },
   "file_extension": ".py",
   "mimetype": "text/x-python",
   "name": "python",
   "nbconvert_exporter": "python",
   "pygments_lexer": "ipython3",
   "version": "3.9.2"
  }
 },
 "nbformat": 4,
 "nbformat_minor": 5
}
